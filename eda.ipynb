{
 "cells": [
  {
   "cell_type": "markdown",
   "metadata": {},
   "source": [
    "Importing modules and data"
   ]
  },
  {
   "cell_type": "code",
   "execution_count": 8,
   "metadata": {},
   "outputs": [],
   "source": [
    "import numpy as np\n",
    "import pandas as pd\n",
    "import matplotlib.pyplot as plt\n",
    "import seaborn as sns\n",
    "import plotly.express as px\n",
    "from collections import Counter"
   ]
  },
  {
   "cell_type": "code",
   "execution_count": 9,
   "metadata": {},
   "outputs": [
    {
     "data": {
      "text/html": [
       "<div>\n",
       "<style scoped>\n",
       "    .dataframe tbody tr th:only-of-type {\n",
       "        vertical-align: middle;\n",
       "    }\n",
       "\n",
       "    .dataframe tbody tr th {\n",
       "        vertical-align: top;\n",
       "    }\n",
       "\n",
       "    .dataframe thead th {\n",
       "        text-align: right;\n",
       "    }\n",
       "</style>\n",
       "<table border=\"1\" class=\"dataframe\">\n",
       "  <thead>\n",
       "    <tr style=\"text-align: right;\">\n",
       "      <th></th>\n",
       "      <th>Unnamed: 0</th>\n",
       "      <th>Title</th>\n",
       "      <th>Views</th>\n",
       "      <th>Date</th>\n",
       "      <th>Likes</th>\n",
       "      <th>Comments</th>\n",
       "      <th>Link</th>\n",
       "    </tr>\n",
       "  </thead>\n",
       "  <tbody>\n",
       "    <tr>\n",
       "      <th>0</th>\n",
       "      <td>0</td>\n",
       "      <td>YouTube Needs to Fix This</td>\n",
       "      <td>435998</td>\n",
       "      <td>2022-04-01</td>\n",
       "      <td>52217</td>\n",
       "      <td>4919</td>\n",
       "      <td>youtube.com/watch?v=1Cw-vODp-8Y</td>\n",
       "    </tr>\n",
       "    <tr>\n",
       "      <th>1</th>\n",
       "      <td>1</td>\n",
       "      <td>The Electric Car Pre-Order Problem</td>\n",
       "      <td>1492800</td>\n",
       "      <td>2022-03-30</td>\n",
       "      <td>83763</td>\n",
       "      <td>7958</td>\n",
       "      <td>youtube.com/watch?v=a6zvvlrd-jw</td>\n",
       "    </tr>\n",
       "    <tr>\n",
       "      <th>2</th>\n",
       "      <td>2</td>\n",
       "      <td>Does Fast Charging ACTUALLY Ruin Your Battery?</td>\n",
       "      <td>2923457</td>\n",
       "      <td>2022-03-25</td>\n",
       "      <td>174602</td>\n",
       "      <td>12325</td>\n",
       "      <td>youtube.com/watch?v=UpqaQR4ikig</td>\n",
       "    </tr>\n",
       "    <tr>\n",
       "      <th>3</th>\n",
       "      <td>3</td>\n",
       "      <td>\"The Apple Studio Display is a Bad Deal\"</td>\n",
       "      <td>3228172</td>\n",
       "      <td>2022-03-22</td>\n",
       "      <td>124575</td>\n",
       "      <td>11698</td>\n",
       "      <td>youtube.com/watch?v=yoigsHYc77s</td>\n",
       "    </tr>\n",
       "    <tr>\n",
       "      <th>4</th>\n",
       "      <td>4</td>\n",
       "      <td>Mac Studio Review: Double Trouble!</td>\n",
       "      <td>3022613</td>\n",
       "      <td>2022-03-18</td>\n",
       "      <td>120729</td>\n",
       "      <td>6390</td>\n",
       "      <td>youtube.com/watch?v=wvhP1al3Ur4</td>\n",
       "    </tr>\n",
       "    <tr>\n",
       "      <th>...</th>\n",
       "      <td>...</td>\n",
       "      <td>...</td>\n",
       "      <td>...</td>\n",
       "      <td>...</td>\n",
       "      <td>...</td>\n",
       "      <td>...</td>\n",
       "      <td>...</td>\n",
       "    </tr>\n",
       "    <tr>\n",
       "      <th>1408</th>\n",
       "      <td>1423</td>\n",
       "      <td>Fraps HD Test in 1080p (18 WOS)</td>\n",
       "      <td>130044</td>\n",
       "      <td>2009-01-01</td>\n",
       "      <td>1592</td>\n",
       "      <td>237</td>\n",
       "      <td>youtube.com/watch?v=hCEBLSSU-2Y</td>\n",
       "    </tr>\n",
       "    <tr>\n",
       "      <th>1409</th>\n",
       "      <td>1424</td>\n",
       "      <td>HP Pavilion dv7t Media Center Remote Overview</td>\n",
       "      <td>4640300</td>\n",
       "      <td>2009-01-01</td>\n",
       "      <td>234631</td>\n",
       "      <td>37125</td>\n",
       "      <td>youtube.com/watch?v=9gk_rl3y_SU</td>\n",
       "    </tr>\n",
       "    <tr>\n",
       "      <th>1410</th>\n",
       "      <td>1425</td>\n",
       "      <td>High fps LG Voyager footage</td>\n",
       "      <td>179533</td>\n",
       "      <td>2008-09-15</td>\n",
       "      <td>2644</td>\n",
       "      <td>724</td>\n",
       "      <td>youtube.com/watch?v=f7mqssf66l4</td>\n",
       "    </tr>\n",
       "    <tr>\n",
       "      <th>1411</th>\n",
       "      <td>1426</td>\n",
       "      <td>14 Year knock-down shot (11 Handicap)</td>\n",
       "      <td>175876</td>\n",
       "      <td>2008-05-30</td>\n",
       "      <td>2198</td>\n",
       "      <td>358</td>\n",
       "      <td>youtube.com/watch?v=PD5igzFB8iY</td>\n",
       "    </tr>\n",
       "    <tr>\n",
       "      <th>1412</th>\n",
       "      <td>1427</td>\n",
       "      <td>13-Year-Old Golf Swing Analysis</td>\n",
       "      <td>781563</td>\n",
       "      <td>2008-03-28</td>\n",
       "      <td>17546</td>\n",
       "      <td>3545</td>\n",
       "      <td>youtube.com/watch?v=fjhmnWFsr3s</td>\n",
       "    </tr>\n",
       "  </tbody>\n",
       "</table>\n",
       "<p>1413 rows × 7 columns</p>\n",
       "</div>"
      ],
      "text/plain": [
       "      Unnamed: 0                                           Title    Views  \\\n",
       "0              0                       YouTube Needs to Fix This   435998   \n",
       "1              1              The Electric Car Pre-Order Problem  1492800   \n",
       "2              2  Does Fast Charging ACTUALLY Ruin Your Battery?  2923457   \n",
       "3              3        \"The Apple Studio Display is a Bad Deal\"  3228172   \n",
       "4              4              Mac Studio Review: Double Trouble!  3022613   \n",
       "...          ...                                             ...      ...   \n",
       "1408        1423                 Fraps HD Test in 1080p (18 WOS)   130044   \n",
       "1409        1424   HP Pavilion dv7t Media Center Remote Overview  4640300   \n",
       "1410        1425                     High fps LG Voyager footage   179533   \n",
       "1411        1426           14 Year knock-down shot (11 Handicap)   175876   \n",
       "1412        1427                 13-Year-Old Golf Swing Analysis   781563   \n",
       "\n",
       "            Date   Likes  Comments                             Link  \n",
       "0     2022-04-01   52217      4919  youtube.com/watch?v=1Cw-vODp-8Y  \n",
       "1     2022-03-30   83763      7958  youtube.com/watch?v=a6zvvlrd-jw  \n",
       "2     2022-03-25  174602     12325  youtube.com/watch?v=UpqaQR4ikig  \n",
       "3     2022-03-22  124575     11698  youtube.com/watch?v=yoigsHYc77s  \n",
       "4     2022-03-18  120729      6390  youtube.com/watch?v=wvhP1al3Ur4  \n",
       "...          ...     ...       ...                              ...  \n",
       "1408  2009-01-01    1592       237  youtube.com/watch?v=hCEBLSSU-2Y  \n",
       "1409  2009-01-01  234631     37125  youtube.com/watch?v=9gk_rl3y_SU  \n",
       "1410  2008-09-15    2644       724  youtube.com/watch?v=f7mqssf66l4  \n",
       "1411  2008-05-30    2198       358  youtube.com/watch?v=PD5igzFB8iY  \n",
       "1412  2008-03-28   17546      3545  youtube.com/watch?v=fjhmnWFsr3s  \n",
       "\n",
       "[1413 rows x 7 columns]"
      ]
     },
     "execution_count": 9,
     "metadata": {},
     "output_type": "execute_result"
    }
   ],
   "source": [
    "original_data=pd.read_csv('mkbhd_cleaned.csv')\n",
    "df=original_data.copy()\n",
    "df"
   ]
  },
  {
   "cell_type": "code",
   "execution_count": 10,
   "metadata": {},
   "outputs": [
    {
     "data": {
      "text/plain": [
       "Unnamed: 0     int64\n",
       "Title         object\n",
       "Views          int64\n",
       "Date          object\n",
       "Likes          int64\n",
       "Comments       int64\n",
       "Link          object\n",
       "dtype: object"
      ]
     },
     "execution_count": 10,
     "metadata": {},
     "output_type": "execute_result"
    }
   ],
   "source": [
    "df.dtypes"
   ]
  },
  {
   "cell_type": "markdown",
   "metadata": {},
   "source": [
    "Lets remove Unnamed column and fix the dtyep of Date column"
   ]
  },
  {
   "cell_type": "code",
   "execution_count": 11,
   "metadata": {},
   "outputs": [],
   "source": [
    "df.drop('Unnamed: 0',axis=1,inplace=True)\n",
    "df['Date']=pd.to_datetime(df['Date'])"
   ]
  },
  {
   "cell_type": "code",
   "execution_count": 12,
   "metadata": {},
   "outputs": [
    {
     "data": {
      "text/html": [
       "<div>\n",
       "<style scoped>\n",
       "    .dataframe tbody tr th:only-of-type {\n",
       "        vertical-align: middle;\n",
       "    }\n",
       "\n",
       "    .dataframe tbody tr th {\n",
       "        vertical-align: top;\n",
       "    }\n",
       "\n",
       "    .dataframe thead th {\n",
       "        text-align: right;\n",
       "    }\n",
       "</style>\n",
       "<table border=\"1\" class=\"dataframe\">\n",
       "  <thead>\n",
       "    <tr style=\"text-align: right;\">\n",
       "      <th></th>\n",
       "      <th>Title</th>\n",
       "      <th>Views</th>\n",
       "      <th>Date</th>\n",
       "      <th>Likes</th>\n",
       "      <th>Comments</th>\n",
       "      <th>Link</th>\n",
       "    </tr>\n",
       "  </thead>\n",
       "  <tbody>\n",
       "    <tr>\n",
       "      <th>0</th>\n",
       "      <td>YouTube Needs to Fix This</td>\n",
       "      <td>435998</td>\n",
       "      <td>2022-04-01</td>\n",
       "      <td>52217</td>\n",
       "      <td>4919</td>\n",
       "      <td>youtube.com/watch?v=1Cw-vODp-8Y</td>\n",
       "    </tr>\n",
       "    <tr>\n",
       "      <th>1</th>\n",
       "      <td>The Electric Car Pre-Order Problem</td>\n",
       "      <td>1492800</td>\n",
       "      <td>2022-03-30</td>\n",
       "      <td>83763</td>\n",
       "      <td>7958</td>\n",
       "      <td>youtube.com/watch?v=a6zvvlrd-jw</td>\n",
       "    </tr>\n",
       "    <tr>\n",
       "      <th>2</th>\n",
       "      <td>Does Fast Charging ACTUALLY Ruin Your Battery?</td>\n",
       "      <td>2923457</td>\n",
       "      <td>2022-03-25</td>\n",
       "      <td>174602</td>\n",
       "      <td>12325</td>\n",
       "      <td>youtube.com/watch?v=UpqaQR4ikig</td>\n",
       "    </tr>\n",
       "    <tr>\n",
       "      <th>3</th>\n",
       "      <td>\"The Apple Studio Display is a Bad Deal\"</td>\n",
       "      <td>3228172</td>\n",
       "      <td>2022-03-22</td>\n",
       "      <td>124575</td>\n",
       "      <td>11698</td>\n",
       "      <td>youtube.com/watch?v=yoigsHYc77s</td>\n",
       "    </tr>\n",
       "    <tr>\n",
       "      <th>4</th>\n",
       "      <td>Mac Studio Review: Double Trouble!</td>\n",
       "      <td>3022613</td>\n",
       "      <td>2022-03-18</td>\n",
       "      <td>120729</td>\n",
       "      <td>6390</td>\n",
       "      <td>youtube.com/watch?v=wvhP1al3Ur4</td>\n",
       "    </tr>\n",
       "  </tbody>\n",
       "</table>\n",
       "</div>"
      ],
      "text/plain": [
       "                                            Title    Views       Date   Likes  \\\n",
       "0                       YouTube Needs to Fix This   435998 2022-04-01   52217   \n",
       "1              The Electric Car Pre-Order Problem  1492800 2022-03-30   83763   \n",
       "2  Does Fast Charging ACTUALLY Ruin Your Battery?  2923457 2022-03-25  174602   \n",
       "3        \"The Apple Studio Display is a Bad Deal\"  3228172 2022-03-22  124575   \n",
       "4              Mac Studio Review: Double Trouble!  3022613 2022-03-18  120729   \n",
       "\n",
       "   Comments                             Link  \n",
       "0      4919  youtube.com/watch?v=1Cw-vODp-8Y  \n",
       "1      7958  youtube.com/watch?v=a6zvvlrd-jw  \n",
       "2     12325  youtube.com/watch?v=UpqaQR4ikig  \n",
       "3     11698  youtube.com/watch?v=yoigsHYc77s  \n",
       "4      6390  youtube.com/watch?v=wvhP1al3Ur4  "
      ]
     },
     "execution_count": 12,
     "metadata": {},
     "output_type": "execute_result"
    }
   ],
   "source": [
    "df.head()"
   ]
  },
  {
   "cell_type": "code",
   "execution_count": 13,
   "metadata": {},
   "outputs": [
    {
     "data": {
      "text/plain": [
       "Title               object\n",
       "Views                int64\n",
       "Date        datetime64[ns]\n",
       "Likes                int64\n",
       "Comments             int64\n",
       "Link                object\n",
       "dtype: object"
      ]
     },
     "execution_count": 13,
     "metadata": {},
     "output_type": "execute_result"
    }
   ],
   "source": [
    "df.dtypes"
   ]
  },
  {
   "cell_type": "markdown",
   "metadata": {},
   "source": [
    "# EDA"
   ]
  },
  {
   "cell_type": "markdown",
   "metadata": {},
   "source": [
    "### Lets focus on date column"
   ]
  },
  {
   "cell_type": "code",
   "execution_count": 14,
   "metadata": {},
   "outputs": [
    {
     "data": {
      "text/plain": [
       "2008      3\n",
       "2009    279\n",
       "2010     70\n",
       "2011     56\n",
       "2012     99\n",
       "2013     97\n",
       "2014     93\n",
       "2015     87\n",
       "2016     83\n",
       "2017    100\n",
       "2018     99\n",
       "2019    110\n",
       "2020    121\n",
       "2021     94\n",
       "2022     22\n",
       "Name: Date, dtype: int64"
      ]
     },
     "execution_count": 14,
     "metadata": {},
     "output_type": "execute_result"
    }
   ],
   "source": [
    "df['Date'].dt.year.value_counts().sort_index()"
   ]
  },
  {
   "cell_type": "code",
   "execution_count": 15,
   "metadata": {},
   "outputs": [
    {
     "data": {
      "application/vnd.plotly.v1+json": {
       "config": {
        "plotlyServerURL": "https://plot.ly"
       },
       "data": [
        {
         "alignmentgroup": "True",
         "hovertemplate": "variable=Date<br>index=%{x}<br>value=%{y}<extra></extra>",
         "legendgroup": "Date",
         "marker": {
          "color": "#636efa",
          "pattern": {
           "shape": ""
          }
         },
         "name": "Date",
         "offsetgroup": "Date",
         "orientation": "v",
         "showlegend": true,
         "textposition": "auto",
         "type": "bar",
         "x": [
          2008,
          2009,
          2010,
          2011,
          2012,
          2013,
          2014,
          2015,
          2016,
          2017,
          2018,
          2019,
          2020,
          2021,
          2022
         ],
         "xaxis": "x",
         "y": [
          3,
          279,
          70,
          56,
          99,
          97,
          93,
          87,
          83,
          100,
          99,
          110,
          121,
          94,
          22
         ],
         "yaxis": "y"
        }
       ],
       "layout": {
        "barmode": "relative",
        "legend": {
         "title": {
          "text": "variable"
         },
         "tracegroupgap": 0
        },
        "template": {
         "data": {
          "bar": [
           {
            "error_x": {
             "color": "#2a3f5f"
            },
            "error_y": {
             "color": "#2a3f5f"
            },
            "marker": {
             "line": {
              "color": "#E5ECF6",
              "width": 0.5
             },
             "pattern": {
              "fillmode": "overlay",
              "size": 10,
              "solidity": 0.2
             }
            },
            "type": "bar"
           }
          ],
          "barpolar": [
           {
            "marker": {
             "line": {
              "color": "#E5ECF6",
              "width": 0.5
             },
             "pattern": {
              "fillmode": "overlay",
              "size": 10,
              "solidity": 0.2
             }
            },
            "type": "barpolar"
           }
          ],
          "carpet": [
           {
            "aaxis": {
             "endlinecolor": "#2a3f5f",
             "gridcolor": "white",
             "linecolor": "white",
             "minorgridcolor": "white",
             "startlinecolor": "#2a3f5f"
            },
            "baxis": {
             "endlinecolor": "#2a3f5f",
             "gridcolor": "white",
             "linecolor": "white",
             "minorgridcolor": "white",
             "startlinecolor": "#2a3f5f"
            },
            "type": "carpet"
           }
          ],
          "choropleth": [
           {
            "colorbar": {
             "outlinewidth": 0,
             "ticks": ""
            },
            "type": "choropleth"
           }
          ],
          "contour": [
           {
            "colorbar": {
             "outlinewidth": 0,
             "ticks": ""
            },
            "colorscale": [
             [
              0,
              "#0d0887"
             ],
             [
              0.1111111111111111,
              "#46039f"
             ],
             [
              0.2222222222222222,
              "#7201a8"
             ],
             [
              0.3333333333333333,
              "#9c179e"
             ],
             [
              0.4444444444444444,
              "#bd3786"
             ],
             [
              0.5555555555555556,
              "#d8576b"
             ],
             [
              0.6666666666666666,
              "#ed7953"
             ],
             [
              0.7777777777777778,
              "#fb9f3a"
             ],
             [
              0.8888888888888888,
              "#fdca26"
             ],
             [
              1,
              "#f0f921"
             ]
            ],
            "type": "contour"
           }
          ],
          "contourcarpet": [
           {
            "colorbar": {
             "outlinewidth": 0,
             "ticks": ""
            },
            "type": "contourcarpet"
           }
          ],
          "heatmap": [
           {
            "colorbar": {
             "outlinewidth": 0,
             "ticks": ""
            },
            "colorscale": [
             [
              0,
              "#0d0887"
             ],
             [
              0.1111111111111111,
              "#46039f"
             ],
             [
              0.2222222222222222,
              "#7201a8"
             ],
             [
              0.3333333333333333,
              "#9c179e"
             ],
             [
              0.4444444444444444,
              "#bd3786"
             ],
             [
              0.5555555555555556,
              "#d8576b"
             ],
             [
              0.6666666666666666,
              "#ed7953"
             ],
             [
              0.7777777777777778,
              "#fb9f3a"
             ],
             [
              0.8888888888888888,
              "#fdca26"
             ],
             [
              1,
              "#f0f921"
             ]
            ],
            "type": "heatmap"
           }
          ],
          "heatmapgl": [
           {
            "colorbar": {
             "outlinewidth": 0,
             "ticks": ""
            },
            "colorscale": [
             [
              0,
              "#0d0887"
             ],
             [
              0.1111111111111111,
              "#46039f"
             ],
             [
              0.2222222222222222,
              "#7201a8"
             ],
             [
              0.3333333333333333,
              "#9c179e"
             ],
             [
              0.4444444444444444,
              "#bd3786"
             ],
             [
              0.5555555555555556,
              "#d8576b"
             ],
             [
              0.6666666666666666,
              "#ed7953"
             ],
             [
              0.7777777777777778,
              "#fb9f3a"
             ],
             [
              0.8888888888888888,
              "#fdca26"
             ],
             [
              1,
              "#f0f921"
             ]
            ],
            "type": "heatmapgl"
           }
          ],
          "histogram": [
           {
            "marker": {
             "pattern": {
              "fillmode": "overlay",
              "size": 10,
              "solidity": 0.2
             }
            },
            "type": "histogram"
           }
          ],
          "histogram2d": [
           {
            "colorbar": {
             "outlinewidth": 0,
             "ticks": ""
            },
            "colorscale": [
             [
              0,
              "#0d0887"
             ],
             [
              0.1111111111111111,
              "#46039f"
             ],
             [
              0.2222222222222222,
              "#7201a8"
             ],
             [
              0.3333333333333333,
              "#9c179e"
             ],
             [
              0.4444444444444444,
              "#bd3786"
             ],
             [
              0.5555555555555556,
              "#d8576b"
             ],
             [
              0.6666666666666666,
              "#ed7953"
             ],
             [
              0.7777777777777778,
              "#fb9f3a"
             ],
             [
              0.8888888888888888,
              "#fdca26"
             ],
             [
              1,
              "#f0f921"
             ]
            ],
            "type": "histogram2d"
           }
          ],
          "histogram2dcontour": [
           {
            "colorbar": {
             "outlinewidth": 0,
             "ticks": ""
            },
            "colorscale": [
             [
              0,
              "#0d0887"
             ],
             [
              0.1111111111111111,
              "#46039f"
             ],
             [
              0.2222222222222222,
              "#7201a8"
             ],
             [
              0.3333333333333333,
              "#9c179e"
             ],
             [
              0.4444444444444444,
              "#bd3786"
             ],
             [
              0.5555555555555556,
              "#d8576b"
             ],
             [
              0.6666666666666666,
              "#ed7953"
             ],
             [
              0.7777777777777778,
              "#fb9f3a"
             ],
             [
              0.8888888888888888,
              "#fdca26"
             ],
             [
              1,
              "#f0f921"
             ]
            ],
            "type": "histogram2dcontour"
           }
          ],
          "mesh3d": [
           {
            "colorbar": {
             "outlinewidth": 0,
             "ticks": ""
            },
            "type": "mesh3d"
           }
          ],
          "parcoords": [
           {
            "line": {
             "colorbar": {
              "outlinewidth": 0,
              "ticks": ""
             }
            },
            "type": "parcoords"
           }
          ],
          "pie": [
           {
            "automargin": true,
            "type": "pie"
           }
          ],
          "scatter": [
           {
            "marker": {
             "colorbar": {
              "outlinewidth": 0,
              "ticks": ""
             }
            },
            "type": "scatter"
           }
          ],
          "scatter3d": [
           {
            "line": {
             "colorbar": {
              "outlinewidth": 0,
              "ticks": ""
             }
            },
            "marker": {
             "colorbar": {
              "outlinewidth": 0,
              "ticks": ""
             }
            },
            "type": "scatter3d"
           }
          ],
          "scattercarpet": [
           {
            "marker": {
             "colorbar": {
              "outlinewidth": 0,
              "ticks": ""
             }
            },
            "type": "scattercarpet"
           }
          ],
          "scattergeo": [
           {
            "marker": {
             "colorbar": {
              "outlinewidth": 0,
              "ticks": ""
             }
            },
            "type": "scattergeo"
           }
          ],
          "scattergl": [
           {
            "marker": {
             "colorbar": {
              "outlinewidth": 0,
              "ticks": ""
             }
            },
            "type": "scattergl"
           }
          ],
          "scattermapbox": [
           {
            "marker": {
             "colorbar": {
              "outlinewidth": 0,
              "ticks": ""
             }
            },
            "type": "scattermapbox"
           }
          ],
          "scatterpolar": [
           {
            "marker": {
             "colorbar": {
              "outlinewidth": 0,
              "ticks": ""
             }
            },
            "type": "scatterpolar"
           }
          ],
          "scatterpolargl": [
           {
            "marker": {
             "colorbar": {
              "outlinewidth": 0,
              "ticks": ""
             }
            },
            "type": "scatterpolargl"
           }
          ],
          "scatterternary": [
           {
            "marker": {
             "colorbar": {
              "outlinewidth": 0,
              "ticks": ""
             }
            },
            "type": "scatterternary"
           }
          ],
          "surface": [
           {
            "colorbar": {
             "outlinewidth": 0,
             "ticks": ""
            },
            "colorscale": [
             [
              0,
              "#0d0887"
             ],
             [
              0.1111111111111111,
              "#46039f"
             ],
             [
              0.2222222222222222,
              "#7201a8"
             ],
             [
              0.3333333333333333,
              "#9c179e"
             ],
             [
              0.4444444444444444,
              "#bd3786"
             ],
             [
              0.5555555555555556,
              "#d8576b"
             ],
             [
              0.6666666666666666,
              "#ed7953"
             ],
             [
              0.7777777777777778,
              "#fb9f3a"
             ],
             [
              0.8888888888888888,
              "#fdca26"
             ],
             [
              1,
              "#f0f921"
             ]
            ],
            "type": "surface"
           }
          ],
          "table": [
           {
            "cells": {
             "fill": {
              "color": "#EBF0F8"
             },
             "line": {
              "color": "white"
             }
            },
            "header": {
             "fill": {
              "color": "#C8D4E3"
             },
             "line": {
              "color": "white"
             }
            },
            "type": "table"
           }
          ]
         },
         "layout": {
          "annotationdefaults": {
           "arrowcolor": "#2a3f5f",
           "arrowhead": 0,
           "arrowwidth": 1
          },
          "autotypenumbers": "strict",
          "coloraxis": {
           "colorbar": {
            "outlinewidth": 0,
            "ticks": ""
           }
          },
          "colorscale": {
           "diverging": [
            [
             0,
             "#8e0152"
            ],
            [
             0.1,
             "#c51b7d"
            ],
            [
             0.2,
             "#de77ae"
            ],
            [
             0.3,
             "#f1b6da"
            ],
            [
             0.4,
             "#fde0ef"
            ],
            [
             0.5,
             "#f7f7f7"
            ],
            [
             0.6,
             "#e6f5d0"
            ],
            [
             0.7,
             "#b8e186"
            ],
            [
             0.8,
             "#7fbc41"
            ],
            [
             0.9,
             "#4d9221"
            ],
            [
             1,
             "#276419"
            ]
           ],
           "sequential": [
            [
             0,
             "#0d0887"
            ],
            [
             0.1111111111111111,
             "#46039f"
            ],
            [
             0.2222222222222222,
             "#7201a8"
            ],
            [
             0.3333333333333333,
             "#9c179e"
            ],
            [
             0.4444444444444444,
             "#bd3786"
            ],
            [
             0.5555555555555556,
             "#d8576b"
            ],
            [
             0.6666666666666666,
             "#ed7953"
            ],
            [
             0.7777777777777778,
             "#fb9f3a"
            ],
            [
             0.8888888888888888,
             "#fdca26"
            ],
            [
             1,
             "#f0f921"
            ]
           ],
           "sequentialminus": [
            [
             0,
             "#0d0887"
            ],
            [
             0.1111111111111111,
             "#46039f"
            ],
            [
             0.2222222222222222,
             "#7201a8"
            ],
            [
             0.3333333333333333,
             "#9c179e"
            ],
            [
             0.4444444444444444,
             "#bd3786"
            ],
            [
             0.5555555555555556,
             "#d8576b"
            ],
            [
             0.6666666666666666,
             "#ed7953"
            ],
            [
             0.7777777777777778,
             "#fb9f3a"
            ],
            [
             0.8888888888888888,
             "#fdca26"
            ],
            [
             1,
             "#f0f921"
            ]
           ]
          },
          "colorway": [
           "#636efa",
           "#EF553B",
           "#00cc96",
           "#ab63fa",
           "#FFA15A",
           "#19d3f3",
           "#FF6692",
           "#B6E880",
           "#FF97FF",
           "#FECB52"
          ],
          "font": {
           "color": "#2a3f5f"
          },
          "geo": {
           "bgcolor": "white",
           "lakecolor": "white",
           "landcolor": "#E5ECF6",
           "showlakes": true,
           "showland": true,
           "subunitcolor": "white"
          },
          "hoverlabel": {
           "align": "left"
          },
          "hovermode": "closest",
          "mapbox": {
           "style": "light"
          },
          "paper_bgcolor": "white",
          "plot_bgcolor": "#E5ECF6",
          "polar": {
           "angularaxis": {
            "gridcolor": "white",
            "linecolor": "white",
            "ticks": ""
           },
           "bgcolor": "#E5ECF6",
           "radialaxis": {
            "gridcolor": "white",
            "linecolor": "white",
            "ticks": ""
           }
          },
          "scene": {
           "xaxis": {
            "backgroundcolor": "#E5ECF6",
            "gridcolor": "white",
            "gridwidth": 2,
            "linecolor": "white",
            "showbackground": true,
            "ticks": "",
            "zerolinecolor": "white"
           },
           "yaxis": {
            "backgroundcolor": "#E5ECF6",
            "gridcolor": "white",
            "gridwidth": 2,
            "linecolor": "white",
            "showbackground": true,
            "ticks": "",
            "zerolinecolor": "white"
           },
           "zaxis": {
            "backgroundcolor": "#E5ECF6",
            "gridcolor": "white",
            "gridwidth": 2,
            "linecolor": "white",
            "showbackground": true,
            "ticks": "",
            "zerolinecolor": "white"
           }
          },
          "shapedefaults": {
           "line": {
            "color": "#2a3f5f"
           }
          },
          "ternary": {
           "aaxis": {
            "gridcolor": "white",
            "linecolor": "white",
            "ticks": ""
           },
           "baxis": {
            "gridcolor": "white",
            "linecolor": "white",
            "ticks": ""
           },
           "bgcolor": "#E5ECF6",
           "caxis": {
            "gridcolor": "white",
            "linecolor": "white",
            "ticks": ""
           }
          },
          "title": {
           "x": 0.05
          },
          "xaxis": {
           "automargin": true,
           "gridcolor": "white",
           "linecolor": "white",
           "ticks": "",
           "title": {
            "standoff": 15
           },
           "zerolinecolor": "white",
           "zerolinewidth": 2
          },
          "yaxis": {
           "automargin": true,
           "gridcolor": "white",
           "linecolor": "white",
           "ticks": "",
           "title": {
            "standoff": 15
           },
           "zerolinecolor": "white",
           "zerolinewidth": 2
          }
         }
        },
        "title": {
         "text": "Count of videos in each year from 2008-2022"
        },
        "xaxis": {
         "anchor": "y",
         "domain": [
          0,
          1
         ],
         "title": {
          "text": "index"
         }
        },
        "yaxis": {
         "anchor": "x",
         "domain": [
          0,
          1
         ],
         "title": {
          "text": "value"
         }
        }
       }
      }
     },
     "metadata": {},
     "output_type": "display_data"
    }
   ],
   "source": [
    "px.bar(df['Date'].dt.year.value_counts().sort_index(),title='Count of videos in each year from 2008-2022')"
   ]
  },
  {
   "cell_type": "markdown",
   "metadata": {},
   "source": [
    "He released a lot of videos in 2009. Lets see his release pattern in that year."
   ]
  },
  {
   "cell_type": "code",
   "execution_count": 16,
   "metadata": {},
   "outputs": [
    {
     "data": {
      "text/plain": [
       "1     22\n",
       "2     93\n",
       "3     35\n",
       "4     25\n",
       "5     20\n",
       "6     22\n",
       "7     13\n",
       "8     13\n",
       "9      4\n",
       "10    14\n",
       "11     9\n",
       "12     9\n",
       "Name: Date, dtype: int64"
      ]
     },
     "execution_count": 16,
     "metadata": {},
     "output_type": "execute_result"
    }
   ],
   "source": [
    "df[df['Date'].dt.year==2009]['Date'].dt.month.value_counts().sort_index()"
   ]
  },
  {
   "cell_type": "code",
   "execution_count": 17,
   "metadata": {},
   "outputs": [
    {
     "data": {
      "application/vnd.plotly.v1+json": {
       "config": {
        "plotlyServerURL": "https://plot.ly"
       },
       "data": [
        {
         "alignmentgroup": "True",
         "hovertemplate": "variable=Date<br>index=%{x}<br>value=%{y}<extra></extra>",
         "legendgroup": "Date",
         "marker": {
          "color": "#636efa",
          "pattern": {
           "shape": ""
          }
         },
         "name": "Date",
         "offsetgroup": "Date",
         "orientation": "v",
         "showlegend": true,
         "textposition": "auto",
         "type": "bar",
         "x": [
          1,
          2,
          3,
          4,
          5,
          6,
          7,
          8,
          9,
          10,
          11,
          12
         ],
         "xaxis": "x",
         "y": [
          22,
          93,
          35,
          25,
          20,
          22,
          13,
          13,
          4,
          14,
          9,
          9
         ],
         "yaxis": "y"
        }
       ],
       "layout": {
        "barmode": "relative",
        "legend": {
         "title": {
          "text": "variable"
         },
         "tracegroupgap": 0
        },
        "template": {
         "data": {
          "bar": [
           {
            "error_x": {
             "color": "#2a3f5f"
            },
            "error_y": {
             "color": "#2a3f5f"
            },
            "marker": {
             "line": {
              "color": "#E5ECF6",
              "width": 0.5
             },
             "pattern": {
              "fillmode": "overlay",
              "size": 10,
              "solidity": 0.2
             }
            },
            "type": "bar"
           }
          ],
          "barpolar": [
           {
            "marker": {
             "line": {
              "color": "#E5ECF6",
              "width": 0.5
             },
             "pattern": {
              "fillmode": "overlay",
              "size": 10,
              "solidity": 0.2
             }
            },
            "type": "barpolar"
           }
          ],
          "carpet": [
           {
            "aaxis": {
             "endlinecolor": "#2a3f5f",
             "gridcolor": "white",
             "linecolor": "white",
             "minorgridcolor": "white",
             "startlinecolor": "#2a3f5f"
            },
            "baxis": {
             "endlinecolor": "#2a3f5f",
             "gridcolor": "white",
             "linecolor": "white",
             "minorgridcolor": "white",
             "startlinecolor": "#2a3f5f"
            },
            "type": "carpet"
           }
          ],
          "choropleth": [
           {
            "colorbar": {
             "outlinewidth": 0,
             "ticks": ""
            },
            "type": "choropleth"
           }
          ],
          "contour": [
           {
            "colorbar": {
             "outlinewidth": 0,
             "ticks": ""
            },
            "colorscale": [
             [
              0,
              "#0d0887"
             ],
             [
              0.1111111111111111,
              "#46039f"
             ],
             [
              0.2222222222222222,
              "#7201a8"
             ],
             [
              0.3333333333333333,
              "#9c179e"
             ],
             [
              0.4444444444444444,
              "#bd3786"
             ],
             [
              0.5555555555555556,
              "#d8576b"
             ],
             [
              0.6666666666666666,
              "#ed7953"
             ],
             [
              0.7777777777777778,
              "#fb9f3a"
             ],
             [
              0.8888888888888888,
              "#fdca26"
             ],
             [
              1,
              "#f0f921"
             ]
            ],
            "type": "contour"
           }
          ],
          "contourcarpet": [
           {
            "colorbar": {
             "outlinewidth": 0,
             "ticks": ""
            },
            "type": "contourcarpet"
           }
          ],
          "heatmap": [
           {
            "colorbar": {
             "outlinewidth": 0,
             "ticks": ""
            },
            "colorscale": [
             [
              0,
              "#0d0887"
             ],
             [
              0.1111111111111111,
              "#46039f"
             ],
             [
              0.2222222222222222,
              "#7201a8"
             ],
             [
              0.3333333333333333,
              "#9c179e"
             ],
             [
              0.4444444444444444,
              "#bd3786"
             ],
             [
              0.5555555555555556,
              "#d8576b"
             ],
             [
              0.6666666666666666,
              "#ed7953"
             ],
             [
              0.7777777777777778,
              "#fb9f3a"
             ],
             [
              0.8888888888888888,
              "#fdca26"
             ],
             [
              1,
              "#f0f921"
             ]
            ],
            "type": "heatmap"
           }
          ],
          "heatmapgl": [
           {
            "colorbar": {
             "outlinewidth": 0,
             "ticks": ""
            },
            "colorscale": [
             [
              0,
              "#0d0887"
             ],
             [
              0.1111111111111111,
              "#46039f"
             ],
             [
              0.2222222222222222,
              "#7201a8"
             ],
             [
              0.3333333333333333,
              "#9c179e"
             ],
             [
              0.4444444444444444,
              "#bd3786"
             ],
             [
              0.5555555555555556,
              "#d8576b"
             ],
             [
              0.6666666666666666,
              "#ed7953"
             ],
             [
              0.7777777777777778,
              "#fb9f3a"
             ],
             [
              0.8888888888888888,
              "#fdca26"
             ],
             [
              1,
              "#f0f921"
             ]
            ],
            "type": "heatmapgl"
           }
          ],
          "histogram": [
           {
            "marker": {
             "pattern": {
              "fillmode": "overlay",
              "size": 10,
              "solidity": 0.2
             }
            },
            "type": "histogram"
           }
          ],
          "histogram2d": [
           {
            "colorbar": {
             "outlinewidth": 0,
             "ticks": ""
            },
            "colorscale": [
             [
              0,
              "#0d0887"
             ],
             [
              0.1111111111111111,
              "#46039f"
             ],
             [
              0.2222222222222222,
              "#7201a8"
             ],
             [
              0.3333333333333333,
              "#9c179e"
             ],
             [
              0.4444444444444444,
              "#bd3786"
             ],
             [
              0.5555555555555556,
              "#d8576b"
             ],
             [
              0.6666666666666666,
              "#ed7953"
             ],
             [
              0.7777777777777778,
              "#fb9f3a"
             ],
             [
              0.8888888888888888,
              "#fdca26"
             ],
             [
              1,
              "#f0f921"
             ]
            ],
            "type": "histogram2d"
           }
          ],
          "histogram2dcontour": [
           {
            "colorbar": {
             "outlinewidth": 0,
             "ticks": ""
            },
            "colorscale": [
             [
              0,
              "#0d0887"
             ],
             [
              0.1111111111111111,
              "#46039f"
             ],
             [
              0.2222222222222222,
              "#7201a8"
             ],
             [
              0.3333333333333333,
              "#9c179e"
             ],
             [
              0.4444444444444444,
              "#bd3786"
             ],
             [
              0.5555555555555556,
              "#d8576b"
             ],
             [
              0.6666666666666666,
              "#ed7953"
             ],
             [
              0.7777777777777778,
              "#fb9f3a"
             ],
             [
              0.8888888888888888,
              "#fdca26"
             ],
             [
              1,
              "#f0f921"
             ]
            ],
            "type": "histogram2dcontour"
           }
          ],
          "mesh3d": [
           {
            "colorbar": {
             "outlinewidth": 0,
             "ticks": ""
            },
            "type": "mesh3d"
           }
          ],
          "parcoords": [
           {
            "line": {
             "colorbar": {
              "outlinewidth": 0,
              "ticks": ""
             }
            },
            "type": "parcoords"
           }
          ],
          "pie": [
           {
            "automargin": true,
            "type": "pie"
           }
          ],
          "scatter": [
           {
            "marker": {
             "colorbar": {
              "outlinewidth": 0,
              "ticks": ""
             }
            },
            "type": "scatter"
           }
          ],
          "scatter3d": [
           {
            "line": {
             "colorbar": {
              "outlinewidth": 0,
              "ticks": ""
             }
            },
            "marker": {
             "colorbar": {
              "outlinewidth": 0,
              "ticks": ""
             }
            },
            "type": "scatter3d"
           }
          ],
          "scattercarpet": [
           {
            "marker": {
             "colorbar": {
              "outlinewidth": 0,
              "ticks": ""
             }
            },
            "type": "scattercarpet"
           }
          ],
          "scattergeo": [
           {
            "marker": {
             "colorbar": {
              "outlinewidth": 0,
              "ticks": ""
             }
            },
            "type": "scattergeo"
           }
          ],
          "scattergl": [
           {
            "marker": {
             "colorbar": {
              "outlinewidth": 0,
              "ticks": ""
             }
            },
            "type": "scattergl"
           }
          ],
          "scattermapbox": [
           {
            "marker": {
             "colorbar": {
              "outlinewidth": 0,
              "ticks": ""
             }
            },
            "type": "scattermapbox"
           }
          ],
          "scatterpolar": [
           {
            "marker": {
             "colorbar": {
              "outlinewidth": 0,
              "ticks": ""
             }
            },
            "type": "scatterpolar"
           }
          ],
          "scatterpolargl": [
           {
            "marker": {
             "colorbar": {
              "outlinewidth": 0,
              "ticks": ""
             }
            },
            "type": "scatterpolargl"
           }
          ],
          "scatterternary": [
           {
            "marker": {
             "colorbar": {
              "outlinewidth": 0,
              "ticks": ""
             }
            },
            "type": "scatterternary"
           }
          ],
          "surface": [
           {
            "colorbar": {
             "outlinewidth": 0,
             "ticks": ""
            },
            "colorscale": [
             [
              0,
              "#0d0887"
             ],
             [
              0.1111111111111111,
              "#46039f"
             ],
             [
              0.2222222222222222,
              "#7201a8"
             ],
             [
              0.3333333333333333,
              "#9c179e"
             ],
             [
              0.4444444444444444,
              "#bd3786"
             ],
             [
              0.5555555555555556,
              "#d8576b"
             ],
             [
              0.6666666666666666,
              "#ed7953"
             ],
             [
              0.7777777777777778,
              "#fb9f3a"
             ],
             [
              0.8888888888888888,
              "#fdca26"
             ],
             [
              1,
              "#f0f921"
             ]
            ],
            "type": "surface"
           }
          ],
          "table": [
           {
            "cells": {
             "fill": {
              "color": "#EBF0F8"
             },
             "line": {
              "color": "white"
             }
            },
            "header": {
             "fill": {
              "color": "#C8D4E3"
             },
             "line": {
              "color": "white"
             }
            },
            "type": "table"
           }
          ]
         },
         "layout": {
          "annotationdefaults": {
           "arrowcolor": "#2a3f5f",
           "arrowhead": 0,
           "arrowwidth": 1
          },
          "autotypenumbers": "strict",
          "coloraxis": {
           "colorbar": {
            "outlinewidth": 0,
            "ticks": ""
           }
          },
          "colorscale": {
           "diverging": [
            [
             0,
             "#8e0152"
            ],
            [
             0.1,
             "#c51b7d"
            ],
            [
             0.2,
             "#de77ae"
            ],
            [
             0.3,
             "#f1b6da"
            ],
            [
             0.4,
             "#fde0ef"
            ],
            [
             0.5,
             "#f7f7f7"
            ],
            [
             0.6,
             "#e6f5d0"
            ],
            [
             0.7,
             "#b8e186"
            ],
            [
             0.8,
             "#7fbc41"
            ],
            [
             0.9,
             "#4d9221"
            ],
            [
             1,
             "#276419"
            ]
           ],
           "sequential": [
            [
             0,
             "#0d0887"
            ],
            [
             0.1111111111111111,
             "#46039f"
            ],
            [
             0.2222222222222222,
             "#7201a8"
            ],
            [
             0.3333333333333333,
             "#9c179e"
            ],
            [
             0.4444444444444444,
             "#bd3786"
            ],
            [
             0.5555555555555556,
             "#d8576b"
            ],
            [
             0.6666666666666666,
             "#ed7953"
            ],
            [
             0.7777777777777778,
             "#fb9f3a"
            ],
            [
             0.8888888888888888,
             "#fdca26"
            ],
            [
             1,
             "#f0f921"
            ]
           ],
           "sequentialminus": [
            [
             0,
             "#0d0887"
            ],
            [
             0.1111111111111111,
             "#46039f"
            ],
            [
             0.2222222222222222,
             "#7201a8"
            ],
            [
             0.3333333333333333,
             "#9c179e"
            ],
            [
             0.4444444444444444,
             "#bd3786"
            ],
            [
             0.5555555555555556,
             "#d8576b"
            ],
            [
             0.6666666666666666,
             "#ed7953"
            ],
            [
             0.7777777777777778,
             "#fb9f3a"
            ],
            [
             0.8888888888888888,
             "#fdca26"
            ],
            [
             1,
             "#f0f921"
            ]
           ]
          },
          "colorway": [
           "#636efa",
           "#EF553B",
           "#00cc96",
           "#ab63fa",
           "#FFA15A",
           "#19d3f3",
           "#FF6692",
           "#B6E880",
           "#FF97FF",
           "#FECB52"
          ],
          "font": {
           "color": "#2a3f5f"
          },
          "geo": {
           "bgcolor": "white",
           "lakecolor": "white",
           "landcolor": "#E5ECF6",
           "showlakes": true,
           "showland": true,
           "subunitcolor": "white"
          },
          "hoverlabel": {
           "align": "left"
          },
          "hovermode": "closest",
          "mapbox": {
           "style": "light"
          },
          "paper_bgcolor": "white",
          "plot_bgcolor": "#E5ECF6",
          "polar": {
           "angularaxis": {
            "gridcolor": "white",
            "linecolor": "white",
            "ticks": ""
           },
           "bgcolor": "#E5ECF6",
           "radialaxis": {
            "gridcolor": "white",
            "linecolor": "white",
            "ticks": ""
           }
          },
          "scene": {
           "xaxis": {
            "backgroundcolor": "#E5ECF6",
            "gridcolor": "white",
            "gridwidth": 2,
            "linecolor": "white",
            "showbackground": true,
            "ticks": "",
            "zerolinecolor": "white"
           },
           "yaxis": {
            "backgroundcolor": "#E5ECF6",
            "gridcolor": "white",
            "gridwidth": 2,
            "linecolor": "white",
            "showbackground": true,
            "ticks": "",
            "zerolinecolor": "white"
           },
           "zaxis": {
            "backgroundcolor": "#E5ECF6",
            "gridcolor": "white",
            "gridwidth": 2,
            "linecolor": "white",
            "showbackground": true,
            "ticks": "",
            "zerolinecolor": "white"
           }
          },
          "shapedefaults": {
           "line": {
            "color": "#2a3f5f"
           }
          },
          "ternary": {
           "aaxis": {
            "gridcolor": "white",
            "linecolor": "white",
            "ticks": ""
           },
           "baxis": {
            "gridcolor": "white",
            "linecolor": "white",
            "ticks": ""
           },
           "bgcolor": "#E5ECF6",
           "caxis": {
            "gridcolor": "white",
            "linecolor": "white",
            "ticks": ""
           }
          },
          "title": {
           "x": 0.05
          },
          "xaxis": {
           "automargin": true,
           "gridcolor": "white",
           "linecolor": "white",
           "ticks": "",
           "title": {
            "standoff": 15
           },
           "zerolinecolor": "white",
           "zerolinewidth": 2
          },
          "yaxis": {
           "automargin": true,
           "gridcolor": "white",
           "linecolor": "white",
           "ticks": "",
           "title": {
            "standoff": 15
           },
           "zerolinecolor": "white",
           "zerolinewidth": 2
          }
         }
        },
        "title": {
         "text": "Count of videos in each month of the year 2009"
        },
        "xaxis": {
         "anchor": "y",
         "domain": [
          0,
          1
         ],
         "title": {
          "text": "index"
         }
        },
        "yaxis": {
         "anchor": "x",
         "domain": [
          0,
          1
         ],
         "title": {
          "text": "value"
         }
        }
       }
      }
     },
     "metadata": {},
     "output_type": "display_data"
    }
   ],
   "source": [
    "px.bar(df[df['Date'].dt.year==2009]['Date'].dt.month.value_counts().sort_index(),title='Count of videos in each month of the year 2009')"
   ]
  },
  {
   "cell_type": "markdown",
   "metadata": {},
   "source": [
    "He released a lot of videos in feb 2009. Lets go another step further and focus on that particular month of 93 videos"
   ]
  },
  {
   "cell_type": "code",
   "execution_count": 18,
   "metadata": {},
   "outputs": [
    {
     "data": {
      "text/plain": [
       "1     5\n",
       "2     8\n",
       "3     4\n",
       "4     6\n",
       "6     2\n",
       "7     6\n",
       "8     8\n",
       "9     5\n",
       "10    4\n",
       "11    3\n",
       "12    6\n",
       "13    3\n",
       "14    1\n",
       "15    2\n",
       "16    4\n",
       "17    2\n",
       "18    3\n",
       "19    4\n",
       "20    2\n",
       "21    3\n",
       "22    4\n",
       "23    4\n",
       "24    1\n",
       "25    1\n",
       "26    1\n",
       "27    1\n",
       "Name: Date, dtype: int64"
      ]
     },
     "execution_count": 18,
     "metadata": {},
     "output_type": "execute_result"
    }
   ],
   "source": [
    "df[(df['Date'].dt.year==2009) & (df['Date'].dt.month==2)]['Date'].dt.day.value_counts().sort_index()"
   ]
  },
  {
   "cell_type": "code",
   "execution_count": 19,
   "metadata": {},
   "outputs": [
    {
     "data": {
      "application/vnd.plotly.v1+json": {
       "config": {
        "plotlyServerURL": "https://plot.ly"
       },
       "data": [
        {
         "alignmentgroup": "True",
         "hovertemplate": "variable=Date<br>index=%{x}<br>value=%{y}<extra></extra>",
         "legendgroup": "Date",
         "marker": {
          "color": "#636efa",
          "pattern": {
           "shape": ""
          }
         },
         "name": "Date",
         "offsetgroup": "Date",
         "orientation": "v",
         "showlegend": true,
         "textposition": "auto",
         "type": "bar",
         "x": [
          1,
          2,
          3,
          4,
          6,
          7,
          8,
          9,
          10,
          11,
          12,
          13,
          14,
          15,
          16,
          17,
          18,
          19,
          20,
          21,
          22,
          23,
          24,
          25,
          26,
          27
         ],
         "xaxis": "x",
         "y": [
          5,
          8,
          4,
          6,
          2,
          6,
          8,
          5,
          4,
          3,
          6,
          3,
          1,
          2,
          4,
          2,
          3,
          4,
          2,
          3,
          4,
          4,
          1,
          1,
          1,
          1
         ],
         "yaxis": "y"
        }
       ],
       "layout": {
        "barmode": "relative",
        "legend": {
         "title": {
          "text": "variable"
         },
         "tracegroupgap": 0
        },
        "margin": {
         "t": 60
        },
        "template": {
         "data": {
          "bar": [
           {
            "error_x": {
             "color": "#2a3f5f"
            },
            "error_y": {
             "color": "#2a3f5f"
            },
            "marker": {
             "line": {
              "color": "#E5ECF6",
              "width": 0.5
             },
             "pattern": {
              "fillmode": "overlay",
              "size": 10,
              "solidity": 0.2
             }
            },
            "type": "bar"
           }
          ],
          "barpolar": [
           {
            "marker": {
             "line": {
              "color": "#E5ECF6",
              "width": 0.5
             },
             "pattern": {
              "fillmode": "overlay",
              "size": 10,
              "solidity": 0.2
             }
            },
            "type": "barpolar"
           }
          ],
          "carpet": [
           {
            "aaxis": {
             "endlinecolor": "#2a3f5f",
             "gridcolor": "white",
             "linecolor": "white",
             "minorgridcolor": "white",
             "startlinecolor": "#2a3f5f"
            },
            "baxis": {
             "endlinecolor": "#2a3f5f",
             "gridcolor": "white",
             "linecolor": "white",
             "minorgridcolor": "white",
             "startlinecolor": "#2a3f5f"
            },
            "type": "carpet"
           }
          ],
          "choropleth": [
           {
            "colorbar": {
             "outlinewidth": 0,
             "ticks": ""
            },
            "type": "choropleth"
           }
          ],
          "contour": [
           {
            "colorbar": {
             "outlinewidth": 0,
             "ticks": ""
            },
            "colorscale": [
             [
              0,
              "#0d0887"
             ],
             [
              0.1111111111111111,
              "#46039f"
             ],
             [
              0.2222222222222222,
              "#7201a8"
             ],
             [
              0.3333333333333333,
              "#9c179e"
             ],
             [
              0.4444444444444444,
              "#bd3786"
             ],
             [
              0.5555555555555556,
              "#d8576b"
             ],
             [
              0.6666666666666666,
              "#ed7953"
             ],
             [
              0.7777777777777778,
              "#fb9f3a"
             ],
             [
              0.8888888888888888,
              "#fdca26"
             ],
             [
              1,
              "#f0f921"
             ]
            ],
            "type": "contour"
           }
          ],
          "contourcarpet": [
           {
            "colorbar": {
             "outlinewidth": 0,
             "ticks": ""
            },
            "type": "contourcarpet"
           }
          ],
          "heatmap": [
           {
            "colorbar": {
             "outlinewidth": 0,
             "ticks": ""
            },
            "colorscale": [
             [
              0,
              "#0d0887"
             ],
             [
              0.1111111111111111,
              "#46039f"
             ],
             [
              0.2222222222222222,
              "#7201a8"
             ],
             [
              0.3333333333333333,
              "#9c179e"
             ],
             [
              0.4444444444444444,
              "#bd3786"
             ],
             [
              0.5555555555555556,
              "#d8576b"
             ],
             [
              0.6666666666666666,
              "#ed7953"
             ],
             [
              0.7777777777777778,
              "#fb9f3a"
             ],
             [
              0.8888888888888888,
              "#fdca26"
             ],
             [
              1,
              "#f0f921"
             ]
            ],
            "type": "heatmap"
           }
          ],
          "heatmapgl": [
           {
            "colorbar": {
             "outlinewidth": 0,
             "ticks": ""
            },
            "colorscale": [
             [
              0,
              "#0d0887"
             ],
             [
              0.1111111111111111,
              "#46039f"
             ],
             [
              0.2222222222222222,
              "#7201a8"
             ],
             [
              0.3333333333333333,
              "#9c179e"
             ],
             [
              0.4444444444444444,
              "#bd3786"
             ],
             [
              0.5555555555555556,
              "#d8576b"
             ],
             [
              0.6666666666666666,
              "#ed7953"
             ],
             [
              0.7777777777777778,
              "#fb9f3a"
             ],
             [
              0.8888888888888888,
              "#fdca26"
             ],
             [
              1,
              "#f0f921"
             ]
            ],
            "type": "heatmapgl"
           }
          ],
          "histogram": [
           {
            "marker": {
             "pattern": {
              "fillmode": "overlay",
              "size": 10,
              "solidity": 0.2
             }
            },
            "type": "histogram"
           }
          ],
          "histogram2d": [
           {
            "colorbar": {
             "outlinewidth": 0,
             "ticks": ""
            },
            "colorscale": [
             [
              0,
              "#0d0887"
             ],
             [
              0.1111111111111111,
              "#46039f"
             ],
             [
              0.2222222222222222,
              "#7201a8"
             ],
             [
              0.3333333333333333,
              "#9c179e"
             ],
             [
              0.4444444444444444,
              "#bd3786"
             ],
             [
              0.5555555555555556,
              "#d8576b"
             ],
             [
              0.6666666666666666,
              "#ed7953"
             ],
             [
              0.7777777777777778,
              "#fb9f3a"
             ],
             [
              0.8888888888888888,
              "#fdca26"
             ],
             [
              1,
              "#f0f921"
             ]
            ],
            "type": "histogram2d"
           }
          ],
          "histogram2dcontour": [
           {
            "colorbar": {
             "outlinewidth": 0,
             "ticks": ""
            },
            "colorscale": [
             [
              0,
              "#0d0887"
             ],
             [
              0.1111111111111111,
              "#46039f"
             ],
             [
              0.2222222222222222,
              "#7201a8"
             ],
             [
              0.3333333333333333,
              "#9c179e"
             ],
             [
              0.4444444444444444,
              "#bd3786"
             ],
             [
              0.5555555555555556,
              "#d8576b"
             ],
             [
              0.6666666666666666,
              "#ed7953"
             ],
             [
              0.7777777777777778,
              "#fb9f3a"
             ],
             [
              0.8888888888888888,
              "#fdca26"
             ],
             [
              1,
              "#f0f921"
             ]
            ],
            "type": "histogram2dcontour"
           }
          ],
          "mesh3d": [
           {
            "colorbar": {
             "outlinewidth": 0,
             "ticks": ""
            },
            "type": "mesh3d"
           }
          ],
          "parcoords": [
           {
            "line": {
             "colorbar": {
              "outlinewidth": 0,
              "ticks": ""
             }
            },
            "type": "parcoords"
           }
          ],
          "pie": [
           {
            "automargin": true,
            "type": "pie"
           }
          ],
          "scatter": [
           {
            "marker": {
             "colorbar": {
              "outlinewidth": 0,
              "ticks": ""
             }
            },
            "type": "scatter"
           }
          ],
          "scatter3d": [
           {
            "line": {
             "colorbar": {
              "outlinewidth": 0,
              "ticks": ""
             }
            },
            "marker": {
             "colorbar": {
              "outlinewidth": 0,
              "ticks": ""
             }
            },
            "type": "scatter3d"
           }
          ],
          "scattercarpet": [
           {
            "marker": {
             "colorbar": {
              "outlinewidth": 0,
              "ticks": ""
             }
            },
            "type": "scattercarpet"
           }
          ],
          "scattergeo": [
           {
            "marker": {
             "colorbar": {
              "outlinewidth": 0,
              "ticks": ""
             }
            },
            "type": "scattergeo"
           }
          ],
          "scattergl": [
           {
            "marker": {
             "colorbar": {
              "outlinewidth": 0,
              "ticks": ""
             }
            },
            "type": "scattergl"
           }
          ],
          "scattermapbox": [
           {
            "marker": {
             "colorbar": {
              "outlinewidth": 0,
              "ticks": ""
             }
            },
            "type": "scattermapbox"
           }
          ],
          "scatterpolar": [
           {
            "marker": {
             "colorbar": {
              "outlinewidth": 0,
              "ticks": ""
             }
            },
            "type": "scatterpolar"
           }
          ],
          "scatterpolargl": [
           {
            "marker": {
             "colorbar": {
              "outlinewidth": 0,
              "ticks": ""
             }
            },
            "type": "scatterpolargl"
           }
          ],
          "scatterternary": [
           {
            "marker": {
             "colorbar": {
              "outlinewidth": 0,
              "ticks": ""
             }
            },
            "type": "scatterternary"
           }
          ],
          "surface": [
           {
            "colorbar": {
             "outlinewidth": 0,
             "ticks": ""
            },
            "colorscale": [
             [
              0,
              "#0d0887"
             ],
             [
              0.1111111111111111,
              "#46039f"
             ],
             [
              0.2222222222222222,
              "#7201a8"
             ],
             [
              0.3333333333333333,
              "#9c179e"
             ],
             [
              0.4444444444444444,
              "#bd3786"
             ],
             [
              0.5555555555555556,
              "#d8576b"
             ],
             [
              0.6666666666666666,
              "#ed7953"
             ],
             [
              0.7777777777777778,
              "#fb9f3a"
             ],
             [
              0.8888888888888888,
              "#fdca26"
             ],
             [
              1,
              "#f0f921"
             ]
            ],
            "type": "surface"
           }
          ],
          "table": [
           {
            "cells": {
             "fill": {
              "color": "#EBF0F8"
             },
             "line": {
              "color": "white"
             }
            },
            "header": {
             "fill": {
              "color": "#C8D4E3"
             },
             "line": {
              "color": "white"
             }
            },
            "type": "table"
           }
          ]
         },
         "layout": {
          "annotationdefaults": {
           "arrowcolor": "#2a3f5f",
           "arrowhead": 0,
           "arrowwidth": 1
          },
          "autotypenumbers": "strict",
          "coloraxis": {
           "colorbar": {
            "outlinewidth": 0,
            "ticks": ""
           }
          },
          "colorscale": {
           "diverging": [
            [
             0,
             "#8e0152"
            ],
            [
             0.1,
             "#c51b7d"
            ],
            [
             0.2,
             "#de77ae"
            ],
            [
             0.3,
             "#f1b6da"
            ],
            [
             0.4,
             "#fde0ef"
            ],
            [
             0.5,
             "#f7f7f7"
            ],
            [
             0.6,
             "#e6f5d0"
            ],
            [
             0.7,
             "#b8e186"
            ],
            [
             0.8,
             "#7fbc41"
            ],
            [
             0.9,
             "#4d9221"
            ],
            [
             1,
             "#276419"
            ]
           ],
           "sequential": [
            [
             0,
             "#0d0887"
            ],
            [
             0.1111111111111111,
             "#46039f"
            ],
            [
             0.2222222222222222,
             "#7201a8"
            ],
            [
             0.3333333333333333,
             "#9c179e"
            ],
            [
             0.4444444444444444,
             "#bd3786"
            ],
            [
             0.5555555555555556,
             "#d8576b"
            ],
            [
             0.6666666666666666,
             "#ed7953"
            ],
            [
             0.7777777777777778,
             "#fb9f3a"
            ],
            [
             0.8888888888888888,
             "#fdca26"
            ],
            [
             1,
             "#f0f921"
            ]
           ],
           "sequentialminus": [
            [
             0,
             "#0d0887"
            ],
            [
             0.1111111111111111,
             "#46039f"
            ],
            [
             0.2222222222222222,
             "#7201a8"
            ],
            [
             0.3333333333333333,
             "#9c179e"
            ],
            [
             0.4444444444444444,
             "#bd3786"
            ],
            [
             0.5555555555555556,
             "#d8576b"
            ],
            [
             0.6666666666666666,
             "#ed7953"
            ],
            [
             0.7777777777777778,
             "#fb9f3a"
            ],
            [
             0.8888888888888888,
             "#fdca26"
            ],
            [
             1,
             "#f0f921"
            ]
           ]
          },
          "colorway": [
           "#636efa",
           "#EF553B",
           "#00cc96",
           "#ab63fa",
           "#FFA15A",
           "#19d3f3",
           "#FF6692",
           "#B6E880",
           "#FF97FF",
           "#FECB52"
          ],
          "font": {
           "color": "#2a3f5f"
          },
          "geo": {
           "bgcolor": "white",
           "lakecolor": "white",
           "landcolor": "#E5ECF6",
           "showlakes": true,
           "showland": true,
           "subunitcolor": "white"
          },
          "hoverlabel": {
           "align": "left"
          },
          "hovermode": "closest",
          "mapbox": {
           "style": "light"
          },
          "paper_bgcolor": "white",
          "plot_bgcolor": "#E5ECF6",
          "polar": {
           "angularaxis": {
            "gridcolor": "white",
            "linecolor": "white",
            "ticks": ""
           },
           "bgcolor": "#E5ECF6",
           "radialaxis": {
            "gridcolor": "white",
            "linecolor": "white",
            "ticks": ""
           }
          },
          "scene": {
           "xaxis": {
            "backgroundcolor": "#E5ECF6",
            "gridcolor": "white",
            "gridwidth": 2,
            "linecolor": "white",
            "showbackground": true,
            "ticks": "",
            "zerolinecolor": "white"
           },
           "yaxis": {
            "backgroundcolor": "#E5ECF6",
            "gridcolor": "white",
            "gridwidth": 2,
            "linecolor": "white",
            "showbackground": true,
            "ticks": "",
            "zerolinecolor": "white"
           },
           "zaxis": {
            "backgroundcolor": "#E5ECF6",
            "gridcolor": "white",
            "gridwidth": 2,
            "linecolor": "white",
            "showbackground": true,
            "ticks": "",
            "zerolinecolor": "white"
           }
          },
          "shapedefaults": {
           "line": {
            "color": "#2a3f5f"
           }
          },
          "ternary": {
           "aaxis": {
            "gridcolor": "white",
            "linecolor": "white",
            "ticks": ""
           },
           "baxis": {
            "gridcolor": "white",
            "linecolor": "white",
            "ticks": ""
           },
           "bgcolor": "#E5ECF6",
           "caxis": {
            "gridcolor": "white",
            "linecolor": "white",
            "ticks": ""
           }
          },
          "title": {
           "x": 0.05
          },
          "xaxis": {
           "automargin": true,
           "gridcolor": "white",
           "linecolor": "white",
           "ticks": "",
           "title": {
            "standoff": 15
           },
           "zerolinecolor": "white",
           "zerolinewidth": 2
          },
          "yaxis": {
           "automargin": true,
           "gridcolor": "white",
           "linecolor": "white",
           "ticks": "",
           "title": {
            "standoff": 15
           },
           "zerolinecolor": "white",
           "zerolinewidth": 2
          }
         }
        },
        "xaxis": {
         "anchor": "y",
         "domain": [
          0,
          1
         ],
         "title": {
          "text": "index"
         }
        },
        "yaxis": {
         "anchor": "x",
         "domain": [
          0,
          1
         ],
         "title": {
          "text": "value"
         }
        }
       }
      }
     },
     "metadata": {},
     "output_type": "display_data"
    }
   ],
   "source": [
    "px.bar(df[(df['Date'].dt.year==2009) & (df['Date'].dt.month==2)]['Date'].dt.day.value_counts().sort_index())"
   ]
  },
  {
   "cell_type": "markdown",
   "metadata": {},
   "source": [
    "One thing we can observe is, he uploaded more videos in the start of the month when compared to end of the month."
   ]
  },
  {
   "cell_type": "markdown",
   "metadata": {},
   "source": [
    "Lets get out of 2009 year."
   ]
  },
  {
   "cell_type": "markdown",
   "metadata": {},
   "source": [
    "Lets count number of videos he released in each month of every year"
   ]
  },
  {
   "cell_type": "code",
   "execution_count": 20,
   "metadata": {},
   "outputs": [
    {
     "data": {
      "text/plain": [
       "1     129\n",
       "2     185\n",
       "3     123\n",
       "4     116\n",
       "5      97\n",
       "6     110\n",
       "7      85\n",
       "8     106\n",
       "9     106\n",
       "10    127\n",
       "11    111\n",
       "12    118\n",
       "Name: Date, dtype: int64"
      ]
     },
     "execution_count": 20,
     "metadata": {},
     "output_type": "execute_result"
    }
   ],
   "source": [
    "df['Date'].dt.month.value_counts().sort_index()"
   ]
  },
  {
   "cell_type": "code",
   "execution_count": 21,
   "metadata": {},
   "outputs": [
    {
     "data": {
      "application/vnd.plotly.v1+json": {
       "config": {
        "plotlyServerURL": "https://plot.ly"
       },
       "data": [
        {
         "alignmentgroup": "True",
         "hovertemplate": "variable=Date<br>index=%{x}<br>value=%{y}<extra></extra>",
         "legendgroup": "Date",
         "marker": {
          "color": "#636efa",
          "pattern": {
           "shape": ""
          }
         },
         "name": "Date",
         "offsetgroup": "Date",
         "orientation": "v",
         "showlegend": true,
         "textposition": "auto",
         "type": "bar",
         "x": [
          1,
          2,
          3,
          4,
          5,
          6,
          7,
          8,
          9,
          10,
          11,
          12
         ],
         "xaxis": "x",
         "y": [
          129,
          185,
          123,
          116,
          97,
          110,
          85,
          106,
          106,
          127,
          111,
          118
         ],
         "yaxis": "y"
        }
       ],
       "layout": {
        "barmode": "relative",
        "legend": {
         "title": {
          "text": "variable"
         },
         "tracegroupgap": 0
        },
        "margin": {
         "t": 60
        },
        "template": {
         "data": {
          "bar": [
           {
            "error_x": {
             "color": "#2a3f5f"
            },
            "error_y": {
             "color": "#2a3f5f"
            },
            "marker": {
             "line": {
              "color": "#E5ECF6",
              "width": 0.5
             },
             "pattern": {
              "fillmode": "overlay",
              "size": 10,
              "solidity": 0.2
             }
            },
            "type": "bar"
           }
          ],
          "barpolar": [
           {
            "marker": {
             "line": {
              "color": "#E5ECF6",
              "width": 0.5
             },
             "pattern": {
              "fillmode": "overlay",
              "size": 10,
              "solidity": 0.2
             }
            },
            "type": "barpolar"
           }
          ],
          "carpet": [
           {
            "aaxis": {
             "endlinecolor": "#2a3f5f",
             "gridcolor": "white",
             "linecolor": "white",
             "minorgridcolor": "white",
             "startlinecolor": "#2a3f5f"
            },
            "baxis": {
             "endlinecolor": "#2a3f5f",
             "gridcolor": "white",
             "linecolor": "white",
             "minorgridcolor": "white",
             "startlinecolor": "#2a3f5f"
            },
            "type": "carpet"
           }
          ],
          "choropleth": [
           {
            "colorbar": {
             "outlinewidth": 0,
             "ticks": ""
            },
            "type": "choropleth"
           }
          ],
          "contour": [
           {
            "colorbar": {
             "outlinewidth": 0,
             "ticks": ""
            },
            "colorscale": [
             [
              0,
              "#0d0887"
             ],
             [
              0.1111111111111111,
              "#46039f"
             ],
             [
              0.2222222222222222,
              "#7201a8"
             ],
             [
              0.3333333333333333,
              "#9c179e"
             ],
             [
              0.4444444444444444,
              "#bd3786"
             ],
             [
              0.5555555555555556,
              "#d8576b"
             ],
             [
              0.6666666666666666,
              "#ed7953"
             ],
             [
              0.7777777777777778,
              "#fb9f3a"
             ],
             [
              0.8888888888888888,
              "#fdca26"
             ],
             [
              1,
              "#f0f921"
             ]
            ],
            "type": "contour"
           }
          ],
          "contourcarpet": [
           {
            "colorbar": {
             "outlinewidth": 0,
             "ticks": ""
            },
            "type": "contourcarpet"
           }
          ],
          "heatmap": [
           {
            "colorbar": {
             "outlinewidth": 0,
             "ticks": ""
            },
            "colorscale": [
             [
              0,
              "#0d0887"
             ],
             [
              0.1111111111111111,
              "#46039f"
             ],
             [
              0.2222222222222222,
              "#7201a8"
             ],
             [
              0.3333333333333333,
              "#9c179e"
             ],
             [
              0.4444444444444444,
              "#bd3786"
             ],
             [
              0.5555555555555556,
              "#d8576b"
             ],
             [
              0.6666666666666666,
              "#ed7953"
             ],
             [
              0.7777777777777778,
              "#fb9f3a"
             ],
             [
              0.8888888888888888,
              "#fdca26"
             ],
             [
              1,
              "#f0f921"
             ]
            ],
            "type": "heatmap"
           }
          ],
          "heatmapgl": [
           {
            "colorbar": {
             "outlinewidth": 0,
             "ticks": ""
            },
            "colorscale": [
             [
              0,
              "#0d0887"
             ],
             [
              0.1111111111111111,
              "#46039f"
             ],
             [
              0.2222222222222222,
              "#7201a8"
             ],
             [
              0.3333333333333333,
              "#9c179e"
             ],
             [
              0.4444444444444444,
              "#bd3786"
             ],
             [
              0.5555555555555556,
              "#d8576b"
             ],
             [
              0.6666666666666666,
              "#ed7953"
             ],
             [
              0.7777777777777778,
              "#fb9f3a"
             ],
             [
              0.8888888888888888,
              "#fdca26"
             ],
             [
              1,
              "#f0f921"
             ]
            ],
            "type": "heatmapgl"
           }
          ],
          "histogram": [
           {
            "marker": {
             "pattern": {
              "fillmode": "overlay",
              "size": 10,
              "solidity": 0.2
             }
            },
            "type": "histogram"
           }
          ],
          "histogram2d": [
           {
            "colorbar": {
             "outlinewidth": 0,
             "ticks": ""
            },
            "colorscale": [
             [
              0,
              "#0d0887"
             ],
             [
              0.1111111111111111,
              "#46039f"
             ],
             [
              0.2222222222222222,
              "#7201a8"
             ],
             [
              0.3333333333333333,
              "#9c179e"
             ],
             [
              0.4444444444444444,
              "#bd3786"
             ],
             [
              0.5555555555555556,
              "#d8576b"
             ],
             [
              0.6666666666666666,
              "#ed7953"
             ],
             [
              0.7777777777777778,
              "#fb9f3a"
             ],
             [
              0.8888888888888888,
              "#fdca26"
             ],
             [
              1,
              "#f0f921"
             ]
            ],
            "type": "histogram2d"
           }
          ],
          "histogram2dcontour": [
           {
            "colorbar": {
             "outlinewidth": 0,
             "ticks": ""
            },
            "colorscale": [
             [
              0,
              "#0d0887"
             ],
             [
              0.1111111111111111,
              "#46039f"
             ],
             [
              0.2222222222222222,
              "#7201a8"
             ],
             [
              0.3333333333333333,
              "#9c179e"
             ],
             [
              0.4444444444444444,
              "#bd3786"
             ],
             [
              0.5555555555555556,
              "#d8576b"
             ],
             [
              0.6666666666666666,
              "#ed7953"
             ],
             [
              0.7777777777777778,
              "#fb9f3a"
             ],
             [
              0.8888888888888888,
              "#fdca26"
             ],
             [
              1,
              "#f0f921"
             ]
            ],
            "type": "histogram2dcontour"
           }
          ],
          "mesh3d": [
           {
            "colorbar": {
             "outlinewidth": 0,
             "ticks": ""
            },
            "type": "mesh3d"
           }
          ],
          "parcoords": [
           {
            "line": {
             "colorbar": {
              "outlinewidth": 0,
              "ticks": ""
             }
            },
            "type": "parcoords"
           }
          ],
          "pie": [
           {
            "automargin": true,
            "type": "pie"
           }
          ],
          "scatter": [
           {
            "marker": {
             "colorbar": {
              "outlinewidth": 0,
              "ticks": ""
             }
            },
            "type": "scatter"
           }
          ],
          "scatter3d": [
           {
            "line": {
             "colorbar": {
              "outlinewidth": 0,
              "ticks": ""
             }
            },
            "marker": {
             "colorbar": {
              "outlinewidth": 0,
              "ticks": ""
             }
            },
            "type": "scatter3d"
           }
          ],
          "scattercarpet": [
           {
            "marker": {
             "colorbar": {
              "outlinewidth": 0,
              "ticks": ""
             }
            },
            "type": "scattercarpet"
           }
          ],
          "scattergeo": [
           {
            "marker": {
             "colorbar": {
              "outlinewidth": 0,
              "ticks": ""
             }
            },
            "type": "scattergeo"
           }
          ],
          "scattergl": [
           {
            "marker": {
             "colorbar": {
              "outlinewidth": 0,
              "ticks": ""
             }
            },
            "type": "scattergl"
           }
          ],
          "scattermapbox": [
           {
            "marker": {
             "colorbar": {
              "outlinewidth": 0,
              "ticks": ""
             }
            },
            "type": "scattermapbox"
           }
          ],
          "scatterpolar": [
           {
            "marker": {
             "colorbar": {
              "outlinewidth": 0,
              "ticks": ""
             }
            },
            "type": "scatterpolar"
           }
          ],
          "scatterpolargl": [
           {
            "marker": {
             "colorbar": {
              "outlinewidth": 0,
              "ticks": ""
             }
            },
            "type": "scatterpolargl"
           }
          ],
          "scatterternary": [
           {
            "marker": {
             "colorbar": {
              "outlinewidth": 0,
              "ticks": ""
             }
            },
            "type": "scatterternary"
           }
          ],
          "surface": [
           {
            "colorbar": {
             "outlinewidth": 0,
             "ticks": ""
            },
            "colorscale": [
             [
              0,
              "#0d0887"
             ],
             [
              0.1111111111111111,
              "#46039f"
             ],
             [
              0.2222222222222222,
              "#7201a8"
             ],
             [
              0.3333333333333333,
              "#9c179e"
             ],
             [
              0.4444444444444444,
              "#bd3786"
             ],
             [
              0.5555555555555556,
              "#d8576b"
             ],
             [
              0.6666666666666666,
              "#ed7953"
             ],
             [
              0.7777777777777778,
              "#fb9f3a"
             ],
             [
              0.8888888888888888,
              "#fdca26"
             ],
             [
              1,
              "#f0f921"
             ]
            ],
            "type": "surface"
           }
          ],
          "table": [
           {
            "cells": {
             "fill": {
              "color": "#EBF0F8"
             },
             "line": {
              "color": "white"
             }
            },
            "header": {
             "fill": {
              "color": "#C8D4E3"
             },
             "line": {
              "color": "white"
             }
            },
            "type": "table"
           }
          ]
         },
         "layout": {
          "annotationdefaults": {
           "arrowcolor": "#2a3f5f",
           "arrowhead": 0,
           "arrowwidth": 1
          },
          "autotypenumbers": "strict",
          "coloraxis": {
           "colorbar": {
            "outlinewidth": 0,
            "ticks": ""
           }
          },
          "colorscale": {
           "diverging": [
            [
             0,
             "#8e0152"
            ],
            [
             0.1,
             "#c51b7d"
            ],
            [
             0.2,
             "#de77ae"
            ],
            [
             0.3,
             "#f1b6da"
            ],
            [
             0.4,
             "#fde0ef"
            ],
            [
             0.5,
             "#f7f7f7"
            ],
            [
             0.6,
             "#e6f5d0"
            ],
            [
             0.7,
             "#b8e186"
            ],
            [
             0.8,
             "#7fbc41"
            ],
            [
             0.9,
             "#4d9221"
            ],
            [
             1,
             "#276419"
            ]
           ],
           "sequential": [
            [
             0,
             "#0d0887"
            ],
            [
             0.1111111111111111,
             "#46039f"
            ],
            [
             0.2222222222222222,
             "#7201a8"
            ],
            [
             0.3333333333333333,
             "#9c179e"
            ],
            [
             0.4444444444444444,
             "#bd3786"
            ],
            [
             0.5555555555555556,
             "#d8576b"
            ],
            [
             0.6666666666666666,
             "#ed7953"
            ],
            [
             0.7777777777777778,
             "#fb9f3a"
            ],
            [
             0.8888888888888888,
             "#fdca26"
            ],
            [
             1,
             "#f0f921"
            ]
           ],
           "sequentialminus": [
            [
             0,
             "#0d0887"
            ],
            [
             0.1111111111111111,
             "#46039f"
            ],
            [
             0.2222222222222222,
             "#7201a8"
            ],
            [
             0.3333333333333333,
             "#9c179e"
            ],
            [
             0.4444444444444444,
             "#bd3786"
            ],
            [
             0.5555555555555556,
             "#d8576b"
            ],
            [
             0.6666666666666666,
             "#ed7953"
            ],
            [
             0.7777777777777778,
             "#fb9f3a"
            ],
            [
             0.8888888888888888,
             "#fdca26"
            ],
            [
             1,
             "#f0f921"
            ]
           ]
          },
          "colorway": [
           "#636efa",
           "#EF553B",
           "#00cc96",
           "#ab63fa",
           "#FFA15A",
           "#19d3f3",
           "#FF6692",
           "#B6E880",
           "#FF97FF",
           "#FECB52"
          ],
          "font": {
           "color": "#2a3f5f"
          },
          "geo": {
           "bgcolor": "white",
           "lakecolor": "white",
           "landcolor": "#E5ECF6",
           "showlakes": true,
           "showland": true,
           "subunitcolor": "white"
          },
          "hoverlabel": {
           "align": "left"
          },
          "hovermode": "closest",
          "mapbox": {
           "style": "light"
          },
          "paper_bgcolor": "white",
          "plot_bgcolor": "#E5ECF6",
          "polar": {
           "angularaxis": {
            "gridcolor": "white",
            "linecolor": "white",
            "ticks": ""
           },
           "bgcolor": "#E5ECF6",
           "radialaxis": {
            "gridcolor": "white",
            "linecolor": "white",
            "ticks": ""
           }
          },
          "scene": {
           "xaxis": {
            "backgroundcolor": "#E5ECF6",
            "gridcolor": "white",
            "gridwidth": 2,
            "linecolor": "white",
            "showbackground": true,
            "ticks": "",
            "zerolinecolor": "white"
           },
           "yaxis": {
            "backgroundcolor": "#E5ECF6",
            "gridcolor": "white",
            "gridwidth": 2,
            "linecolor": "white",
            "showbackground": true,
            "ticks": "",
            "zerolinecolor": "white"
           },
           "zaxis": {
            "backgroundcolor": "#E5ECF6",
            "gridcolor": "white",
            "gridwidth": 2,
            "linecolor": "white",
            "showbackground": true,
            "ticks": "",
            "zerolinecolor": "white"
           }
          },
          "shapedefaults": {
           "line": {
            "color": "#2a3f5f"
           }
          },
          "ternary": {
           "aaxis": {
            "gridcolor": "white",
            "linecolor": "white",
            "ticks": ""
           },
           "baxis": {
            "gridcolor": "white",
            "linecolor": "white",
            "ticks": ""
           },
           "bgcolor": "#E5ECF6",
           "caxis": {
            "gridcolor": "white",
            "linecolor": "white",
            "ticks": ""
           }
          },
          "title": {
           "x": 0.05
          },
          "xaxis": {
           "automargin": true,
           "gridcolor": "white",
           "linecolor": "white",
           "ticks": "",
           "title": {
            "standoff": 15
           },
           "zerolinecolor": "white",
           "zerolinewidth": 2
          },
          "yaxis": {
           "automargin": true,
           "gridcolor": "white",
           "linecolor": "white",
           "ticks": "",
           "title": {
            "standoff": 15
           },
           "zerolinecolor": "white",
           "zerolinewidth": 2
          }
         }
        },
        "xaxis": {
         "anchor": "y",
         "domain": [
          0,
          1
         ],
         "title": {
          "text": "index"
         }
        },
        "yaxis": {
         "anchor": "x",
         "domain": [
          0,
          1
         ],
         "title": {
          "text": "value"
         }
        }
       }
      }
     },
     "metadata": {},
     "output_type": "display_data"
    }
   ],
   "source": [
    "px.bar(df['Date'].dt.month.value_counts().sort_index())"
   ]
  },
  {
   "cell_type": "markdown",
   "metadata": {},
   "source": [
    "From above we observe that some more videos were released in feb. I think they are coming from 2009 year. Lets exclude 2009 year and do this again"
   ]
  },
  {
   "cell_type": "code",
   "execution_count": 22,
   "metadata": {},
   "outputs": [
    {
     "data": {
      "text/plain": [
       "1     107\n",
       "2      92\n",
       "3      88\n",
       "4      91\n",
       "5      77\n",
       "6      88\n",
       "7      72\n",
       "8      93\n",
       "9     102\n",
       "10    113\n",
       "11    102\n",
       "12    109\n",
       "Name: Date, dtype: int64"
      ]
     },
     "execution_count": 22,
     "metadata": {},
     "output_type": "execute_result"
    }
   ],
   "source": [
    "df[df['Date'].dt.year!=2009]['Date'].dt.month.value_counts().sort_index()"
   ]
  },
  {
   "cell_type": "code",
   "execution_count": 23,
   "metadata": {},
   "outputs": [
    {
     "data": {
      "application/vnd.plotly.v1+json": {
       "config": {
        "plotlyServerURL": "https://plot.ly"
       },
       "data": [
        {
         "alignmentgroup": "True",
         "hovertemplate": "variable=Date<br>index=%{x}<br>value=%{y}<extra></extra>",
         "legendgroup": "Date",
         "marker": {
          "color": "#636efa",
          "pattern": {
           "shape": ""
          }
         },
         "name": "Date",
         "offsetgroup": "Date",
         "orientation": "v",
         "showlegend": true,
         "textposition": "auto",
         "type": "bar",
         "x": [
          1,
          2,
          3,
          4,
          5,
          6,
          7,
          8,
          9,
          10,
          11,
          12
         ],
         "xaxis": "x",
         "y": [
          107,
          92,
          88,
          91,
          77,
          88,
          72,
          93,
          102,
          113,
          102,
          109
         ],
         "yaxis": "y"
        }
       ],
       "layout": {
        "barmode": "relative",
        "legend": {
         "title": {
          "text": "variable"
         },
         "tracegroupgap": 0
        },
        "margin": {
         "t": 60
        },
        "template": {
         "data": {
          "bar": [
           {
            "error_x": {
             "color": "#2a3f5f"
            },
            "error_y": {
             "color": "#2a3f5f"
            },
            "marker": {
             "line": {
              "color": "#E5ECF6",
              "width": 0.5
             },
             "pattern": {
              "fillmode": "overlay",
              "size": 10,
              "solidity": 0.2
             }
            },
            "type": "bar"
           }
          ],
          "barpolar": [
           {
            "marker": {
             "line": {
              "color": "#E5ECF6",
              "width": 0.5
             },
             "pattern": {
              "fillmode": "overlay",
              "size": 10,
              "solidity": 0.2
             }
            },
            "type": "barpolar"
           }
          ],
          "carpet": [
           {
            "aaxis": {
             "endlinecolor": "#2a3f5f",
             "gridcolor": "white",
             "linecolor": "white",
             "minorgridcolor": "white",
             "startlinecolor": "#2a3f5f"
            },
            "baxis": {
             "endlinecolor": "#2a3f5f",
             "gridcolor": "white",
             "linecolor": "white",
             "minorgridcolor": "white",
             "startlinecolor": "#2a3f5f"
            },
            "type": "carpet"
           }
          ],
          "choropleth": [
           {
            "colorbar": {
             "outlinewidth": 0,
             "ticks": ""
            },
            "type": "choropleth"
           }
          ],
          "contour": [
           {
            "colorbar": {
             "outlinewidth": 0,
             "ticks": ""
            },
            "colorscale": [
             [
              0,
              "#0d0887"
             ],
             [
              0.1111111111111111,
              "#46039f"
             ],
             [
              0.2222222222222222,
              "#7201a8"
             ],
             [
              0.3333333333333333,
              "#9c179e"
             ],
             [
              0.4444444444444444,
              "#bd3786"
             ],
             [
              0.5555555555555556,
              "#d8576b"
             ],
             [
              0.6666666666666666,
              "#ed7953"
             ],
             [
              0.7777777777777778,
              "#fb9f3a"
             ],
             [
              0.8888888888888888,
              "#fdca26"
             ],
             [
              1,
              "#f0f921"
             ]
            ],
            "type": "contour"
           }
          ],
          "contourcarpet": [
           {
            "colorbar": {
             "outlinewidth": 0,
             "ticks": ""
            },
            "type": "contourcarpet"
           }
          ],
          "heatmap": [
           {
            "colorbar": {
             "outlinewidth": 0,
             "ticks": ""
            },
            "colorscale": [
             [
              0,
              "#0d0887"
             ],
             [
              0.1111111111111111,
              "#46039f"
             ],
             [
              0.2222222222222222,
              "#7201a8"
             ],
             [
              0.3333333333333333,
              "#9c179e"
             ],
             [
              0.4444444444444444,
              "#bd3786"
             ],
             [
              0.5555555555555556,
              "#d8576b"
             ],
             [
              0.6666666666666666,
              "#ed7953"
             ],
             [
              0.7777777777777778,
              "#fb9f3a"
             ],
             [
              0.8888888888888888,
              "#fdca26"
             ],
             [
              1,
              "#f0f921"
             ]
            ],
            "type": "heatmap"
           }
          ],
          "heatmapgl": [
           {
            "colorbar": {
             "outlinewidth": 0,
             "ticks": ""
            },
            "colorscale": [
             [
              0,
              "#0d0887"
             ],
             [
              0.1111111111111111,
              "#46039f"
             ],
             [
              0.2222222222222222,
              "#7201a8"
             ],
             [
              0.3333333333333333,
              "#9c179e"
             ],
             [
              0.4444444444444444,
              "#bd3786"
             ],
             [
              0.5555555555555556,
              "#d8576b"
             ],
             [
              0.6666666666666666,
              "#ed7953"
             ],
             [
              0.7777777777777778,
              "#fb9f3a"
             ],
             [
              0.8888888888888888,
              "#fdca26"
             ],
             [
              1,
              "#f0f921"
             ]
            ],
            "type": "heatmapgl"
           }
          ],
          "histogram": [
           {
            "marker": {
             "pattern": {
              "fillmode": "overlay",
              "size": 10,
              "solidity": 0.2
             }
            },
            "type": "histogram"
           }
          ],
          "histogram2d": [
           {
            "colorbar": {
             "outlinewidth": 0,
             "ticks": ""
            },
            "colorscale": [
             [
              0,
              "#0d0887"
             ],
             [
              0.1111111111111111,
              "#46039f"
             ],
             [
              0.2222222222222222,
              "#7201a8"
             ],
             [
              0.3333333333333333,
              "#9c179e"
             ],
             [
              0.4444444444444444,
              "#bd3786"
             ],
             [
              0.5555555555555556,
              "#d8576b"
             ],
             [
              0.6666666666666666,
              "#ed7953"
             ],
             [
              0.7777777777777778,
              "#fb9f3a"
             ],
             [
              0.8888888888888888,
              "#fdca26"
             ],
             [
              1,
              "#f0f921"
             ]
            ],
            "type": "histogram2d"
           }
          ],
          "histogram2dcontour": [
           {
            "colorbar": {
             "outlinewidth": 0,
             "ticks": ""
            },
            "colorscale": [
             [
              0,
              "#0d0887"
             ],
             [
              0.1111111111111111,
              "#46039f"
             ],
             [
              0.2222222222222222,
              "#7201a8"
             ],
             [
              0.3333333333333333,
              "#9c179e"
             ],
             [
              0.4444444444444444,
              "#bd3786"
             ],
             [
              0.5555555555555556,
              "#d8576b"
             ],
             [
              0.6666666666666666,
              "#ed7953"
             ],
             [
              0.7777777777777778,
              "#fb9f3a"
             ],
             [
              0.8888888888888888,
              "#fdca26"
             ],
             [
              1,
              "#f0f921"
             ]
            ],
            "type": "histogram2dcontour"
           }
          ],
          "mesh3d": [
           {
            "colorbar": {
             "outlinewidth": 0,
             "ticks": ""
            },
            "type": "mesh3d"
           }
          ],
          "parcoords": [
           {
            "line": {
             "colorbar": {
              "outlinewidth": 0,
              "ticks": ""
             }
            },
            "type": "parcoords"
           }
          ],
          "pie": [
           {
            "automargin": true,
            "type": "pie"
           }
          ],
          "scatter": [
           {
            "marker": {
             "colorbar": {
              "outlinewidth": 0,
              "ticks": ""
             }
            },
            "type": "scatter"
           }
          ],
          "scatter3d": [
           {
            "line": {
             "colorbar": {
              "outlinewidth": 0,
              "ticks": ""
             }
            },
            "marker": {
             "colorbar": {
              "outlinewidth": 0,
              "ticks": ""
             }
            },
            "type": "scatter3d"
           }
          ],
          "scattercarpet": [
           {
            "marker": {
             "colorbar": {
              "outlinewidth": 0,
              "ticks": ""
             }
            },
            "type": "scattercarpet"
           }
          ],
          "scattergeo": [
           {
            "marker": {
             "colorbar": {
              "outlinewidth": 0,
              "ticks": ""
             }
            },
            "type": "scattergeo"
           }
          ],
          "scattergl": [
           {
            "marker": {
             "colorbar": {
              "outlinewidth": 0,
              "ticks": ""
             }
            },
            "type": "scattergl"
           }
          ],
          "scattermapbox": [
           {
            "marker": {
             "colorbar": {
              "outlinewidth": 0,
              "ticks": ""
             }
            },
            "type": "scattermapbox"
           }
          ],
          "scatterpolar": [
           {
            "marker": {
             "colorbar": {
              "outlinewidth": 0,
              "ticks": ""
             }
            },
            "type": "scatterpolar"
           }
          ],
          "scatterpolargl": [
           {
            "marker": {
             "colorbar": {
              "outlinewidth": 0,
              "ticks": ""
             }
            },
            "type": "scatterpolargl"
           }
          ],
          "scatterternary": [
           {
            "marker": {
             "colorbar": {
              "outlinewidth": 0,
              "ticks": ""
             }
            },
            "type": "scatterternary"
           }
          ],
          "surface": [
           {
            "colorbar": {
             "outlinewidth": 0,
             "ticks": ""
            },
            "colorscale": [
             [
              0,
              "#0d0887"
             ],
             [
              0.1111111111111111,
              "#46039f"
             ],
             [
              0.2222222222222222,
              "#7201a8"
             ],
             [
              0.3333333333333333,
              "#9c179e"
             ],
             [
              0.4444444444444444,
              "#bd3786"
             ],
             [
              0.5555555555555556,
              "#d8576b"
             ],
             [
              0.6666666666666666,
              "#ed7953"
             ],
             [
              0.7777777777777778,
              "#fb9f3a"
             ],
             [
              0.8888888888888888,
              "#fdca26"
             ],
             [
              1,
              "#f0f921"
             ]
            ],
            "type": "surface"
           }
          ],
          "table": [
           {
            "cells": {
             "fill": {
              "color": "#EBF0F8"
             },
             "line": {
              "color": "white"
             }
            },
            "header": {
             "fill": {
              "color": "#C8D4E3"
             },
             "line": {
              "color": "white"
             }
            },
            "type": "table"
           }
          ]
         },
         "layout": {
          "annotationdefaults": {
           "arrowcolor": "#2a3f5f",
           "arrowhead": 0,
           "arrowwidth": 1
          },
          "autotypenumbers": "strict",
          "coloraxis": {
           "colorbar": {
            "outlinewidth": 0,
            "ticks": ""
           }
          },
          "colorscale": {
           "diverging": [
            [
             0,
             "#8e0152"
            ],
            [
             0.1,
             "#c51b7d"
            ],
            [
             0.2,
             "#de77ae"
            ],
            [
             0.3,
             "#f1b6da"
            ],
            [
             0.4,
             "#fde0ef"
            ],
            [
             0.5,
             "#f7f7f7"
            ],
            [
             0.6,
             "#e6f5d0"
            ],
            [
             0.7,
             "#b8e186"
            ],
            [
             0.8,
             "#7fbc41"
            ],
            [
             0.9,
             "#4d9221"
            ],
            [
             1,
             "#276419"
            ]
           ],
           "sequential": [
            [
             0,
             "#0d0887"
            ],
            [
             0.1111111111111111,
             "#46039f"
            ],
            [
             0.2222222222222222,
             "#7201a8"
            ],
            [
             0.3333333333333333,
             "#9c179e"
            ],
            [
             0.4444444444444444,
             "#bd3786"
            ],
            [
             0.5555555555555556,
             "#d8576b"
            ],
            [
             0.6666666666666666,
             "#ed7953"
            ],
            [
             0.7777777777777778,
             "#fb9f3a"
            ],
            [
             0.8888888888888888,
             "#fdca26"
            ],
            [
             1,
             "#f0f921"
            ]
           ],
           "sequentialminus": [
            [
             0,
             "#0d0887"
            ],
            [
             0.1111111111111111,
             "#46039f"
            ],
            [
             0.2222222222222222,
             "#7201a8"
            ],
            [
             0.3333333333333333,
             "#9c179e"
            ],
            [
             0.4444444444444444,
             "#bd3786"
            ],
            [
             0.5555555555555556,
             "#d8576b"
            ],
            [
             0.6666666666666666,
             "#ed7953"
            ],
            [
             0.7777777777777778,
             "#fb9f3a"
            ],
            [
             0.8888888888888888,
             "#fdca26"
            ],
            [
             1,
             "#f0f921"
            ]
           ]
          },
          "colorway": [
           "#636efa",
           "#EF553B",
           "#00cc96",
           "#ab63fa",
           "#FFA15A",
           "#19d3f3",
           "#FF6692",
           "#B6E880",
           "#FF97FF",
           "#FECB52"
          ],
          "font": {
           "color": "#2a3f5f"
          },
          "geo": {
           "bgcolor": "white",
           "lakecolor": "white",
           "landcolor": "#E5ECF6",
           "showlakes": true,
           "showland": true,
           "subunitcolor": "white"
          },
          "hoverlabel": {
           "align": "left"
          },
          "hovermode": "closest",
          "mapbox": {
           "style": "light"
          },
          "paper_bgcolor": "white",
          "plot_bgcolor": "#E5ECF6",
          "polar": {
           "angularaxis": {
            "gridcolor": "white",
            "linecolor": "white",
            "ticks": ""
           },
           "bgcolor": "#E5ECF6",
           "radialaxis": {
            "gridcolor": "white",
            "linecolor": "white",
            "ticks": ""
           }
          },
          "scene": {
           "xaxis": {
            "backgroundcolor": "#E5ECF6",
            "gridcolor": "white",
            "gridwidth": 2,
            "linecolor": "white",
            "showbackground": true,
            "ticks": "",
            "zerolinecolor": "white"
           },
           "yaxis": {
            "backgroundcolor": "#E5ECF6",
            "gridcolor": "white",
            "gridwidth": 2,
            "linecolor": "white",
            "showbackground": true,
            "ticks": "",
            "zerolinecolor": "white"
           },
           "zaxis": {
            "backgroundcolor": "#E5ECF6",
            "gridcolor": "white",
            "gridwidth": 2,
            "linecolor": "white",
            "showbackground": true,
            "ticks": "",
            "zerolinecolor": "white"
           }
          },
          "shapedefaults": {
           "line": {
            "color": "#2a3f5f"
           }
          },
          "ternary": {
           "aaxis": {
            "gridcolor": "white",
            "linecolor": "white",
            "ticks": ""
           },
           "baxis": {
            "gridcolor": "white",
            "linecolor": "white",
            "ticks": ""
           },
           "bgcolor": "#E5ECF6",
           "caxis": {
            "gridcolor": "white",
            "linecolor": "white",
            "ticks": ""
           }
          },
          "title": {
           "x": 0.05
          },
          "xaxis": {
           "automargin": true,
           "gridcolor": "white",
           "linecolor": "white",
           "ticks": "",
           "title": {
            "standoff": 15
           },
           "zerolinecolor": "white",
           "zerolinewidth": 2
          },
          "yaxis": {
           "automargin": true,
           "gridcolor": "white",
           "linecolor": "white",
           "ticks": "",
           "title": {
            "standoff": 15
           },
           "zerolinecolor": "white",
           "zerolinewidth": 2
          }
         }
        },
        "xaxis": {
         "anchor": "y",
         "domain": [
          0,
          1
         ],
         "title": {
          "text": "index"
         }
        },
        "yaxis": {
         "anchor": "x",
         "domain": [
          0,
          1
         ],
         "title": {
          "text": "value"
         }
        }
       }
      }
     },
     "metadata": {},
     "output_type": "display_data"
    }
   ],
   "source": [
    "px.bar(df[df['Date'].dt.year!=2009]['Date'].dt.month.value_counts().sort_index())"
   ]
  },
  {
   "cell_type": "markdown",
   "metadata": {},
   "source": [
    "Now this seems more consistent"
   ]
  },
  {
   "cell_type": "markdown",
   "metadata": {},
   "source": [
    "Lets do the same for days"
   ]
  },
  {
   "cell_type": "code",
   "execution_count": 24,
   "metadata": {},
   "outputs": [
    {
     "data": {
      "text/plain": [
       "1     48\n",
       "2     56\n",
       "3     46\n",
       "4     46\n",
       "5     36\n",
       "6     36\n",
       "7     48\n",
       "8     43\n",
       "9     55\n",
       "10    38\n",
       "11    53\n",
       "12    52\n",
       "13    49\n",
       "14    44\n",
       "15    46\n",
       "16    54\n",
       "17    46\n",
       "18    56\n",
       "19    47\n",
       "20    44\n",
       "21    42\n",
       "22    48\n",
       "23    55\n",
       "24    40\n",
       "25    41\n",
       "26    48\n",
       "27    38\n",
       "28    42\n",
       "29    47\n",
       "30    39\n",
       "31    30\n",
       "Name: Date, dtype: int64"
      ]
     },
     "execution_count": 24,
     "metadata": {},
     "output_type": "execute_result"
    }
   ],
   "source": [
    "df['Date'].dt.day.value_counts().sort_index()"
   ]
  },
  {
   "cell_type": "code",
   "execution_count": 25,
   "metadata": {},
   "outputs": [
    {
     "data": {
      "application/vnd.plotly.v1+json": {
       "config": {
        "plotlyServerURL": "https://plot.ly"
       },
       "data": [
        {
         "alignmentgroup": "True",
         "hovertemplate": "variable=Date<br>index=%{x}<br>value=%{y}<extra></extra>",
         "legendgroup": "Date",
         "marker": {
          "color": "#636efa",
          "pattern": {
           "shape": ""
          }
         },
         "name": "Date",
         "offsetgroup": "Date",
         "orientation": "v",
         "showlegend": true,
         "textposition": "auto",
         "type": "bar",
         "x": [
          1,
          2,
          3,
          4,
          5,
          6,
          7,
          8,
          9,
          10,
          11,
          12,
          13,
          14,
          15,
          16,
          17,
          18,
          19,
          20,
          21,
          22,
          23,
          24,
          25,
          26,
          27,
          28,
          29,
          30,
          31
         ],
         "xaxis": "x",
         "y": [
          48,
          56,
          46,
          46,
          36,
          36,
          48,
          43,
          55,
          38,
          53,
          52,
          49,
          44,
          46,
          54,
          46,
          56,
          47,
          44,
          42,
          48,
          55,
          40,
          41,
          48,
          38,
          42,
          47,
          39,
          30
         ],
         "yaxis": "y"
        }
       ],
       "layout": {
        "barmode": "relative",
        "legend": {
         "title": {
          "text": "variable"
         },
         "tracegroupgap": 0
        },
        "margin": {
         "t": 60
        },
        "template": {
         "data": {
          "bar": [
           {
            "error_x": {
             "color": "#2a3f5f"
            },
            "error_y": {
             "color": "#2a3f5f"
            },
            "marker": {
             "line": {
              "color": "#E5ECF6",
              "width": 0.5
             },
             "pattern": {
              "fillmode": "overlay",
              "size": 10,
              "solidity": 0.2
             }
            },
            "type": "bar"
           }
          ],
          "barpolar": [
           {
            "marker": {
             "line": {
              "color": "#E5ECF6",
              "width": 0.5
             },
             "pattern": {
              "fillmode": "overlay",
              "size": 10,
              "solidity": 0.2
             }
            },
            "type": "barpolar"
           }
          ],
          "carpet": [
           {
            "aaxis": {
             "endlinecolor": "#2a3f5f",
             "gridcolor": "white",
             "linecolor": "white",
             "minorgridcolor": "white",
             "startlinecolor": "#2a3f5f"
            },
            "baxis": {
             "endlinecolor": "#2a3f5f",
             "gridcolor": "white",
             "linecolor": "white",
             "minorgridcolor": "white",
             "startlinecolor": "#2a3f5f"
            },
            "type": "carpet"
           }
          ],
          "choropleth": [
           {
            "colorbar": {
             "outlinewidth": 0,
             "ticks": ""
            },
            "type": "choropleth"
           }
          ],
          "contour": [
           {
            "colorbar": {
             "outlinewidth": 0,
             "ticks": ""
            },
            "colorscale": [
             [
              0,
              "#0d0887"
             ],
             [
              0.1111111111111111,
              "#46039f"
             ],
             [
              0.2222222222222222,
              "#7201a8"
             ],
             [
              0.3333333333333333,
              "#9c179e"
             ],
             [
              0.4444444444444444,
              "#bd3786"
             ],
             [
              0.5555555555555556,
              "#d8576b"
             ],
             [
              0.6666666666666666,
              "#ed7953"
             ],
             [
              0.7777777777777778,
              "#fb9f3a"
             ],
             [
              0.8888888888888888,
              "#fdca26"
             ],
             [
              1,
              "#f0f921"
             ]
            ],
            "type": "contour"
           }
          ],
          "contourcarpet": [
           {
            "colorbar": {
             "outlinewidth": 0,
             "ticks": ""
            },
            "type": "contourcarpet"
           }
          ],
          "heatmap": [
           {
            "colorbar": {
             "outlinewidth": 0,
             "ticks": ""
            },
            "colorscale": [
             [
              0,
              "#0d0887"
             ],
             [
              0.1111111111111111,
              "#46039f"
             ],
             [
              0.2222222222222222,
              "#7201a8"
             ],
             [
              0.3333333333333333,
              "#9c179e"
             ],
             [
              0.4444444444444444,
              "#bd3786"
             ],
             [
              0.5555555555555556,
              "#d8576b"
             ],
             [
              0.6666666666666666,
              "#ed7953"
             ],
             [
              0.7777777777777778,
              "#fb9f3a"
             ],
             [
              0.8888888888888888,
              "#fdca26"
             ],
             [
              1,
              "#f0f921"
             ]
            ],
            "type": "heatmap"
           }
          ],
          "heatmapgl": [
           {
            "colorbar": {
             "outlinewidth": 0,
             "ticks": ""
            },
            "colorscale": [
             [
              0,
              "#0d0887"
             ],
             [
              0.1111111111111111,
              "#46039f"
             ],
             [
              0.2222222222222222,
              "#7201a8"
             ],
             [
              0.3333333333333333,
              "#9c179e"
             ],
             [
              0.4444444444444444,
              "#bd3786"
             ],
             [
              0.5555555555555556,
              "#d8576b"
             ],
             [
              0.6666666666666666,
              "#ed7953"
             ],
             [
              0.7777777777777778,
              "#fb9f3a"
             ],
             [
              0.8888888888888888,
              "#fdca26"
             ],
             [
              1,
              "#f0f921"
             ]
            ],
            "type": "heatmapgl"
           }
          ],
          "histogram": [
           {
            "marker": {
             "pattern": {
              "fillmode": "overlay",
              "size": 10,
              "solidity": 0.2
             }
            },
            "type": "histogram"
           }
          ],
          "histogram2d": [
           {
            "colorbar": {
             "outlinewidth": 0,
             "ticks": ""
            },
            "colorscale": [
             [
              0,
              "#0d0887"
             ],
             [
              0.1111111111111111,
              "#46039f"
             ],
             [
              0.2222222222222222,
              "#7201a8"
             ],
             [
              0.3333333333333333,
              "#9c179e"
             ],
             [
              0.4444444444444444,
              "#bd3786"
             ],
             [
              0.5555555555555556,
              "#d8576b"
             ],
             [
              0.6666666666666666,
              "#ed7953"
             ],
             [
              0.7777777777777778,
              "#fb9f3a"
             ],
             [
              0.8888888888888888,
              "#fdca26"
             ],
             [
              1,
              "#f0f921"
             ]
            ],
            "type": "histogram2d"
           }
          ],
          "histogram2dcontour": [
           {
            "colorbar": {
             "outlinewidth": 0,
             "ticks": ""
            },
            "colorscale": [
             [
              0,
              "#0d0887"
             ],
             [
              0.1111111111111111,
              "#46039f"
             ],
             [
              0.2222222222222222,
              "#7201a8"
             ],
             [
              0.3333333333333333,
              "#9c179e"
             ],
             [
              0.4444444444444444,
              "#bd3786"
             ],
             [
              0.5555555555555556,
              "#d8576b"
             ],
             [
              0.6666666666666666,
              "#ed7953"
             ],
             [
              0.7777777777777778,
              "#fb9f3a"
             ],
             [
              0.8888888888888888,
              "#fdca26"
             ],
             [
              1,
              "#f0f921"
             ]
            ],
            "type": "histogram2dcontour"
           }
          ],
          "mesh3d": [
           {
            "colorbar": {
             "outlinewidth": 0,
             "ticks": ""
            },
            "type": "mesh3d"
           }
          ],
          "parcoords": [
           {
            "line": {
             "colorbar": {
              "outlinewidth": 0,
              "ticks": ""
             }
            },
            "type": "parcoords"
           }
          ],
          "pie": [
           {
            "automargin": true,
            "type": "pie"
           }
          ],
          "scatter": [
           {
            "marker": {
             "colorbar": {
              "outlinewidth": 0,
              "ticks": ""
             }
            },
            "type": "scatter"
           }
          ],
          "scatter3d": [
           {
            "line": {
             "colorbar": {
              "outlinewidth": 0,
              "ticks": ""
             }
            },
            "marker": {
             "colorbar": {
              "outlinewidth": 0,
              "ticks": ""
             }
            },
            "type": "scatter3d"
           }
          ],
          "scattercarpet": [
           {
            "marker": {
             "colorbar": {
              "outlinewidth": 0,
              "ticks": ""
             }
            },
            "type": "scattercarpet"
           }
          ],
          "scattergeo": [
           {
            "marker": {
             "colorbar": {
              "outlinewidth": 0,
              "ticks": ""
             }
            },
            "type": "scattergeo"
           }
          ],
          "scattergl": [
           {
            "marker": {
             "colorbar": {
              "outlinewidth": 0,
              "ticks": ""
             }
            },
            "type": "scattergl"
           }
          ],
          "scattermapbox": [
           {
            "marker": {
             "colorbar": {
              "outlinewidth": 0,
              "ticks": ""
             }
            },
            "type": "scattermapbox"
           }
          ],
          "scatterpolar": [
           {
            "marker": {
             "colorbar": {
              "outlinewidth": 0,
              "ticks": ""
             }
            },
            "type": "scatterpolar"
           }
          ],
          "scatterpolargl": [
           {
            "marker": {
             "colorbar": {
              "outlinewidth": 0,
              "ticks": ""
             }
            },
            "type": "scatterpolargl"
           }
          ],
          "scatterternary": [
           {
            "marker": {
             "colorbar": {
              "outlinewidth": 0,
              "ticks": ""
             }
            },
            "type": "scatterternary"
           }
          ],
          "surface": [
           {
            "colorbar": {
             "outlinewidth": 0,
             "ticks": ""
            },
            "colorscale": [
             [
              0,
              "#0d0887"
             ],
             [
              0.1111111111111111,
              "#46039f"
             ],
             [
              0.2222222222222222,
              "#7201a8"
             ],
             [
              0.3333333333333333,
              "#9c179e"
             ],
             [
              0.4444444444444444,
              "#bd3786"
             ],
             [
              0.5555555555555556,
              "#d8576b"
             ],
             [
              0.6666666666666666,
              "#ed7953"
             ],
             [
              0.7777777777777778,
              "#fb9f3a"
             ],
             [
              0.8888888888888888,
              "#fdca26"
             ],
             [
              1,
              "#f0f921"
             ]
            ],
            "type": "surface"
           }
          ],
          "table": [
           {
            "cells": {
             "fill": {
              "color": "#EBF0F8"
             },
             "line": {
              "color": "white"
             }
            },
            "header": {
             "fill": {
              "color": "#C8D4E3"
             },
             "line": {
              "color": "white"
             }
            },
            "type": "table"
           }
          ]
         },
         "layout": {
          "annotationdefaults": {
           "arrowcolor": "#2a3f5f",
           "arrowhead": 0,
           "arrowwidth": 1
          },
          "autotypenumbers": "strict",
          "coloraxis": {
           "colorbar": {
            "outlinewidth": 0,
            "ticks": ""
           }
          },
          "colorscale": {
           "diverging": [
            [
             0,
             "#8e0152"
            ],
            [
             0.1,
             "#c51b7d"
            ],
            [
             0.2,
             "#de77ae"
            ],
            [
             0.3,
             "#f1b6da"
            ],
            [
             0.4,
             "#fde0ef"
            ],
            [
             0.5,
             "#f7f7f7"
            ],
            [
             0.6,
             "#e6f5d0"
            ],
            [
             0.7,
             "#b8e186"
            ],
            [
             0.8,
             "#7fbc41"
            ],
            [
             0.9,
             "#4d9221"
            ],
            [
             1,
             "#276419"
            ]
           ],
           "sequential": [
            [
             0,
             "#0d0887"
            ],
            [
             0.1111111111111111,
             "#46039f"
            ],
            [
             0.2222222222222222,
             "#7201a8"
            ],
            [
             0.3333333333333333,
             "#9c179e"
            ],
            [
             0.4444444444444444,
             "#bd3786"
            ],
            [
             0.5555555555555556,
             "#d8576b"
            ],
            [
             0.6666666666666666,
             "#ed7953"
            ],
            [
             0.7777777777777778,
             "#fb9f3a"
            ],
            [
             0.8888888888888888,
             "#fdca26"
            ],
            [
             1,
             "#f0f921"
            ]
           ],
           "sequentialminus": [
            [
             0,
             "#0d0887"
            ],
            [
             0.1111111111111111,
             "#46039f"
            ],
            [
             0.2222222222222222,
             "#7201a8"
            ],
            [
             0.3333333333333333,
             "#9c179e"
            ],
            [
             0.4444444444444444,
             "#bd3786"
            ],
            [
             0.5555555555555556,
             "#d8576b"
            ],
            [
             0.6666666666666666,
             "#ed7953"
            ],
            [
             0.7777777777777778,
             "#fb9f3a"
            ],
            [
             0.8888888888888888,
             "#fdca26"
            ],
            [
             1,
             "#f0f921"
            ]
           ]
          },
          "colorway": [
           "#636efa",
           "#EF553B",
           "#00cc96",
           "#ab63fa",
           "#FFA15A",
           "#19d3f3",
           "#FF6692",
           "#B6E880",
           "#FF97FF",
           "#FECB52"
          ],
          "font": {
           "color": "#2a3f5f"
          },
          "geo": {
           "bgcolor": "white",
           "lakecolor": "white",
           "landcolor": "#E5ECF6",
           "showlakes": true,
           "showland": true,
           "subunitcolor": "white"
          },
          "hoverlabel": {
           "align": "left"
          },
          "hovermode": "closest",
          "mapbox": {
           "style": "light"
          },
          "paper_bgcolor": "white",
          "plot_bgcolor": "#E5ECF6",
          "polar": {
           "angularaxis": {
            "gridcolor": "white",
            "linecolor": "white",
            "ticks": ""
           },
           "bgcolor": "#E5ECF6",
           "radialaxis": {
            "gridcolor": "white",
            "linecolor": "white",
            "ticks": ""
           }
          },
          "scene": {
           "xaxis": {
            "backgroundcolor": "#E5ECF6",
            "gridcolor": "white",
            "gridwidth": 2,
            "linecolor": "white",
            "showbackground": true,
            "ticks": "",
            "zerolinecolor": "white"
           },
           "yaxis": {
            "backgroundcolor": "#E5ECF6",
            "gridcolor": "white",
            "gridwidth": 2,
            "linecolor": "white",
            "showbackground": true,
            "ticks": "",
            "zerolinecolor": "white"
           },
           "zaxis": {
            "backgroundcolor": "#E5ECF6",
            "gridcolor": "white",
            "gridwidth": 2,
            "linecolor": "white",
            "showbackground": true,
            "ticks": "",
            "zerolinecolor": "white"
           }
          },
          "shapedefaults": {
           "line": {
            "color": "#2a3f5f"
           }
          },
          "ternary": {
           "aaxis": {
            "gridcolor": "white",
            "linecolor": "white",
            "ticks": ""
           },
           "baxis": {
            "gridcolor": "white",
            "linecolor": "white",
            "ticks": ""
           },
           "bgcolor": "#E5ECF6",
           "caxis": {
            "gridcolor": "white",
            "linecolor": "white",
            "ticks": ""
           }
          },
          "title": {
           "x": 0.05
          },
          "xaxis": {
           "automargin": true,
           "gridcolor": "white",
           "linecolor": "white",
           "ticks": "",
           "title": {
            "standoff": 15
           },
           "zerolinecolor": "white",
           "zerolinewidth": 2
          },
          "yaxis": {
           "automargin": true,
           "gridcolor": "white",
           "linecolor": "white",
           "ticks": "",
           "title": {
            "standoff": 15
           },
           "zerolinecolor": "white",
           "zerolinewidth": 2
          }
         }
        },
        "xaxis": {
         "anchor": "y",
         "domain": [
          0,
          1
         ],
         "title": {
          "text": "index"
         }
        },
        "yaxis": {
         "anchor": "x",
         "domain": [
          0,
          1
         ],
         "title": {
          "text": "value"
         }
        }
       }
      }
     },
     "metadata": {},
     "output_type": "display_data"
    }
   ],
   "source": [
    "px.bar(df['Date'].dt.day.value_counts().sort_index())"
   ]
  },
  {
   "cell_type": "markdown",
   "metadata": {},
   "source": [
    "There is no pattern here"
   ]
  },
  {
   "cell_type": "markdown",
   "metadata": {},
   "source": [
    "## Lets focus on Likes column"
   ]
  },
  {
   "cell_type": "code",
   "execution_count": 26,
   "metadata": {},
   "outputs": [
    {
     "data": {
      "text/plain": [
       "0        52217\n",
       "1        83763\n",
       "2       174602\n",
       "3       124575\n",
       "4       120729\n",
       "         ...  \n",
       "1408      1592\n",
       "1409    234631\n",
       "1410      2644\n",
       "1411      2198\n",
       "1412     17546\n",
       "Name: Likes, Length: 1413, dtype: int64"
      ]
     },
     "execution_count": 26,
     "metadata": {},
     "output_type": "execute_result"
    }
   ],
   "source": [
    "df['Likes']"
   ]
  },
  {
   "cell_type": "code",
   "execution_count": 27,
   "metadata": {},
   "outputs": [
    {
     "data": {
      "application/vnd.plotly.v1+json": {
       "config": {
        "plotlyServerURL": "https://plot.ly"
       },
       "data": [
        {
         "alignmentgroup": "True",
         "bingroup": "x",
         "hovertemplate": "variable=Likes<br>value=%{x}<br>count=%{y}<extra></extra>",
         "legendgroup": "Likes",
         "marker": {
          "color": "#636efa",
          "pattern": {
           "shape": ""
          }
         },
         "name": "Likes",
         "nbinsx": 500,
         "offsetgroup": "Likes",
         "orientation": "v",
         "showlegend": true,
         "type": "histogram",
         "x": [
          52217,
          83763,
          174602,
          124575,
          120729,
          119164,
          111941,
          134085,
          114881,
          127157,
          114681,
          159759,
          89897,
          134746,
          94249,
          134166,
          106769,
          181110,
          166380,
          119161,
          110596,
          103176,
          91023,
          87212,
          198090,
          199070,
          111596,
          95229,
          125214,
          137143,
          105354,
          92898,
          88464,
          510942,
          101571,
          202400,
          126780,
          220253,
          121402,
          78840,
          186570,
          199473,
          116485,
          299491,
          95015,
          193721,
          76645,
          181345,
          149921,
          266936,
          121072,
          252338,
          97693,
          132683,
          126261,
          196535,
          116007,
          106318,
          170104,
          110022,
          168542,
          110304,
          144736,
          143223,
          279913,
          138668,
          100828,
          241779,
          120734,
          76787,
          229256,
          168763,
          158790,
          175163,
          72994,
          285460,
          192476,
          210169,
          188960,
          241195,
          162906,
          122097,
          142205,
          270102,
          184242,
          44185,
          31631,
          34804,
          54938,
          94901,
          118374,
          141750,
          211017,
          123103,
          238628,
          81821,
          141537,
          123051,
          121804,
          126040,
          117693,
          283606,
          116215,
          148586,
          76840,
          103654,
          150289,
          224607,
          255551,
          137628,
          187178,
          134136,
          100749,
          209980,
          96163,
          242215,
          172419,
          176300,
          203821,
          294765,
          255279,
          273720,
          90269,
          146523,
          405425,
          230768,
          115249,
          156637,
          170431,
          123825,
          139726,
          295184,
          232519,
          149151,
          169406,
          172980,
          156249,
          162799,
          229393,
          580105,
          309617,
          143972,
          110634,
          205515,
          431428,
          171969,
          100994,
          133506,
          110855,
          230853,
          294507,
          126796,
          153485,
          297461,
          304213,
          150800,
          112451,
          159837,
          195656,
          99126,
          100985,
          98054,
          137770,
          120941,
          129456,
          77174,
          152728,
          255850,
          170930,
          238030,
          67698,
          135315,
          193746,
          152632,
          128913,
          119741,
          123140,
          153117,
          171628,
          252852,
          162618,
          193678,
          248178,
          320297,
          210825,
          120025,
          216826,
          115640,
          140050,
          140276,
          168664,
          657022,
          279935,
          120403,
          156292,
          79487,
          90725,
          126704,
          228956,
          112715,
          141703,
          127478,
          119944,
          145242,
          296734,
          184232,
          161593,
          99481,
          181080,
          97559,
          121475,
          96512,
          243682,
          171948,
          96461,
          101072,
          350032,
          88537,
          143220,
          390327,
          123815,
          100498,
          67518,
          107207,
          152701,
          170120,
          173463,
          155972,
          76314,
          96516,
          220945,
          210729,
          130439,
          74995,
          84313,
          96839,
          98964,
          102754,
          147864,
          223532,
          8236,
          103245,
          311607,
          115832,
          12252,
          123271,
          166464,
          12499,
          91399,
          89945,
          10785,
          139137,
          88319,
          118052,
          282623,
          225399,
          94601,
          173772,
          98842,
          122446,
          196785,
          74008,
          73663,
          268137,
          115753,
          71255,
          118036,
          337055,
          92093,
          154631,
          96970,
          92258,
          92105,
          193320,
          92639,
          187207,
          125303,
          169149,
          132694,
          172398,
          122864,
          86643,
          94084,
          101553,
          120454,
          258175,
          37561,
          219240,
          204852,
          104682,
          158540,
          73208,
          113760,
          82670,
          86526,
          131029,
          96082,
          63540,
          102059,
          64718,
          155000,
          148970,
          115539,
          189528,
          74904,
          86372,
          203392,
          108542,
          163514,
          206953,
          71630,
          48993,
          97012,
          78937,
          202456,
          336113,
          351793,
          120671,
          94129,
          58639,
          157957,
          109943,
          149125,
          64223,
          80564,
          117579,
          136861,
          160206,
          63256,
          126434,
          78112,
          231592,
          83136,
          83069,
          197475,
          299530,
          78522,
          103275,
          93893,
          54100,
          216993,
          93932,
          141344,
          77406,
          47025,
          75204,
          101092,
          99237,
          107365,
          199118,
          68056,
          373757,
          69855,
          128100,
          104959,
          65298,
          99131,
          87288,
          117954,
          161050,
          93623,
          85590,
          113264,
          143696,
          51091,
          137624,
          98845,
          67036,
          60686,
          67554,
          119847,
          52649,
          88776,
          55296,
          99300,
          139840,
          98439,
          83274,
          76026,
          131203,
          76858,
          64774,
          100539,
          57293,
          109196,
          391474,
          531345,
          110187,
          73425,
          57258,
          112158,
          98339,
          73337,
          45078,
          59578,
          69055,
          79743,
          88866,
          32775,
          90272,
          54288,
          72284,
          62540,
          46021,
          76232,
          59502,
          81819,
          111404,
          63172,
          82610,
          63013,
          65202,
          108100,
          48512,
          58030,
          102077,
          77067,
          49994,
          82955,
          48137,
          63269,
          231768,
          133081,
          48063,
          147068,
          57150,
          68619,
          119534,
          242165,
          59777,
          49755,
          117838,
          40582,
          84558,
          99016,
          46866,
          120647,
          65694,
          51799,
          124021,
          47663,
          118573,
          54636,
          58987,
          64513,
          85550,
          98349,
          142556,
          79861,
          90830,
          93271,
          36140,
          152587,
          43532,
          65364,
          161287,
          87989,
          163067,
          78122,
          76950,
          60384,
          111098,
          295967,
          10392,
          132789,
          44463,
          74534,
          80923,
          80249,
          82110,
          103995,
          44985,
          35819,
          53440,
          80982,
          42532,
          71118,
          141925,
          56848,
          68970,
          77119,
          38403,
          64084,
          53510,
          47630,
          44510,
          76070,
          132850,
          107864,
          29935,
          88245,
          118813,
          47275,
          26443,
          34451,
          52506,
          45439,
          40825,
          114303,
          40893,
          106602,
          73293,
          125838,
          77632,
          46627,
          45685,
          67008,
          40426,
          46240,
          42575,
          46868,
          67744,
          44917,
          60565,
          83949,
          48048,
          60383,
          111279,
          70997,
          39382,
          46266,
          135830,
          151398,
          125628,
          212989,
          38509,
          79185,
          69797,
          37738,
          105963,
          42169,
          77172,
          49956,
          38746,
          35105,
          28785,
          33688,
          28565,
          61701,
          75420,
          36752,
          46095,
          34632,
          55767,
          44266,
          47690,
          64463,
          86995,
          61220,
          46521,
          84592,
          68329,
          111960,
          87264,
          53624,
          40109,
          36971,
          43804,
          59171,
          33538,
          87564,
          63922,
          40944,
          47785,
          79756,
          124333,
          103847,
          51456,
          77015,
          43869,
          49426,
          149695,
          83755,
          62628,
          63156,
          84167,
          42823,
          121065,
          111240,
          24612,
          43876,
          43372,
          34053,
          29668,
          29258,
          37049,
          50404,
          32210,
          25623,
          37833,
          23495,
          31337,
          50815,
          35381,
          82629,
          30726,
          31727,
          52675,
          28404,
          44506,
          36923,
          29060,
          41679,
          27451,
          30271,
          57262,
          38437,
          44819,
          77452,
          46766,
          33254,
          98508,
          45177,
          52070,
          53845,
          36119,
          66445,
          32798,
          21090,
          35470,
          37634,
          50488,
          22951,
          98797,
          26828,
          27420,
          41805,
          27387,
          37137,
          39448,
          98466,
          64992,
          45571,
          152015,
          20988,
          42767,
          31884,
          39059,
          53338,
          37639,
          37141,
          37208,
          56797,
          45376,
          29733,
          34262,
          94182,
          25840,
          35807,
          37697,
          26573,
          32529,
          123586,
          56284,
          33553,
          51034,
          55764,
          39657,
          76017,
          28324,
          28506,
          51980,
          62457,
          40639,
          32613,
          31515,
          29527,
          28901,
          42169,
          50521,
          40871,
          69410,
          33339,
          26578,
          33580,
          37075,
          31222,
          38528,
          45255,
          43090,
          94709,
          20345,
          50246,
          37460,
          65795,
          43330,
          44796,
          77463,
          60810,
          28513,
          39238,
          100562,
          21537,
          43709,
          25660,
          33933,
          31352,
          104818,
          84259,
          41806,
          21455,
          24644,
          32748,
          28612,
          25266,
          34275,
          25123,
          31314,
          47269,
          24297,
          22470,
          25826,
          15891,
          23967,
          28384,
          29541,
          32975,
          59173,
          21332,
          68813,
          28018,
          24739,
          48625,
          63935,
          32396,
          22323,
          48399,
          21653,
          69375,
          66375,
          42542,
          37688,
          48472,
          78491,
          20411,
          22712,
          45890,
          48582,
          39441,
          47355,
          51667,
          68669,
          44701,
          36242,
          212825,
          24873,
          23437,
          28015,
          24269,
          23111,
          24430,
          21480,
          28395,
          37981,
          60930,
          35531,
          43824,
          40540,
          20136,
          10696,
          27313,
          33493,
          16403,
          20369,
          30902,
          44323,
          33621,
          24744,
          44411,
          35518,
          63677,
          15121,
          25541,
          43863,
          34357,
          19951,
          19865,
          21486,
          31281,
          49889,
          24071,
          33824,
          28694,
          17752,
          16634,
          27397,
          23501,
          55067,
          16975,
          28803,
          42991,
          44365,
          13718,
          12206,
          11489,
          24236,
          12012,
          16769,
          13346,
          13673,
          18563,
          11261,
          9139,
          8565,
          6859,
          9746,
          13531,
          13138,
          18054,
          17091,
          19881,
          15101,
          26497,
          19502,
          25654,
          37129,
          13269,
          44773,
          105866,
          33850,
          36192,
          48034,
          15555,
          17149,
          37701,
          23905,
          23414,
          14147,
          21553,
          28252,
          138077,
          10415,
          84501,
          13675,
          31306,
          23199,
          25556,
          9833,
          11614,
          87828,
          9596,
          55797,
          61233,
          18070,
          34406,
          29939,
          29443,
          20250,
          26961,
          11360,
          13192,
          14832,
          8479,
          14627,
          43719,
          8269,
          12622,
          23416,
          16517,
          50141,
          15997,
          12997,
          13971,
          27488,
          9314,
          42663,
          11274,
          8461,
          8950,
          22086,
          35421,
          19358,
          6788,
          9203,
          13306,
          5068,
          44460,
          29359,
          9865,
          12096,
          16782,
          8926,
          7460,
          23465,
          8611,
          26825,
          11118,
          15592,
          6013,
          9544,
          43984,
          4899,
          74355,
          15703,
          5331,
          16367,
          12423,
          11285,
          17044,
          20553,
          3575,
          23222,
          3331,
          1677,
          3983,
          7723,
          15420,
          4922,
          6059,
          12636,
          4288,
          2103,
          4716,
          15655,
          5550,
          5317,
          6924,
          16567,
          7944,
          5912,
          2335,
          4674,
          16907,
          12387,
          3465,
          7596,
          3533,
          2942,
          3505,
          17609,
          6268,
          55538,
          4207,
          2589,
          1742,
          5736,
          1752,
          9203,
          6567,
          3021,
          3376,
          4878,
          3059,
          7232,
          2823,
          11404,
          2233,
          25195,
          5836,
          16449,
          1779,
          4136,
          3421,
          3963,
          11425,
          14401,
          1776,
          9360,
          1790,
          26213,
          1432,
          23813,
          2611,
          2524,
          3191,
          14045,
          5765,
          7611,
          2320,
          9115,
          27454,
          8237,
          621,
          1261,
          3243,
          4907,
          4401,
          5065,
          6851,
          533,
          28797,
          1994,
          2342,
          12037,
          2273,
          8579,
          1445,
          8489,
          2268,
          105019,
          9364,
          1126,
          9378,
          5021,
          6011,
          3616,
          12203,
          2847,
          2869,
          3798,
          1148,
          1698,
          731,
          1079,
          504,
          25428,
          689,
          1521,
          1441,
          1603,
          1052,
          827,
          661,
          129,
          1723,
          793,
          1824,
          3144,
          426,
          603,
          2395,
          19283,
          93,
          1552,
          988,
          2677,
          247,
          975,
          5852,
          722,
          4883,
          190,
          1814,
          2371,
          188,
          6930,
          344,
          324,
          24925,
          650,
          3952,
          1549,
          2608,
          1155,
          1356,
          488,
          651,
          14320,
          539,
          277,
          612,
          301,
          935,
          6519,
          204,
          1552,
          196,
          297,
          1664,
          5435,
          352,
          888,
          371,
          3469,
          1373,
          362,
          1726,
          1236,
          73,
          1045,
          190,
          267,
          658,
          142,
          69,
          135,
          147,
          74,
          131,
          164,
          187,
          87,
          228,
          85,
          101,
          2641,
          241,
          131,
          142,
          174,
          187,
          463,
          818,
          75,
          335,
          240,
          303,
          2908,
          233,
          117,
          217,
          342,
          152,
          106,
          56,
          673,
          345,
          156,
          223,
          90,
          153,
          132,
          266,
          288,
          133,
          159,
          310,
          501,
          224,
          131,
          742,
          165,
          125,
          140,
          134,
          153,
          1440,
          300,
          121,
          173,
          532,
          1017,
          87,
          11614,
          217058,
          298,
          292,
          202,
          388,
          665,
          211,
          153,
          125,
          63,
          118,
          217,
          138,
          72,
          165,
          86,
          768,
          386,
          113,
          204,
          93,
          953,
          79,
          143,
          97,
          103,
          465,
          128,
          438,
          74,
          331,
          233,
          91,
          192,
          92,
          82,
          141,
          82,
          196,
          198,
          223,
          172,
          129,
          160,
          481,
          115,
          148,
          950,
          165,
          534,
          94,
          139,
          121,
          89,
          699,
          91,
          77,
          135,
          456,
          141,
          83,
          150,
          1248,
          648,
          117,
          79,
          142,
          111,
          168,
          92,
          77,
          95,
          76,
          85,
          70,
          86,
          143,
          110,
          136,
          66,
          44,
          89,
          77,
          118,
          87,
          125,
          100,
          58,
          129,
          279,
          758,
          136,
          75,
          171,
          99,
          126,
          90,
          78,
          88,
          59,
          71,
          118,
          121,
          158,
          62,
          54,
          115,
          358,
          74,
          120,
          81,
          103,
          167,
          318,
          32,
          41,
          145,
          441,
          52,
          30,
          115,
          107,
          227,
          335,
          112,
          197,
          97,
          40,
          248,
          226,
          52,
          150,
          40,
          45,
          214,
          56,
          255,
          73,
          270,
          417,
          79,
          229,
          469,
          73,
          34,
          152,
          166,
          348,
          188,
          88,
          268,
          134,
          63,
          368,
          57,
          73,
          23,
          61,
          58,
          106,
          79,
          152,
          42,
          37,
          185,
          68,
          601,
          43,
          39,
          63,
          29,
          60,
          32,
          56,
          76,
          31,
          57,
          201,
          240,
          39,
          37,
          39,
          567,
          101454,
          36,
          25,
          68,
          1149,
          42,
          37,
          51,
          43,
          381,
          88,
          2029,
          569,
          55,
          62,
          290,
          59,
          729,
          35,
          60,
          49,
          70,
          40,
          38,
          40,
          135,
          48,
          59,
          35,
          48,
          30,
          83,
          37,
          73,
          78,
          46,
          71,
          59,
          41,
          54,
          37,
          59,
          55,
          41,
          114,
          51,
          123,
          63,
          47,
          44,
          291,
          39,
          60,
          55,
          56,
          63,
          71,
          39,
          151,
          57,
          79,
          73,
          89,
          65,
          58,
          56,
          79,
          358,
          84,
          3342,
          69,
          80,
          70,
          76,
          113,
          288,
          80,
          360,
          113,
          1514,
          109,
          167,
          735,
          214,
          314,
          141,
          249,
          182,
          282,
          1073,
          609,
          1592,
          234631,
          2644,
          2198,
          17546
         ],
         "xaxis": "x",
         "yaxis": "y"
        }
       ],
       "layout": {
        "barmode": "relative",
        "legend": {
         "title": {
          "text": "variable"
         },
         "tracegroupgap": 0
        },
        "margin": {
         "t": 60
        },
        "template": {
         "data": {
          "bar": [
           {
            "error_x": {
             "color": "#2a3f5f"
            },
            "error_y": {
             "color": "#2a3f5f"
            },
            "marker": {
             "line": {
              "color": "#E5ECF6",
              "width": 0.5
             },
             "pattern": {
              "fillmode": "overlay",
              "size": 10,
              "solidity": 0.2
             }
            },
            "type": "bar"
           }
          ],
          "barpolar": [
           {
            "marker": {
             "line": {
              "color": "#E5ECF6",
              "width": 0.5
             },
             "pattern": {
              "fillmode": "overlay",
              "size": 10,
              "solidity": 0.2
             }
            },
            "type": "barpolar"
           }
          ],
          "carpet": [
           {
            "aaxis": {
             "endlinecolor": "#2a3f5f",
             "gridcolor": "white",
             "linecolor": "white",
             "minorgridcolor": "white",
             "startlinecolor": "#2a3f5f"
            },
            "baxis": {
             "endlinecolor": "#2a3f5f",
             "gridcolor": "white",
             "linecolor": "white",
             "minorgridcolor": "white",
             "startlinecolor": "#2a3f5f"
            },
            "type": "carpet"
           }
          ],
          "choropleth": [
           {
            "colorbar": {
             "outlinewidth": 0,
             "ticks": ""
            },
            "type": "choropleth"
           }
          ],
          "contour": [
           {
            "colorbar": {
             "outlinewidth": 0,
             "ticks": ""
            },
            "colorscale": [
             [
              0,
              "#0d0887"
             ],
             [
              0.1111111111111111,
              "#46039f"
             ],
             [
              0.2222222222222222,
              "#7201a8"
             ],
             [
              0.3333333333333333,
              "#9c179e"
             ],
             [
              0.4444444444444444,
              "#bd3786"
             ],
             [
              0.5555555555555556,
              "#d8576b"
             ],
             [
              0.6666666666666666,
              "#ed7953"
             ],
             [
              0.7777777777777778,
              "#fb9f3a"
             ],
             [
              0.8888888888888888,
              "#fdca26"
             ],
             [
              1,
              "#f0f921"
             ]
            ],
            "type": "contour"
           }
          ],
          "contourcarpet": [
           {
            "colorbar": {
             "outlinewidth": 0,
             "ticks": ""
            },
            "type": "contourcarpet"
           }
          ],
          "heatmap": [
           {
            "colorbar": {
             "outlinewidth": 0,
             "ticks": ""
            },
            "colorscale": [
             [
              0,
              "#0d0887"
             ],
             [
              0.1111111111111111,
              "#46039f"
             ],
             [
              0.2222222222222222,
              "#7201a8"
             ],
             [
              0.3333333333333333,
              "#9c179e"
             ],
             [
              0.4444444444444444,
              "#bd3786"
             ],
             [
              0.5555555555555556,
              "#d8576b"
             ],
             [
              0.6666666666666666,
              "#ed7953"
             ],
             [
              0.7777777777777778,
              "#fb9f3a"
             ],
             [
              0.8888888888888888,
              "#fdca26"
             ],
             [
              1,
              "#f0f921"
             ]
            ],
            "type": "heatmap"
           }
          ],
          "heatmapgl": [
           {
            "colorbar": {
             "outlinewidth": 0,
             "ticks": ""
            },
            "colorscale": [
             [
              0,
              "#0d0887"
             ],
             [
              0.1111111111111111,
              "#46039f"
             ],
             [
              0.2222222222222222,
              "#7201a8"
             ],
             [
              0.3333333333333333,
              "#9c179e"
             ],
             [
              0.4444444444444444,
              "#bd3786"
             ],
             [
              0.5555555555555556,
              "#d8576b"
             ],
             [
              0.6666666666666666,
              "#ed7953"
             ],
             [
              0.7777777777777778,
              "#fb9f3a"
             ],
             [
              0.8888888888888888,
              "#fdca26"
             ],
             [
              1,
              "#f0f921"
             ]
            ],
            "type": "heatmapgl"
           }
          ],
          "histogram": [
           {
            "marker": {
             "pattern": {
              "fillmode": "overlay",
              "size": 10,
              "solidity": 0.2
             }
            },
            "type": "histogram"
           }
          ],
          "histogram2d": [
           {
            "colorbar": {
             "outlinewidth": 0,
             "ticks": ""
            },
            "colorscale": [
             [
              0,
              "#0d0887"
             ],
             [
              0.1111111111111111,
              "#46039f"
             ],
             [
              0.2222222222222222,
              "#7201a8"
             ],
             [
              0.3333333333333333,
              "#9c179e"
             ],
             [
              0.4444444444444444,
              "#bd3786"
             ],
             [
              0.5555555555555556,
              "#d8576b"
             ],
             [
              0.6666666666666666,
              "#ed7953"
             ],
             [
              0.7777777777777778,
              "#fb9f3a"
             ],
             [
              0.8888888888888888,
              "#fdca26"
             ],
             [
              1,
              "#f0f921"
             ]
            ],
            "type": "histogram2d"
           }
          ],
          "histogram2dcontour": [
           {
            "colorbar": {
             "outlinewidth": 0,
             "ticks": ""
            },
            "colorscale": [
             [
              0,
              "#0d0887"
             ],
             [
              0.1111111111111111,
              "#46039f"
             ],
             [
              0.2222222222222222,
              "#7201a8"
             ],
             [
              0.3333333333333333,
              "#9c179e"
             ],
             [
              0.4444444444444444,
              "#bd3786"
             ],
             [
              0.5555555555555556,
              "#d8576b"
             ],
             [
              0.6666666666666666,
              "#ed7953"
             ],
             [
              0.7777777777777778,
              "#fb9f3a"
             ],
             [
              0.8888888888888888,
              "#fdca26"
             ],
             [
              1,
              "#f0f921"
             ]
            ],
            "type": "histogram2dcontour"
           }
          ],
          "mesh3d": [
           {
            "colorbar": {
             "outlinewidth": 0,
             "ticks": ""
            },
            "type": "mesh3d"
           }
          ],
          "parcoords": [
           {
            "line": {
             "colorbar": {
              "outlinewidth": 0,
              "ticks": ""
             }
            },
            "type": "parcoords"
           }
          ],
          "pie": [
           {
            "automargin": true,
            "type": "pie"
           }
          ],
          "scatter": [
           {
            "marker": {
             "colorbar": {
              "outlinewidth": 0,
              "ticks": ""
             }
            },
            "type": "scatter"
           }
          ],
          "scatter3d": [
           {
            "line": {
             "colorbar": {
              "outlinewidth": 0,
              "ticks": ""
             }
            },
            "marker": {
             "colorbar": {
              "outlinewidth": 0,
              "ticks": ""
             }
            },
            "type": "scatter3d"
           }
          ],
          "scattercarpet": [
           {
            "marker": {
             "colorbar": {
              "outlinewidth": 0,
              "ticks": ""
             }
            },
            "type": "scattercarpet"
           }
          ],
          "scattergeo": [
           {
            "marker": {
             "colorbar": {
              "outlinewidth": 0,
              "ticks": ""
             }
            },
            "type": "scattergeo"
           }
          ],
          "scattergl": [
           {
            "marker": {
             "colorbar": {
              "outlinewidth": 0,
              "ticks": ""
             }
            },
            "type": "scattergl"
           }
          ],
          "scattermapbox": [
           {
            "marker": {
             "colorbar": {
              "outlinewidth": 0,
              "ticks": ""
             }
            },
            "type": "scattermapbox"
           }
          ],
          "scatterpolar": [
           {
            "marker": {
             "colorbar": {
              "outlinewidth": 0,
              "ticks": ""
             }
            },
            "type": "scatterpolar"
           }
          ],
          "scatterpolargl": [
           {
            "marker": {
             "colorbar": {
              "outlinewidth": 0,
              "ticks": ""
             }
            },
            "type": "scatterpolargl"
           }
          ],
          "scatterternary": [
           {
            "marker": {
             "colorbar": {
              "outlinewidth": 0,
              "ticks": ""
             }
            },
            "type": "scatterternary"
           }
          ],
          "surface": [
           {
            "colorbar": {
             "outlinewidth": 0,
             "ticks": ""
            },
            "colorscale": [
             [
              0,
              "#0d0887"
             ],
             [
              0.1111111111111111,
              "#46039f"
             ],
             [
              0.2222222222222222,
              "#7201a8"
             ],
             [
              0.3333333333333333,
              "#9c179e"
             ],
             [
              0.4444444444444444,
              "#bd3786"
             ],
             [
              0.5555555555555556,
              "#d8576b"
             ],
             [
              0.6666666666666666,
              "#ed7953"
             ],
             [
              0.7777777777777778,
              "#fb9f3a"
             ],
             [
              0.8888888888888888,
              "#fdca26"
             ],
             [
              1,
              "#f0f921"
             ]
            ],
            "type": "surface"
           }
          ],
          "table": [
           {
            "cells": {
             "fill": {
              "color": "#EBF0F8"
             },
             "line": {
              "color": "white"
             }
            },
            "header": {
             "fill": {
              "color": "#C8D4E3"
             },
             "line": {
              "color": "white"
             }
            },
            "type": "table"
           }
          ]
         },
         "layout": {
          "annotationdefaults": {
           "arrowcolor": "#2a3f5f",
           "arrowhead": 0,
           "arrowwidth": 1
          },
          "autotypenumbers": "strict",
          "coloraxis": {
           "colorbar": {
            "outlinewidth": 0,
            "ticks": ""
           }
          },
          "colorscale": {
           "diverging": [
            [
             0,
             "#8e0152"
            ],
            [
             0.1,
             "#c51b7d"
            ],
            [
             0.2,
             "#de77ae"
            ],
            [
             0.3,
             "#f1b6da"
            ],
            [
             0.4,
             "#fde0ef"
            ],
            [
             0.5,
             "#f7f7f7"
            ],
            [
             0.6,
             "#e6f5d0"
            ],
            [
             0.7,
             "#b8e186"
            ],
            [
             0.8,
             "#7fbc41"
            ],
            [
             0.9,
             "#4d9221"
            ],
            [
             1,
             "#276419"
            ]
           ],
           "sequential": [
            [
             0,
             "#0d0887"
            ],
            [
             0.1111111111111111,
             "#46039f"
            ],
            [
             0.2222222222222222,
             "#7201a8"
            ],
            [
             0.3333333333333333,
             "#9c179e"
            ],
            [
             0.4444444444444444,
             "#bd3786"
            ],
            [
             0.5555555555555556,
             "#d8576b"
            ],
            [
             0.6666666666666666,
             "#ed7953"
            ],
            [
             0.7777777777777778,
             "#fb9f3a"
            ],
            [
             0.8888888888888888,
             "#fdca26"
            ],
            [
             1,
             "#f0f921"
            ]
           ],
           "sequentialminus": [
            [
             0,
             "#0d0887"
            ],
            [
             0.1111111111111111,
             "#46039f"
            ],
            [
             0.2222222222222222,
             "#7201a8"
            ],
            [
             0.3333333333333333,
             "#9c179e"
            ],
            [
             0.4444444444444444,
             "#bd3786"
            ],
            [
             0.5555555555555556,
             "#d8576b"
            ],
            [
             0.6666666666666666,
             "#ed7953"
            ],
            [
             0.7777777777777778,
             "#fb9f3a"
            ],
            [
             0.8888888888888888,
             "#fdca26"
            ],
            [
             1,
             "#f0f921"
            ]
           ]
          },
          "colorway": [
           "#636efa",
           "#EF553B",
           "#00cc96",
           "#ab63fa",
           "#FFA15A",
           "#19d3f3",
           "#FF6692",
           "#B6E880",
           "#FF97FF",
           "#FECB52"
          ],
          "font": {
           "color": "#2a3f5f"
          },
          "geo": {
           "bgcolor": "white",
           "lakecolor": "white",
           "landcolor": "#E5ECF6",
           "showlakes": true,
           "showland": true,
           "subunitcolor": "white"
          },
          "hoverlabel": {
           "align": "left"
          },
          "hovermode": "closest",
          "mapbox": {
           "style": "light"
          },
          "paper_bgcolor": "white",
          "plot_bgcolor": "#E5ECF6",
          "polar": {
           "angularaxis": {
            "gridcolor": "white",
            "linecolor": "white",
            "ticks": ""
           },
           "bgcolor": "#E5ECF6",
           "radialaxis": {
            "gridcolor": "white",
            "linecolor": "white",
            "ticks": ""
           }
          },
          "scene": {
           "xaxis": {
            "backgroundcolor": "#E5ECF6",
            "gridcolor": "white",
            "gridwidth": 2,
            "linecolor": "white",
            "showbackground": true,
            "ticks": "",
            "zerolinecolor": "white"
           },
           "yaxis": {
            "backgroundcolor": "#E5ECF6",
            "gridcolor": "white",
            "gridwidth": 2,
            "linecolor": "white",
            "showbackground": true,
            "ticks": "",
            "zerolinecolor": "white"
           },
           "zaxis": {
            "backgroundcolor": "#E5ECF6",
            "gridcolor": "white",
            "gridwidth": 2,
            "linecolor": "white",
            "showbackground": true,
            "ticks": "",
            "zerolinecolor": "white"
           }
          },
          "shapedefaults": {
           "line": {
            "color": "#2a3f5f"
           }
          },
          "ternary": {
           "aaxis": {
            "gridcolor": "white",
            "linecolor": "white",
            "ticks": ""
           },
           "baxis": {
            "gridcolor": "white",
            "linecolor": "white",
            "ticks": ""
           },
           "bgcolor": "#E5ECF6",
           "caxis": {
            "gridcolor": "white",
            "linecolor": "white",
            "ticks": ""
           }
          },
          "title": {
           "x": 0.05
          },
          "xaxis": {
           "automargin": true,
           "gridcolor": "white",
           "linecolor": "white",
           "ticks": "",
           "title": {
            "standoff": 15
           },
           "zerolinecolor": "white",
           "zerolinewidth": 2
          },
          "yaxis": {
           "automargin": true,
           "gridcolor": "white",
           "linecolor": "white",
           "ticks": "",
           "title": {
            "standoff": 15
           },
           "zerolinecolor": "white",
           "zerolinewidth": 2
          }
         }
        },
        "xaxis": {
         "anchor": "y",
         "domain": [
          0,
          1
         ],
         "title": {
          "text": "value"
         }
        },
        "yaxis": {
         "anchor": "x",
         "domain": [
          0,
          1
         ],
         "title": {
          "text": "count"
         }
        }
       }
      }
     },
     "metadata": {},
     "output_type": "display_data"
    }
   ],
   "source": [
    "px.histogram(df['Likes'],nbins=500)"
   ]
  },
  {
   "cell_type": "code",
   "execution_count": 28,
   "metadata": {},
   "outputs": [
    {
     "data": {
      "application/vnd.plotly.v1+json": {
       "config": {
        "plotlyServerURL": "https://plot.ly"
       },
       "data": [
        {
         "customdata": [
          [
           "YouTube Needs to Fix This"
          ],
          [
           "The Electric Car Pre-Order Problem"
          ],
          [
           "Does Fast Charging ACTUALLY Ruin Your Battery?"
          ],
          [
           "\"The Apple Studio Display is a Bad Deal\""
          ],
          [
           "Mac Studio Review: Double Trouble!"
          ],
          [
           "iPad Air M1 Review: Don't Choose Wrong!"
          ],
          [
           "iPhone SE (2022) Review: Old Dog. New Trick."
          ],
          [
           "NEW Mac Studio & Apple Event Reactions!"
          ],
          [
           "Dope Tech: Weirdest Earbuds I've Ever Tried!"
          ],
          [
           "Galaxy Tab S8 Ultra: A Monster Tablet!"
          ],
          [
           "Galaxy S22 Ultra Review: Separating from the Pack!"
          ],
          [
           "Galaxy S22 Review: The iPhone of Android!"
          ],
          [
           "On New Cybertruck Updates from Drone Footage..."
          ],
          [
           "Galaxy S22 Ultra Impressions: It's a Note!"
          ],
          [
           "Galaxy S22 Impressions: 1 Real Downgrade!"
          ],
          [
           "An Announcement!"
          ],
          [
           "OnePlus 10 Pro Impressions: What Happened?"
          ],
          [
           "Blue Bubbles vs Green Bubbles: Explained!"
          ],
          [
           "When Tech Companies Lie to Us..."
          ],
          [
           "My Everyday Tech: 2022!"
          ],
          [
           "2022 Tech I'm Ready For!"
          ],
          [
           "Galaxy S21 FE Impressions: Great Phone, Odd Price!"
          ],
          [
           "Rewind: Best Gadgets of 2021!"
          ],
          [
           "Tech Rewind 2021!"
          ],
          [
           "Smartphone Awards 2021!"
          ],
          [
           "20 Questions with MrBeast!"
          ],
          [
           "The Blind Smartphone Camera Test 2021!"
          ],
          [
           "Oppo Find N Impressions: The Best Folding Phone?!"
          ],
          [
           "Smartphone Cameras vs Reality!"
          ],
          [
           "This Smartphone is Built Different..."
          ],
          [
           "Why Does This $10,000 Gucci Xbox Exist?"
          ],
          [
           "What is a Google Phone?! Reviewing Every Pixel/Nexus Ever!"
          ],
          [
           "Apple vs Right to Repair: Part 2!"
          ],
          [
           "Dear YouTube!"
          ],
          [
           "The Best Camera in Any Phone... With a Catch!"
          ],
          [
           "M1 Max MacBook Pro Review: Truly Next Level!"
          ],
          [
           "AirPods 3 Review: Easy Mode!"
          ],
          [
           "Pixel 6/6 Pro Review: Almost Incredible!"
          ],
          [
           "The Rivian R1T is an Incredibly Fun Electric Pickup!"
          ],
          [
           "Surface Duo 2: Can This Be Saved?"
          ],
          [
           "Pixel 6/6 Pro Unboxing & First Look!"
          ],
          [
           "NEW M1 Max MacBook Pro Reaction: The Ports are Back!"
          ],
          [
           "Apple Watch Series 7 Review: Spot the Differences!"
          ],
          [
           "Reviewing EVERY iPhone Ever!"
          ],
          [
           "Surface Laptop Studio Impressions: Windows 11 With a Twist!"
          ],
          [
           "iPhone 13 Pro Review: Better Than You Think!"
          ],
          [
           "RED V-RAPTOR Impressions: 8K 120fps!"
          ],
          [
           "iPhone 13 Review: Lowkey Great!"
          ],
          [
           "iPad Mini 2021 Review: Pocketable Power!"
          ],
          [
           "iPhone 13 Unboxing & Impressions!"
          ],
          [
           "3 Features the iPhone 13 Didn't Add!"
          ],
          [
           "iPhone 13 Event Reaction: Everything New!"
          ],
          [
           "Real Thoughts on Tech Leaks!"
          ],
          [
           "Driving 1000 Miles in 3 Cars: Gas vs Electric!"
          ],
          [
           "Samsung Z Flip 3 Review: The First Big Step!"
          ],
          [
           "The Tesla Bot: Explained!"
          ],
          [
           "Samsung Z Fold 3 Review: Let's Talk Ambition!"
          ],
          [
           "Google Pixel 5A: Spot the Difference!"
          ],
          [
           "Samsung Galaxy Z Flip 3 Impressions: Design Refresh!"
          ],
          [
           "Samsung Galaxy Z Fold 3 Impressions: 3 New Features!"
          ],
          [
           "Pixel 6's Tensor Chip: Let's Talk!"
          ],
          [
           "The Electric Hummer: Hands-On & Impressions!"
          ],
          [
           "Nothing Ear(1) Review: See Through the Hype!"
          ],
          [
           "The iPhone 13 Models!"
          ],
          [
           "Tesla Model S PLAID Impressions: Re-Inventing the Wheel!"
          ],
          [
           "How Do YouTubers Make Money? (And Other Questions We Have to Answer)"
          ],
          [
           "iPadOS 15 Review: Dropped Expectations!"
          ],
          [
           "iOS 15 Hands-On: Top 5 New Features!"
          ],
          [
           "Sony Xperia 1 III: The Ultimate Enthusiast Phone!"
          ],
          [
           "Why Everything is an Ultrabook!"
          ],
          [
           "Windows 11 Reactions: It Runs Android Apps! (Kinda)"
          ],
          [
           "Forgot About Beats by Dre?"
          ],
          [
           "Top 5 Android 12 Features: Huge Redesign!"
          ],
          [
           "Why iPhone's Features are Always \"Late\""
          ],
          [
           "When Smartphones Copy Each Other!"
          ],
          [
           "Ford F150 Lightning Impressions: Better Than I Thought!"
          ],
          [
           "Talking Tech and AI with Google CEO Sundar Pichai!"
          ],
          [
           "iPad Pro M1 Review: The Ultimate Spec Bump!"
          ],
          [
           "M1 iMac Review: Ultra Thin Design Choice!"
          ],
          [
           "What Is Right To Repair?"
          ],
          [
           "Apple vs The Paradox of Choice!"
          ],
          [
           "OnePlus Watch Review: They Settled!"
          ],
          [
           "The New Purple iPhone 12!"
          ],
          [
           "Apple AirTags Unboxing & Demo!"
          ],
          [
           "Colored iMacs? Let's Talk About Apple's 4/20 Event!"
          ],
          [
           "Retro Tech: Smart Homes"
          ],
          [
           "Retro Tech: Hyperconnectivity"
          ],
          [
           "Retro Tech: Robots"
          ],
          [
           "Retro Tech: Teleportation"
          ],
          [
           "Retro Tech: Flying Cars"
          ],
          [
           "The World's Largest Smartphone Camera!"
          ],
          [
           "Top 5 Mercedes EQS Features: Electric Luxury!"
          ],
          [
           "The Ultimate Gaming Phone!"
          ],
          [
           "Why Did LG Phones Really Die?"
          ],
          [
           "The Best Mac I've Ever Reviewed!"
          ],
          [
           "OnePlus 9 Review: Sneaky Value!"
          ],
          [
           "OnePlus 9 Pro Review: A Huge Hasselblad Promise!"
          ],
          [
           "Huawei Mate X2 Impressions: I Was Right!"
          ],
          [
           "Dope Tech: The Fastest Drone AND Car Yet!"
          ],
          [
           "The Smartphone With a Microscope Camera?!"
          ],
          [
           "ROG Phone 5 Ultimate Review: The Most Ridiculous Custom!"
          ],
          [
           "What I REALLY Think of the iPhone!"
          ],
          [
           "iPhone 13 \"Confirmed\"?! NOPE"
          ],
          [
           "Dogecoin: Explained"
          ],
          [
           "How to Upgrade a PlayStation 5!"
          ],
          [
           "Huawei Mate Xs Impressions: The Hottest Foldable!"
          ],
          [
           "Galaxy S21 Review: Would You Notice?"
          ],
          [
           "2021 Tesla Model S Refresh Reaction!"
          ],
          [
           "The Only REAL \"Pro\" Smartphone?!"
          ],
          [
           "The Invisible Selfie Camera!"
          ],
          [
           "Samsung Galaxy S21 Ultra Review: Problems Solved!"
          ],
          [
           "Xiaomi Mi 11: The New Normal!"
          ],
          [
           "Huge Apple 2021 Rumor Reactions!"
          ],
          [
           "Samsung Galaxy S21 Ultra Impressions: Redemption Time!"
          ],
          [
           "Samsung Galaxy S21 Impressions: New Year, New Price!"
          ],
          [
           "What Happened to OnePlus?"
          ],
          [
           "2021 Tech I'm Ready For!"
          ],
          [
           "Dear Electric Cars!"
          ],
          [
           "Giving Away 24 PS5s and XBox Series X!"
          ],
          [
           "Smartphone Awards 2020!"
          ],
          [
           "Some Quick Advice from Barack Obama!"
          ],
          [
           "AirPods Max Review: Luxury Listening!"
          ],
          [
           "Outer Folding Phones: It's Time to Stop!"
          ],
          [
           "The iPhone with a Piece of the Moon? The Caviar Story"
          ],
          [
           "AirPods Max Unboxing & Impressions: $550?!"
          ],
          [
           "The Portless iPhone 13: Let's Talk!"
          ],
          [
           "The $129 Smartphone?!"
          ],
          [
           "The Blind Smartphone Camera Test 2020!"
          ],
          [
           "What's in my Tech Bag! [2020]"
          ],
          [
           "The FIRST MKBHD Product: ICONS!"
          ],
          [
           "The First Folding Screen Tablet!"
          ],
          [
           "Apple M1 Mac Review: Time to Recalibrate!"
          ],
          [
           "PlayStation 5 Review: Next Gen Gaming!"
          ],
          [
           "HomePod Mini Review: Big Sound, Tiny Box!"
          ],
          [
           "Apple M1 Chip: Let's Talk!"
          ],
          [
           "iPhone 12 Pro Max Review: The Biggest Ever!"
          ],
          [
           "iPhone 12 Mini Review: Tiny Tradeoffs!"
          ],
          [
           "PlayStation 5 Controller: Major Key!"
          ],
          [
           "iPhone 12 Pro Review: You Sure About That?"
          ],
          [
           "PlayStation 5 Unboxing & Accessories!"
          ],
          [
           "iPhone 12 Review: Just Got Real!"
          ],
          [
           "Google Pixel 5 Review: Software Special!"
          ],
          [
           "Huawei Mate 40 Pro Impressions: Technically Awesome!"
          ],
          [
           "iPad Air 2020: The Real iPad Pro Killer!"
          ],
          [
           "iPhone 12 Unboxing Experience + MagSafe Demo!"
          ],
          [
           "LG Wing: The Swiveling Smartphone!"
          ],
          [
           "The $200 Smartphone?!"
          ],
          [
           "Google Pixel 5 Impressions: A New Strategy?"
          ],
          [
           "OnePlus 8T Review: The Awkward Middle Child!"
          ],
          [
           "Apple iPhone 12 Lineup Reactions!"
          ],
          [
           "Why Don't People Buy Sony Smartphones?"
          ],
          [
           "Apple Watch Series 6 Review: It's Bait!"
          ],
          [
           "The Galaxy S20 Fan Edition: Hear Me Out!"
          ],
          [
           "The Ultimate iOS 14 Homescreen Setup Guide!"
          ],
          [
           "Can You Actually Game in 8K? (RTX 3090 Gameplay!)"
          ],
          [
           "Porsche Taycan Turbo: I Almost Switched!  [Auto Focus Ep 6]"
          ],
          [
           "Xbox Series X/S Design Impressions!"
          ],
          [
           "Apple Watch Series 6: Everything New! (Product RED)"
          ],
          [
           "Talking Tech and Holograms with Mark Zuckerberg!"
          ],
          [
           "Galaxy Z Fold 2 Review: Folding King... But For What?"
          ],
          [
           "Surface Duo Review: The Good, The Bad & The Ugly!"
          ],
          [
           "Moto RAZR 2 Impressions: Nostalgia Reloaded?"
          ],
          [
           "Samsung Galaxy Z Fold 2 Unboxing: 3 Major Upgrades!"
          ],
          [
           "Surface Duo Unboxing & Impressions: Hinge Goals!"
          ],
          [
           "Samsung Galaxy Nope 20!"
          ],
          [
           "6K RED Komodo Impressions: The Mini Cine Camera!"
          ],
          [
           "Galaxy Note 20 Ultra Review: It Better Be Good!"
          ],
          [
           "Dope Tech: The iPad Pro Killer?!"
          ],
          [
           "Sony WH-1000XM4 Review: The Final Form!"
          ],
          [
           "Dope Tech: Boston Dynamics Robot Dog!"
          ],
          [
           "The Last Intel Mac VS The Osborne Effect!"
          ],
          [
           "Samsung Galaxy Note 20 Ultra Impressions: Ultra Premium!"
          ],
          [
           "Google Pixel 4a Review: Simple and Clean!"
          ],
          [
           "The TRUTH About OnePlus Nord!"
          ],
          [
           "Why Tesla Model Y is Their Most Important Car! [Auto Focus Ep 5]"
          ],
          [
           "Asus ROG Phone 3 Review: The Spec King Returns!"
          ],
          [
           "OnePlus Nord Impressions: Back to Budget!"
          ],
          [
           "Dope Tech: The Biggest Ultrawide Monitor!"
          ],
          [
           "OnePlus Nord Reveal! How Much Do Smartphones Actually Cost?"
          ],
          [
           "Can You Trust MKBHD?"
          ],
          [
           "iPhone 12: What to Expect!"
          ],
          [
           "On the iPhone 12 With No Charger..."
          ],
          [
           "Apple Responds to Your Comments!"
          ],
          [
           "iOS 14 Hands-On: Everything New!"
          ],
          [
           "WWDC 2020 Impressions: Widgets and The Great Transition!"
          ],
          [
           "Samsung Galaxy Buds Plus: The Go-To!"
          ],
          [
           "PS5 Impressions: My Thoughts!"
          ],
          [
           "The Largest Daily Driver Unboxing!"
          ],
          [
           "Top 5 Android 11 Features: Big Tweaks!"
          ],
          [
           "CyberTruck Phone Impressions... Ridiculous"
          ],
          [
           "Dope Tech:  The $3500 Bluetooth Speaker!"
          ],
          [
           "Reflecting on the Color of My Skin"
          ],
          [
           "Escobar Responds! A PSA"
          ],
          [
           "Poco F2 Pro: The Full Screen Deal!"
          ],
          [
           "How Teslas Upgrade Over Time!"
          ],
          [
           "Surface Headphones 2: Matte Black Everything!"
          ],
          [
           "The Budget Phone Blueprint!"
          ],
          [
           "The Fastest Phone of 2020!"
          ],
          [
           "The $700 Mac Pro Wheels: Explained!"
          ],
          [
           "The 2020 13\" MacBook Pro Impressions: Wait a Minute!"
          ],
          [
           "Google Pixel Buds Review: WAY Better!"
          ],
          [
           "iPhone 11 Pro Review: 6 Months Later!"
          ],
          [
           "Moto Edge+ Review: We Need to Talk!"
          ],
          [
           "World's \"FASTEST\" Gaming PC!"
          ],
          [
           "iPhone SE (2020) Review: It All Adds Up!"
          ],
          [
           "Apple Magic Keyboard: Floating iPad Pro?"
          ],
          [
           "iPhone SE (2020) Honest Thoughts..."
          ],
          [
           "OnePlus 8 Review: Special No More!"
          ],
          [
           "OnePlus 8 Pro Review: Finally a Flagship!"
          ],
          [
           "Last Video in this Studio!"
          ],
          [
           "What's On My Phone: 2020!"
          ],
          [
           "Huawei P40 Pro Impressions: What We Should Copy!"
          ],
          [
           "2020 iPad Pro Review: It's... A Computer?!"
          ],
          [
           "2020 MacBook Air Impressions: A Clean Refresh!"
          ],
          [
           "The Rollable Smartphone?"
          ],
          [
           "Samsung Galaxy S20 Review: All the Right Moves!"
          ],
          [
           "The Truth About the Escobar Folding Phone!"
          ],
          [
           "Oppo Find X2 Pro: One-Upping the Champ?"
          ],
          [
           "Samsung Galaxy S20 Ultra Review: Attack of the Numbers!"
          ],
          [
           "Xiaomi Mi Mix Alpha Impressions: The Wraparound Display!"
          ],
          [
           "The 2020 Mac Pro: A Silent Killer!"
          ],
          [
           "MKBHD Studio 2020 Build: Part 1!"
          ],
          [
           "Galaxy Z Flip vs Moto RAZR 2020: 10 Differences!"
          ],
          [
           "Samsung Galaxy Z Flip Unboxing: It's Growing on Me!"
          ],
          [
           "Talking Tech and 2020 with Bill Gates!"
          ],
          [
           "Samsung Galaxy Z Flip Impressions: Mixed Feelings!"
          ],
          [
           "Samsung Galaxy S20 Ultra Impressions: 108 Megapixels!"
          ],
          [
           "Galaxy S20 Impressions: New Year, New Samsung!"
          ],
          [
           "Foldable Moto RAZR Unboxing & Second Thoughts!"
          ],
          [
           "Are we at Peak Smartphone?"
          ],
          [
           "YouTube Diamond Play Button Review!"
          ],
          [
           "Why Everyone is Copying AirPods: Explained!"
          ],
          [
           "The MKBHD Setup Tour 2020!"
          ],
          [
           "Dope Tech of CES 2020: Sony Made a Car?!"
          ],
          [
           "OnePlus Concept One Phone: Disappearing Cameras?"
          ],
          [
           "Most Overrated Tech? 8K Ask MKBHD 2020!"
          ],
          [
           "The Banned Huawei Mate 30 Pro: Best Phone You Shouldn't Buy!"
          ],
          [
           "2020 Tech I'm Ready For!"
          ],
          [
           "The Most Expensive iPhone in the World!"
          ],
          [
           "Smartphone Awards 2019!"
          ],
          [
           "Would a Walkman work in space?"
          ],
          [
           "Dope Tech: The World's Largest 8K OLED!"
          ],
          [
           "10,000,000!"
          ],
          [
           "The Blind Smartphone Camera Test 2019!"
          ],
          [
           "Console Wars!"
          ],
          [
           "Apple Pro Display XDR: A Grand Stand?!"
          ],
          [
           "Mac Pro Unboxing & Second Impressions: The Power is Back!"
          ],
          [
           "A look inside the original Macintosh"
          ],
          [
           "Testing Real 5G: Part 2!"
          ],
          [
           "Favorite Tech of the Year Rewind Collab!"
          ],
          [
           "Analog vs. Digital Cameras"
          ],
          [
           "RETRO TECH: CAMCORDER"
          ],
          [
           "16\" MacBook Pro Review: Now Do It Again!"
          ],
          [
           "RETRO TECH: OFFICIAL TRAILER"
          ],
          [
           "Why I Ordered a Tesla CyberTruck!"
          ],
          [
           "Tesla CyberTruck Impressions & First Drive!"
          ],
          [
           "The 108-Megapixel Smartphone Camera?!"
          ],
          [
           "2020 Moto RAZR Impressions! The Return of a Folding Icon!"
          ],
          [
           "16\" Macbook Pro First Impressions!"
          ],
          [
           "iPhone 11 Pro vs Original iPhone!"
          ],
          [
           "AirPods Pro Review: Imperfectly Perfect!"
          ],
          [
           "Beats Solo Pro: Return to Excellence!"
          ],
          [
           "LG G8X Proves Foldables are Coming!"
          ],
          [
           "AirPods Pro Unboxing & Impressions!"
          ],
          [
           "Google Pixel 4 Review: Inside the Hype Machine!"
          ],
          [
           "OnePlus 7T Pro: Tiny Tweaks to Excellence!"
          ],
          [
           "Pixel 4 Impressions: Google and Gaps!"
          ],
          [
           "This Is What Happens When You Re-Upload a YouTube Video 1000 Times!"
          ],
          [
           "Apple Watch Series 5 Review: One Big Tradeoff!"
          ],
          [
           "Talking Tech & Meme Review with Will Smith!"
          ],
          [
           "Talking Tech with Microsoft CEO Satya Nadella!"
          ],
          [
           "Hands-on with Microsoft's Future Foldables!"
          ],
          [
           "2019 Microsoft Surface Family Impressions!"
          ],
          [
           "iPhone 11 Review: Too Easy!"
          ],
          [
           "OnePlus 7T Review: High Refresh, Low Price!"
          ],
          [
           "iPhone 11 Pro Review: For the Love of Cameras!"
          ],
          [
           "Unboxing Every Green iPhone 11!"
          ],
          [
           "Samsung Galaxy Fold Re-do: Everything New!"
          ],
          [
           "Asus ROG Phone 2 Review: The Spec King!"
          ],
          [
           "iPhone 11 Pro Impressions: What a Name!"
          ],
          [
           "iPhone 11 Impressions: A Familiar Sequel!"
          ],
          [
           "Dope Tech #20: Dual Screen Tech!"
          ],
          [
           "Let's Talk About Porsche Taycan!"
          ],
          [
           "Samsung Galaxy Note 10: But Why Tho?"
          ],
          [
           "Samsung Galaxy Note 10+ Review: The Favorite Child!"
          ],
          [
           "5G: Explained!"
          ],
          [
           "Introducing Waveform: The MKBHD Podcast!"
          ],
          [
           "Apple Card Unboxing & Impressions!"
          ],
          [
           "Samsung Galaxy Note 10/10+ Impressions: A Great Duo!"
          ],
          [
           "Redmi K20 Pro Review: Incredible Value!"
          ],
          [
           "The Last (and First) Folding Phone!"
          ],
          [
           "The iPhone 11 Models!"
          ],
          [
           "What's in my Tech Bag! [2019]"
          ],
          [
           "Boosted Rev: The Tesla of Electric Scooters!"
          ],
          [
           "Bose Headphones 700: The King is Back!"
          ],
          [
           "The iPad Only Challenge!"
          ],
          [
           "PowerBeats Pro Review: Better than AirPods!"
          ],
          [
           "OnePlus 7: Way Under the Radar!"
          ],
          [
           "The Dream Smartphone! (2019)"
          ],
          [
           "The Closest Thing to AirPower!"
          ],
          [
           "iPad OS Impressions: They Listened!"
          ],
          [
           "Top 5 iOS 13 Features!"
          ],
          [
           "2019 Mac Pro Impressions: Cheese Grater is Back!"
          ],
          [
           "The 2019 iPod Touch: Why Does It Exist?"
          ],
          [
           "Asus ZenFone 6: Swivel Camera Magic!"
          ],
          [
           "Google Pixel 3a Review: A for Ace!"
          ],
          [
           "The Huawei Ban: Explained!"
          ],
          [
           "OnePlus 7 Pro: What You Didn't Know!"
          ],
          [
           "Dope Tech: The Probe Lens!"
          ],
          [
           "OnePlus 7 Pro Review: Silly Fast!"
          ],
          [
           "Google Pixel 3a Impressions: Flips the Script!"
          ],
          [
           "Galaxy Fold vs Huawei Mate X? Ask MKBHD V35!"
          ],
          [
           "Samsung Galaxy Fold Review: We Gotta Talk!"
          ],
          [
           "Huawei P30 Pro Review: Optical Excellence!"
          ],
          [
           "Retro Tech: Game Boy"
          ],
          [
           "The Broken Galaxy Folds: Explained!"
          ],
          [
           "Samsung Galaxy Fold Unboxing: Magnets!"
          ],
          [
           "Samsung Galaxy Fold Impressions!"
          ],
          [
           "The MKBHD Gear Tour 2019!"
          ],
          [
           "LG G8 Review: Master of None!"
          ],
          [
           "This is Google Pixel 4 Ultra!"
          ],
          [
           "The Death of AirPower: Explained!"
          ],
          [
           "AirPods 2: Literally Everything New!"
          ],
          [
           "Huawei P30 Pro Impressions: The Ultimate Camera?"
          ],
          [
           "Top 5 Android Q Features!"
          ],
          [
           "Tesla Model Y Impressions!"
          ],
          [
           "Samsung Galaxy S10e Review: Why Not?"
          ],
          [
           "Samsung Galaxy S10+ Review: The Bar is Set!"
          ],
          [
           "OnePlus 6T Revisited: Better than Pixel 3?"
          ],
          [
           "The Galaxy S10's Incredible Display!"
          ],
          [
           "LG G8 Impressions: Can't Touch This!"
          ],
          [
           "Samsung Galaxy S10 Impressions!"
          ],
          [
           "Samsung Galaxy S10E Impressions!"
          ],
          [
           "Apollo is Back - My Tesla Repair Process!"
          ],
          [
           "via Twitter for iPhone"
          ],
          [
           "Talking Tech & Saving the World with Bill Gates!"
          ],
          [
           "What's on my Tech: 2019!"
          ],
          [
           "The Samsung Galaxy S10 Model!"
          ],
          [
           "Sony WH1000XM3 Review: A New ANC King!"
          ],
          [
           "Foldable Phones Aren't Ready (Yet)"
          ],
          [
           "Behind the Scenes of the UnboxTherapy Studio!"
          ],
          [
           "First Look at the Hole-Punch Display!"
          ],
          [
           "Riding in a Driverless Taxi at CES 2019!"
          ],
          [
           "The Rollable OLED TV: The Potential is Real!"
          ],
          [
           "Starting a Podcast? 100% Roadster? Ask MKBHD V34!"
          ],
          [
           "Xiaomi Mi Mix 3: The Ultimate Slider?"
          ],
          [
           "2019 Tech I'm Ready For!"
          ],
          [
           "My YouTube REWIND 2018!"
          ],
          [
           "Google Pixel Slate: This Ain't It Chief!"
          ],
          [
           "Smartphone Awards 2018!"
          ],
          [
           "Huawei Mate 20 Pro Review: The People's Choice!"
          ],
          [
           "The Problem with YouTube Rewind!"
          ],
          [
           "Top 5 McLaren 720S Features! [Auto Focus Ep. 4]"
          ],
          [
           "The Blind Smartphone Camera Test 2018!"
          ],
          [
           "Let's Talk About Tesla \"Killers!\""
          ],
          [
           "2018 Macbook Air Review: No Risk!"
          ],
          [
           "My Favorite Wireless Headphones | 2018!"
          ],
          [
           "RIP Apollo (for now)"
          ],
          [
           "iPad Pro Review: The Best Ever... Still an iPad!"
          ],
          [
           "iPhone XR Review: No Need to Panic!"
          ],
          [
           "Let's Talk About the Foldable Smartphone!"
          ],
          [
           "RED Hydrogen One Review: I Wanted this to be Great!"
          ],
          [
           "2019 iPad Pro Impressions: Incredibly Thin!"
          ],
          [
           "OnePlus 6T Review: New Design, Same Price!"
          ],
          [
           "My Pixel 3 Display Problem? Ask MKBHD V33!"
          ],
          [
           "RED iPhone XR Unboxing & Giveaway!"
          ],
          [
           "Google Pixel 3 XL Review: The Shadow of the Notch!"
          ],
          [
           "Huawei Mate 20 Pro Impressions: Underrated?"
          ],
          [
           "Pixel 3 XL Second Impression: Notch City!"
          ],
          [
           "Razer Phone 2 Impressions!"
          ],
          [
           "Google Pixel 3 Impressions!"
          ],
          [
           "LG V40 Impressions: 5 Cameras on a Phone?!"
          ],
          [
           "iPhone \"Gates\" Explained!"
          ],
          [
           "iPhone Xr Specs Letdown? Ask MKBHD V32!"
          ],
          [
           "Apple Watch Series 4 Review: It's About Time!"
          ],
          [
           "Apple iPhone Xs Review: A (S)mall Step Up!"
          ],
          [
           "Gold iPhone Xs Max Unboxing!"
          ],
          [
           "iPhone XR Impressions: All of the Colors!"
          ],
          [
           "iPhone Xs and iPhone Xs Max Impressions!"
          ],
          [
           "The Truth About the Pocophone F1!"
          ],
          [
           "Living with a Supercar! [Auto Focus Ep 3]"
          ],
          [
           "RED Hydrogen One Unboxing! (Houdini Edition)"
          ],
          [
           "What's in my Tech Bag! [2018]"
          ],
          [
           "Is the Pocophone F1 Phone Legit? Matte Black AirPods? Ask MKBHD V31!"
          ],
          [
           "Samsung Galaxy Note 9 Review: The Total Package!"
          ],
          [
           "Tesla Factory Tour with Elon Musk!"
          ],
          [
           "Talking Tech with Elon Musk!"
          ],
          [
           "Samsung Galaxy Note 9 Impressions: Underrated!"
          ],
          [
           "The 2019 iPhone X Models!"
          ],
          [
           "Prime Picks! - The #1 Headphones on Amazon!"
          ],
          [
           "Why I Don't Use the Pixel!"
          ],
          [
           "Asus ROG Phone Impressions!"
          ],
          [
           "i9 Macbook Pro 2018: Hottest Laptop on the Planet!"
          ],
          [
           "Naming the new iPhone X? Ask MKBHD V30!"
          ],
          [
           "Prime Picks! - The #1 Unlocked Smartphone on Amazon!"
          ],
          [
           "The Truth About Colored Smartphones!"
          ],
          [
           "Dear YouTube!"
          ],
          [
           "$2400 Headphones? Sennheiser HD 820!"
          ],
          [
           "Hot Ones is The Real Deal! Ask MKBHD V29!"
          ],
          [
           "Oppo Find X: Motorized Madness!"
          ],
          [
           "On IGTV and YouTube Competition!"
          ],
          [
           "Let's Talk About Smartphone Chins!"
          ],
          [
           "Vivo NEX S Impressions: Truly Bezelless?"
          ],
          [
           "HTC U12+ Review: A Phone With No Buttons!"
          ],
          [
           "Top 5 iOS 12 Features!"
          ],
          [
           "Top 5 WWDC 2018 Announcements!"
          ],
          [
           "Driving Lamborghini Aventador S! [Auto Focus Ep. 2]"
          ],
          [
           "OnePlus 6 Review: Right On the Money!"
          ],
          [
           "Top 5 Smartphone Cameras: The Blind Test! [2018]"
          ],
          [
           "OnePlus 6 Impressions!"
          ],
          [
           "In-Glass Fingerprint Sensor: Testing the limits!"
          ],
          [
           "Google Pixel 2 Revisited: Android P Beta!"
          ],
          [
           "Let's Talk About Google Duplex!"
          ],
          [
           "The Dream Camera? Ask MKBHD V28 with Peter McKinnon!"
          ],
          [
           "LG G7 ThinQ Impressions!"
          ],
          [
           "iPhone X Revisited: Still Worth $1000?!"
          ],
          [
           "Huawei P20 Pro Review: The Triple Camera Smartphone!"
          ],
          [
           "$750 Mini Boosted Board Impressions!"
          ],
          [
           "Thank You!"
          ],
          [
           "Pixel 3 Rumors? Ask MKBHD V27!"
          ],
          [
           "Product RED iPhone 8 Unboxing!"
          ],
          [
           "Dope Tech: Camera Robots!"
          ],
          [
           "Bixby Speaker Impressions!"
          ],
          [
           "I've Made 1000 Videos?! Ask MKBHD V26!"
          ],
          [
           "Samsung Galaxy S9 Review: The Perfect... Samsung!"
          ],
          [
           "Top 5 Android Pie Features!"
          ],
          [
           "The State of Bezels! (2018)"
          ],
          [
           "Talking Tech with Neil deGrasse Tyson!"
          ],
          [
           "The 🍎 Ecosystem: Explained!"
          ],
          [
           "18-core iMac Pro Review: Not a Trap!"
          ],
          [
           "Samsung Galaxy S9 Camera: What's New!"
          ],
          [
           "Samsung Galaxy S9 Impressions!"
          ],
          [
           "Creator of the Decade? Tech Backpack? Ask MKBHD V25!"
          ],
          [
           "The In-Glass Fingerprint Reader: Explained!"
          ],
          [
           "Apple HomePod Review: The Dumbest Smart Speaker?"
          ],
          [
           "MKBHD Merch Review 2018!"
          ],
          [
           "Dear Snapchat!"
          ],
          [
           "What's On My Phone: 2018!"
          ],
          [
           "Huawei Mate 10 Pro: The Real Deal?"
          ],
          [
           "Driving a Tesla Model 3! [Auto Focus Ep. 1]"
          ],
          [
           "Free Tesla Roadster? Ask MKBHD V24!"
          ],
          [
           "AirPods for Android?!"
          ],
          [
           "Dope Tech of CES 2018! [Part 2]"
          ],
          [
           "Dope Tech of CES 2018! [Part 1]"
          ],
          [
           "iMac Pro Setup Tour 2018!"
          ],
          [
           "New Year New MKBHD!"
          ],
          [
           "Apple Admits Slowing Down Old iPhones? Ask MKBHD V23!"
          ],
          [
           "Smartphone Awards 2017!"
          ],
          [
           "Google Home Max Review: $400 Smart Speaker?"
          ],
          [
           "iMac Pro: 1 Week Impressions!"
          ],
          [
           "Portrait Mode: Explained!"
          ],
          [
           "5 New Phone Updates + Giveaway Update!"
          ],
          [
           "The $1000 Smartphone Giveaway!"
          ],
          [
           "Tesla Roadster Flaw? iPhone XI? Ask MKBHD V22!"
          ],
          [
           "Razer Phone Review: The Real Deal!"
          ],
          [
           "Let's Talk About Tesla Roadster 2020!"
          ],
          [
           "Top 5 OnePlus 5T Features!"
          ],
          [
           "Apple iPhone X Review: The Best Yet!"
          ],
          [
           "Google Pixelbook: $1000 of Weird!"
          ],
          [
           "iPhone X vs iPhone 8: Worth the Skip?"
          ],
          [
           "Space Gray Tesla Model S Wrap!"
          ],
          [
           "Razer Phone Impressions! 120Hz!"
          ],
          [
           "Apple iPhone X Unboxing!"
          ],
          [
           "Spooky LIVE Q&A"
          ],
          [
           "Google Pixel 2 Review: This Thing is Smart!"
          ],
          [
           "Demonetized Tech Videos? Ask MKBHD V21!"
          ],
          [
           "Google Pixel 2 Unboxing! (Best Android 8.0 Features)"
          ],
          [
           "DxOMark Smartphone Ratings: Explained!"
          ],
          [
           "Google Home Mini Review: Smart Home for $49?"
          ],
          [
           "Google Pixel 2 Impressions!"
          ],
          [
           "iPhone 8 Review: Skip this Great Phone!"
          ],
          [
           "iPhone X vs iPhone 8? Ask MKBHD V20!"
          ],
          [
           "LG 77\" Wallpaper TV Unboxing [LIVE]"
          ],
          [
           "iPhone 8 Unboxing: Silver vs Gold!"
          ],
          [
           "Samsung Galaxy Note 8 Review: A $1000 Android!"
          ],
          [
           "The Road to 5,000,000! [LIVE]"
          ],
          [
           "iPhone X: Top 5 Questions Answered!"
          ],
          [
           "iPhone X Impressions & Hands On!"
          ],
          [
           "Xiaomi Mi Mix 2: The Bezel-less Sequel!"
          ],
          [
           "LG V30: Top 5 Features!"
          ],
          [
           "The Essential Phone Review: Save Your Money!"
          ],
          [
           "2017 vs Smartphone Bezels!"
          ],
          [
           "Samsung Galaxy Note 8 Impressions!"
          ],
          [
           "Essential Phone Impressions!"
          ],
          [
           "USB-C All The Things! (Pt 2)"
          ],
          [
           "Snakes in the Studio? Ask MKBHD V19!"
          ],
          [
           "The iPhone 8 Model!"
          ],
          [
           "The Voice Assistant Battle! (2017)"
          ],
          [
           "RED Hydrogen Prototype Hands-On!"
          ],
          [
           "The RED Raven Camera Kit: It's Back!"
          ],
          [
           "Tesla Model 3 Impressions!"
          ],
          [
           "Siri vs the Ads: Does It Hold Up?"
          ],
          [
           "Galaxy Note... Fan Edition? Ask MKBHD V18!"
          ],
          [
           "Nest Cam IQ: Security Camera + 4k Sensor?"
          ],
          [
           "Google Pixel 2 Rumor Roundup!"
          ],
          [
           "RED Hydrogen One Smartphone: Explained!"
          ],
          [
           "iPhone 8 Rumor Roundup!"
          ],
          [
           "HTC U11: The Squeeze Phone?!"
          ],
          [
           "Dope Tech: \"Shot on Smartphones!\""
          ],
          [
           "Starting a Vlog? OnePlus Cheating? Ask MKBHD V17!"
          ],
          [
           "OnePlus 5 Review!"
          ],
          [
           "iPad Pro 2017 (10.5\") Review!"
          ],
          [
           "Adding 140 TERABYTES to the Studio with Linus!"
          ],
          [
           "Top 5 iOS 11 Features!"
          ],
          [
           "iMac Pro: Is It A Trap?"
          ],
          [
           "Top 5 WWDC 2017 Announcements!"
          ],
          [
           "Tesla Project Loveday Contest Entry!"
          ],
          [
           "Dear Twitter!"
          ],
          [
           "$500 Drone vs $3000 Drone - DJI Spark vs Inspire 1!"
          ],
          [
           "iPhone 8 With No Ports? Ask MKBHD V16!"
          ],
          [
           "Top 5 Google I/O 2017 Recap!"
          ],
          [
           "The Dell 8K Monitor: Gaming in 8K?"
          ],
          [
           "Blackberry KEYOne: 2017 Comeback?"
          ],
          [
           "Galaxy S8 vs LG G6: MrMobile vs MKBHD!"
          ],
          [
           "Dope Tech: The 4K OLED Wallpaper TV!"
          ],
          [
           "Top 5 Android O Features!"
          ],
          [
           "Top 5 Smartphone Cameras: The Blind Test!"
          ],
          [
           "Samsung Galaxy S8 Review: The Ultimate Smartphone?"
          ],
          [
           "Bluetooth 5.0: Explained!"
          ],
          [
           "iPhone 8 Wishlist? Ask MKBHD V15!"
          ],
          [
           "Moto G5 Plus: Budget Smartphone King?"
          ],
          [
           "Dear Samsung!"
          ],
          [
           "Nokia 3310 Review: The Perfect Smartphone?!"
          ],
          [
           "Samsung Galaxy S8 Impressions!"
          ],
          [
           "Casey Neistat Studio Tour!"
          ],
          [
           "The Matte Black OnePlus 3T!"
          ],
          [
           "New RED iPhone 7 Unboxing!"
          ],
          [
           "HTC U Ultra Rant: Skip this One!"
          ],
          [
           "Who are the Sponsors? Ask MKBHD V14!"
          ],
          [
           "Inside Lucid Air: The Future of Luxury?"
          ],
          [
           "The Colored AirPods Apple Should Have Made!"
          ],
          [
           "Dear Apple! (2017)"
          ],
          [
           "Top 5 LG G6 Features!"
          ],
          [
           "Beats X Review: Best Beats Ever?"
          ],
          [
           "The State of 4K: 2017! (in 8K)"
          ],
          [
           "Tesla P100D App v3.0 Review!"
          ],
          [
           "YouTuber of the Year?! Ask MKBHD V13!"
          ],
          [
           "LG UltraFine 5K Review: 15 Million Pixels!"
          ],
          [
           "Top 5 Future Smartphone Features!"
          ],
          [
           "iPhone 7 Review: 4 Months Later!"
          ],
          [
           "My First YouTube Camera!"
          ],
          [
           "What's on my Smartphone: 2017!"
          ],
          [
           "Dope Tech: The Best Drones!"
          ],
          [
           "Faraday Future FF91 Impressions!"
          ],
          [
           "Self Driving Mercedes: Behind the Wheel!"
          ],
          [
           "Hiring People? Biased Reviews? Ask MKBHD V12!"
          ],
          [
           "USB-C ALL the Things!"
          ],
          [
           "Smartphone Awards 2016!"
          ],
          [
           "Tesla Model S Problems: My Experience!"
          ],
          [
           "Dope Tech: Custom LED Clock!"
          ],
          [
           "Apple AirPods Review: Fully Wireless!"
          ],
          [
           "Macbook Pro with Touch Bar Review! Worth it?"
          ],
          [
           "100 OnePlus 3T Giveaway! 💯"
          ],
          [
           "Dope Tech: Self Lacing Nike HyperAdapt 1.0!"
          ],
          [
           "Google Home Review: Assistant in a Box!"
          ],
          [
           "2016 MKBHD Studio Tour in 360°!"
          ],
          [
           "LG Ultrafine 5K Display Unboxing + Setup!"
          ],
          [
           "Tesla Model S P100D: The App!"
          ],
          [
           "OnePlus 3T Review: T is the new S!"
          ],
          [
           "The Google Popup Store in NYC!"
          ],
          [
           "Google Pixel Review: Best Android Smartphone!"
          ],
          [
           "First Video and Pixels: Ask MKBHD V11!"
          ],
          [
           "Jaybird X3 Review: Best Bluetooth Earbuds 2016!"
          ],
          [
           "13\" MacBook Pro 2016 Unboxing! (What's New)"
          ],
          [
           "Macbook Pro chat with Apple's Craig Federighi!"
          ],
          [
           "The Bezel-less Smartphone: Xiaomi Mi Mix!"
          ],
          [
           "Google Assistant vs Siri! (2016)"
          ],
          [
           "Tesla Model S P100D: The Options!"
          ],
          [
           "Google Pixel Unboxing! (Best Android 7.1 Features)"
          ],
          [
           "Top 5 Galaxy Note 7 Replacements!"
          ],
          [
           "Dope Tech: 8K RED Epic-W Unboxing!"
          ],
          [
           "Dope Tech: Self-Lacing Nike Mag!"
          ],
          [
           "Google Pixel Impressions!"
          ],
          [
           "LG V20: Most Underrated Phone?!"
          ],
          [
           "Samsung Galaxy Note 7 Review!"
          ],
          [
           "Tesla Model S P100D Impressions!"
          ],
          [
           "iPhone 7 Headphone Roundup!"
          ],
          [
           "iPhone 7 Unboxing: Jet Black vs Matte Black!"
          ],
          [
           "iPhone 7 Impressions: 10 New Things!"
          ],
          [
           "Hasselblad True Zoom Camera Mod!"
          ],
          [
           "Dope Tech: Boosted Board 2!"
          ],
          [
           "Android 7.0 Nougat Update!"
          ],
          [
           "How to be a YouTuber? Ask MKBHD V10!"
          ],
          [
           "ZTE Axon 7: Top Budget Smartphone?"
          ],
          [
           "The iPhone 7 Plus Model!"
          ],
          [
           "2016 Nexus Hype!"
          ],
          [
           "Samsung Galaxy Note 7 Impressions!"
          ],
          [
           "Moto Z/Force Review!"
          ],
          [
           "The DROID DOES Throwback!"
          ],
          [
           "Moto Z Impressions!"
          ],
          [
           "Dope Tech: Lightning Headphones!"
          ],
          [
           "Daily Tech: Mid 2016!"
          ],
          [
           "Bose QC35: Best Noise Cancelling Headphones?"
          ],
          [
           "Batman Edition Galaxy S7 Edge!"
          ],
          [
           "OnePlus 3 Review!"
          ],
          [
           "Top 5 Apple WWDC 2016 Recap!"
          ],
          [
           "The Rugged Galaxy S7 Active!"
          ],
          [
           "Modular Smartphones: Explained!"
          ],
          [
           "Jaybird Freedom: Best Wireless Earbuds?"
          ],
          [
           "Top 5 Google I/O 2016 Recap!"
          ],
          [
           "Ask MKBHD V9: Building a Studio!"
          ],
          [
           "Dual Camera Smartphones: Explained!"
          ],
          [
           "HTC 10 Review!"
          ],
          [
           "2016 Macbook: Rose Gold Refresh!"
          ],
          [
           "NextDesk Review: Motorized Desk!"
          ],
          [
           "Google Live Cases: Super Custom!"
          ],
          [
           "HTC 10 Impressions!"
          ],
          [
           "MKBHD Update 13.0: The Studio!"
          ],
          [
           "iPhone SE Review!"
          ],
          [
           "Samsung Galaxy S7 Edge Review!"
          ],
          [
           "Ask MKBHD V8: Tesla Model 3?!"
          ],
          [
           "Samsung Galaxy S7 Review!"
          ],
          [
           "Top 5 Android N Features! (Dev Preview)"
          ],
          [
           "Samsung Galaxy S7 Edge: Biggest Flaws!"
          ],
          [
           "Top 5 Most Overpriced Tech! (Pt 2)"
          ],
          [
           "Nextbit Robin Review: Unlimited Storage?"
          ],
          [
           "Samsung Galaxy S7 & S7 Edge Impressions!"
          ],
          [
           "What's on my Smartphone 2016!"
          ],
          [
           "AKG K702 Review: Comfy Headphones!"
          ],
          [
           "Dope Tech: Crazy Speakers!"
          ],
          [
           "Top 5 Upcoming Tech: 2016!"
          ],
          [
           "Are Tablets Dead?"
          ],
          [
           "YouTube Gear #2 | Carbon Slider!"
          ],
          [
           "iPhone 7 with no Headphone Jack?!"
          ],
          [
           "The State of 4K: Early 2016!"
          ],
          [
           "RED Raven Impressions: 4.5K!"
          ],
          [
           "Dope Tech: CES 2016!"
          ],
          [
           "Ask MKBHD V7: CES 2016!"
          ],
          [
           "MKBHD Update 12.0: Moving Out!"
          ],
          [
           "Dope Tech: Best of 2015!"
          ],
          [
           "Pick Your Smartphone Giveaway!"
          ],
          [
           "Smartphone Awards: 2015!"
          ],
          [
           "Tech of the Year: Tablets!"
          ],
          [
           "Talking Tech with Kobe Bryant!"
          ],
          [
           "Grado SR80e: Dope Budget Headphones!"
          ],
          [
           "iPhone 6s Battery Case: Explained!"
          ],
          [
           "5 Facts about the LG V10!"
          ],
          [
           "OnePlus X Review!"
          ],
          [
           "YouTube Gear #1 | Blue Yeti!"
          ],
          [
           "Sony Xperia Z5 Premium: A 4K Smartphone!"
          ],
          [
           "Blackberry Priv Review!"
          ],
          [
           "iPad Pro Second Impressions! [Apple Pencil]"
          ],
          [
           "Smartphone Camera Quality: Explained!"
          ],
          [
           "Google Nexus 5X Review!"
          ],
          [
           "Dope Tech #2: Customs!"
          ],
          [
           "OnePlus X Impressions: Super Budget!"
          ],
          [
           "Nexus 6P Review!"
          ],
          [
           "Update 11.0: MKBHD.com!"
          ],
          [
           "Nexus 6P Unboxing & Setup!"
          ],
          [
           "iPhone 6s #Chipgate: Explained!"
          ],
          [
           "Moto 360 V2 Review!"
          ],
          [
           "Dope Tech #1: Weapon!"
          ],
          [
           "iPhone 6s Review!"
          ],
          [
           "Nexus 6P & 5X Impressions!"
          ],
          [
           "Moto X Pure (2015) Review!"
          ],
          [
           "iPhone 6s & 6s Plus Unboxing & First Look!"
          ],
          [
           "Samsung Galaxy Note 5 Review!"
          ],
          [
           "iPad Pro Impressions!"
          ],
          [
           "iPhone 6s Impressions!"
          ],
          [
           "Ask MKBHD V6! 4K on a Smartphone?!"
          ],
          [
           "Moto 360 2nd Gen Impressions!"
          ],
          [
           "OnePlus 2 Review!"
          ],
          [
           "On the \"Perfect Smartphone\""
          ],
          [
           "Jaybird X2 Review: Best Bluetooth Earbuds!"
          ],
          [
           "Samsung Galaxy Note 5 Impressions! (& GS6 Edge+)"
          ],
          [
           "OnePlus 2 Unboxing & Setup!"
          ],
          [
           "Moto G 2015 Review!"
          ],
          [
           "Sony RX100 IV Review: Pocket 4K!"
          ],
          [
           "Moto X Style Impressions!"
          ],
          [
           "Five OnePlus 2 Impressions!"
          ],
          [
           "GoPro Hero 4 Session Review!"
          ],
          [
           "iPod Touch 2015 Review!"
          ],
          [
           "OnePlus 2 Camera Review!"
          ],
          [
           "Ask MKBHD V5! #HYPE"
          ],
          [
           "Top 5 Upcoming Tech! (Mid 2015)"
          ],
          [
           "MAINGEAR Shift Supercomputer: Part 1!"
          ],
          [
           "Material Design for Samsung Galaxy S6!"
          ],
          [
           "Open Back Headphones: Explained!"
          ],
          [
           "Top 5 Smartphones Under $300! (2015)"
          ],
          [
           "2015 Macbook Review!"
          ],
          [
           "Iron Man Edition Samsung Galaxy S6 Edge!"
          ],
          [
           "HTC One M9+ (& S6 Plus!)"
          ],
          [
           "Top 5 Android Marshmallow Features!"
          ],
          [
           "10 Apple Watch Questions: Answered!"
          ],
          [
           "LG G4 Review!"
          ],
          [
           "YouTube Processing: Explained!"
          ],
          [
           "Apple Watch Review!"
          ],
          [
           "Five (More) Facts About Me! (Graduation!)"
          ],
          [
           "Samsung Galaxy S6 Edge Review!"
          ],
          [
           "LG G4 Impressions!"
          ],
          [
           "Chromebook Pixel 2 Review!"
          ],
          [
           "Samsung Galaxy S6 Review!"
          ],
          [
           "Ask MKBHD V4!"
          ],
          [
           "HTC One M9 Review!"
          ],
          [
           "Oxygen OS on the OnePlus One!"
          ],
          [
           "Logitech MX Master Review!"
          ],
          [
           "Virtual Reality: Explained!"
          ],
          [
           "Giveaway: Samsung Galaxy S6 or HTC One M9! [Closed]"
          ],
          [
           "USB Type-C: Explained!"
          ],
          [
           "The New Macbook Impressions!"
          ],
          [
           "Dot View 2 Case for HTC One M9!"
          ],
          [
           "HTC One M9 Impressions!"
          ],
          [
           "Samsung Galaxy S6 Impressions!"
          ],
          [
           "Samsung Galaxy S6 Edge Impressions!"
          ],
          [
           "OnePlus One & Cyanogenmod 12!"
          ],
          [
           "Audio Technica ATH-M70X Review!"
          ],
          [
           "Dell Venue 8 7000 Review!"
          ],
          [
           "Exploring Drones with Deadmau5!"
          ],
          [
           "Fun with the BMW i8!"
          ],
          [
           "The State of 4K: Early 2015!"
          ],
          [
           "HTC One M9: What to Expect!"
          ],
          [
           "What's on my Android! (Early 2015)"
          ],
          [
           "CES 2015 Highlights!"
          ],
          [
           "BMW Tech at CES 2015!"
          ],
          [
           "Quantum Dot TVs: Explained!"
          ],
          [
           "MKBHD Update 10.4: 2015!"
          ],
          [
           "Motorola Droid Turbo Review!"
          ],
          [
           "Best Tech under $50!"
          ],
          [
           "Top 5 Wearable Tech! (Late 2014)"
          ],
          [
           "Smartphone Awards: 2014!"
          ],
          [
           "Google Nexus 9 Review!"
          ],
          [
           "MKBHD Update 10.3!"
          ],
          [
           "Google Nexus 6 Review!"
          ],
          [
           "The Dream Smartphone! (2014)"
          ],
          [
           "Apple iPad Air 2 Review!"
          ],
          [
           "Google Nexus 9 Unboxing + Hands On!"
          ],
          [
           "Google Nexus 6 Unboxing + Hands On!"
          ],
          [
           "GoPro Hero 4: Being a Dog in 4K!"
          ],
          [
           "Android 5.0 Lollipop Feature Review!"
          ],
          [
           "Samsung Galaxy Note 4 Review!"
          ],
          [
           "Apple iPhone 6+ Review!"
          ],
          [
           "Sharp Aquos Crystal - Bezelless Smartphone!"
          ],
          [
           "Nexus 6 & Nexus 9 Impressions!"
          ],
          [
           "Apple iPhone 6 Review!"
          ],
          [
           "Nexus 6 (Shamu) Thoughts!"
          ],
          [
           "Samsung Galaxy Alpha Review!"
          ],
          [
           "MKBHD Update 10.2!"
          ],
          [
           "iPhone 6 Plus #BendGate: Explained!"
          ],
          [
           "iPhone 6 Impressions!"
          ],
          [
           "Moto X (2014) Review!"
          ],
          [
           "Moto 360 Review!"
          ],
          [
           "Apple Watch Impressions!"
          ],
          [
           "Samsung Galaxy Note Edge Impressions!"
          ],
          [
           "Samsung Galaxy Note 4 Impressions!"
          ],
          [
           "The Truth About Beats by Dre!"
          ],
          [
           "What's on my Tech: 2014! (Back to School)"
          ],
          [
           "NVIDIA Shield Tablet Review!"
          ],
          [
           "Sony RX100 MKIII Review!"
          ],
          [
           "Prime Phones: Explained!"
          ],
          [
           "Android Wear Review! (Smartwatches)"
          ],
          [
           "Nexus 6 & Nexus 9 Wishlist!"
          ],
          [
           "OnePlus One: Revisited!"
          ],
          [
           "Ask MKBHD V3!"
          ],
          [
           "iPhone 6 Sapphire: Explained!"
          ],
          [
           "iPhone 6 Sapphire Crystal Display!"
          ],
          [
           "MKBHD Edition Macbook Pro! (Colorware Custom)"
          ],
          [
           "LG G3 Mass Giveaway! [CLOSED]"
          ],
          [
           "Top 5 Best Android L Features!"
          ],
          [
           "Moto 360 Impressions!"
          ],
          [
           "LG G Watch Hands-on Impressions!"
          ],
          [
           "Amazon Fire Phone: Explained!"
          ],
          [
           "LG G3 Review!"
          ],
          [
           "Samsung Galaxy Note 4 Hype!"
          ],
          [
           "LG G3 QHD Display Review!"
          ],
          [
           "iOS 8 Features & Impressions!"
          ],
          [
           "The Problem with Phone Cases!"
          ],
          [
           "MKBHD Setup Tour 2014!"
          ],
          [
           "LG G3 Impressions!"
          ],
          [
           "The iPhone 6 Model!"
          ],
          [
           "Curved TVs: Explained!"
          ],
          [
           "OnePlus One Review!"
          ],
          [
           "Ask MKBHD V2!"
          ],
          [
           "Top 5 OnePlus One Features! (Cyanogenmod 11S)"
          ],
          [
           "Top 5 Tesla Model S Features!"
          ],
          [
           "Giveaway: MKBHD Edition Nexus 5! [CLOSED]"
          ],
          [
           "OnePlus One Impressions!"
          ],
          [
           "HTC One M8 Google Play Edition Review!"
          ],
          [
           "Oppo Find 7a Review!"
          ],
          [
           "Samsung Galaxy S5 Review!"
          ],
          [
           "HTC One M8 Review!"
          ],
          [
           "The Setup Tour Project 2014!"
          ],
          [
           "HTC One M8 Dot View Case!"
          ],
          [
           "HTC One M8 Impressions!"
          ],
          [
           "Android Wear: State of Wearable Tech!"
          ],
          [
           "Ask MKBHD V1!"
          ],
          [
           "Top 5 Upcoming Smartphones! (Early 2014)"
          ],
          [
           "The State of 4K: Early 2014!"
          ],
          [
           "Samsung Galaxy S5 Impressions!"
          ],
          [
           "MKBHD Update 10.1!"
          ],
          [
           "New Mac Pro Review!"
          ],
          [
           "Audio Technica ATH-M50X Review!"
          ],
          [
           "1,000,000!"
          ],
          [
           "HTC M8: What to Expect!"
          ],
          [
           "Samsung Galaxy S5: What to Expect!"
          ],
          [
           "Bright Red Google Nexus 5!"
          ],
          [
           "Google Sells Motorola: Explained!"
          ],
          [
           "Setup Tour Project 2014!"
          ],
          [
           "Top 5 Wearable Tech! (Early 2014)"
          ],
          [
           "New Mac Pro Performance Review!"
          ],
          [
           "Samsung Galaxy Note 3: Revisited!"
          ],
          [
           "New Mac Pro Unboxing & Impressions!"
          ],
          [
           "Best Cars of CES 2014!"
          ],
          [
           "Samsung Galaxy NotePro & TabPro at CES 2014!"
          ],
          [
           "Tesla Model S at CES 2014!"
          ],
          [
           "Sony Xperia Z1S & Z1 Compact at CES 2014!"
          ],
          [
           "4K Cameras at CES 2014!"
          ],
          [
           "CES 2014 Gear Bag Tour!"
          ],
          [
           "MKBHD Update 10.0! (CES 2014)"
          ],
          [
           "Top 5 Tablets (Early 2014) Collab!"
          ],
          [
           "Nexus 5: Revisited! (What's on my Phone)"
          ],
          [
           "Top 5 Smartphones of 2013!"
          ],
          [
           "Oppo Find 7 Rant!"
          ],
          [
           "Nokia Lumia 1520 Review!"
          ],
          [
           "Google Play Editions: Explained!"
          ],
          [
           "Motorola Moto G Review!"
          ],
          [
           "Oppo N1 Review! (Cyanogenmod Phone)"
          ],
          [
           "Google Nexus 5 vs Moto X! ($350)"
          ],
          [
           "Sony PS4 vs XBox One Impressions!"
          ],
          [
           "LG G Flex Self Healing Demo!"
          ],
          [
           "Samsung Galaxy Round Review!"
          ],
          [
           "Apple iPad Air Review!"
          ],
          [
           "Google Nexus 5 Review!"
          ],
          [
           "Google Nexus 5: Black vs White!"
          ],
          [
           "How Google Now is Taking Over!"
          ],
          [
           "Top 5 Android 4.4 Kitkat Features!"
          ],
          [
           "Motorola Ara Impressions!"
          ],
          [
           "Samsung Galaxy Gear Review!"
          ],
          [
           "Sony Xperia Z1 Review!"
          ],
          [
           "Curved Display Smartphones: Explained!"
          ],
          [
           "Top 5  Best Smartphone Cameras!"
          ],
          [
           "Apple iPhone 5s Review!"
          ],
          [
           "Google Nexus 5: What to Expect!"
          ],
          [
           "Samsung Galaxy Note 3 Review!"
          ],
          [
           "Samsung Galaxy Note 3 Sizeup!"
          ],
          [
           "LG G2 Review!"
          ],
          [
           "The New Cyanogenmod!"
          ],
          [
           "Phonebloks: Explained!"
          ],
          [
           "Samsung Galaxy Note 3 Impressions!"
          ],
          [
           "Sony RX100 M2 Review!"
          ],
          [
           "Google Glass Explorer Edition: Explained!"
          ],
          [
           "5 Moto X Tips & Tricks!"
          ],
          [
           "Nokia Lumia 1020 Review!"
          ],
          [
           "Top 5 Best Headphones Under $200!"
          ],
          [
           "The Perfect Smartphone! (2013)"
          ],
          [
           "Motorola Moto X Review!"
          ],
          [
           "Nexus 7 (2013) Review!"
          ],
          [
           "Moto X Features: Explained!"
          ],
          [
           "Top 5 Android 4.3 Features!"
          ],
          [
           "Google Chromecast Review!"
          ],
          [
           "Ubuntu Edge: Explained!"
          ],
          [
           "Samsung Galaxy Note 3 Hype!"
          ],
          [
           "Giveaway: Google Edition HTC One or Galaxy S4!"
          ],
          [
           "Google Edition HTC One Review!"
          ],
          [
           "Nokia Lumia 925 Review!"
          ],
          [
           "Top 5 Fastest Discontinued Tech Products!"
          ],
          [
           "MKBHD Update 9.0!"
          ],
          [
           "13\" Macbook Air 2013 Review!"
          ],
          [
           "Samsung Galaxy Mega Review!"
          ],
          [
           "5 True Facts about Google X!"
          ],
          [
           "Where iOS 7 Features Come From!"
          ],
          [
           "2013 Mac Pro: Explained!"
          ],
          [
           "How Google is Taking Back Android!"
          ],
          [
           "What's on my Android Phone 2013!"
          ],
          [
           "Top 5 Most Overhyped Tech!"
          ],
          [
           "LG Optimus G Pro Review!"
          ],
          [
           "Beats Audio: Explained!"
          ],
          [
           "Top 10 Google I/O 2013 Announcements!"
          ],
          [
           "Google Edition Galaxy S4: Explained!"
          ],
          [
           "Motorola X-Phone Rumor Rant!"
          ],
          [
           "Samsung Galaxy S4 vs HTC One!"
          ],
          [
           "HTC One Review!"
          ],
          [
           "Samsung Galaxy S4 Review!"
          ],
          [
           "Samsung Galaxy S4 Word Game Interview!"
          ],
          [
           "Google Babel: Explained!"
          ],
          [
           "Top 5 1080p Smartphones!"
          ],
          [
           "Oppo Find 5 Project Firefly!"
          ],
          [
           "Five Facts About Me!"
          ],
          [
           "5 True Facts about Android!"
          ],
          [
           "Beyerdynamic Custom One Pro Review!"
          ],
          [
           "Top 5 Internet April Fool's Day Hoaxers!"
          ],
          [
           "HTC One \"Ultrapixel\": Explained!"
          ],
          [
           "Google Nexus 10: Revisited!"
          ],
          [
           "AT&T Predicted the Future!"
          ],
          [
           "Samsung Galaxy S4 Features: Explained!"
          ],
          [
           "Sony Xperia Z Review!"
          ],
          [
           "Top 5 NFC Features: Explained!"
          ],
          [
           "Chromebook Pixel Review!"
          ],
          [
           "Top 5 Best Built Tech!"
          ],
          [
           "Chromebook Pixel Unboxing & First Impressions!"
          ],
          [
           "The Chromebook Pixel: Explained!"
          ],
          [
           "Top 5 Most Underpriced Tech!"
          ],
          [
           "Nexus 4 & Nexus 7 Giveaway! [CLOSED]"
          ],
          [
           "Top 5 Most Overpriced Tech!"
          ],
          [
           "Oppo Find 5 Review!"
          ],
          [
           "HTC Droid DNA: Revisited!"
          ],
          [
           "Hackintosh Pro Project! [Part 5: The Finale!]"
          ],
          [
           "Hackintosh Pro Project! [Part 4: The OSX Install]"
          ],
          [
           "Hackintosh Pro Project! [Part 3: The Build]"
          ],
          [
           "Hackintosh Pro Project! [Part 2: The Parts]"
          ],
          [
           "4K Video: Explained!"
          ],
          [
           "CES 2013 Highlights!"
          ],
          [
           "Top 5 Ubuntu Phone Features: Explained!"
          ],
          [
           "Sony Xperia Z at CES 2013!"
          ],
          [
           "Huawei Ascend Mate Size Comparison at CES 2013!"
          ],
          [
           "NVIDIA Project SHIELD at CES 2013!"
          ],
          [
           "Samsung Galaxy Note 2: Revisited!"
          ],
          [
           "Using Google Now: Explained!"
          ],
          [
           "Samsung Galaxy Camera Review!"
          ],
          [
           "What's on my Android Phone 2012!"
          ],
          [
           "Hackintosh Pro Project! [Part 1]"
          ],
          [
           "Best Tablets of 2012!"
          ],
          [
           "8 Holiday Gifts for a YouTuber!"
          ],
          [
           "$600 Gaming PC Giveaway!"
          ],
          [
           "Rooting & Jailbreaking: Explained!"
          ],
          [
           "Retina Displays vs Battery Life!"
          ],
          [
           "Google Nexus 10 Review!"
          ],
          [
           "Nexus 4 vs Galaxy S3 vs Galaxy Nexus!"
          ],
          [
           "Google Nexus 4 Review!"
          ],
          [
           "iPad Mini vs Nexus 7!"
          ],
          [
           "Nexus 4 Unboxing & First Impressions!"
          ],
          [
           "LG Optimus G Review! (Nexus 4 Comparison)"
          ],
          [
           "Nexus 10 Unboxing & First Impressions!"
          ],
          [
           "Top 5 Android 4.2 Jellybean Features!"
          ],
          [
           "The SuperNexus Project!"
          ],
          [
           "MKBHD Hurricane Sandy Update!"
          ],
          [
           "Nexus 4 and Nexus 10 First Look!"
          ],
          [
           "Samsung Galaxy Camera Hands-on!"
          ],
          [
           "On Apple's New 2012 Desktops!"
          ],
          [
           "A Google Nexus Program: Explained!"
          ],
          [
           "Samsung Galaxy Note 2 vs Galaxy S3!"
          ],
          [
           "GIVEAWAY: iPhone 5 OR Galaxy Note 2!"
          ],
          [
           "Samsung Galaxy Note 2 Review!"
          ],
          [
           "Top 3 YouTube App Missing Features!"
          ],
          [
           "LG Nexus Rumors!"
          ],
          [
           "Transformer Pad Infinity gets Jellybean!"
          ],
          [
           "Top 5 Reasons Google+ is Awesome!"
          ],
          [
           "New Myspace Design: Explained!"
          ],
          [
           "The Setup Tour 2012!"
          ],
          [
           "The Super-Retina Display Smartphone!"
          ],
          [
           "The Setup Tour Project 2012!"
          ],
          [
           "Asus Zenbook Prime Review!"
          ],
          [
           "GIVEAWAY: Fastest Mac Mini in the World! [Closed]"
          ],
          [
           "The Galaxy Nexus 2 Wishlist!"
          ],
          [
           "CyanogenMod 10 on the Samsung Galaxy S3!"
          ],
          [
           "Top 3 Gadgets of Summer 2012!"
          ],
          [
           "Blackberries: Explained!"
          ],
          [
           "MKBHD Update 8.0!"
          ],
          [
           "Google Fiber: Explained!"
          ],
          [
           "Google Nexus 7 Review!"
          ],
          [
           "Top 3 Battery Saving Tips!"
          ],
          [
           "Asus Transformer Pad Infinity Review!"
          ],
          [
           "Nexus 7 First Impressions!"
          ],
          [
           "Galaxy SIII vs One X vs Galaxy Nexus!"
          ],
          [
           "GIVEAWAY: Samsung Galaxy SIII! [CLOSED]"
          ],
          [
           "Siri vs Google Voice Search!"
          ],
          [
           "Top 5 Android 4.1 Jellybean Features!"
          ],
          [
           "Top 5 Google I/O Announcements!"
          ],
          [
           "Samsung Galaxy SIII Review!"
          ],
          [
           "Samsung Galaxy SIII Impressions!"
          ],
          [
           "Top 5 Tech Myths!"
          ],
          [
           "Google Innovation at WWDC 2012!"
          ],
          [
           "4G and LTE: Explained!"
          ],
          [
           "iKey Audio M-505V2 Studio Monitors!"
          ],
          [
           "Android 5.0 Feature Wishlist!"
          ],
          [
           "Sony NEX-VG20 Review!"
          ],
          [
           "Chrome OS: Explained!"
          ],
          [
           "HTC One X Review!"
          ],
          [
           "Samsung Galaxy S III Design: Explained!"
          ],
          [
           "Transformer Pad 300 vs Transformer Prime!"
          ],
          [
           "Google Drive vs Dropbox!"
          ],
          [
           "Dear Apple!"
          ],
          [
           "Samsung Galaxy Nexus Review!"
          ],
          [
           "Google+ Re-design and WhiteSpace Rant!"
          ],
          [
           "TokyoFlash Night Vision Watch!"
          ],
          [
           "Giveaway: Audio Technica ATH-M50 Limited Edition!!"
          ],
          [
           "Google Project Glass: Explained!"
          ],
          [
           "iOS vs Android: A Google user's POV!"
          ],
          [
           "Blue Spark Microphone Review!"
          ],
          [
           "iPad 3 vs Transformer Prime!"
          ],
          [
           "The New iPad 3! [Teaser]"
          ],
          [
           "Best Audio Quality Setup: Explained!"
          ],
          [
           "Ultrabooks: Explained!"
          ],
          [
           "Asus Zenbook UX31 Review!"
          ],
          [
           "Fastest Mac Mini in the World! [Part 4] FINALE!"
          ],
          [
           "YouTuber Tip #6: Ideas!"
          ],
          [
           "Pixel Density: Explained!"
          ],
          [
           "Best iPad 3 Features!"
          ],
          [
           "Fastest Mac Mini in the World! [Part 3]"
          ],
          [
           "Asus Transformer Prime Dock!"
          ],
          [
           "Beats Pro vs Audio Technica ATH-M50!"
          ],
          [
           "Fastest Mac Mini in the World! [Part 2]"
          ],
          [
           "Chrome Beta for Android!"
          ],
          [
           "Too many Android phones? RANT"
          ],
          [
           "Cyborg RAT 7 Review!"
          ],
          [
           "The OLED TV Rant!"
          ],
          [
           "Asus Transformer Prime Review!"
          ],
          [
           "Fastest Mac Mini in the World! [Part 1]"
          ],
          [
           "Grado SR80i Review!"
          ],
          [
           "Best Galaxy Nexus Accessories!"
          ],
          [
           "Bose Companion 2 Series II Speaker Review!"
          ],
          [
           "Transformer Prime Gets Android 4.0 ICS!"
          ],
          [
           "Tour of my Nexus"
          ],
          [
           "Asus Transformer Prime First Impressions!"
          ],
          [
           "Technology in 2012"
          ],
          [
           "InSync: Dropbox for Google Docs!"
          ],
          [
           "Top 3 Battery Myths!"
          ],
          [
           "Technology of 2011: A Year in Review"
          ],
          [
           "Galaxy Nexus Camera Review"
          ],
          [
           "All About the Galaxy Nexus Display"
          ],
          [
           "Verizon Galaxy Nexus First Impressions"
          ],
          [
           "Verizon Galaxy Nexus Unboxing & First Boot!"
          ],
          [
           "Getting Inspired"
          ],
          [
           "Tour of my Tablet"
          ],
          [
           "Tour of the New Twitter"
          ],
          [
           "Verizon Galaxy Nexus RANT"
          ],
          [
           "YouTube Tech Bundle GIVEAWAY!"
          ],
          [
           "MKBHD Update 7.0"
          ],
          [
           "What is a Fisheye Lens?"
          ],
          [
           "Cyber Monday GIVEAWAY: ATH-M50 Headphones! [Closed]"
          ],
          [
           "Canon 5D MKIII Preview"
          ],
          [
           "YouTuber Tip #5: Pancakes"
          ],
          [
           "iPhone vs Android Commercials"
          ],
          [
           "Twitter Activity Tab [Review]"
          ],
          [
           "Best Free Chrome Apps!"
          ],
          [
           "Google Does a Barrel Roll"
          ],
          [
           "Top 5 Features of Android 4.0 [Ice Cream Sandwich]"
          ],
          [
           "New Chrome Web Store Review"
          ],
          [
           "Canon 24mm f/1.4 L Review"
          ],
          [
           "The Blue Snowball [Review]"
          ],
          [
           "How To Tweet!"
          ],
          [
           "The Dream Phone"
          ],
          [
           "Nexus Prime Teaser"
          ],
          [
           "How to Give an Honest Video Review"
          ],
          [
           "The DROID [Retro Review]"
          ],
          [
           "Facebook Timeline 2011: Review / Tour"
          ],
          [
           "Battery Technology Rant"
          ],
          [
           "Chrome App Tabs [Review]"
          ],
          [
           "YouTube Video Editor 2011 [Review]"
          ],
          [
           "Audio Technica ATH-M50 [Review]"
          ],
          [
           "What Phone are You?"
          ],
          [
           "Top Reasons OLED Rocks!"
          ],
          [
           "Samsung Galaxy Note Reaction"
          ],
          [
           "Blue Yeti Pro [Review]"
          ],
          [
           "MKBHD YouTube Tips | #4"
          ],
          [
           "Top Reasons the Galaxy Nexus WINS"
          ],
          [
           "The Razer Blade - Preview"
          ],
          [
           "Fat Laptops - HP 8560W Review"
          ],
          [
           "Stop It!"
          ],
          [
           "Sigma 30mm f/1.4 Review + Footage"
          ],
          [
           "New Google Chrome 15 Features"
          ],
          [
           "Favorite Web Browser?"
          ],
          [
           "IndiSLIDER Mini Deluxe [Canon T2i]"
          ],
          [
           "Top Google+ Tips and Tricks"
          ],
          [
           "MKBHD Update 6.0"
          ],
          [
           "Find your Online Reputation!"
          ],
          [
           "MKBHD YouTube Tips | #3"
          ],
          [
           "How to make a YouTube Mobile Banner [2011]"
          ],
          [
           "Optimize your HD Videos!"
          ],
          [
           "Don't buy the Verizon iPhone 4 [Yet]"
          ],
          [
           "Apple Wireless Keyboard Review"
          ],
          [
           "Android 3.0 - Honeycomb!"
          ],
          [
           "Technology of 2010 - A Year in Review"
          ],
          [
           "DSLR Video - Tips & Tricks"
          ],
          [
           "Zune HD: Revisited"
          ],
          [
           "MKBHD YouTube Tips | #1"
          ],
          [
           "GoogleTV Video Contest Entry"
          ],
          [
           "Update | YouTube Video Tips"
          ],
          [
           "GIVEAWAY: Beats By Dre Studio [Closed]"
          ],
          [
           "Chromedeck Tips and Tricks!"
          ],
          [
           "GiftYouTube / PrizeYouTube SCAM"
          ],
          [
           "Editors Keys SL150 Microphone [HD]"
          ],
          [
           "Asus UL30A-X5 | Canon T2i Video Test"
          ],
          [
           "Canon EOS Rebel T2i Unboxing"
          ],
          [
           "Review: BitFenix Survivor"
          ],
          [
           "Review: AeroWeather [HD]"
          ],
          [
           "YouTube goes Social! [Video Sharing 2010]"
          ],
          [
           "NEW YouTube Comment Sharing [November 2010]"
          ],
          [
           "iKey Audio HDR7 Dual Microphone"
          ],
          [
           "Enable Google Instant in Chrome 9 Beta"
          ],
          [
           "Review: Monster Jamz High Performance Earphones"
          ],
          [
           "NEW YouTube Video Watch Page [November 2010]"
          ],
          [
           "Review: Wiki Golf"
          ],
          [
           "Review: Azza Hurrican 2000"
          ],
          [
           "Review: iClarity HD Precision Speaker"
          ],
          [
           "Review: Editors Keys Vocal Booth"
          ],
          [
           "Beats By Dre Studio Review"
          ],
          [
           "Google TV Tour"
          ],
          [
           "Blackberry Playbook Tablet - First Look"
          ],
          [
           "#NewTwitter Parody - MKBHD Style"
          ],
          [
           "Internet Explorer 9 Beta"
          ],
          [
           "Google Chrome 7 Beta"
          ],
          [
           "iKey Audio M808-V2 Studio Monitor Review"
          ],
          [
           "Review: Altec Lansing Octane 7"
          ],
          [
           "Solar Sound 2 Speaker System Review"
          ],
          [
           "Cyber Acoustics 5.1 High Performance Speakers Review"
          ],
          [
           "Cyborg R.A.T. 7 Unboxing [HD]"
          ],
          [
           "Dell Ultrasharp 2407WFPb Unboxing and Setup"
          ],
          [
           "Beats by Dre Solo HD Review"
          ],
          [
           "New MKBHD Intro"
          ],
          [
           "Motorola Droid X 720p HD Video"
          ],
          [
           "How to Play Snake on YouTube Videos"
          ],
          [
           "Droid X Unboxing [HD]"
          ],
          [
           "MKBHD Update 6.0"
          ],
          [
           "Safari 5 Extensions [HD]"
          ],
          [
           "HD Tutorial: DestroyTwitter 2.0.2"
          ],
          [
           "YouTube Video Editor Tutorial [HD]"
          ],
          [
           "Cyborg R.A.T. Mouse Review"
          ],
          [
           "HD Tutorial: Safari 5"
          ],
          [
           "Unboxed: BlueLounge CableBox [HD]"
          ],
          [
           "Google Moderator Module"
          ],
          [
           "Unboxed: Intel X25-V 40GB SSD"
          ],
          [
           "Unboxed: Motorola Droid Desktop Stand"
          ],
          [
           "HD Tutorial: YouTube Groups [Updated]"
          ],
          [
           "HTC Droid Incredible Unboxing [HD]"
          ],
          [
           "Samson MD5 Desktop Microphone Stand [HD]"
          ],
          [
           "Freeware EVERY Geek Should Use!"
          ],
          [
           "MKBHD Search Story"
          ],
          [
           "Ultimate Frisbee Promo [HD]"
          ],
          [
           "The New YouTube [Overview in 720p HD]"
          ],
          [
           "Tweetdeck Notifications!"
          ],
          [
           "Need for Speed Most Wanted Gameplay"
          ],
          [
           "Sound Check: Editors Keys SL150 Microphone [HD]"
          ],
          [
           "Unboxed: Cyber Acoustics 2.1 Speakers [HD]"
          ],
          [
           "Unboxed: Epson NX415 [HD]"
          ],
          [
           "DealExtreme Unboxing! [HD]"
          ],
          [
           "Reviewed: uStream Producer"
          ],
          [
           "The iPad Rant"
          ],
          [
           "Windows 7 Contest [Why I Love Windows 7]"
          ],
          [
           "Unboxed: 7-Port USB Hub [HD]"
          ],
          [
           "Gateway HX2000 Unboxing [HD]"
          ],
          [
           "HD Tutorial: Matrix Screensaver"
          ],
          [
           "2010!"
          ],
          [
           "iBellix Unboxing"
          ],
          [
           "Reviewed: Motorola DROID [HD]"
          ],
          [
           "MKBHD Update 5.0"
          ],
          [
           "Entry: Gearlive HP Envy 13 Giveaway"
          ],
          [
           "12 Giveaways of Christmas! *ENDED*"
          ],
          [
           "Zune HD Hardware Review"
          ],
          [
           "Sanyo Xacti CG10 HD Footage and Photos"
          ],
          [
           "Unboxed: Sanyo Xacti CG10"
          ],
          [
           "Unboxed: HP W1707 17\" Monitor [HD]"
          ],
          [
           "The NEW Google [How to Use It]"
          ],
          [
           "Wrapsol for the Zune HD"
          ],
          [
           "Lockergnome Demo Screencast"
          ],
          [
           "Unboxed: DS International Power Saver Strip [HD]"
          ],
          [
           "1080p HD Now on Youtube!!"
          ],
          [
           "Time Lapse Video Editing"
          ],
          [
           "Update Zune HD to New Firmware [4.3] For free 3D Games!"
          ],
          [
           "gScreen Spacebook: Dualscreen Laptop!"
          ],
          [
           "IE8 Replacement: SlimBrowser Se7en"
          ],
          [
           "Unboxed: Zune HD [Black 16GB]"
          ],
          [
           "Creating a Professional Email Address"
          ],
          [
           "HD Tutorial: Desktube"
          ],
          [
           "MacBook Pro vs Alienware M17x? [Pricing]"
          ],
          [
           "Adobe Flash CS4 Demo"
          ],
          [
           "MKBHD Update 4.0"
          ],
          [
           "HD Tutorial: Edit Youtube Groups [YT 2.0]"
          ],
          [
           "Unboxed: HP Pavilion dv6t [16\" Laptop]"
          ],
          [
           "HD Tutorial: Taskbar Shuffle"
          ],
          [
           "iSkin Surprise Unboxing"
          ],
          [
           "Youtube Mega-Widescreen: 1920x960 [2:1 Aspect Ratio]"
          ],
          [
           "HD Tutorial: iTunes 9 Account - NO CREDIT CARD"
          ],
          [
           "Guess Who's BACK"
          ],
          [
           "HD Tutorial: Stack Docklets 2.0 [Windows]"
          ],
          [
           "HD Tutorial: Youtube Tags"
          ],
          [
           "Tech Channel of the Week #12"
          ],
          [
           "Google Chrome 3.0 / 4.0 Themes [HD]"
          ],
          [
           "Reviewed: DS International Flexible Keyboard [HD]"
          ],
          [
           "Tour of Youtube Annotations [HD]"
          ],
          [
           "HD Tutorial: Custom Dock Icons"
          ],
          [
           "Blu - Twitter Client for Windows [HD Installation]"
          ],
          [
           "Tweet Your Youtube Videos [HD Tutorial]"
          ],
          [
           "SEXIEST Firefox Glass!"
          ],
          [
           "How To Change Youtube Group Picture"
          ],
          [
           "Unboxed: SMALLEST Speaker ... Ever?"
          ],
          [
           "HD Tutorial: Windows 7 Calculator"
          ],
          [
           "Unboxed: iSkin Cerulean F1 + TX [HD]"
          ],
          [
           "HD Tutorial: Thunderbird Themes"
          ],
          [
           "Wrapsol Protection System Review [HD]"
          ],
          [
           "YT Messaging Glitch FIX [HD]"
          ],
          [
           "mkbHD Outro Draft"
          ],
          [
           "mkbHD Update 3.1"
          ],
          [
           "Youtube Insight 2.0 [2009]"
          ],
          [
           "HD Tutorial: Youtube Groups"
          ],
          [
           "Tech Channel of the Week #11: iMaCarly"
          ],
          [
           "Reviewed: iFrogz Custom Fallouts [HD]"
          ],
          [
           "HD Tutorial: Audio Converter [Why YOU need one]"
          ],
          [
           "Tech Channel of the Week #10: BoykoBrand"
          ],
          [
           "Youtube CENSORS Comments"
          ],
          [
           "HD Tutorial: Fission"
          ],
          [
           "Tech Channel of the Week #9: JailbrokeTouch95"
          ],
          [
           "RichardSolo Unboxing [HD]"
          ],
          [
           "HD Tutorial: Apply for a Youtube Partnership"
          ],
          [
           "Unboxed: DS International Flexible Keyboard [HD]"
          ],
          [
           "Tech Channel of the Week #8: MacintoshTipz"
          ],
          [
           "Reviewed: Griffin Elevator [HD]"
          ],
          [
           "mkbHD Update 3.0"
          ],
          [
           "HD Tutorial: Fastest Youtube Uploader"
          ],
          [
           "HD Tutorial: Video to iPod / PSP Converter"
          ],
          [
           "Tech Channel of the Week #7: TechTonicc"
          ],
          [
           "Tour of mkbHD Youtube Insight [HD]"
          ],
          [
           "Reviewed: UniBrain Fire-i Webcam"
          ],
          [
           "Youtube Update: Download your Own .mp4 Videos"
          ],
          [
           "Unboxed: Audeo PFE Headphones [HD]"
          ],
          [
           "Tech Channel of the Week #6: ComputerGeek396"
          ],
          [
           "Unboxed: Sena UltraSlim Leather Pouch [HD]"
          ],
          [
           "17\" Laptop GelaSkin Installation and Review [HD]"
          ],
          [
           "Use that Search Box!"
          ],
          [
           "Unboxed: Wrapsol Shield for LG Voyager [HD]"
          ],
          [
           "Tech Channel of the Week #5: mtpflyers"
          ],
          [
           "HD Tutorial: Edit Web Pages with Javascript"
          ],
          [
           "Reviewed: DS International Wireless Keyboard [HD]"
          ],
          [
           "Unboxed: iFrogz Earpollution Custom Fallouts [HD]"
          ],
          [
           "HD Tutorial: Skype 4.1 Beta with Screen Sharing"
          ],
          [
           "Reviewed: Solo 17\" Laptop Messenger Bag [HD]"
          ],
          [
           "Tech Channel of the Week #4: TechTechMan"
          ],
          [
           "Unboxed: Griffin Elevator [HD]"
          ],
          [
           "HD Tutorial: Google Chrome 3.0"
          ],
          [
           "Reviewed: Matias USB 2.0 Keyboard [HD]"
          ],
          [
           "ThinkGeek Unboxing [HD]"
          ],
          [
           "Tech Channel of The Week #3: Gigafide"
          ],
          [
           "Unboxed: Fire-i Digital Camera by UniBrain [HD]"
          ],
          [
           "Reviewed: iFrogz Earpollution D33 Noise Isolating Earbuds [HD]"
          ],
          [
           "HD Tutorial: Shrink + Convert Large Files"
          ],
          [
           "mkbHD Update 2.3"
          ],
          [
           "HD Tutorial: Custom Desktop Icons (Request)"
          ],
          [
           "Unboxed: DS International Wireless PC Keyboard [HD]"
          ],
          [
           "Tech Channel of the Week #2 - TheCompuGeeks"
          ],
          [
           "Unboxed: Matias USB 2.0 Keyboard [HD]"
          ],
          [
           "Reviewed: Alto-Edge GN3 Desktop Microphone [HD]"
          ],
          [
           "HD Tutorial: Safari 3 Aero (Request)"
          ],
          [
           "Unboxed: Gelaskins 17\" Laptop Skin"
          ],
          [
           "Unboxed: Solo 17\" Laptop Messenger Bag [HD]"
          ],
          [
           "HD Tutorial: Tweak VI"
          ],
          [
           "HD Tutorial: Produce any Video in 16:9 HD"
          ],
          [
           "Unboxed: iFrogz Earpollution D33s [HD]"
          ],
          [
           "Reviewed: Adjustable Laptop Stand from HandStands"
          ],
          [
           "HD Tutorial: Create Your Own Cursor"
          ],
          [
           "HD Tutorial: TweetDeck"
          ],
          [
           "Unboxed: Adjustable Laptop Stand from HandStands"
          ],
          [
           "Reviewed: ExtremePDA Case for LG Voyager [HD]"
          ],
          [
           "Tech Channel of The Week #1 - TheIpodTouchMan2K9"
          ],
          [
           "HD Tutorial: iTunes Visualizer"
          ],
          [
           "Unboxed: Alto-Edge GN3 Desktop Microphone [HD]"
          ],
          [
           "HD Tutorial: Royalty Free Music"
          ],
          [
           "HD Tutorial: Google Chrome Addons"
          ],
          [
           "Unboxed: LG Voyager Hard Shell Case from ExtremePDA"
          ],
          [
           "Update 2.2"
          ],
          [
           "HD Tutorial: Customize Office Word '07"
          ],
          [
           "3800+ Spam Messages in 30 Days (Can you beat me?)"
          ],
          [
           "HD Tutorial: PIP Effect in Camtasia Studio 6"
          ],
          [
           "LG Voyager Hardware Overview [HD]"
          ],
          [
           "HD Tutorial: Get a Character Map"
          ],
          [
           "HD Tutorial: Remove Camtasia's Green Zoom Rectangle (Request)"
          ],
          [
           "Hd Look at Micro SD Adapter (Unedited)"
          ],
          [
           "HD Tutorial: Internet Explorer 8"
          ],
          [
           "Youtube Fail"
          ],
          [
           "HD Tutorial: Explore Mars in Google Earth 5.0"
          ],
          [
           "HD Tutorial: Remove Background Noise"
          ],
          [
           "April FOO!!!"
          ],
          [
           "Protect Your PC - Conficker Worm!"
          ],
          [
           "HD Tutorial: Google Translations and Conversions"
          ],
          [
           "HP Pavilion dv7t Media Center Remote Size Comparison"
          ],
          [
           "HD Tutorial: Create A Channel Icon Using Gimp"
          ],
          [
           "Animoto Widescreen/HQ Test"
          ],
          [
           "My New Official Intro (Tutorial Coming!)"
          ],
          [
           "Hd Tutorial: Fix Registry Issues Quickly"
          ],
          [
           "HD Tutorial: Youtube Playlists"
          ],
          [
           "Gaaah! NEW Youtube Layout!"
          ],
          [
           "HD Tutorial: Callouts in Camtasia Studio 6"
          ],
          [
           "Natural Audio Enhancement?"
          ],
          [
           "HD Tutorial: Quality Wallpapers (Request)"
          ],
          [
           "Update 2.1"
          ],
          [
           "Possible Intro Video?"
          ],
          [
           "HD Tutorial: Change Video Speed in Camtasia Studio"
          ],
          [
           "Media Center Remote Part 2"
          ],
          [
           "iPhone 3Gs Software Overview"
          ],
          [
           "HD Tutorial: Dual Docks (Request)"
          ],
          [
           "HD Tutorial: Change # Of Speed Dials in Opera (Request)"
          ],
          [
           "Digital Camera Direct Upload HD/HQ Test 2"
          ],
          [
           "HD Camera Fail (AVI Format)"
          ],
          [
           "Abbreviated iPhone 3.0 Wishlist"
          ],
          [
           "HD Tutorial: Dafont - Free Fonts Online"
          ],
          [
           "Are You A Geek?"
          ],
          [
           "2009 iPod Shuffle 3G"
          ],
          [
           "Welcome to My Youtube Channel! 720p Introduction"
          ],
          [
           "HD Tutorial: Audacity"
          ],
          [
           "Update 2.0 & Inbox v1"
          ],
          [
           "HD Tutorial: Enable Advanced Disk Performance"
          ],
          [
           "2009 Mac Desktop Refresh: iMac"
          ],
          [
           "HD Tutorial: Get Safari 3.2.2 Back (Request)"
          ],
          [
           "2009 Mac Desktop Refresh: Mac Mini"
          ],
          [
           "HD Tutorial: Diskeeper Pro Premier"
          ],
          [
           "iMac and Mac Mini Refresh!"
          ],
          [
           "HD Tutorial: Tilt In Camtasia Studio 6"
          ],
          [
           "Youtube Mega-Widescreen Camtasia Studio 6 Settings"
          ],
          [
           "HD Tutorial: Firefox 3.1 Beta 2"
          ],
          [
           "HD Tutorial: Visual ToolTip for XP"
          ],
          [
           "HD Tutorial: Safari 4.0"
          ],
          [
           "HD Tutorial: Install Windows Themes (Request)"
          ],
          [
           "Update 1.1"
          ],
          [
           "HD Tutorial: CrystalXP.net"
          ],
          [
           "HD Camtasia Studio 6 Tilt Test"
          ],
          [
           "HD Tutorial: Complete Rocketdock Walkthrough"
          ],
          [
           "HD Tutorial: Watch HQ Content By Default"
          ],
          [
           "HD Tutorial: Shiny Search (Request)"
          ],
          [
           "Camtwisting with Camtasia Studio 6 (Future Tutorial!)"
          ],
          [
           "HD Tutorial: Camstudio Lossless Codec v1.4"
          ],
          [
           "HD Tutorial: DivX Codec For Camstudio (Request)"
          ],
          [
           "HD Vista Lite?"
          ],
          [
           "HD Tutorial: Change Vista Start Menu Logo"
          ],
          [
           "What does Youtube Want?"
          ],
          [
           "My Official Youtube Outro!"
          ],
          [
           "HD Tutorial: Change or Create your Gmail Theme"
          ],
          [
           "HD Tutorial: Upgrade to Skype 4 Beta"
          ],
          [
           "HD Battery Saver #5 - Hibernate"
          ],
          [
           "HD Laptop Buying Guide"
          ],
          [
           "Update 1.0 = Video 100!"
          ],
          [
           "HD Tutorial: Encode any Video in HD for Youtube"
          ],
          [
           "HD Tutorial: Camstudio Audio and Video Synchronization"
          ],
          [
           "HD Skype Review (Request)"
          ],
          [
           "New Ideas"
          ],
          [
           "HD Battery Saver #4 - Power Options"
          ],
          [
           "HD Tutorial: iTunes 9 Visualizer (Request)"
          ],
          [
           "HD Tutorial: Upgrade Safari"
          ],
          [
           "HD Tutorial: Enable Autopan in Camstudio (Request)"
          ],
          [
           "HD Tutorial: Create A Youtube Intro Video (Request)"
          ],
          [
           "HD Tutorial: Eliminate Background Tasks (Request)"
          ],
          [
           "My new Official Intro Video"
          ],
          [
           "Could Windows 7 Be a $50 Upgrade?"
          ],
          [
           "HD Tutorial: Get Windows Media Player 11 in Windows XP"
          ],
          [
           "HD Tutorial: Customizing Autoplay"
          ],
          [
           "HD Battery Saver #3 - External Devices"
          ],
          [
           "HD Battery Saver #2 - Disable Visual Effects (Aero!)"
          ],
          [
           "HD Battery Saver #1 - Defragmenting"
          ],
          [
           "HD & Zoom/Pan Test - Camtasia Studio 6"
          ],
          [
           "HD Tutorial: Customize Autofill in Safari"
          ],
          [
           "HD Benchmarking: My Internet Speed"
          ],
          [
           "HD Tutorial: Google Earth 5.0"
          ],
          [
           "HD Tutorial: The Sage's English Dictionary and Thesaurus"
          ],
          [
           "HD Review: Camstudio"
          ],
          [
           "HD Tutorial: Upgrade to iTunes 8 Plus"
          ],
          [
           "HD Tutorial: Get Free Youtube Layouts"
          ],
          [
           "HD Tutorial: Take Screenshots in Windows Vista"
          ],
          [
           "HD Tutorial: Zoom in Camstudio"
          ],
          [
           "HD Tutorial: Tweak Safari for Speed"
          ],
          [
           "HD Tutorial: Revert to Classic Windows Start Menu"
          ],
          [
           "HD Tutorial: Compatibility Mode"
          ],
          [
           "HD Tutorial: Measure your Download and Upload Speeds"
          ],
          [
           "HD Tutorial: Get Aero Shake For Vista or XP"
          ],
          [
           "HD First Look: SRWare Iron"
          ],
          [
           "HD Tutorial: Get OS X Cursors in Windows (Request)"
          ],
          [
           "HD Tutorial: Customize Command Prompt"
          ],
          [
           "HD Tutorial: Get OS X Theme on Rocket Dock"
          ],
          [
           "HD Tutorial: Offline Gmail"
          ],
          [
           "HD Tutorial: Get Old Menus Back in Vista Explorer"
          ],
          [
           "HD Tutorial: Firefox \"Superbar\""
          ],
          [
           "HD Tutorial: Start Menu Customization"
          ],
          [
           "HD Tutorial: Installing Firefox Themes"
          ],
          [
           "HD Tutorial: Get OS X Cursors in Windows"
          ],
          [
           "HD Tutorial: Mozilla Tunderbird RSS"
          ],
          [
           "HD Tutorial: Camtasia Powerpoint Integration"
          ],
          [
           "HD Test 1: Camtasia Studio 6"
          ],
          [
           "HD Tutorial: Change Rocket Dock Icons"
          ],
          [
           "HD Tutorial: Camstudio Hotkeys"
          ],
          [
           "HD Benchmark: Safari Webkit"
          ],
          [
           "HD Tutorial: Volume App"
          ],
          [
           "HD Tutorial: Sidebar Gadgets"
          ],
          [
           "HD Tutorial: Safari and Webkit Addons"
          ],
          [
           "HD Tutorial: Disable User Account Control"
          ],
          [
           "HD Tutorial: Virtual Memory"
          ],
          [
           "HD Tutorial: Eliminate Menu Show Delay"
          ],
          [
           "HD Tutorial: Boot Your Computer Faster"
          ],
          [
           "HD Tutorial: Safari 4 Webkit"
          ],
          [
           "HD Tutorial: Vistart"
          ],
          [
           "HD Tutorial: Boost your built-in microphone"
          ],
          [
           "HD Tutorial: Start Menu Shutdown Button"
          ],
          [
           "HD Tutorial: Screencasting Zoom Function"
          ],
          [
           "HD Tutorial: Justhearit!"
          ],
          [
           "HD Tutorial: Get High-Resolution Wallpapers Quickly"
          ],
          [
           "HD Tutorial: Make Internet Explorer Faster"
          ],
          [
           "HD Tutorial: Make Firefox Faster"
          ],
          [
           "HD Tutorial: Non-Ultimate Dreamscene"
          ],
          [
           "HD Tutorial: Add the \"New Tab\" button to Firefox"
          ],
          [
           "HD Tutorial: Make your own Youtube Avatar"
          ],
          [
           "HD Tutorial: Change Your Login Screen"
          ],
          [
           "HD Review: Microsoft Wireless 6000 Mouse"
          ],
          [
           "HD Example: CPU Intensive"
          ],
          [
           "HD first look: Opera 10 Alpha"
          ],
          [
           "HD Tutorial: Extended Task Manager"
          ],
          [
           "HD Tutorial: Firefox Addons"
          ],
          [
           "HD Tutorial: Fraps"
          ],
          [
           "Tutorial: Firefox Addons"
          ],
          [
           "HD Tutorial: Thunderbird Addons"
          ],
          [
           "How to Upload HD Youtube Videos"
          ],
          [
           "HD Tutorial: Aerosnap for Vista"
          ],
          [
           "Unboxed: NZXT Cryo LX [HD]"
          ],
          [
           "HQ Tutorial: Firefox Preloader"
          ],
          [
           "HQ Tutorial: Download Skype"
          ],
          [
           "MY Internet Speed!"
          ],
          [
           "HQ Tutorial: Windows 7 Calculator"
          ],
          [
           "HQ Tutorial: Safari for Windows"
          ],
          [
           "Quick Note on Speedfan"
          ],
          [
           "HQ Tutorial: Rocket Dock Application"
          ],
          [
           "Camstudio Clarity"
          ],
          [
           "Tutorial: Camstudio HQ"
          ],
          [
           "HQ Tutorial: Ccleaner"
          ],
          [
           "15 Year old Golf Swing Analysis"
          ],
          [
           "Fraps HD Test in 1080p (18 WOS)"
          ],
          [
           "HP Pavilion dv7t Media Center Remote Overview"
          ],
          [
           "High fps LG Voyager footage"
          ],
          [
           "14 Year knock-down shot (11 Handicap)"
          ],
          [
           "13-Year-Old Golf Swing Analysis"
          ]
         ],
         "hovertemplate": "Date=%{x}<br>Likes=%{y}<br>Title=%{customdata[0]}<extra></extra>",
         "legendgroup": "",
         "line": {
          "color": "#636efa",
          "dash": "solid"
         },
         "marker": {
          "symbol": "circle"
         },
         "mode": "lines",
         "name": "",
         "showlegend": false,
         "type": "scattergl",
         "x": [
          "2022-04-01T00:00:00",
          "2022-03-30T00:00:00",
          "2022-03-25T00:00:00",
          "2022-03-22T00:00:00",
          "2022-03-18T00:00:00",
          "2022-03-16T00:00:00",
          "2022-03-14T00:00:00",
          "2022-03-08T00:00:00",
          "2022-03-02T00:00:00",
          "2022-02-25T00:00:00",
          "2022-02-22T00:00:00",
          "2022-02-18T00:00:00",
          "2022-02-16T00:00:00",
          "2022-02-09T00:00:00",
          "2022-02-09T00:00:00",
          "2022-02-01T00:00:00",
          "2022-01-27T00:00:00",
          "2022-01-24T00:00:00",
          "2022-01-13T00:00:00",
          "2022-01-07T00:00:00",
          "2022-01-05T00:00:00",
          "2022-01-03T00:00:00",
          "2021-12-29T00:00:00",
          "2021-12-26T00:00:00",
          "2021-12-22T00:00:00",
          "2021-12-20T00:00:00",
          "2021-12-17T00:00:00",
          "2021-12-15T00:00:00",
          "2021-12-08T00:00:00",
          "2021-12-06T00:00:00",
          "2021-12-01T00:00:00",
          "2021-11-23T00:00:00",
          "2021-11-17T00:00:00",
          "2021-11-11T00:00:00",
          "2021-11-09T00:00:00",
          "2021-11-04T00:00:00",
          "2021-11-02T00:00:00",
          "2021-10-27T00:00:00",
          "2021-10-22T00:00:00",
          "2021-10-21T00:00:00",
          "2021-10-19T00:00:00",
          "2021-10-18T00:00:00",
          "2021-10-13T00:00:00",
          "2021-10-11T00:00:00",
          "2021-10-05T00:00:00",
          "2021-10-01T00:00:00",
          "2021-09-29T00:00:00",
          "2021-09-27T00:00:00",
          "2021-09-22T00:00:00",
          "2021-09-21T00:00:00",
          "2021-09-17T00:00:00",
          "2021-09-14T00:00:00",
          "2021-09-13T00:00:00",
          "2021-09-09T00:00:00",
          "2021-08-26T00:00:00",
          "2021-08-23T00:00:00",
          "2021-08-20T00:00:00",
          "2021-08-17T00:00:00",
          "2021-08-11T00:00:00",
          "2021-08-11T00:00:00",
          "2021-08-02T00:00:00",
          "2021-07-30T00:00:00",
          "2021-07-29T00:00:00",
          "2021-07-26T00:00:00",
          "2021-07-22T00:00:00",
          "2021-07-16T00:00:00",
          "2021-07-07T00:00:00",
          "2021-07-02T00:00:00",
          "2021-07-01T00:00:00",
          "2021-06-30T00:00:00",
          "2021-06-24T00:00:00",
          "2021-06-17T00:00:00",
          "2021-06-13T00:00:00",
          "2021-06-08T00:00:00",
          "2021-06-02T00:00:00",
          "2021-05-27T00:00:00",
          "2021-05-21T00:00:00",
          "2021-05-19T00:00:00",
          "2021-05-18T00:00:00",
          "2021-05-07T00:00:00",
          "2021-04-29T00:00:00",
          "2021-04-26T00:00:00",
          "2021-04-23T00:00:00",
          "2021-04-22T00:00:00",
          "2021-04-20T00:00:00",
          "2021-04-17T00:00:00",
          "2021-04-16T00:00:00",
          "2021-04-15T00:00:00",
          "2021-04-14T00:00:00",
          "2021-04-13T00:00:00",
          "2021-04-12T00:00:00",
          "2021-04-11T00:00:00",
          "2021-04-08T00:00:00",
          "2021-04-06T00:00:00",
          "2021-04-01T00:00:00",
          "2021-03-24T00:00:00",
          "2021-03-23T00:00:00",
          "2021-03-18T00:00:00",
          "2021-03-16T00:00:00",
          "2021-03-12T00:00:00",
          "2021-03-10T00:00:00",
          "2021-03-05T00:00:00",
          "2021-02-26T00:00:00",
          "2021-02-15T00:00:00",
          "2021-02-12T00:00:00",
          "2021-02-05T00:00:00",
          "2021-02-02T00:00:00",
          "2021-01-28T00:00:00",
          "2021-01-27T00:00:00",
          "2021-01-25T00:00:00",
          "2021-01-21T00:00:00",
          "2021-01-19T00:00:00",
          "2021-01-17T00:00:00",
          "2021-01-14T00:00:00",
          "2021-01-14T00:00:00",
          "2021-01-12T00:00:00",
          "2020-12-31T00:00:00",
          "2020-12-28T00:00:00",
          "2020-12-25T00:00:00",
          "2020-12-23T00:00:00",
          "2020-12-16T00:00:00",
          "2020-12-15T00:00:00",
          "2020-12-14T00:00:00",
          "2020-12-11T00:00:00",
          "2020-12-10T00:00:00",
          "2020-12-07T00:00:00",
          "2020-12-04T00:00:00",
          "2020-12-02T00:00:00",
          "2020-11-30T00:00:00",
          "2020-11-27T00:00:00",
          "2020-11-24T00:00:00",
          "2020-11-17T00:00:00",
          "2020-11-14T00:00:00",
          "2020-11-12T00:00:00",
          "2020-11-10T00:00:00",
          "2020-11-09T00:00:00",
          "2020-11-09T00:00:00",
          "2020-10-31T00:00:00",
          "2020-10-29T00:00:00",
          "2020-10-27T00:00:00",
          "2020-10-25T00:00:00",
          "2020-10-23T00:00:00",
          "2020-10-22T00:00:00",
          "2020-10-21T00:00:00",
          "2020-10-20T00:00:00",
          "2020-10-16T00:00:00",
          "2020-10-15T00:00:00",
          "2020-10-14T00:00:00",
          "2020-10-14T00:00:00",
          "2020-10-13T00:00:00",
          "2020-10-05T00:00:00",
          "2020-10-02T00:00:00",
          "2020-09-28T00:00:00",
          "2020-09-24T00:00:00",
          "2020-09-22T00:00:00",
          "2020-09-21T00:00:00",
          "2020-09-18T00:00:00",
          "2020-09-17T00:00:00",
          "2020-09-16T00:00:00",
          "2020-09-12T00:00:00",
          "2020-09-10T00:00:00",
          "2020-09-09T00:00:00",
          "2020-09-02T00:00:00",
          "2020-08-26T00:00:00",
          "2020-08-25T00:00:00",
          "2020-08-21T00:00:00",
          "2020-08-18T00:00:00",
          "2020-08-17T00:00:00",
          "2020-08-13T00:00:00",
          "2020-08-10T00:00:00",
          "2020-08-06T00:00:00",
          "2020-08-05T00:00:00",
          "2020-08-03T00:00:00",
          "2020-07-27T00:00:00",
          "2020-07-24T00:00:00",
          "2020-07-22T00:00:00",
          "2020-07-21T00:00:00",
          "2020-07-18T00:00:00",
          "2020-07-14T00:00:00",
          "2020-07-09T00:00:00",
          "2020-07-06T00:00:00",
          "2020-07-01T00:00:00",
          "2020-06-26T00:00:00",
          "2020-06-23T00:00:00",
          "2020-06-22T00:00:00",
          "2020-06-19T00:00:00",
          "2020-06-17T00:00:00",
          "2020-06-16T00:00:00",
          "2020-06-15T00:00:00",
          "2020-06-11T00:00:00",
          "2020-06-09T00:00:00",
          "2020-06-04T00:00:00",
          "2020-05-29T00:00:00",
          "2020-05-26T00:00:00",
          "2020-05-22T00:00:00",
          "2020-05-19T00:00:00",
          "2020-05-15T00:00:00",
          "2020-05-13T00:00:00",
          "2020-05-09T00:00:00",
          "2020-05-07T00:00:00",
          "2020-05-05T00:00:00",
          "2020-05-02T00:00:00",
          "2020-04-30T00:00:00",
          "2020-04-27T00:00:00",
          "2020-04-22T00:00:00",
          "2020-04-20T00:00:00",
          "2020-04-17T00:00:00",
          "2020-04-16T00:00:00",
          "2020-04-14T00:00:00",
          "2020-04-06T00:00:00",
          "2020-03-28T00:00:00",
          "2020-03-26T00:00:00",
          "2020-03-24T00:00:00",
          "2020-03-20T00:00:00",
          "2020-03-16T00:00:00",
          "2020-03-14T00:00:00",
          "2020-03-10T00:00:00",
          "2020-03-06T00:00:00",
          "2020-03-02T00:00:00",
          "2020-02-28T00:00:00",
          "2020-02-25T00:00:00",
          "2020-02-23T00:00:00",
          "2020-02-21T00:00:00",
          "2020-02-19T00:00:00",
          "2020-02-14T00:00:00",
          "2020-02-11T00:00:00",
          "2020-02-11T00:00:00",
          "2020-02-11T00:00:00",
          "2020-02-10T00:00:00",
          "2020-01-31T00:00:00",
          "2020-01-25T00:00:00",
          "2020-01-15T00:00:00",
          "2020-01-13T00:00:00",
          "2020-01-09T00:00:00",
          "2020-01-07T00:00:00",
          "2020-01-05T00:00:00",
          "2020-01-02T00:00:00",
          "2019-12-30T00:00:00",
          "2019-12-26T00:00:00",
          "2019-12-23T00:00:00",
          "2019-12-23T00:00:00",
          "2019-12-21T00:00:00",
          "2019-12-18T00:00:00",
          "2019-12-16T00:00:00",
          "2019-12-16T00:00:00",
          "2019-12-12T00:00:00",
          "2019-12-10T00:00:00",
          "2019-12-09T00:00:00",
          "2019-12-05T00:00:00",
          "2019-12-03T00:00:00",
          "2019-12-02T00:00:00",
          "2019-12-02T00:00:00",
          "2019-11-27T00:00:00",
          "2019-11-25T00:00:00",
          "2019-11-23T00:00:00",
          "2019-11-22T00:00:00",
          "2019-11-19T00:00:00",
          "2019-11-14T00:00:00",
          "2019-11-13T00:00:00",
          "2019-11-07T00:00:00",
          "2019-11-04T00:00:00",
          "2019-11-01T00:00:00",
          "2019-10-31T00:00:00",
          "2019-10-29T00:00:00",
          "2019-10-21T00:00:00",
          "2019-10-17T00:00:00",
          "2019-10-15T00:00:00",
          "2019-10-11T00:00:00",
          "2019-10-09T00:00:00",
          "2019-10-07T00:00:00",
          "2019-10-03T00:00:00",
          "2019-10-02T00:00:00",
          "2019-10-02T00:00:00",
          "2019-09-30T00:00:00",
          "2019-09-26T00:00:00",
          "2019-09-19T00:00:00",
          "2019-09-17T00:00:00",
          "2019-09-15T00:00:00",
          "2019-09-13T00:00:00",
          "2019-09-11T00:00:00",
          "2019-09-10T00:00:00",
          "2019-09-06T00:00:00",
          "2019-09-04T00:00:00",
          "2019-08-26T00:00:00",
          "2019-08-22T00:00:00",
          "2019-08-19T00:00:00",
          "2019-08-13T00:00:00",
          "2019-08-09T00:00:00",
          "2019-08-07T00:00:00",
          "2019-07-26T00:00:00",
          "2019-07-20T00:00:00",
          "2019-07-16T00:00:00",
          "2019-07-15T00:00:00",
          "2019-07-11T00:00:00",
          "2019-07-02T00:00:00",
          "2019-06-28T00:00:00",
          "2019-06-26T00:00:00",
          "2019-06-21T00:00:00",
          "2019-06-17T00:00:00",
          "2019-06-11T00:00:00",
          "2019-06-07T00:00:00",
          "2019-06-05T00:00:00",
          "2019-06-03T00:00:00",
          "2019-05-31T00:00:00",
          "2019-05-29T00:00:00",
          "2019-05-24T00:00:00",
          "2019-05-21T00:00:00",
          "2019-05-20T00:00:00",
          "2019-05-16T00:00:00",
          "2019-05-14T00:00:00",
          "2019-05-08T00:00:00",
          "2019-04-30T00:00:00",
          "2019-04-26T00:00:00",
          "2019-04-24T00:00:00",
          "2019-04-19T00:00:00",
          "2019-04-18T00:00:00",
          "2019-04-16T00:00:00",
          "2019-04-15T00:00:00",
          "2019-04-12T00:00:00",
          "2019-04-09T00:00:00",
          "2019-04-01T00:00:00",
          "2019-03-29T00:00:00",
          "2019-03-26T00:00:00",
          "2019-03-26T00:00:00",
          "2019-03-18T00:00:00",
          "2019-03-15T00:00:00",
          "2019-03-12T00:00:00",
          "2019-03-06T00:00:00",
          "2019-03-01T00:00:00",
          "2019-02-26T00:00:00",
          "2019-02-24T00:00:00",
          "2019-02-20T00:00:00",
          "2019-02-20T00:00:00",
          "2019-02-15T00:00:00",
          "2019-02-13T00:00:00",
          "2019-02-12T00:00:00",
          "2019-02-07T00:00:00",
          "2019-02-04T00:00:00",
          "2019-02-01T00:00:00",
          "2019-01-28T00:00:00",
          "2019-01-26T00:00:00",
          "2019-01-15T00:00:00",
          "2019-01-11T00:00:00",
          "2019-01-09T00:00:00",
          "2019-01-07T00:00:00",
          "2019-01-03T00:00:00",
          "2019-01-01T00:00:00",
          "2018-12-23T00:00:00",
          "2018-12-21T00:00:00",
          "2018-12-18T00:00:00",
          "2018-12-15T00:00:00",
          "2018-12-12T00:00:00",
          "2018-12-11T00:00:00",
          "2018-12-03T00:00:00",
          "2018-11-30T00:00:00",
          "2018-11-28T00:00:00",
          "2018-11-21T00:00:00",
          "2018-11-19T00:00:00",
          "2018-11-14T00:00:00",
          "2018-11-12T00:00:00",
          "2018-11-08T00:00:00",
          "2018-11-02T00:00:00",
          "2018-10-30T00:00:00",
          "2018-10-29T00:00:00",
          "2018-10-24T00:00:00",
          "2018-10-23T00:00:00",
          "2018-10-19T00:00:00",
          "2018-10-16T00:00:00",
          "2018-10-11T00:00:00",
          "2018-10-10T00:00:00",
          "2018-10-09T00:00:00",
          "2018-10-03T00:00:00",
          "2018-10-01T00:00:00",
          "2018-09-26T00:00:00",
          "2018-09-20T00:00:00",
          "2018-09-18T00:00:00",
          "2018-09-18T00:00:00",
          "2018-09-13T00:00:00",
          "2018-09-12T00:00:00",
          "2018-09-10T00:00:00",
          "2018-09-05T00:00:00",
          "2018-08-31T00:00:00",
          "2018-08-27T00:00:00",
          "2018-08-24T00:00:00",
          "2018-08-22T00:00:00",
          "2018-08-20T00:00:00",
          "2018-08-17T00:00:00",
          "2018-08-09T00:00:00",
          "2018-08-07T00:00:00",
          "2018-08-03T00:00:00",
          "2018-08-01T00:00:00",
          "2018-07-25T00:00:00",
          "2018-07-20T00:00:00",
          "2018-07-16T00:00:00",
          "2018-07-13T00:00:00",
          "2018-07-05T00:00:00",
          "2018-06-29T00:00:00",
          "2018-06-27T00:00:00",
          "2018-06-25T00:00:00",
          "2018-06-22T00:00:00",
          "2018-06-20T00:00:00",
          "2018-06-19T00:00:00",
          "2018-06-15T00:00:00",
          "2018-06-12T00:00:00",
          "2018-06-07T00:00:00",
          "2018-06-05T00:00:00",
          "2018-06-01T00:00:00",
          "2018-05-25T00:00:00",
          "2018-05-21T00:00:00",
          "2018-05-16T00:00:00",
          "2018-05-14T00:00:00",
          "2018-05-11T00:00:00",
          "2018-05-09T00:00:00",
          "2018-05-07T00:00:00",
          "2018-05-02T00:00:00",
          "2018-04-27T00:00:00",
          "2018-04-23T00:00:00",
          "2018-04-17T00:00:00",
          "2018-04-16T00:00:00",
          "2018-04-13T00:00:00",
          "2018-04-10T00:00:00",
          "2018-04-03T00:00:00",
          "2018-04-01T00:00:00",
          "2018-03-29T00:00:00",
          "2018-03-19T00:00:00",
          "2018-03-16T00:00:00",
          "2018-03-13T00:00:00",
          "2018-03-09T00:00:00",
          "2018-03-07T00:00:00",
          "2018-03-02T00:00:00",
          "2018-02-28T00:00:00",
          "2018-02-25T00:00:00",
          "2018-02-22T00:00:00",
          "2018-02-20T00:00:00",
          "2018-02-16T00:00:00",
          "2018-02-13T00:00:00",
          "2018-02-08T00:00:00",
          "2018-02-05T00:00:00",
          "2018-02-03T00:00:00",
          "2018-01-30T00:00:00",
          "2018-01-23T00:00:00",
          "2018-01-18T00:00:00",
          "2018-01-13T00:00:00",
          "2018-01-10T00:00:00",
          "2018-01-04T00:00:00",
          "2018-01-02T00:00:00",
          "2017-12-23T00:00:00",
          "2017-12-19T00:00:00",
          "2017-12-14T00:00:00",
          "2017-12-12T00:00:00",
          "2017-12-06T00:00:00",
          "2017-11-29T00:00:00",
          "2017-11-27T00:00:00",
          "2017-11-23T00:00:00",
          "2017-11-21T00:00:00",
          "2017-11-17T00:00:00",
          "2017-11-16T00:00:00",
          "2017-11-14T00:00:00",
          "2017-11-09T00:00:00",
          "2017-11-04T00:00:00",
          "2017-11-02T00:00:00",
          "2017-11-01T00:00:00",
          "2017-10-31T00:00:00",
          "2017-10-26T00:00:00",
          "2017-10-23T00:00:00",
          "2017-10-18T00:00:00",
          "2017-10-17T00:00:00",
          "2017-10-12T00:00:00",
          "2017-10-09T00:00:00",
          "2017-10-04T00:00:00",
          "2017-09-29T00:00:00",
          "2017-09-26T00:00:00",
          "2017-09-25T00:00:00",
          "2017-09-21T00:00:00",
          "2017-09-20T00:00:00",
          "2017-09-15T00:00:00",
          "2017-09-14T00:00:00",
          "2017-09-12T00:00:00",
          "2017-09-11T00:00:00",
          "2017-09-01T00:00:00",
          "2017-08-30T00:00:00",
          "2017-08-28T00:00:00",
          "2017-08-23T00:00:00",
          "2017-08-22T00:00:00",
          "2017-08-16T00:00:00",
          "2017-08-10T00:00:00",
          "2017-08-07T00:00:00",
          "2017-08-04T00:00:00",
          "2017-08-02T00:00:00",
          "2017-08-01T00:00:00",
          "2017-07-31T00:00:00",
          "2017-07-24T00:00:00",
          "2017-07-18T00:00:00",
          "2017-07-15T00:00:00",
          "2017-07-13T00:00:00",
          "2017-07-10T00:00:00",
          "2017-07-03T00:00:00",
          "2017-06-30T00:00:00",
          "2017-06-28T00:00:00",
          "2017-06-23T00:00:00",
          "2017-06-20T00:00:00",
          "2017-06-15T00:00:00",
          "2017-06-13T00:00:00",
          "2017-06-09T00:00:00",
          "2017-06-08T00:00:00",
          "2017-06-06T00:00:00",
          "2017-06-02T00:00:00",
          "2017-05-26T00:00:00",
          "2017-05-24T00:00:00",
          "2017-05-22T00:00:00",
          "2017-05-18T00:00:00",
          "2017-05-15T00:00:00",
          "2017-05-10T00:00:00",
          "2017-05-05T00:00:00",
          "2017-05-01T00:00:00",
          "2017-04-27T00:00:00",
          "2017-04-25T00:00:00",
          "2017-04-18T00:00:00",
          "2017-04-18T00:00:00",
          "2017-04-13T00:00:00",
          "2017-04-10T00:00:00",
          "2017-04-05T00:00:00",
          "2017-04-01T00:00:00",
          "2017-03-29T00:00:00",
          "2017-03-24T00:00:00",
          "2017-03-22T00:00:00",
          "2017-03-21T00:00:00",
          "2017-03-16T00:00:00",
          "2017-03-13T00:00:00",
          "2017-03-09T00:00:00",
          "2017-03-03T00:00:00",
          "2017-03-01T00:00:00",
          "2017-02-27T00:00:00",
          "2017-02-22T00:00:00",
          "2017-02-16T00:00:00",
          "2017-02-11T00:00:00",
          "2017-02-10T00:00:00",
          "2017-02-06T00:00:00",
          "2017-02-01T00:00:00",
          "2017-01-28T00:00:00",
          "2017-01-25T00:00:00",
          "2017-01-20T00:00:00",
          "2017-01-18T00:00:00",
          "2017-01-06T00:00:00",
          "2017-01-04T00:00:00",
          "2017-01-03T00:00:00",
          "2016-12-30T00:00:00",
          "2016-12-22T00:00:00",
          "2016-12-19T00:00:00",
          "2016-12-17T00:00:00",
          "2016-12-15T00:00:00",
          "2016-12-13T00:00:00",
          "2016-12-05T00:00:00",
          "2016-12-01T00:00:00",
          "2016-11-29T00:00:00",
          "2016-11-25T00:00:00",
          "2016-11-23T00:00:00",
          "2016-11-22T00:00:00",
          "2016-11-21T00:00:00",
          "2016-11-17T00:00:00",
          "2016-11-13T00:00:00",
          "2016-11-04T00:00:00",
          "2016-11-02T00:00:00",
          "2016-10-28T00:00:00",
          "2016-10-27T00:00:00",
          "2016-10-25T00:00:00",
          "2016-10-21T00:00:00",
          "2016-10-19T00:00:00",
          "2016-10-18T00:00:00",
          "2016-10-12T00:00:00",
          "2016-10-11T00:00:00",
          "2016-10-07T00:00:00",
          "2016-10-04T00:00:00",
          "2016-10-02T00:00:00",
          "2016-09-26T00:00:00",
          "2016-09-23T00:00:00",
          "2016-09-18T00:00:00",
          "2016-09-14T00:00:00",
          "2016-09-07T00:00:00",
          "2016-09-05T00:00:00",
          "2016-08-30T00:00:00",
          "2016-08-23T00:00:00",
          "2016-08-22T00:00:00",
          "2016-08-16T00:00:00",
          "2016-08-12T00:00:00",
          "2016-08-10T00:00:00",
          "2016-08-02T00:00:00",
          "2016-07-29T00:00:00",
          "2016-07-19T00:00:00",
          "2016-07-15T00:00:00",
          "2016-07-13T00:00:00",
          "2016-07-11T00:00:00",
          "2016-06-29T00:00:00",
          "2016-06-24T00:00:00",
          "2016-06-14T00:00:00",
          "2016-06-13T00:00:00",
          "2016-06-06T00:00:00",
          "2016-06-03T00:00:00",
          "2016-05-30T00:00:00",
          "2016-05-19T00:00:00",
          "2016-05-13T00:00:00",
          "2016-05-03T00:00:00",
          "2016-04-29T00:00:00",
          "2016-04-21T00:00:00",
          "2016-04-20T00:00:00",
          "2016-04-14T00:00:00",
          "2016-04-12T00:00:00",
          "2016-04-07T00:00:00",
          "2016-04-04T00:00:00",
          "2016-03-28T00:00:00",
          "2016-03-19T00:00:00",
          "2016-03-17T00:00:00",
          "2016-03-10T00:00:00",
          "2016-03-09T00:00:00",
          "2016-03-02T00:00:00",
          "2016-02-26T00:00:00",
          "2016-02-22T00:00:00",
          "2016-02-20T00:00:00",
          "2016-02-16T00:00:00",
          "2016-02-11T00:00:00",
          "2016-02-07T00:00:00",
          "2016-02-03T00:00:00",
          "2016-01-28T00:00:00",
          "2016-01-23T00:00:00",
          "2016-01-20T00:00:00",
          "2016-01-09T00:00:00",
          "2016-01-08T00:00:00",
          "2016-01-04T00:00:00",
          "2016-01-01T00:00:00",
          "2015-12-29T00:00:00",
          "2015-12-20T00:00:00",
          "2015-12-18T00:00:00",
          "2015-12-16T00:00:00",
          "2015-12-14T00:00:00",
          "2015-12-11T00:00:00",
          "2015-12-08T00:00:00",
          "2015-12-06T00:00:00",
          "2015-12-01T00:00:00",
          "2015-11-26T00:00:00",
          "2015-11-23T00:00:00",
          "2015-11-19T00:00:00",
          "2015-11-14T00:00:00",
          "2015-11-12T00:00:00",
          "2015-11-06T00:00:00",
          "2015-11-02T00:00:00",
          "2015-10-29T00:00:00",
          "2015-10-26T00:00:00",
          "2015-10-21T00:00:00",
          "2015-10-19T00:00:00",
          "2015-10-15T00:00:00",
          "2015-10-12T00:00:00",
          "2015-10-08T00:00:00",
          "2015-10-02T00:00:00",
          "2015-09-29T00:00:00",
          "2015-09-25T00:00:00",
          "2015-09-22T00:00:00",
          "2015-09-17T00:00:00",
          "2015-09-09T00:00:00",
          "2015-09-09T00:00:00",
          "2015-09-07T00:00:00",
          "2015-09-02T00:00:00",
          "2015-08-28T00:00:00",
          "2015-08-23T00:00:00",
          "2015-08-18T00:00:00",
          "2015-08-13T00:00:00",
          "2015-08-11T00:00:00",
          "2015-08-07T00:00:00",
          "2015-08-05T00:00:00",
          "2015-07-28T00:00:00",
          "2015-07-27T00:00:00",
          "2015-07-24T00:00:00",
          "2015-07-17T00:00:00",
          "2015-07-14T00:00:00",
          "2015-07-09T00:00:00",
          "2015-07-03T00:00:00",
          "2015-06-30T00:00:00",
          "2015-06-25T00:00:00",
          "2015-06-24T00:00:00",
          "2015-06-16T00:00:00",
          "2015-06-11T00:00:00",
          "2015-06-05T00:00:00",
          "2015-06-03T00:00:00",
          "2015-05-29T00:00:00",
          "2015-05-27T00:00:00",
          "2015-05-23T00:00:00",
          "2015-05-18T00:00:00",
          "2015-05-14T00:00:00",
          "2015-05-11T00:00:00",
          "2015-05-03T00:00:00",
          "2015-04-28T00:00:00",
          "2015-04-24T00:00:00",
          "2015-04-21T00:00:00",
          "2015-04-15T00:00:00",
          "2015-04-08T00:00:00",
          "2015-04-04T00:00:00",
          "2015-03-31T00:00:00",
          "2015-03-27T00:00:00",
          "2015-03-23T00:00:00",
          "2015-03-12T00:00:00",
          "2015-03-09T00:00:00",
          "2015-03-06T00:00:00",
          "2015-03-02T00:00:00",
          "2015-03-01T00:00:00",
          "2015-03-01T00:00:00",
          "2015-02-24T00:00:00",
          "2015-02-17T00:00:00",
          "2015-02-13T00:00:00",
          "2015-02-10T00:00:00",
          "2015-02-01T00:00:00",
          "2015-01-26T00:00:00",
          "2015-01-24T00:00:00",
          "2015-01-19T00:00:00",
          "2015-01-14T00:00:00",
          "2015-01-11T00:00:00",
          "2015-01-08T00:00:00",
          "2015-01-01T00:00:00",
          "2014-12-23T00:00:00",
          "2014-12-17T00:00:00",
          "2014-12-14T00:00:00",
          "2014-12-07T00:00:00",
          "2014-12-01T00:00:00",
          "2014-11-20T00:00:00",
          "2014-11-15T00:00:00",
          "2014-11-12T00:00:00",
          "2014-11-11T00:00:00",
          "2014-11-05T00:00:00",
          "2014-11-04T00:00:00",
          "2014-11-01T00:00:00",
          "2014-10-27T00:00:00",
          "2014-10-24T00:00:00",
          "2014-10-20T00:00:00",
          "2014-10-17T00:00:00",
          "2014-10-15T00:00:00",
          "2014-10-09T00:00:00",
          "2014-10-05T00:00:00",
          "2014-10-01T00:00:00",
          "2014-09-26T00:00:00",
          "2014-09-24T00:00:00",
          "2014-09-19T00:00:00",
          "2014-09-18T00:00:00",
          "2014-09-15T00:00:00",
          "2014-09-10T00:00:00",
          "2014-09-03T00:00:00",
          "2014-09-03T00:00:00",
          "2014-08-30T00:00:00",
          "2014-08-23T00:00:00",
          "2014-08-21T00:00:00",
          "2014-08-16T00:00:00",
          "2014-08-08T00:00:00",
          "2014-08-04T00:00:00",
          "2014-08-03T00:00:00",
          "2014-07-26T00:00:00",
          "2014-07-24T00:00:00",
          "2014-07-18T00:00:00",
          "2014-07-07T00:00:00",
          "2014-07-04T00:00:00",
          "2014-07-02T00:00:00",
          "2014-06-28T00:00:00",
          "2014-06-26T00:00:00",
          "2014-06-25T00:00:00",
          "2014-06-19T00:00:00",
          "2014-06-18T00:00:00",
          "2014-06-10T00:00:00",
          "2014-06-06T00:00:00",
          "2014-06-04T00:00:00",
          "2014-06-01T00:00:00",
          "2014-05-31T00:00:00",
          "2014-05-27T00:00:00",
          "2014-05-25T00:00:00",
          "2014-05-23T00:00:00",
          "2014-05-19T00:00:00",
          "2014-05-14T00:00:00",
          "2014-05-06T00:00:00",
          "2014-05-02T00:00:00",
          "2014-04-28T00:00:00",
          "2014-04-24T00:00:00",
          "2014-04-20T00:00:00",
          "2014-04-19T00:00:00",
          "2014-04-16T00:00:00",
          "2014-04-09T00:00:00",
          "2014-04-06T00:00:00",
          "2014-03-26T00:00:00",
          "2014-03-25T00:00:00",
          "2014-03-19T00:00:00",
          "2014-03-16T00:00:00",
          "2014-03-03T00:00:00",
          "2014-02-28T00:00:00",
          "2014-02-24T00:00:00",
          "2014-02-23T00:00:00",
          "2014-02-20T00:00:00",
          "2014-02-15T00:00:00",
          "2014-02-12T00:00:00",
          "2014-02-08T00:00:00",
          "2014-02-08T00:00:00",
          "2014-02-06T00:00:00",
          "2014-01-31T00:00:00",
          "2014-01-29T00:00:00",
          "2014-01-25T00:00:00",
          "2014-01-21T00:00:00",
          "2014-01-18T00:00:00",
          "2014-01-13T00:00:00",
          "2014-01-11T00:00:00",
          "2014-01-10T00:00:00",
          "2014-01-09T00:00:00",
          "2014-01-09T00:00:00",
          "2014-01-08T00:00:00",
          "2014-01-07T00:00:00",
          "2014-01-04T00:00:00",
          "2014-01-03T00:00:00",
          "2013-12-24T00:00:00",
          "2013-12-21T00:00:00",
          "2013-12-19T00:00:00",
          "2013-12-17T00:00:00",
          "2013-12-12T00:00:00",
          "2013-12-08T00:00:00",
          "2013-12-05T00:00:00",
          "2013-11-27T00:00:00",
          "2013-11-25T00:00:00",
          "2013-11-18T00:00:00",
          "2013-11-16T00:00:00",
          "2013-11-13T00:00:00",
          "2013-11-08T00:00:00",
          "2013-11-04T00:00:00",
          "2013-11-02T00:00:00",
          "2013-10-31T00:00:00",
          "2013-10-29T00:00:00",
          "2013-10-24T00:00:00",
          "2013-10-21T00:00:00",
          "2013-10-19T00:00:00",
          "2013-10-15T00:00:00",
          "2013-10-11T00:00:00",
          "2013-10-07T00:00:00",
          "2013-10-02T00:00:00",
          "2013-09-25T00:00:00",
          "2013-09-23T00:00:00",
          "2013-09-18T00:00:00",
          "2013-09-13T00:00:00",
          "2013-09-09T00:00:00",
          "2013-09-06T00:00:00",
          "2013-08-30T00:00:00",
          "2013-08-23T00:00:00",
          "2013-08-20T00:00:00",
          "2013-08-16T00:00:00",
          "2013-08-13T00:00:00",
          "2013-08-09T00:00:00",
          "2013-08-06T00:00:00",
          "2013-08-02T00:00:00",
          "2013-07-31T00:00:00",
          "2013-07-29T00:00:00",
          "2013-07-26T00:00:00",
          "2013-07-22T00:00:00",
          "2013-07-18T00:00:00",
          "2013-07-14T00:00:00",
          "2013-07-10T00:00:00",
          "2013-07-04T00:00:00",
          "2013-07-01T00:00:00",
          "2013-06-25T00:00:00",
          "2013-06-22T00:00:00",
          "2013-06-18T00:00:00",
          "2013-06-13T00:00:00",
          "2013-06-11T00:00:00",
          "2013-06-07T00:00:00",
          "2013-06-04T00:00:00",
          "2013-05-30T00:00:00",
          "2013-05-27T00:00:00",
          "2013-05-22T00:00:00",
          "2013-05-17T00:00:00",
          "2013-05-16T00:00:00",
          "2013-05-11T00:00:00",
          "2013-05-08T00:00:00",
          "2013-05-03T00:00:00",
          "2013-04-30T00:00:00",
          "2013-04-26T00:00:00",
          "2013-04-23T00:00:00",
          "2013-04-18T00:00:00",
          "2013-04-16T00:00:00",
          "2013-04-12T00:00:00",
          "2013-04-07T00:00:00",
          "2013-04-04T00:00:00",
          "2013-03-31T00:00:00",
          "2013-03-29T00:00:00",
          "2013-03-26T00:00:00",
          "2013-03-22T00:00:00",
          "2013-03-17T00:00:00",
          "2013-03-12T00:00:00",
          "2013-03-08T00:00:00",
          "2013-03-05T00:00:00",
          "2013-02-28T00:00:00",
          "2013-02-25T00:00:00",
          "2013-02-21T00:00:00",
          "2013-02-19T00:00:00",
          "2013-02-16T00:00:00",
          "2013-02-12T00:00:00",
          "2013-02-09T00:00:00",
          "2013-02-06T00:00:00",
          "2013-02-02T00:00:00",
          "2013-01-27T00:00:00",
          "2013-01-23T00:00:00",
          "2013-01-20T00:00:00",
          "2013-01-18T00:00:00",
          "2013-01-15T00:00:00",
          "2013-01-12T00:00:00",
          "2013-01-10T00:00:00",
          "2013-01-09T00:00:00",
          "2013-01-07T00:00:00",
          "2013-01-03T00:00:00",
          "2012-12-30T00:00:00",
          "2012-12-28T00:00:00",
          "2012-12-24T00:00:00",
          "2012-12-21T00:00:00",
          "2012-12-17T00:00:00",
          "2012-12-15T00:00:00",
          "2012-12-13T00:00:00",
          "2012-12-08T00:00:00",
          "2012-12-05T00:00:00",
          "2012-12-02T00:00:00",
          "2012-11-28T00:00:00",
          "2012-11-26T00:00:00",
          "2012-11-22T00:00:00",
          "2012-11-20T00:00:00",
          "2012-11-19T00:00:00",
          "2012-11-16T00:00:00",
          "2012-11-14T00:00:00",
          "2012-11-12T00:00:00",
          "2012-11-08T00:00:00",
          "2012-10-29T00:00:00",
          "2012-10-25T00:00:00",
          "2012-10-23T00:00:00",
          "2012-10-22T00:00:00",
          "2012-10-18T00:00:00",
          "2012-10-16T00:00:00",
          "2012-10-11T00:00:00",
          "2012-10-08T00:00:00",
          "2012-10-05T00:00:00",
          "2012-10-01T00:00:00",
          "2012-09-28T00:00:00",
          "2012-09-25T00:00:00",
          "2012-09-20T00:00:00",
          "2012-09-15T00:00:00",
          "2012-09-13T00:00:00",
          "2012-09-07T00:00:00",
          "2012-09-03T00:00:00",
          "2012-08-31T00:00:00",
          "2012-08-29T00:00:00",
          "2012-08-24T00:00:00",
          "2012-08-19T00:00:00",
          "2012-08-09T00:00:00",
          "2012-08-06T00:00:00",
          "2012-07-30T00:00:00",
          "2012-07-25T00:00:00",
          "2012-07-23T00:00:00",
          "2012-07-17T00:00:00",
          "2012-07-13T00:00:00",
          "2012-07-10T00:00:00",
          "2012-06-30T00:00:00",
          "2012-06-28T00:00:00",
          "2012-06-27T00:00:00",
          "2012-06-25T00:00:00",
          "2012-06-19T00:00:00",
          "2012-06-15T00:00:00",
          "2012-06-11T00:00:00",
          "2012-06-04T00:00:00",
          "2012-05-29T00:00:00",
          "2012-05-26T00:00:00",
          "2012-05-24T00:00:00",
          "2012-05-17T00:00:00",
          "2012-05-13T00:00:00",
          "2012-05-04T00:00:00",
          "2012-04-30T00:00:00",
          "2012-04-25T00:00:00",
          "2012-04-20T00:00:00",
          "2012-04-16T00:00:00",
          "2012-04-11T00:00:00",
          "2012-04-11T00:00:00",
          "2012-04-08T00:00:00",
          "2012-04-05T00:00:00",
          "2012-03-30T00:00:00",
          "2012-03-27T00:00:00",
          "2012-03-21T00:00:00",
          "2012-03-19T00:00:00",
          "2012-03-17T00:00:00",
          "2012-03-09T00:00:00",
          "2012-03-05T00:00:00",
          "2012-03-01T00:00:00",
          "2012-02-29T00:00:00",
          "2012-02-26T00:00:00",
          "2012-02-23T00:00:00",
          "2012-02-20T00:00:00",
          "2012-02-18T00:00:00",
          "2012-02-14T00:00:00",
          "2012-02-10T00:00:00",
          "2012-02-07T00:00:00",
          "2012-02-04T00:00:00",
          "2012-01-31T00:00:00",
          "2012-01-27T00:00:00",
          "2012-01-22T00:00:00",
          "2012-01-19T00:00:00",
          "2012-01-16T00:00:00",
          "2012-01-14T00:00:00",
          "2012-01-12T00:00:00",
          "2012-01-09T00:00:00",
          "2012-01-08T00:00:00",
          "2012-01-06T00:00:00",
          "2012-01-04T00:00:00",
          "2012-01-01T00:00:00",
          "2011-12-28T00:00:00",
          "2011-12-23T00:00:00",
          "2011-12-18T00:00:00",
          "2011-12-17T00:00:00",
          "2011-12-15T00:00:00",
          "2011-12-15T00:00:00",
          "2011-12-14T00:00:00",
          "2011-12-11T00:00:00",
          "2011-12-08T00:00:00",
          "2011-12-06T00:00:00",
          "2011-12-04T00:00:00",
          "2011-12-03T00:00:00",
          "2011-11-30T00:00:00",
          "2011-11-28T00:00:00",
          "2011-11-22T00:00:00",
          "2011-11-20T00:00:00",
          "2011-11-15T00:00:00",
          "2011-11-09T00:00:00",
          "2011-11-05T00:00:00",
          "2011-11-03T00:00:00",
          "2011-10-30T00:00:00",
          "2011-10-26T00:00:00",
          "2011-10-21T00:00:00",
          "2011-10-17T00:00:00",
          "2011-10-13T00:00:00",
          "2011-10-09T00:00:00",
          "2011-10-05T00:00:00",
          "2011-09-30T00:00:00",
          "2011-09-27T00:00:00",
          "2011-09-22T00:00:00",
          "2011-09-22T00:00:00",
          "2011-09-19T00:00:00",
          "2011-09-15T00:00:00",
          "2011-09-12T00:00:00",
          "2011-09-09T00:00:00",
          "2011-09-07T00:00:00",
          "2011-09-04T00:00:00",
          "2011-09-02T00:00:00",
          "2011-08-30T00:00:00",
          "2011-08-29T00:00:00",
          "2011-08-27T00:00:00",
          "2011-08-24T00:00:00",
          "2011-08-20T00:00:00",
          "2011-08-18T00:00:00",
          "2011-08-16T00:00:00",
          "2011-08-12T00:00:00",
          "2011-08-11T00:00:00",
          "2011-08-08T00:00:00",
          "2011-08-06T00:00:00",
          "2011-01-23T00:00:00",
          "2011-01-20T00:00:00",
          "2011-01-18T00:00:00",
          "2011-01-15T00:00:00",
          "2011-01-11T00:00:00",
          "2011-01-08T00:00:00",
          "2011-01-05T00:00:00",
          "2010-12-30T00:00:00",
          "2010-12-28T00:00:00",
          "2010-12-27T00:00:00",
          "2010-12-24T00:00:00",
          "2010-12-21T00:00:00",
          "2010-12-19T00:00:00",
          "2010-12-13T00:00:00",
          "2010-12-12T00:00:00",
          "2010-12-07T00:00:00",
          "2010-12-05T00:00:00",
          "2010-11-28T00:00:00",
          "2010-11-25T00:00:00",
          "2010-11-22T00:00:00",
          "2010-11-21T00:00:00",
          "2010-11-18T00:00:00",
          "2010-11-17T00:00:00",
          "2010-11-17T00:00:00",
          "2010-11-12T00:00:00",
          "2010-11-08T00:00:00",
          "2010-11-03T00:00:00",
          "2010-10-31T00:00:00",
          "2010-10-27T00:00:00",
          "2010-10-23T00:00:00",
          "2010-10-18T00:00:00",
          "2010-10-13T00:00:00",
          "2010-10-08T00:00:00",
          "2010-09-28T00:00:00",
          "2010-09-26T00:00:00",
          "2010-09-24T00:00:00",
          "2010-09-21T00:00:00",
          "2010-09-17T00:00:00",
          "2010-09-10T00:00:00",
          "2010-09-07T00:00:00",
          "2010-09-03T00:00:00",
          "2010-08-26T00:00:00",
          "2010-08-16T00:00:00",
          "2010-08-11T00:00:00",
          "2010-08-09T00:00:00",
          "2010-07-28T00:00:00",
          "2010-07-26T00:00:00",
          "2010-07-20T00:00:00",
          "2010-07-17T00:00:00",
          "2010-06-27T00:00:00",
          "2010-06-21T00:00:00",
          "2010-06-16T00:00:00",
          "2010-06-11T00:00:00",
          "2010-06-07T00:00:00",
          "2010-06-03T00:00:00",
          "2010-05-25T00:00:00",
          "2010-05-18T00:00:00",
          "2010-05-11T00:00:00",
          "2010-05-06T00:00:00",
          "2010-04-30T00:00:00",
          "2010-04-28T00:00:00",
          "2010-04-24T00:00:00",
          "2010-04-13T00:00:00",
          "2010-04-04T00:00:00",
          "2010-03-28T00:00:00",
          "2010-03-21T00:00:00",
          "2010-03-11T00:00:00",
          "2010-02-28T00:00:00",
          "2010-02-23T00:00:00",
          "2010-02-16T00:00:00",
          "2010-02-10T00:00:00",
          "2010-02-03T00:00:00",
          "2010-01-27T00:00:00",
          "2010-01-23T00:00:00",
          "2010-01-18T00:00:00",
          "2010-01-11T00:00:00",
          "2010-01-06T00:00:00",
          "2009-12-31T00:00:00",
          "2009-12-27T00:00:00",
          "2009-12-22T00:00:00",
          "2009-12-18T00:00:00",
          "2009-12-14T00:00:00",
          "2009-12-11T00:00:00",
          "2009-12-06T00:00:00",
          "2009-12-03T00:00:00",
          "2009-12-02T00:00:00",
          "2009-11-28T00:00:00",
          "2009-11-25T00:00:00",
          "2009-11-23T00:00:00",
          "2009-11-17T00:00:00",
          "2009-11-15T00:00:00",
          "2009-11-12T00:00:00",
          "2009-11-09T00:00:00",
          "2009-11-07T00:00:00",
          "2009-11-06T00:00:00",
          "2009-10-28T00:00:00",
          "2009-10-25T00:00:00",
          "2009-10-23T00:00:00",
          "2009-10-22T00:00:00",
          "2009-10-19T00:00:00",
          "2009-10-16T00:00:00",
          "2009-10-15T00:00:00",
          "2009-10-12T00:00:00",
          "2009-10-11T00:00:00",
          "2009-10-09T00:00:00",
          "2009-10-07T00:00:00",
          "2009-10-05T00:00:00",
          "2009-10-04T00:00:00",
          "2009-10-02T00:00:00",
          "2009-09-13T00:00:00",
          "2009-09-12T00:00:00",
          "2009-09-06T00:00:00",
          "2009-09-03T00:00:00",
          "2009-08-31T00:00:00",
          "2009-08-29T00:00:00",
          "2009-08-26T00:00:00",
          "2009-08-24T00:00:00",
          "2009-08-22T00:00:00",
          "2009-08-20T00:00:00",
          "2009-08-18T00:00:00",
          "2009-08-16T00:00:00",
          "2009-08-14T00:00:00",
          "2009-08-12T00:00:00",
          "2009-08-09T00:00:00",
          "2009-08-04T00:00:00",
          "2009-08-02T00:00:00",
          "2009-07-28T00:00:00",
          "2009-07-26T00:00:00",
          "2009-07-23T00:00:00",
          "2009-07-22T00:00:00",
          "2009-07-20T00:00:00",
          "2009-07-18T00:00:00",
          "2009-07-15T00:00:00",
          "2009-07-12T00:00:00",
          "2009-07-08T00:00:00",
          "2009-07-08T00:00:00",
          "2009-07-06T00:00:00",
          "2009-07-04T00:00:00",
          "2009-07-02T00:00:00",
          "2009-06-30T00:00:00",
          "2009-06-28T00:00:00",
          "2009-06-26T00:00:00",
          "2009-06-24T00:00:00",
          "2009-06-23T00:00:00",
          "2009-06-22T00:00:00",
          "2009-06-20T00:00:00",
          "2009-06-19T00:00:00",
          "2009-06-18T00:00:00",
          "2009-06-17T00:00:00",
          "2009-06-16T00:00:00",
          "2009-06-15T00:00:00",
          "2009-06-14T00:00:00",
          "2009-06-12T00:00:00",
          "2009-06-11T00:00:00",
          "2009-06-09T00:00:00",
          "2009-06-08T00:00:00",
          "2009-06-05T00:00:00",
          "2009-06-04T00:00:00",
          "2009-06-03T00:00:00",
          "2009-06-02T00:00:00",
          "2009-06-01T00:00:00",
          "2009-05-31T00:00:00",
          "2009-05-30T00:00:00",
          "2009-05-29T00:00:00",
          "2009-05-27T00:00:00",
          "2009-05-25T00:00:00",
          "2009-05-23T00:00:00",
          "2009-05-21T00:00:00",
          "2009-05-19T00:00:00",
          "2009-05-18T00:00:00",
          "2009-05-14T00:00:00",
          "2009-05-13T00:00:00",
          "2009-05-12T00:00:00",
          "2009-05-10T00:00:00",
          "2009-05-09T00:00:00",
          "2009-05-07T00:00:00",
          "2009-05-05T00:00:00",
          "2009-05-04T00:00:00",
          "2009-05-03T00:00:00",
          "2009-05-02T00:00:00",
          "2009-05-01T00:00:00",
          "2009-04-29T00:00:00",
          "2009-04-28T00:00:00",
          "2009-04-26T00:00:00",
          "2009-04-26T00:00:00",
          "2009-04-24T00:00:00",
          "2009-04-23T00:00:00",
          "2009-04-22T00:00:00",
          "2009-04-21T00:00:00",
          "2009-04-20T00:00:00",
          "2009-04-19T00:00:00",
          "2009-04-18T00:00:00",
          "2009-04-17T00:00:00",
          "2009-04-16T00:00:00",
          "2009-04-12T00:00:00",
          "2009-04-12T00:00:00",
          "2009-04-11T00:00:00",
          "2009-04-10T00:00:00",
          "2009-04-08T00:00:00",
          "2009-04-07T00:00:00",
          "2009-04-06T00:00:00",
          "2009-04-04T00:00:00",
          "2009-04-03T00:00:00",
          "2009-04-03T00:00:00",
          "2009-04-02T00:00:00",
          "2009-04-01T00:00:00",
          "2009-03-31T00:00:00",
          "2009-03-30T00:00:00",
          "2009-03-30T00:00:00",
          "2009-03-29T00:00:00",
          "2009-03-29T00:00:00",
          "2009-03-29T00:00:00",
          "2009-03-28T00:00:00",
          "2009-03-27T00:00:00",
          "2009-03-25T00:00:00",
          "2009-03-25T00:00:00",
          "2009-03-24T00:00:00",
          "2009-03-23T00:00:00",
          "2009-03-20T00:00:00",
          "2009-03-20T00:00:00",
          "2009-03-19T00:00:00",
          "2009-03-18T00:00:00",
          "2009-03-18T00:00:00",
          "2009-03-17T00:00:00",
          "2009-03-14T00:00:00",
          "2009-03-14T00:00:00",
          "2009-03-14T00:00:00",
          "2009-03-14T00:00:00",
          "2009-03-13T00:00:00",
          "2009-03-12T00:00:00",
          "2009-03-11T00:00:00",
          "2009-03-10T00:00:00",
          "2009-03-10T00:00:00",
          "2009-03-07T00:00:00",
          "2009-03-07T00:00:00",
          "2009-03-05T00:00:00",
          "2009-03-04T00:00:00",
          "2009-03-04T00:00:00",
          "2009-03-03T00:00:00",
          "2009-03-03T00:00:00",
          "2009-03-02T00:00:00",
          "2009-02-27T00:00:00",
          "2009-02-26T00:00:00",
          "2009-02-25T00:00:00",
          "2009-02-24T00:00:00",
          "2009-02-23T00:00:00",
          "2009-02-23T00:00:00",
          "2009-02-23T00:00:00",
          "2009-02-23T00:00:00",
          "2009-02-22T00:00:00",
          "2009-02-22T00:00:00",
          "2009-02-22T00:00:00",
          "2009-02-22T00:00:00",
          "2009-02-21T00:00:00",
          "2009-02-21T00:00:00",
          "2009-02-21T00:00:00",
          "2009-02-20T00:00:00",
          "2009-02-20T00:00:00",
          "2009-02-19T00:00:00",
          "2009-02-19T00:00:00",
          "2009-02-19T00:00:00",
          "2009-02-19T00:00:00",
          "2009-02-18T00:00:00",
          "2009-02-18T00:00:00",
          "2009-02-18T00:00:00",
          "2009-02-17T00:00:00",
          "2009-02-17T00:00:00",
          "2009-02-16T00:00:00",
          "2009-02-16T00:00:00",
          "2009-02-16T00:00:00",
          "2009-02-16T00:00:00",
          "2009-02-15T00:00:00",
          "2009-02-15T00:00:00",
          "2009-02-14T00:00:00",
          "2009-02-13T00:00:00",
          "2009-02-13T00:00:00",
          "2009-02-13T00:00:00",
          "2009-02-12T00:00:00",
          "2009-02-12T00:00:00",
          "2009-02-12T00:00:00",
          "2009-02-12T00:00:00",
          "2009-02-12T00:00:00",
          "2009-02-12T00:00:00",
          "2009-02-11T00:00:00",
          "2009-02-11T00:00:00",
          "2009-02-11T00:00:00",
          "2009-02-10T00:00:00",
          "2009-02-10T00:00:00",
          "2009-02-10T00:00:00",
          "2009-02-10T00:00:00",
          "2009-02-09T00:00:00",
          "2009-02-09T00:00:00",
          "2009-02-09T00:00:00",
          "2009-02-09T00:00:00",
          "2009-02-09T00:00:00",
          "2009-02-08T00:00:00",
          "2009-02-08T00:00:00",
          "2009-02-08T00:00:00",
          "2009-02-08T00:00:00",
          "2009-02-08T00:00:00",
          "2009-02-08T00:00:00",
          "2009-02-08T00:00:00",
          "2009-02-08T00:00:00",
          "2009-02-07T00:00:00",
          "2009-02-07T00:00:00",
          "2009-02-07T00:00:00",
          "2009-02-07T00:00:00",
          "2009-02-07T00:00:00",
          "2009-02-07T00:00:00",
          "2009-02-06T00:00:00",
          "2009-02-06T00:00:00",
          "2009-02-04T00:00:00",
          "2009-02-04T00:00:00",
          "2009-02-04T00:00:00",
          "2009-02-04T00:00:00",
          "2009-02-04T00:00:00",
          "2009-02-04T00:00:00",
          "2009-02-03T00:00:00",
          "2009-02-03T00:00:00",
          "2009-02-03T00:00:00",
          "2009-02-03T00:00:00",
          "2009-02-02T00:00:00",
          "2009-02-02T00:00:00",
          "2009-02-02T00:00:00",
          "2009-02-02T00:00:00",
          "2009-02-02T00:00:00",
          "2009-02-02T00:00:00",
          "2009-02-02T00:00:00",
          "2009-02-02T00:00:00",
          "2009-02-01T00:00:00",
          "2009-02-01T00:00:00",
          "2009-02-01T00:00:00",
          "2009-02-01T00:00:00",
          "2009-02-01T00:00:00",
          "2009-01-31T00:00:00",
          "2009-01-31T00:00:00",
          "2009-01-31T00:00:00",
          "2009-01-31T00:00:00",
          "2009-01-31T00:00:00",
          "2009-01-31T00:00:00",
          "2009-01-31T00:00:00",
          "2009-01-31T00:00:00",
          "2009-01-31T00:00:00",
          "2009-01-30T00:00:00",
          "2009-01-30T00:00:00",
          "2009-01-29T00:00:00",
          "2009-01-29T00:00:00",
          "2009-01-29T00:00:00",
          "2009-01-29T00:00:00",
          "2009-01-29T00:00:00",
          "2009-01-29T00:00:00",
          "2009-01-29T00:00:00",
          "2009-01-29T00:00:00",
          "2009-01-29T00:00:00",
          "2009-01-01T00:00:00",
          "2009-01-01T00:00:00",
          "2008-09-15T00:00:00",
          "2008-05-30T00:00:00",
          "2008-03-28T00:00:00"
         ],
         "xaxis": "x",
         "y": [
          52217,
          83763,
          174602,
          124575,
          120729,
          119164,
          111941,
          134085,
          114881,
          127157,
          114681,
          159759,
          89897,
          134746,
          94249,
          134166,
          106769,
          181110,
          166380,
          119161,
          110596,
          103176,
          91023,
          87212,
          198090,
          199070,
          111596,
          95229,
          125214,
          137143,
          105354,
          92898,
          88464,
          510942,
          101571,
          202400,
          126780,
          220253,
          121402,
          78840,
          186570,
          199473,
          116485,
          299491,
          95015,
          193721,
          76645,
          181345,
          149921,
          266936,
          121072,
          252338,
          97693,
          132683,
          126261,
          196535,
          116007,
          106318,
          170104,
          110022,
          168542,
          110304,
          144736,
          143223,
          279913,
          138668,
          100828,
          241779,
          120734,
          76787,
          229256,
          168763,
          158790,
          175163,
          72994,
          285460,
          192476,
          210169,
          188960,
          241195,
          162906,
          122097,
          142205,
          270102,
          184242,
          44185,
          31631,
          34804,
          54938,
          94901,
          118374,
          141750,
          211017,
          123103,
          238628,
          81821,
          141537,
          123051,
          121804,
          126040,
          117693,
          283606,
          116215,
          148586,
          76840,
          103654,
          150289,
          224607,
          255551,
          137628,
          187178,
          134136,
          100749,
          209980,
          96163,
          242215,
          172419,
          176300,
          203821,
          294765,
          255279,
          273720,
          90269,
          146523,
          405425,
          230768,
          115249,
          156637,
          170431,
          123825,
          139726,
          295184,
          232519,
          149151,
          169406,
          172980,
          156249,
          162799,
          229393,
          580105,
          309617,
          143972,
          110634,
          205515,
          431428,
          171969,
          100994,
          133506,
          110855,
          230853,
          294507,
          126796,
          153485,
          297461,
          304213,
          150800,
          112451,
          159837,
          195656,
          99126,
          100985,
          98054,
          137770,
          120941,
          129456,
          77174,
          152728,
          255850,
          170930,
          238030,
          67698,
          135315,
          193746,
          152632,
          128913,
          119741,
          123140,
          153117,
          171628,
          252852,
          162618,
          193678,
          248178,
          320297,
          210825,
          120025,
          216826,
          115640,
          140050,
          140276,
          168664,
          657022,
          279935,
          120403,
          156292,
          79487,
          90725,
          126704,
          228956,
          112715,
          141703,
          127478,
          119944,
          145242,
          296734,
          184232,
          161593,
          99481,
          181080,
          97559,
          121475,
          96512,
          243682,
          171948,
          96461,
          101072,
          350032,
          88537,
          143220,
          390327,
          123815,
          100498,
          67518,
          107207,
          152701,
          170120,
          173463,
          155972,
          76314,
          96516,
          220945,
          210729,
          130439,
          74995,
          84313,
          96839,
          98964,
          102754,
          147864,
          223532,
          8236,
          103245,
          311607,
          115832,
          12252,
          123271,
          166464,
          12499,
          91399,
          89945,
          10785,
          139137,
          88319,
          118052,
          282623,
          225399,
          94601,
          173772,
          98842,
          122446,
          196785,
          74008,
          73663,
          268137,
          115753,
          71255,
          118036,
          337055,
          92093,
          154631,
          96970,
          92258,
          92105,
          193320,
          92639,
          187207,
          125303,
          169149,
          132694,
          172398,
          122864,
          86643,
          94084,
          101553,
          120454,
          258175,
          37561,
          219240,
          204852,
          104682,
          158540,
          73208,
          113760,
          82670,
          86526,
          131029,
          96082,
          63540,
          102059,
          64718,
          155000,
          148970,
          115539,
          189528,
          74904,
          86372,
          203392,
          108542,
          163514,
          206953,
          71630,
          48993,
          97012,
          78937,
          202456,
          336113,
          351793,
          120671,
          94129,
          58639,
          157957,
          109943,
          149125,
          64223,
          80564,
          117579,
          136861,
          160206,
          63256,
          126434,
          78112,
          231592,
          83136,
          83069,
          197475,
          299530,
          78522,
          103275,
          93893,
          54100,
          216993,
          93932,
          141344,
          77406,
          47025,
          75204,
          101092,
          99237,
          107365,
          199118,
          68056,
          373757,
          69855,
          128100,
          104959,
          65298,
          99131,
          87288,
          117954,
          161050,
          93623,
          85590,
          113264,
          143696,
          51091,
          137624,
          98845,
          67036,
          60686,
          67554,
          119847,
          52649,
          88776,
          55296,
          99300,
          139840,
          98439,
          83274,
          76026,
          131203,
          76858,
          64774,
          100539,
          57293,
          109196,
          391474,
          531345,
          110187,
          73425,
          57258,
          112158,
          98339,
          73337,
          45078,
          59578,
          69055,
          79743,
          88866,
          32775,
          90272,
          54288,
          72284,
          62540,
          46021,
          76232,
          59502,
          81819,
          111404,
          63172,
          82610,
          63013,
          65202,
          108100,
          48512,
          58030,
          102077,
          77067,
          49994,
          82955,
          48137,
          63269,
          231768,
          133081,
          48063,
          147068,
          57150,
          68619,
          119534,
          242165,
          59777,
          49755,
          117838,
          40582,
          84558,
          99016,
          46866,
          120647,
          65694,
          51799,
          124021,
          47663,
          118573,
          54636,
          58987,
          64513,
          85550,
          98349,
          142556,
          79861,
          90830,
          93271,
          36140,
          152587,
          43532,
          65364,
          161287,
          87989,
          163067,
          78122,
          76950,
          60384,
          111098,
          295967,
          10392,
          132789,
          44463,
          74534,
          80923,
          80249,
          82110,
          103995,
          44985,
          35819,
          53440,
          80982,
          42532,
          71118,
          141925,
          56848,
          68970,
          77119,
          38403,
          64084,
          53510,
          47630,
          44510,
          76070,
          132850,
          107864,
          29935,
          88245,
          118813,
          47275,
          26443,
          34451,
          52506,
          45439,
          40825,
          114303,
          40893,
          106602,
          73293,
          125838,
          77632,
          46627,
          45685,
          67008,
          40426,
          46240,
          42575,
          46868,
          67744,
          44917,
          60565,
          83949,
          48048,
          60383,
          111279,
          70997,
          39382,
          46266,
          135830,
          151398,
          125628,
          212989,
          38509,
          79185,
          69797,
          37738,
          105963,
          42169,
          77172,
          49956,
          38746,
          35105,
          28785,
          33688,
          28565,
          61701,
          75420,
          36752,
          46095,
          34632,
          55767,
          44266,
          47690,
          64463,
          86995,
          61220,
          46521,
          84592,
          68329,
          111960,
          87264,
          53624,
          40109,
          36971,
          43804,
          59171,
          33538,
          87564,
          63922,
          40944,
          47785,
          79756,
          124333,
          103847,
          51456,
          77015,
          43869,
          49426,
          149695,
          83755,
          62628,
          63156,
          84167,
          42823,
          121065,
          111240,
          24612,
          43876,
          43372,
          34053,
          29668,
          29258,
          37049,
          50404,
          32210,
          25623,
          37833,
          23495,
          31337,
          50815,
          35381,
          82629,
          30726,
          31727,
          52675,
          28404,
          44506,
          36923,
          29060,
          41679,
          27451,
          30271,
          57262,
          38437,
          44819,
          77452,
          46766,
          33254,
          98508,
          45177,
          52070,
          53845,
          36119,
          66445,
          32798,
          21090,
          35470,
          37634,
          50488,
          22951,
          98797,
          26828,
          27420,
          41805,
          27387,
          37137,
          39448,
          98466,
          64992,
          45571,
          152015,
          20988,
          42767,
          31884,
          39059,
          53338,
          37639,
          37141,
          37208,
          56797,
          45376,
          29733,
          34262,
          94182,
          25840,
          35807,
          37697,
          26573,
          32529,
          123586,
          56284,
          33553,
          51034,
          55764,
          39657,
          76017,
          28324,
          28506,
          51980,
          62457,
          40639,
          32613,
          31515,
          29527,
          28901,
          42169,
          50521,
          40871,
          69410,
          33339,
          26578,
          33580,
          37075,
          31222,
          38528,
          45255,
          43090,
          94709,
          20345,
          50246,
          37460,
          65795,
          43330,
          44796,
          77463,
          60810,
          28513,
          39238,
          100562,
          21537,
          43709,
          25660,
          33933,
          31352,
          104818,
          84259,
          41806,
          21455,
          24644,
          32748,
          28612,
          25266,
          34275,
          25123,
          31314,
          47269,
          24297,
          22470,
          25826,
          15891,
          23967,
          28384,
          29541,
          32975,
          59173,
          21332,
          68813,
          28018,
          24739,
          48625,
          63935,
          32396,
          22323,
          48399,
          21653,
          69375,
          66375,
          42542,
          37688,
          48472,
          78491,
          20411,
          22712,
          45890,
          48582,
          39441,
          47355,
          51667,
          68669,
          44701,
          36242,
          212825,
          24873,
          23437,
          28015,
          24269,
          23111,
          24430,
          21480,
          28395,
          37981,
          60930,
          35531,
          43824,
          40540,
          20136,
          10696,
          27313,
          33493,
          16403,
          20369,
          30902,
          44323,
          33621,
          24744,
          44411,
          35518,
          63677,
          15121,
          25541,
          43863,
          34357,
          19951,
          19865,
          21486,
          31281,
          49889,
          24071,
          33824,
          28694,
          17752,
          16634,
          27397,
          23501,
          55067,
          16975,
          28803,
          42991,
          44365,
          13718,
          12206,
          11489,
          24236,
          12012,
          16769,
          13346,
          13673,
          18563,
          11261,
          9139,
          8565,
          6859,
          9746,
          13531,
          13138,
          18054,
          17091,
          19881,
          15101,
          26497,
          19502,
          25654,
          37129,
          13269,
          44773,
          105866,
          33850,
          36192,
          48034,
          15555,
          17149,
          37701,
          23905,
          23414,
          14147,
          21553,
          28252,
          138077,
          10415,
          84501,
          13675,
          31306,
          23199,
          25556,
          9833,
          11614,
          87828,
          9596,
          55797,
          61233,
          18070,
          34406,
          29939,
          29443,
          20250,
          26961,
          11360,
          13192,
          14832,
          8479,
          14627,
          43719,
          8269,
          12622,
          23416,
          16517,
          50141,
          15997,
          12997,
          13971,
          27488,
          9314,
          42663,
          11274,
          8461,
          8950,
          22086,
          35421,
          19358,
          6788,
          9203,
          13306,
          5068,
          44460,
          29359,
          9865,
          12096,
          16782,
          8926,
          7460,
          23465,
          8611,
          26825,
          11118,
          15592,
          6013,
          9544,
          43984,
          4899,
          74355,
          15703,
          5331,
          16367,
          12423,
          11285,
          17044,
          20553,
          3575,
          23222,
          3331,
          1677,
          3983,
          7723,
          15420,
          4922,
          6059,
          12636,
          4288,
          2103,
          4716,
          15655,
          5550,
          5317,
          6924,
          16567,
          7944,
          5912,
          2335,
          4674,
          16907,
          12387,
          3465,
          7596,
          3533,
          2942,
          3505,
          17609,
          6268,
          55538,
          4207,
          2589,
          1742,
          5736,
          1752,
          9203,
          6567,
          3021,
          3376,
          4878,
          3059,
          7232,
          2823,
          11404,
          2233,
          25195,
          5836,
          16449,
          1779,
          4136,
          3421,
          3963,
          11425,
          14401,
          1776,
          9360,
          1790,
          26213,
          1432,
          23813,
          2611,
          2524,
          3191,
          14045,
          5765,
          7611,
          2320,
          9115,
          27454,
          8237,
          621,
          1261,
          3243,
          4907,
          4401,
          5065,
          6851,
          533,
          28797,
          1994,
          2342,
          12037,
          2273,
          8579,
          1445,
          8489,
          2268,
          105019,
          9364,
          1126,
          9378,
          5021,
          6011,
          3616,
          12203,
          2847,
          2869,
          3798,
          1148,
          1698,
          731,
          1079,
          504,
          25428,
          689,
          1521,
          1441,
          1603,
          1052,
          827,
          661,
          129,
          1723,
          793,
          1824,
          3144,
          426,
          603,
          2395,
          19283,
          93,
          1552,
          988,
          2677,
          247,
          975,
          5852,
          722,
          4883,
          190,
          1814,
          2371,
          188,
          6930,
          344,
          324,
          24925,
          650,
          3952,
          1549,
          2608,
          1155,
          1356,
          488,
          651,
          14320,
          539,
          277,
          612,
          301,
          935,
          6519,
          204,
          1552,
          196,
          297,
          1664,
          5435,
          352,
          888,
          371,
          3469,
          1373,
          362,
          1726,
          1236,
          73,
          1045,
          190,
          267,
          658,
          142,
          69,
          135,
          147,
          74,
          131,
          164,
          187,
          87,
          228,
          85,
          101,
          2641,
          241,
          131,
          142,
          174,
          187,
          463,
          818,
          75,
          335,
          240,
          303,
          2908,
          233,
          117,
          217,
          342,
          152,
          106,
          56,
          673,
          345,
          156,
          223,
          90,
          153,
          132,
          266,
          288,
          133,
          159,
          310,
          501,
          224,
          131,
          742,
          165,
          125,
          140,
          134,
          153,
          1440,
          300,
          121,
          173,
          532,
          1017,
          87,
          11614,
          217058,
          298,
          292,
          202,
          388,
          665,
          211,
          153,
          125,
          63,
          118,
          217,
          138,
          72,
          165,
          86,
          768,
          386,
          113,
          204,
          93,
          953,
          79,
          143,
          97,
          103,
          465,
          128,
          438,
          74,
          331,
          233,
          91,
          192,
          92,
          82,
          141,
          82,
          196,
          198,
          223,
          172,
          129,
          160,
          481,
          115,
          148,
          950,
          165,
          534,
          94,
          139,
          121,
          89,
          699,
          91,
          77,
          135,
          456,
          141,
          83,
          150,
          1248,
          648,
          117,
          79,
          142,
          111,
          168,
          92,
          77,
          95,
          76,
          85,
          70,
          86,
          143,
          110,
          136,
          66,
          44,
          89,
          77,
          118,
          87,
          125,
          100,
          58,
          129,
          279,
          758,
          136,
          75,
          171,
          99,
          126,
          90,
          78,
          88,
          59,
          71,
          118,
          121,
          158,
          62,
          54,
          115,
          358,
          74,
          120,
          81,
          103,
          167,
          318,
          32,
          41,
          145,
          441,
          52,
          30,
          115,
          107,
          227,
          335,
          112,
          197,
          97,
          40,
          248,
          226,
          52,
          150,
          40,
          45,
          214,
          56,
          255,
          73,
          270,
          417,
          79,
          229,
          469,
          73,
          34,
          152,
          166,
          348,
          188,
          88,
          268,
          134,
          63,
          368,
          57,
          73,
          23,
          61,
          58,
          106,
          79,
          152,
          42,
          37,
          185,
          68,
          601,
          43,
          39,
          63,
          29,
          60,
          32,
          56,
          76,
          31,
          57,
          201,
          240,
          39,
          37,
          39,
          567,
          101454,
          36,
          25,
          68,
          1149,
          42,
          37,
          51,
          43,
          381,
          88,
          2029,
          569,
          55,
          62,
          290,
          59,
          729,
          35,
          60,
          49,
          70,
          40,
          38,
          40,
          135,
          48,
          59,
          35,
          48,
          30,
          83,
          37,
          73,
          78,
          46,
          71,
          59,
          41,
          54,
          37,
          59,
          55,
          41,
          114,
          51,
          123,
          63,
          47,
          44,
          291,
          39,
          60,
          55,
          56,
          63,
          71,
          39,
          151,
          57,
          79,
          73,
          89,
          65,
          58,
          56,
          79,
          358,
          84,
          3342,
          69,
          80,
          70,
          76,
          113,
          288,
          80,
          360,
          113,
          1514,
          109,
          167,
          735,
          214,
          314,
          141,
          249,
          182,
          282,
          1073,
          609,
          1592,
          234631,
          2644,
          2198,
          17546
         ],
         "yaxis": "y"
        }
       ],
       "layout": {
        "legend": {
         "tracegroupgap": 0
        },
        "template": {
         "data": {
          "bar": [
           {
            "error_x": {
             "color": "#2a3f5f"
            },
            "error_y": {
             "color": "#2a3f5f"
            },
            "marker": {
             "line": {
              "color": "#E5ECF6",
              "width": 0.5
             },
             "pattern": {
              "fillmode": "overlay",
              "size": 10,
              "solidity": 0.2
             }
            },
            "type": "bar"
           }
          ],
          "barpolar": [
           {
            "marker": {
             "line": {
              "color": "#E5ECF6",
              "width": 0.5
             },
             "pattern": {
              "fillmode": "overlay",
              "size": 10,
              "solidity": 0.2
             }
            },
            "type": "barpolar"
           }
          ],
          "carpet": [
           {
            "aaxis": {
             "endlinecolor": "#2a3f5f",
             "gridcolor": "white",
             "linecolor": "white",
             "minorgridcolor": "white",
             "startlinecolor": "#2a3f5f"
            },
            "baxis": {
             "endlinecolor": "#2a3f5f",
             "gridcolor": "white",
             "linecolor": "white",
             "minorgridcolor": "white",
             "startlinecolor": "#2a3f5f"
            },
            "type": "carpet"
           }
          ],
          "choropleth": [
           {
            "colorbar": {
             "outlinewidth": 0,
             "ticks": ""
            },
            "type": "choropleth"
           }
          ],
          "contour": [
           {
            "colorbar": {
             "outlinewidth": 0,
             "ticks": ""
            },
            "colorscale": [
             [
              0,
              "#0d0887"
             ],
             [
              0.1111111111111111,
              "#46039f"
             ],
             [
              0.2222222222222222,
              "#7201a8"
             ],
             [
              0.3333333333333333,
              "#9c179e"
             ],
             [
              0.4444444444444444,
              "#bd3786"
             ],
             [
              0.5555555555555556,
              "#d8576b"
             ],
             [
              0.6666666666666666,
              "#ed7953"
             ],
             [
              0.7777777777777778,
              "#fb9f3a"
             ],
             [
              0.8888888888888888,
              "#fdca26"
             ],
             [
              1,
              "#f0f921"
             ]
            ],
            "type": "contour"
           }
          ],
          "contourcarpet": [
           {
            "colorbar": {
             "outlinewidth": 0,
             "ticks": ""
            },
            "type": "contourcarpet"
           }
          ],
          "heatmap": [
           {
            "colorbar": {
             "outlinewidth": 0,
             "ticks": ""
            },
            "colorscale": [
             [
              0,
              "#0d0887"
             ],
             [
              0.1111111111111111,
              "#46039f"
             ],
             [
              0.2222222222222222,
              "#7201a8"
             ],
             [
              0.3333333333333333,
              "#9c179e"
             ],
             [
              0.4444444444444444,
              "#bd3786"
             ],
             [
              0.5555555555555556,
              "#d8576b"
             ],
             [
              0.6666666666666666,
              "#ed7953"
             ],
             [
              0.7777777777777778,
              "#fb9f3a"
             ],
             [
              0.8888888888888888,
              "#fdca26"
             ],
             [
              1,
              "#f0f921"
             ]
            ],
            "type": "heatmap"
           }
          ],
          "heatmapgl": [
           {
            "colorbar": {
             "outlinewidth": 0,
             "ticks": ""
            },
            "colorscale": [
             [
              0,
              "#0d0887"
             ],
             [
              0.1111111111111111,
              "#46039f"
             ],
             [
              0.2222222222222222,
              "#7201a8"
             ],
             [
              0.3333333333333333,
              "#9c179e"
             ],
             [
              0.4444444444444444,
              "#bd3786"
             ],
             [
              0.5555555555555556,
              "#d8576b"
             ],
             [
              0.6666666666666666,
              "#ed7953"
             ],
             [
              0.7777777777777778,
              "#fb9f3a"
             ],
             [
              0.8888888888888888,
              "#fdca26"
             ],
             [
              1,
              "#f0f921"
             ]
            ],
            "type": "heatmapgl"
           }
          ],
          "histogram": [
           {
            "marker": {
             "pattern": {
              "fillmode": "overlay",
              "size": 10,
              "solidity": 0.2
             }
            },
            "type": "histogram"
           }
          ],
          "histogram2d": [
           {
            "colorbar": {
             "outlinewidth": 0,
             "ticks": ""
            },
            "colorscale": [
             [
              0,
              "#0d0887"
             ],
             [
              0.1111111111111111,
              "#46039f"
             ],
             [
              0.2222222222222222,
              "#7201a8"
             ],
             [
              0.3333333333333333,
              "#9c179e"
             ],
             [
              0.4444444444444444,
              "#bd3786"
             ],
             [
              0.5555555555555556,
              "#d8576b"
             ],
             [
              0.6666666666666666,
              "#ed7953"
             ],
             [
              0.7777777777777778,
              "#fb9f3a"
             ],
             [
              0.8888888888888888,
              "#fdca26"
             ],
             [
              1,
              "#f0f921"
             ]
            ],
            "type": "histogram2d"
           }
          ],
          "histogram2dcontour": [
           {
            "colorbar": {
             "outlinewidth": 0,
             "ticks": ""
            },
            "colorscale": [
             [
              0,
              "#0d0887"
             ],
             [
              0.1111111111111111,
              "#46039f"
             ],
             [
              0.2222222222222222,
              "#7201a8"
             ],
             [
              0.3333333333333333,
              "#9c179e"
             ],
             [
              0.4444444444444444,
              "#bd3786"
             ],
             [
              0.5555555555555556,
              "#d8576b"
             ],
             [
              0.6666666666666666,
              "#ed7953"
             ],
             [
              0.7777777777777778,
              "#fb9f3a"
             ],
             [
              0.8888888888888888,
              "#fdca26"
             ],
             [
              1,
              "#f0f921"
             ]
            ],
            "type": "histogram2dcontour"
           }
          ],
          "mesh3d": [
           {
            "colorbar": {
             "outlinewidth": 0,
             "ticks": ""
            },
            "type": "mesh3d"
           }
          ],
          "parcoords": [
           {
            "line": {
             "colorbar": {
              "outlinewidth": 0,
              "ticks": ""
             }
            },
            "type": "parcoords"
           }
          ],
          "pie": [
           {
            "automargin": true,
            "type": "pie"
           }
          ],
          "scatter": [
           {
            "marker": {
             "colorbar": {
              "outlinewidth": 0,
              "ticks": ""
             }
            },
            "type": "scatter"
           }
          ],
          "scatter3d": [
           {
            "line": {
             "colorbar": {
              "outlinewidth": 0,
              "ticks": ""
             }
            },
            "marker": {
             "colorbar": {
              "outlinewidth": 0,
              "ticks": ""
             }
            },
            "type": "scatter3d"
           }
          ],
          "scattercarpet": [
           {
            "marker": {
             "colorbar": {
              "outlinewidth": 0,
              "ticks": ""
             }
            },
            "type": "scattercarpet"
           }
          ],
          "scattergeo": [
           {
            "marker": {
             "colorbar": {
              "outlinewidth": 0,
              "ticks": ""
             }
            },
            "type": "scattergeo"
           }
          ],
          "scattergl": [
           {
            "marker": {
             "colorbar": {
              "outlinewidth": 0,
              "ticks": ""
             }
            },
            "type": "scattergl"
           }
          ],
          "scattermapbox": [
           {
            "marker": {
             "colorbar": {
              "outlinewidth": 0,
              "ticks": ""
             }
            },
            "type": "scattermapbox"
           }
          ],
          "scatterpolar": [
           {
            "marker": {
             "colorbar": {
              "outlinewidth": 0,
              "ticks": ""
             }
            },
            "type": "scatterpolar"
           }
          ],
          "scatterpolargl": [
           {
            "marker": {
             "colorbar": {
              "outlinewidth": 0,
              "ticks": ""
             }
            },
            "type": "scatterpolargl"
           }
          ],
          "scatterternary": [
           {
            "marker": {
             "colorbar": {
              "outlinewidth": 0,
              "ticks": ""
             }
            },
            "type": "scatterternary"
           }
          ],
          "surface": [
           {
            "colorbar": {
             "outlinewidth": 0,
             "ticks": ""
            },
            "colorscale": [
             [
              0,
              "#0d0887"
             ],
             [
              0.1111111111111111,
              "#46039f"
             ],
             [
              0.2222222222222222,
              "#7201a8"
             ],
             [
              0.3333333333333333,
              "#9c179e"
             ],
             [
              0.4444444444444444,
              "#bd3786"
             ],
             [
              0.5555555555555556,
              "#d8576b"
             ],
             [
              0.6666666666666666,
              "#ed7953"
             ],
             [
              0.7777777777777778,
              "#fb9f3a"
             ],
             [
              0.8888888888888888,
              "#fdca26"
             ],
             [
              1,
              "#f0f921"
             ]
            ],
            "type": "surface"
           }
          ],
          "table": [
           {
            "cells": {
             "fill": {
              "color": "#EBF0F8"
             },
             "line": {
              "color": "white"
             }
            },
            "header": {
             "fill": {
              "color": "#C8D4E3"
             },
             "line": {
              "color": "white"
             }
            },
            "type": "table"
           }
          ]
         },
         "layout": {
          "annotationdefaults": {
           "arrowcolor": "#2a3f5f",
           "arrowhead": 0,
           "arrowwidth": 1
          },
          "autotypenumbers": "strict",
          "coloraxis": {
           "colorbar": {
            "outlinewidth": 0,
            "ticks": ""
           }
          },
          "colorscale": {
           "diverging": [
            [
             0,
             "#8e0152"
            ],
            [
             0.1,
             "#c51b7d"
            ],
            [
             0.2,
             "#de77ae"
            ],
            [
             0.3,
             "#f1b6da"
            ],
            [
             0.4,
             "#fde0ef"
            ],
            [
             0.5,
             "#f7f7f7"
            ],
            [
             0.6,
             "#e6f5d0"
            ],
            [
             0.7,
             "#b8e186"
            ],
            [
             0.8,
             "#7fbc41"
            ],
            [
             0.9,
             "#4d9221"
            ],
            [
             1,
             "#276419"
            ]
           ],
           "sequential": [
            [
             0,
             "#0d0887"
            ],
            [
             0.1111111111111111,
             "#46039f"
            ],
            [
             0.2222222222222222,
             "#7201a8"
            ],
            [
             0.3333333333333333,
             "#9c179e"
            ],
            [
             0.4444444444444444,
             "#bd3786"
            ],
            [
             0.5555555555555556,
             "#d8576b"
            ],
            [
             0.6666666666666666,
             "#ed7953"
            ],
            [
             0.7777777777777778,
             "#fb9f3a"
            ],
            [
             0.8888888888888888,
             "#fdca26"
            ],
            [
             1,
             "#f0f921"
            ]
           ],
           "sequentialminus": [
            [
             0,
             "#0d0887"
            ],
            [
             0.1111111111111111,
             "#46039f"
            ],
            [
             0.2222222222222222,
             "#7201a8"
            ],
            [
             0.3333333333333333,
             "#9c179e"
            ],
            [
             0.4444444444444444,
             "#bd3786"
            ],
            [
             0.5555555555555556,
             "#d8576b"
            ],
            [
             0.6666666666666666,
             "#ed7953"
            ],
            [
             0.7777777777777778,
             "#fb9f3a"
            ],
            [
             0.8888888888888888,
             "#fdca26"
            ],
            [
             1,
             "#f0f921"
            ]
           ]
          },
          "colorway": [
           "#636efa",
           "#EF553B",
           "#00cc96",
           "#ab63fa",
           "#FFA15A",
           "#19d3f3",
           "#FF6692",
           "#B6E880",
           "#FF97FF",
           "#FECB52"
          ],
          "font": {
           "color": "#2a3f5f"
          },
          "geo": {
           "bgcolor": "white",
           "lakecolor": "white",
           "landcolor": "#E5ECF6",
           "showlakes": true,
           "showland": true,
           "subunitcolor": "white"
          },
          "hoverlabel": {
           "align": "left"
          },
          "hovermode": "closest",
          "mapbox": {
           "style": "light"
          },
          "paper_bgcolor": "white",
          "plot_bgcolor": "#E5ECF6",
          "polar": {
           "angularaxis": {
            "gridcolor": "white",
            "linecolor": "white",
            "ticks": ""
           },
           "bgcolor": "#E5ECF6",
           "radialaxis": {
            "gridcolor": "white",
            "linecolor": "white",
            "ticks": ""
           }
          },
          "scene": {
           "xaxis": {
            "backgroundcolor": "#E5ECF6",
            "gridcolor": "white",
            "gridwidth": 2,
            "linecolor": "white",
            "showbackground": true,
            "ticks": "",
            "zerolinecolor": "white"
           },
           "yaxis": {
            "backgroundcolor": "#E5ECF6",
            "gridcolor": "white",
            "gridwidth": 2,
            "linecolor": "white",
            "showbackground": true,
            "ticks": "",
            "zerolinecolor": "white"
           },
           "zaxis": {
            "backgroundcolor": "#E5ECF6",
            "gridcolor": "white",
            "gridwidth": 2,
            "linecolor": "white",
            "showbackground": true,
            "ticks": "",
            "zerolinecolor": "white"
           }
          },
          "shapedefaults": {
           "line": {
            "color": "#2a3f5f"
           }
          },
          "ternary": {
           "aaxis": {
            "gridcolor": "white",
            "linecolor": "white",
            "ticks": ""
           },
           "baxis": {
            "gridcolor": "white",
            "linecolor": "white",
            "ticks": ""
           },
           "bgcolor": "#E5ECF6",
           "caxis": {
            "gridcolor": "white",
            "linecolor": "white",
            "ticks": ""
           }
          },
          "title": {
           "x": 0.05
          },
          "xaxis": {
           "automargin": true,
           "gridcolor": "white",
           "linecolor": "white",
           "ticks": "",
           "title": {
            "standoff": 15
           },
           "zerolinecolor": "white",
           "zerolinewidth": 2
          },
          "yaxis": {
           "automargin": true,
           "gridcolor": "white",
           "linecolor": "white",
           "ticks": "",
           "title": {
            "standoff": 15
           },
           "zerolinecolor": "white",
           "zerolinewidth": 2
          }
         }
        },
        "title": {
         "text": "Number of likes per year"
        },
        "xaxis": {
         "anchor": "y",
         "domain": [
          0,
          1
         ],
         "title": {
          "text": "Date"
         }
        },
        "yaxis": {
         "anchor": "x",
         "domain": [
          0,
          1
         ],
         "title": {
          "text": "Likes"
         }
        }
       }
      }
     },
     "metadata": {},
     "output_type": "display_data"
    }
   ],
   "source": [
    "px.line(df,y='Likes',x='Date',title='Number of likes per year',hover_data=['Title'])"
   ]
  },
  {
   "cell_type": "markdown",
   "metadata": {},
   "source": [
    "We can see that number of likes increased as time passes on, but there are rapid jumps in line pattern. There are some videos with lot of likes and some videos have very few likes."
   ]
  },
  {
   "cell_type": "markdown",
   "metadata": {},
   "source": [
    "Lets see the videos which has lot of likes"
   ]
  },
  {
   "cell_type": "code",
   "execution_count": 29,
   "metadata": {},
   "outputs": [
    {
     "data": {
      "text/html": [
       "<div>\n",
       "<style scoped>\n",
       "    .dataframe tbody tr th:only-of-type {\n",
       "        vertical-align: middle;\n",
       "    }\n",
       "\n",
       "    .dataframe tbody tr th {\n",
       "        vertical-align: top;\n",
       "    }\n",
       "\n",
       "    .dataframe thead th {\n",
       "        text-align: right;\n",
       "    }\n",
       "</style>\n",
       "<table border=\"1\" class=\"dataframe\">\n",
       "  <thead>\n",
       "    <tr style=\"text-align: right;\">\n",
       "      <th></th>\n",
       "      <th>Title</th>\n",
       "      <th>Views</th>\n",
       "      <th>Date</th>\n",
       "      <th>Likes</th>\n",
       "      <th>Comments</th>\n",
       "      <th>Link</th>\n",
       "    </tr>\n",
       "  </thead>\n",
       "  <tbody>\n",
       "    <tr>\n",
       "      <th>191</th>\n",
       "      <td>Reflecting on the Color of My Skin</td>\n",
       "      <td>6648699</td>\n",
       "      <td>2020-06-04</td>\n",
       "      <td>657022</td>\n",
       "      <td>50188</td>\n",
       "      <td>youtube.com/watch?v=o-_WXXVye3Y</td>\n",
       "    </tr>\n",
       "    <tr>\n",
       "      <th>139</th>\n",
       "      <td>PlayStation 5 Unboxing &amp; Accessories!</td>\n",
       "      <td>13652604</td>\n",
       "      <td>2020-10-27</td>\n",
       "      <td>580105</td>\n",
       "      <td>40834</td>\n",
       "      <td>youtube.com/watch?v=QtMzV73NAgk</td>\n",
       "    </tr>\n",
       "    <tr>\n",
       "      <th>386</th>\n",
       "      <td>Talking Tech with Elon Musk!</td>\n",
       "      <td>14229066</td>\n",
       "      <td>2018-08-17</td>\n",
       "      <td>531345</td>\n",
       "      <td>27850</td>\n",
       "      <td>youtube.com/watch?v=MevKTPN4ozw</td>\n",
       "    </tr>\n",
       "    <tr>\n",
       "      <th>33</th>\n",
       "      <td>Dear YouTube!</td>\n",
       "      <td>3682313</td>\n",
       "      <td>2021-11-11</td>\n",
       "      <td>510942</td>\n",
       "      <td>38042</td>\n",
       "      <td>youtube.com/watch?v=CaaJyRvvaq8</td>\n",
       "    </tr>\n",
       "    <tr>\n",
       "      <th>144</th>\n",
       "      <td>iPhone 12 Unboxing Experience + MagSafe Demo!</td>\n",
       "      <td>12546306</td>\n",
       "      <td>2020-10-20</td>\n",
       "      <td>431428</td>\n",
       "      <td>34317</td>\n",
       "      <td>youtube.com/watch?v=Sx6dAx7dnXg</td>\n",
       "    </tr>\n",
       "    <tr>\n",
       "      <th>124</th>\n",
       "      <td>AirPods Max Unboxing &amp; Impressions: $550?!</td>\n",
       "      <td>11954658</td>\n",
       "      <td>2020-12-10</td>\n",
       "      <td>405425</td>\n",
       "      <td>46641</td>\n",
       "      <td>youtube.com/watch?v=UdfSrJvqY_E</td>\n",
       "    </tr>\n",
       "    <tr>\n",
       "      <th>385</th>\n",
       "      <td>Tesla Factory Tour with Elon Musk!</td>\n",
       "      <td>13401942</td>\n",
       "      <td>2018-08-20</td>\n",
       "      <td>391474</td>\n",
       "      <td>19384</td>\n",
       "      <td>youtube.com/watch?v=mr9kK0_7x08</td>\n",
       "    </tr>\n",
       "    <tr>\n",
       "      <th>219</th>\n",
       "      <td>Xiaomi Mi Mix Alpha Impressions: The Wraparoun...</td>\n",
       "      <td>15600590</td>\n",
       "      <td>2020-02-28</td>\n",
       "      <td>390327</td>\n",
       "      <td>23535</td>\n",
       "      <td>youtube.com/watch?v=PTpoj4f25dk</td>\n",
       "    </tr>\n",
       "    <tr>\n",
       "      <th>351</th>\n",
       "      <td>The Problem with YouTube Rewind!</td>\n",
       "      <td>7712667</td>\n",
       "      <td>2018-12-12</td>\n",
       "      <td>373757</td>\n",
       "      <td>35309</td>\n",
       "      <td>youtube.com/watch?v=P5dxd-ocaE8</td>\n",
       "    </tr>\n",
       "    <tr>\n",
       "      <th>316</th>\n",
       "      <td>Samsung Galaxy Fold Unboxing: Magnets!</td>\n",
       "      <td>23009027</td>\n",
       "      <td>2019-04-16</td>\n",
       "      <td>351793</td>\n",
       "      <td>11685</td>\n",
       "      <td>youtube.com/watch?v=x4yF3a3Zn4Y</td>\n",
       "    </tr>\n",
       "    <tr>\n",
       "      <th>216</th>\n",
       "      <td>The Truth About the Escobar Folding Phone!</td>\n",
       "      <td>8698647</td>\n",
       "      <td>2020-03-10</td>\n",
       "      <td>350032</td>\n",
       "      <td>18255</td>\n",
       "      <td>youtube.com/watch?v=O8FJSjy3bXA</td>\n",
       "    </tr>\n",
       "    <tr>\n",
       "      <th>267</th>\n",
       "      <td>This Is What Happens When You Re-Upload a YouT...</td>\n",
       "      <td>8158388</td>\n",
       "      <td>2019-10-11</td>\n",
       "      <td>337055</td>\n",
       "      <td>19644</td>\n",
       "      <td>youtube.com/watch?v=JR4KHfqw-oE</td>\n",
       "    </tr>\n",
       "    <tr>\n",
       "      <th>315</th>\n",
       "      <td>The Broken Galaxy Folds: Explained!</td>\n",
       "      <td>16611058</td>\n",
       "      <td>2019-04-18</td>\n",
       "      <td>336113</td>\n",
       "      <td>30847</td>\n",
       "      <td>youtube.com/watch?v=vtqtyyGZvXM</td>\n",
       "    </tr>\n",
       "    <tr>\n",
       "      <th>183</th>\n",
       "      <td>iOS 14 Hands-On: Everything New!</td>\n",
       "      <td>10411900</td>\n",
       "      <td>2020-06-23</td>\n",
       "      <td>320297</td>\n",
       "      <td>25558</td>\n",
       "      <td>youtube.com/watch?v=ZLyDvABxGF0</td>\n",
       "    </tr>\n",
       "    <tr>\n",
       "      <th>242</th>\n",
       "      <td>10,000,000!</td>\n",
       "      <td>2944284</td>\n",
       "      <td>2019-12-18</td>\n",
       "      <td>311607</td>\n",
       "      <td>20370</td>\n",
       "      <td>youtube.com/watch?v=NvQmi_ciL1k</td>\n",
       "    </tr>\n",
       "    <tr>\n",
       "      <th>140</th>\n",
       "      <td>iPhone 12 Review: Just Got Real!</td>\n",
       "      <td>12172825</td>\n",
       "      <td>2020-10-25</td>\n",
       "      <td>309617</td>\n",
       "      <td>21464</td>\n",
       "      <td>youtube.com/watch?v=X1b3C2081-Q</td>\n",
       "    </tr>\n",
       "    <tr>\n",
       "      <th>154</th>\n",
       "      <td>Can You Actually Game in 8K? (RTX 3090 Gameplay!)</td>\n",
       "      <td>9787930</td>\n",
       "      <td>2020-09-22</td>\n",
       "      <td>304213</td>\n",
       "      <td>26754</td>\n",
       "      <td>youtube.com/watch?v=kFz9afj8lu0</td>\n",
       "    </tr>\n",
       "    <tr>\n",
       "      <th>335</th>\n",
       "      <td>Talking Tech &amp; Saving the World with Bill Gates!</td>\n",
       "      <td>5805260</td>\n",
       "      <td>2019-02-12</td>\n",
       "      <td>299530</td>\n",
       "      <td>18496</td>\n",
       "      <td>youtube.com/watch?v=4mxXdCUXSSs</td>\n",
       "    </tr>\n",
       "    <tr>\n",
       "      <th>43</th>\n",
       "      <td>Reviewing EVERY iPhone Ever!</td>\n",
       "      <td>8502428</td>\n",
       "      <td>2021-10-11</td>\n",
       "      <td>299491</td>\n",
       "      <td>20112</td>\n",
       "      <td>youtube.com/watch?v=8FpPSMIB4uA</td>\n",
       "    </tr>\n",
       "    <tr>\n",
       "      <th>153</th>\n",
       "      <td>The Ultimate iOS 14 Homescreen Setup Guide!</td>\n",
       "      <td>11013258</td>\n",
       "      <td>2020-09-24</td>\n",
       "      <td>297461</td>\n",
       "      <td>13410</td>\n",
       "      <td>youtube.com/watch?v=cH66LWWluVE</td>\n",
       "    </tr>\n",
       "  </tbody>\n",
       "</table>\n",
       "</div>"
      ],
      "text/plain": [
       "                                                 Title     Views       Date  \\\n",
       "191                 Reflecting on the Color of My Skin   6648699 2020-06-04   \n",
       "139              PlayStation 5 Unboxing & Accessories!  13652604 2020-10-27   \n",
       "386                       Talking Tech with Elon Musk!  14229066 2018-08-17   \n",
       "33                                       Dear YouTube!   3682313 2021-11-11   \n",
       "144      iPhone 12 Unboxing Experience + MagSafe Demo!  12546306 2020-10-20   \n",
       "124         AirPods Max Unboxing & Impressions: $550?!  11954658 2020-12-10   \n",
       "385                 Tesla Factory Tour with Elon Musk!  13401942 2018-08-20   \n",
       "219  Xiaomi Mi Mix Alpha Impressions: The Wraparoun...  15600590 2020-02-28   \n",
       "351                   The Problem with YouTube Rewind!   7712667 2018-12-12   \n",
       "316             Samsung Galaxy Fold Unboxing: Magnets!  23009027 2019-04-16   \n",
       "216         The Truth About the Escobar Folding Phone!   8698647 2020-03-10   \n",
       "267  This Is What Happens When You Re-Upload a YouT...   8158388 2019-10-11   \n",
       "315                The Broken Galaxy Folds: Explained!  16611058 2019-04-18   \n",
       "183                   iOS 14 Hands-On: Everything New!  10411900 2020-06-23   \n",
       "242                                        10,000,000!   2944284 2019-12-18   \n",
       "140                   iPhone 12 Review: Just Got Real!  12172825 2020-10-25   \n",
       "154  Can You Actually Game in 8K? (RTX 3090 Gameplay!)   9787930 2020-09-22   \n",
       "335   Talking Tech & Saving the World with Bill Gates!   5805260 2019-02-12   \n",
       "43                        Reviewing EVERY iPhone Ever!   8502428 2021-10-11   \n",
       "153        The Ultimate iOS 14 Homescreen Setup Guide!  11013258 2020-09-24   \n",
       "\n",
       "      Likes  Comments                             Link  \n",
       "191  657022     50188  youtube.com/watch?v=o-_WXXVye3Y  \n",
       "139  580105     40834  youtube.com/watch?v=QtMzV73NAgk  \n",
       "386  531345     27850  youtube.com/watch?v=MevKTPN4ozw  \n",
       "33   510942     38042  youtube.com/watch?v=CaaJyRvvaq8  \n",
       "144  431428     34317  youtube.com/watch?v=Sx6dAx7dnXg  \n",
       "124  405425     46641  youtube.com/watch?v=UdfSrJvqY_E  \n",
       "385  391474     19384  youtube.com/watch?v=mr9kK0_7x08  \n",
       "219  390327     23535  youtube.com/watch?v=PTpoj4f25dk  \n",
       "351  373757     35309  youtube.com/watch?v=P5dxd-ocaE8  \n",
       "316  351793     11685  youtube.com/watch?v=x4yF3a3Zn4Y  \n",
       "216  350032     18255  youtube.com/watch?v=O8FJSjy3bXA  \n",
       "267  337055     19644  youtube.com/watch?v=JR4KHfqw-oE  \n",
       "315  336113     30847  youtube.com/watch?v=vtqtyyGZvXM  \n",
       "183  320297     25558  youtube.com/watch?v=ZLyDvABxGF0  \n",
       "242  311607     20370  youtube.com/watch?v=NvQmi_ciL1k  \n",
       "140  309617     21464  youtube.com/watch?v=X1b3C2081-Q  \n",
       "154  304213     26754  youtube.com/watch?v=kFz9afj8lu0  \n",
       "335  299530     18496  youtube.com/watch?v=4mxXdCUXSSs  \n",
       "43   299491     20112  youtube.com/watch?v=8FpPSMIB4uA  \n",
       "153  297461     13410  youtube.com/watch?v=cH66LWWluVE  "
      ]
     },
     "execution_count": 29,
     "metadata": {},
     "output_type": "execute_result"
    }
   ],
   "source": [
    "df.sort_values('Likes',ascending=False)[:20]"
   ]
  },
  {
   "cell_type": "markdown",
   "metadata": {},
   "source": [
    "## Lets focus on comments column"
   ]
  },
  {
   "cell_type": "code",
   "execution_count": 30,
   "metadata": {},
   "outputs": [
    {
     "data": {
      "application/vnd.plotly.v1+json": {
       "config": {
        "plotlyServerURL": "https://plot.ly"
       },
       "data": [
        {
         "customdata": [
          [
           "YouTube Needs to Fix This"
          ],
          [
           "The Electric Car Pre-Order Problem"
          ],
          [
           "Does Fast Charging ACTUALLY Ruin Your Battery?"
          ],
          [
           "\"The Apple Studio Display is a Bad Deal\""
          ],
          [
           "Mac Studio Review: Double Trouble!"
          ],
          [
           "iPad Air M1 Review: Don't Choose Wrong!"
          ],
          [
           "iPhone SE (2022) Review: Old Dog. New Trick."
          ],
          [
           "NEW Mac Studio & Apple Event Reactions!"
          ],
          [
           "Dope Tech: Weirdest Earbuds I've Ever Tried!"
          ],
          [
           "Galaxy Tab S8 Ultra: A Monster Tablet!"
          ],
          [
           "Galaxy S22 Ultra Review: Separating from the Pack!"
          ],
          [
           "Galaxy S22 Review: The iPhone of Android!"
          ],
          [
           "On New Cybertruck Updates from Drone Footage..."
          ],
          [
           "Galaxy S22 Ultra Impressions: It's a Note!"
          ],
          [
           "Galaxy S22 Impressions: 1 Real Downgrade!"
          ],
          [
           "An Announcement!"
          ],
          [
           "OnePlus 10 Pro Impressions: What Happened?"
          ],
          [
           "Blue Bubbles vs Green Bubbles: Explained!"
          ],
          [
           "When Tech Companies Lie to Us..."
          ],
          [
           "My Everyday Tech: 2022!"
          ],
          [
           "2022 Tech I'm Ready For!"
          ],
          [
           "Galaxy S21 FE Impressions: Great Phone, Odd Price!"
          ],
          [
           "Rewind: Best Gadgets of 2021!"
          ],
          [
           "Tech Rewind 2021!"
          ],
          [
           "Smartphone Awards 2021!"
          ],
          [
           "20 Questions with MrBeast!"
          ],
          [
           "The Blind Smartphone Camera Test 2021!"
          ],
          [
           "Oppo Find N Impressions: The Best Folding Phone?!"
          ],
          [
           "Smartphone Cameras vs Reality!"
          ],
          [
           "This Smartphone is Built Different..."
          ],
          [
           "Why Does This $10,000 Gucci Xbox Exist?"
          ],
          [
           "What is a Google Phone?! Reviewing Every Pixel/Nexus Ever!"
          ],
          [
           "Apple vs Right to Repair: Part 2!"
          ],
          [
           "Dear YouTube!"
          ],
          [
           "The Best Camera in Any Phone... With a Catch!"
          ],
          [
           "M1 Max MacBook Pro Review: Truly Next Level!"
          ],
          [
           "AirPods 3 Review: Easy Mode!"
          ],
          [
           "Pixel 6/6 Pro Review: Almost Incredible!"
          ],
          [
           "The Rivian R1T is an Incredibly Fun Electric Pickup!"
          ],
          [
           "Surface Duo 2: Can This Be Saved?"
          ],
          [
           "Pixel 6/6 Pro Unboxing & First Look!"
          ],
          [
           "NEW M1 Max MacBook Pro Reaction: The Ports are Back!"
          ],
          [
           "Apple Watch Series 7 Review: Spot the Differences!"
          ],
          [
           "Reviewing EVERY iPhone Ever!"
          ],
          [
           "Surface Laptop Studio Impressions: Windows 11 With a Twist!"
          ],
          [
           "iPhone 13 Pro Review: Better Than You Think!"
          ],
          [
           "RED V-RAPTOR Impressions: 8K 120fps!"
          ],
          [
           "iPhone 13 Review: Lowkey Great!"
          ],
          [
           "iPad Mini 2021 Review: Pocketable Power!"
          ],
          [
           "iPhone 13 Unboxing & Impressions!"
          ],
          [
           "3 Features the iPhone 13 Didn't Add!"
          ],
          [
           "iPhone 13 Event Reaction: Everything New!"
          ],
          [
           "Real Thoughts on Tech Leaks!"
          ],
          [
           "Driving 1000 Miles in 3 Cars: Gas vs Electric!"
          ],
          [
           "Samsung Z Flip 3 Review: The First Big Step!"
          ],
          [
           "The Tesla Bot: Explained!"
          ],
          [
           "Samsung Z Fold 3 Review: Let's Talk Ambition!"
          ],
          [
           "Google Pixel 5A: Spot the Difference!"
          ],
          [
           "Samsung Galaxy Z Flip 3 Impressions: Design Refresh!"
          ],
          [
           "Samsung Galaxy Z Fold 3 Impressions: 3 New Features!"
          ],
          [
           "Pixel 6's Tensor Chip: Let's Talk!"
          ],
          [
           "The Electric Hummer: Hands-On & Impressions!"
          ],
          [
           "Nothing Ear(1) Review: See Through the Hype!"
          ],
          [
           "The iPhone 13 Models!"
          ],
          [
           "Tesla Model S PLAID Impressions: Re-Inventing the Wheel!"
          ],
          [
           "How Do YouTubers Make Money? (And Other Questions We Have to Answer)"
          ],
          [
           "iPadOS 15 Review: Dropped Expectations!"
          ],
          [
           "iOS 15 Hands-On: Top 5 New Features!"
          ],
          [
           "Sony Xperia 1 III: The Ultimate Enthusiast Phone!"
          ],
          [
           "Why Everything is an Ultrabook!"
          ],
          [
           "Windows 11 Reactions: It Runs Android Apps! (Kinda)"
          ],
          [
           "Forgot About Beats by Dre?"
          ],
          [
           "Top 5 Android 12 Features: Huge Redesign!"
          ],
          [
           "Why iPhone's Features are Always \"Late\""
          ],
          [
           "When Smartphones Copy Each Other!"
          ],
          [
           "Ford F150 Lightning Impressions: Better Than I Thought!"
          ],
          [
           "Talking Tech and AI with Google CEO Sundar Pichai!"
          ],
          [
           "iPad Pro M1 Review: The Ultimate Spec Bump!"
          ],
          [
           "M1 iMac Review: Ultra Thin Design Choice!"
          ],
          [
           "What Is Right To Repair?"
          ],
          [
           "Apple vs The Paradox of Choice!"
          ],
          [
           "OnePlus Watch Review: They Settled!"
          ],
          [
           "The New Purple iPhone 12!"
          ],
          [
           "Apple AirTags Unboxing & Demo!"
          ],
          [
           "Colored iMacs? Let's Talk About Apple's 4/20 Event!"
          ],
          [
           "Retro Tech: Smart Homes"
          ],
          [
           "Retro Tech: Hyperconnectivity"
          ],
          [
           "Retro Tech: Robots"
          ],
          [
           "Retro Tech: Teleportation"
          ],
          [
           "Retro Tech: Flying Cars"
          ],
          [
           "The World's Largest Smartphone Camera!"
          ],
          [
           "Top 5 Mercedes EQS Features: Electric Luxury!"
          ],
          [
           "The Ultimate Gaming Phone!"
          ],
          [
           "Why Did LG Phones Really Die?"
          ],
          [
           "The Best Mac I've Ever Reviewed!"
          ],
          [
           "OnePlus 9 Review: Sneaky Value!"
          ],
          [
           "OnePlus 9 Pro Review: A Huge Hasselblad Promise!"
          ],
          [
           "Huawei Mate X2 Impressions: I Was Right!"
          ],
          [
           "Dope Tech: The Fastest Drone AND Car Yet!"
          ],
          [
           "The Smartphone With a Microscope Camera?!"
          ],
          [
           "ROG Phone 5 Ultimate Review: The Most Ridiculous Custom!"
          ],
          [
           "What I REALLY Think of the iPhone!"
          ],
          [
           "iPhone 13 \"Confirmed\"?! NOPE"
          ],
          [
           "Dogecoin: Explained"
          ],
          [
           "How to Upgrade a PlayStation 5!"
          ],
          [
           "Huawei Mate Xs Impressions: The Hottest Foldable!"
          ],
          [
           "Galaxy S21 Review: Would You Notice?"
          ],
          [
           "2021 Tesla Model S Refresh Reaction!"
          ],
          [
           "The Only REAL \"Pro\" Smartphone?!"
          ],
          [
           "The Invisible Selfie Camera!"
          ],
          [
           "Samsung Galaxy S21 Ultra Review: Problems Solved!"
          ],
          [
           "Xiaomi Mi 11: The New Normal!"
          ],
          [
           "Huge Apple 2021 Rumor Reactions!"
          ],
          [
           "Samsung Galaxy S21 Ultra Impressions: Redemption Time!"
          ],
          [
           "Samsung Galaxy S21 Impressions: New Year, New Price!"
          ],
          [
           "What Happened to OnePlus?"
          ],
          [
           "2021 Tech I'm Ready For!"
          ],
          [
           "Dear Electric Cars!"
          ],
          [
           "Giving Away 24 PS5s and XBox Series X!"
          ],
          [
           "Smartphone Awards 2020!"
          ],
          [
           "Some Quick Advice from Barack Obama!"
          ],
          [
           "AirPods Max Review: Luxury Listening!"
          ],
          [
           "Outer Folding Phones: It's Time to Stop!"
          ],
          [
           "The iPhone with a Piece of the Moon? The Caviar Story"
          ],
          [
           "AirPods Max Unboxing & Impressions: $550?!"
          ],
          [
           "The Portless iPhone 13: Let's Talk!"
          ],
          [
           "The $129 Smartphone?!"
          ],
          [
           "The Blind Smartphone Camera Test 2020!"
          ],
          [
           "What's in my Tech Bag! [2020]"
          ],
          [
           "The FIRST MKBHD Product: ICONS!"
          ],
          [
           "The First Folding Screen Tablet!"
          ],
          [
           "Apple M1 Mac Review: Time to Recalibrate!"
          ],
          [
           "PlayStation 5 Review: Next Gen Gaming!"
          ],
          [
           "HomePod Mini Review: Big Sound, Tiny Box!"
          ],
          [
           "Apple M1 Chip: Let's Talk!"
          ],
          [
           "iPhone 12 Pro Max Review: The Biggest Ever!"
          ],
          [
           "iPhone 12 Mini Review: Tiny Tradeoffs!"
          ],
          [
           "PlayStation 5 Controller: Major Key!"
          ],
          [
           "iPhone 12 Pro Review: You Sure About That?"
          ],
          [
           "PlayStation 5 Unboxing & Accessories!"
          ],
          [
           "iPhone 12 Review: Just Got Real!"
          ],
          [
           "Google Pixel 5 Review: Software Special!"
          ],
          [
           "Huawei Mate 40 Pro Impressions: Technically Awesome!"
          ],
          [
           "iPad Air 2020: The Real iPad Pro Killer!"
          ],
          [
           "iPhone 12 Unboxing Experience + MagSafe Demo!"
          ],
          [
           "LG Wing: The Swiveling Smartphone!"
          ],
          [
           "The $200 Smartphone?!"
          ],
          [
           "Google Pixel 5 Impressions: A New Strategy?"
          ],
          [
           "OnePlus 8T Review: The Awkward Middle Child!"
          ],
          [
           "Apple iPhone 12 Lineup Reactions!"
          ],
          [
           "Why Don't People Buy Sony Smartphones?"
          ],
          [
           "Apple Watch Series 6 Review: It's Bait!"
          ],
          [
           "The Galaxy S20 Fan Edition: Hear Me Out!"
          ],
          [
           "The Ultimate iOS 14 Homescreen Setup Guide!"
          ],
          [
           "Can You Actually Game in 8K? (RTX 3090 Gameplay!)"
          ],
          [
           "Porsche Taycan Turbo: I Almost Switched!  [Auto Focus Ep 6]"
          ],
          [
           "Xbox Series X/S Design Impressions!"
          ],
          [
           "Apple Watch Series 6: Everything New! (Product RED)"
          ],
          [
           "Talking Tech and Holograms with Mark Zuckerberg!"
          ],
          [
           "Galaxy Z Fold 2 Review: Folding King... But For What?"
          ],
          [
           "Surface Duo Review: The Good, The Bad & The Ugly!"
          ],
          [
           "Moto RAZR 2 Impressions: Nostalgia Reloaded?"
          ],
          [
           "Samsung Galaxy Z Fold 2 Unboxing: 3 Major Upgrades!"
          ],
          [
           "Surface Duo Unboxing & Impressions: Hinge Goals!"
          ],
          [
           "Samsung Galaxy Nope 20!"
          ],
          [
           "6K RED Komodo Impressions: The Mini Cine Camera!"
          ],
          [
           "Galaxy Note 20 Ultra Review: It Better Be Good!"
          ],
          [
           "Dope Tech: The iPad Pro Killer?!"
          ],
          [
           "Sony WH-1000XM4 Review: The Final Form!"
          ],
          [
           "Dope Tech: Boston Dynamics Robot Dog!"
          ],
          [
           "The Last Intel Mac VS The Osborne Effect!"
          ],
          [
           "Samsung Galaxy Note 20 Ultra Impressions: Ultra Premium!"
          ],
          [
           "Google Pixel 4a Review: Simple and Clean!"
          ],
          [
           "The TRUTH About OnePlus Nord!"
          ],
          [
           "Why Tesla Model Y is Their Most Important Car! [Auto Focus Ep 5]"
          ],
          [
           "Asus ROG Phone 3 Review: The Spec King Returns!"
          ],
          [
           "OnePlus Nord Impressions: Back to Budget!"
          ],
          [
           "Dope Tech: The Biggest Ultrawide Monitor!"
          ],
          [
           "OnePlus Nord Reveal! How Much Do Smartphones Actually Cost?"
          ],
          [
           "Can You Trust MKBHD?"
          ],
          [
           "iPhone 12: What to Expect!"
          ],
          [
           "On the iPhone 12 With No Charger..."
          ],
          [
           "Apple Responds to Your Comments!"
          ],
          [
           "iOS 14 Hands-On: Everything New!"
          ],
          [
           "WWDC 2020 Impressions: Widgets and The Great Transition!"
          ],
          [
           "Samsung Galaxy Buds Plus: The Go-To!"
          ],
          [
           "PS5 Impressions: My Thoughts!"
          ],
          [
           "The Largest Daily Driver Unboxing!"
          ],
          [
           "Top 5 Android 11 Features: Big Tweaks!"
          ],
          [
           "CyberTruck Phone Impressions... Ridiculous"
          ],
          [
           "Dope Tech:  The $3500 Bluetooth Speaker!"
          ],
          [
           "Reflecting on the Color of My Skin"
          ],
          [
           "Escobar Responds! A PSA"
          ],
          [
           "Poco F2 Pro: The Full Screen Deal!"
          ],
          [
           "How Teslas Upgrade Over Time!"
          ],
          [
           "Surface Headphones 2: Matte Black Everything!"
          ],
          [
           "The Budget Phone Blueprint!"
          ],
          [
           "The Fastest Phone of 2020!"
          ],
          [
           "The $700 Mac Pro Wheels: Explained!"
          ],
          [
           "The 2020 13\" MacBook Pro Impressions: Wait a Minute!"
          ],
          [
           "Google Pixel Buds Review: WAY Better!"
          ],
          [
           "iPhone 11 Pro Review: 6 Months Later!"
          ],
          [
           "Moto Edge+ Review: We Need to Talk!"
          ],
          [
           "World's \"FASTEST\" Gaming PC!"
          ],
          [
           "iPhone SE (2020) Review: It All Adds Up!"
          ],
          [
           "Apple Magic Keyboard: Floating iPad Pro?"
          ],
          [
           "iPhone SE (2020) Honest Thoughts..."
          ],
          [
           "OnePlus 8 Review: Special No More!"
          ],
          [
           "OnePlus 8 Pro Review: Finally a Flagship!"
          ],
          [
           "Last Video in this Studio!"
          ],
          [
           "What's On My Phone: 2020!"
          ],
          [
           "Huawei P40 Pro Impressions: What We Should Copy!"
          ],
          [
           "2020 iPad Pro Review: It's... A Computer?!"
          ],
          [
           "2020 MacBook Air Impressions: A Clean Refresh!"
          ],
          [
           "The Rollable Smartphone?"
          ],
          [
           "Samsung Galaxy S20 Review: All the Right Moves!"
          ],
          [
           "The Truth About the Escobar Folding Phone!"
          ],
          [
           "Oppo Find X2 Pro: One-Upping the Champ?"
          ],
          [
           "Samsung Galaxy S20 Ultra Review: Attack of the Numbers!"
          ],
          [
           "Xiaomi Mi Mix Alpha Impressions: The Wraparound Display!"
          ],
          [
           "The 2020 Mac Pro: A Silent Killer!"
          ],
          [
           "MKBHD Studio 2020 Build: Part 1!"
          ],
          [
           "Galaxy Z Flip vs Moto RAZR 2020: 10 Differences!"
          ],
          [
           "Samsung Galaxy Z Flip Unboxing: It's Growing on Me!"
          ],
          [
           "Talking Tech and 2020 with Bill Gates!"
          ],
          [
           "Samsung Galaxy Z Flip Impressions: Mixed Feelings!"
          ],
          [
           "Samsung Galaxy S20 Ultra Impressions: 108 Megapixels!"
          ],
          [
           "Galaxy S20 Impressions: New Year, New Samsung!"
          ],
          [
           "Foldable Moto RAZR Unboxing & Second Thoughts!"
          ],
          [
           "Are we at Peak Smartphone?"
          ],
          [
           "YouTube Diamond Play Button Review!"
          ],
          [
           "Why Everyone is Copying AirPods: Explained!"
          ],
          [
           "The MKBHD Setup Tour 2020!"
          ],
          [
           "Dope Tech of CES 2020: Sony Made a Car?!"
          ],
          [
           "OnePlus Concept One Phone: Disappearing Cameras?"
          ],
          [
           "Most Overrated Tech? 8K Ask MKBHD 2020!"
          ],
          [
           "The Banned Huawei Mate 30 Pro: Best Phone You Shouldn't Buy!"
          ],
          [
           "2020 Tech I'm Ready For!"
          ],
          [
           "The Most Expensive iPhone in the World!"
          ],
          [
           "Smartphone Awards 2019!"
          ],
          [
           "Would a Walkman work in space?"
          ],
          [
           "Dope Tech: The World's Largest 8K OLED!"
          ],
          [
           "10,000,000!"
          ],
          [
           "The Blind Smartphone Camera Test 2019!"
          ],
          [
           "Console Wars!"
          ],
          [
           "Apple Pro Display XDR: A Grand Stand?!"
          ],
          [
           "Mac Pro Unboxing & Second Impressions: The Power is Back!"
          ],
          [
           "A look inside the original Macintosh"
          ],
          [
           "Testing Real 5G: Part 2!"
          ],
          [
           "Favorite Tech of the Year Rewind Collab!"
          ],
          [
           "Analog vs. Digital Cameras"
          ],
          [
           "RETRO TECH: CAMCORDER"
          ],
          [
           "16\" MacBook Pro Review: Now Do It Again!"
          ],
          [
           "RETRO TECH: OFFICIAL TRAILER"
          ],
          [
           "Why I Ordered a Tesla CyberTruck!"
          ],
          [
           "Tesla CyberTruck Impressions & First Drive!"
          ],
          [
           "The 108-Megapixel Smartphone Camera?!"
          ],
          [
           "2020 Moto RAZR Impressions! The Return of a Folding Icon!"
          ],
          [
           "16\" Macbook Pro First Impressions!"
          ],
          [
           "iPhone 11 Pro vs Original iPhone!"
          ],
          [
           "AirPods Pro Review: Imperfectly Perfect!"
          ],
          [
           "Beats Solo Pro: Return to Excellence!"
          ],
          [
           "LG G8X Proves Foldables are Coming!"
          ],
          [
           "AirPods Pro Unboxing & Impressions!"
          ],
          [
           "Google Pixel 4 Review: Inside the Hype Machine!"
          ],
          [
           "OnePlus 7T Pro: Tiny Tweaks to Excellence!"
          ],
          [
           "Pixel 4 Impressions: Google and Gaps!"
          ],
          [
           "This Is What Happens When You Re-Upload a YouTube Video 1000 Times!"
          ],
          [
           "Apple Watch Series 5 Review: One Big Tradeoff!"
          ],
          [
           "Talking Tech & Meme Review with Will Smith!"
          ],
          [
           "Talking Tech with Microsoft CEO Satya Nadella!"
          ],
          [
           "Hands-on with Microsoft's Future Foldables!"
          ],
          [
           "2019 Microsoft Surface Family Impressions!"
          ],
          [
           "iPhone 11 Review: Too Easy!"
          ],
          [
           "OnePlus 7T Review: High Refresh, Low Price!"
          ],
          [
           "iPhone 11 Pro Review: For the Love of Cameras!"
          ],
          [
           "Unboxing Every Green iPhone 11!"
          ],
          [
           "Samsung Galaxy Fold Re-do: Everything New!"
          ],
          [
           "Asus ROG Phone 2 Review: The Spec King!"
          ],
          [
           "iPhone 11 Pro Impressions: What a Name!"
          ],
          [
           "iPhone 11 Impressions: A Familiar Sequel!"
          ],
          [
           "Dope Tech #20: Dual Screen Tech!"
          ],
          [
           "Let's Talk About Porsche Taycan!"
          ],
          [
           "Samsung Galaxy Note 10: But Why Tho?"
          ],
          [
           "Samsung Galaxy Note 10+ Review: The Favorite Child!"
          ],
          [
           "5G: Explained!"
          ],
          [
           "Introducing Waveform: The MKBHD Podcast!"
          ],
          [
           "Apple Card Unboxing & Impressions!"
          ],
          [
           "Samsung Galaxy Note 10/10+ Impressions: A Great Duo!"
          ],
          [
           "Redmi K20 Pro Review: Incredible Value!"
          ],
          [
           "The Last (and First) Folding Phone!"
          ],
          [
           "The iPhone 11 Models!"
          ],
          [
           "What's in my Tech Bag! [2019]"
          ],
          [
           "Boosted Rev: The Tesla of Electric Scooters!"
          ],
          [
           "Bose Headphones 700: The King is Back!"
          ],
          [
           "The iPad Only Challenge!"
          ],
          [
           "PowerBeats Pro Review: Better than AirPods!"
          ],
          [
           "OnePlus 7: Way Under the Radar!"
          ],
          [
           "The Dream Smartphone! (2019)"
          ],
          [
           "The Closest Thing to AirPower!"
          ],
          [
           "iPad OS Impressions: They Listened!"
          ],
          [
           "Top 5 iOS 13 Features!"
          ],
          [
           "2019 Mac Pro Impressions: Cheese Grater is Back!"
          ],
          [
           "The 2019 iPod Touch: Why Does It Exist?"
          ],
          [
           "Asus ZenFone 6: Swivel Camera Magic!"
          ],
          [
           "Google Pixel 3a Review: A for Ace!"
          ],
          [
           "The Huawei Ban: Explained!"
          ],
          [
           "OnePlus 7 Pro: What You Didn't Know!"
          ],
          [
           "Dope Tech: The Probe Lens!"
          ],
          [
           "OnePlus 7 Pro Review: Silly Fast!"
          ],
          [
           "Google Pixel 3a Impressions: Flips the Script!"
          ],
          [
           "Galaxy Fold vs Huawei Mate X? Ask MKBHD V35!"
          ],
          [
           "Samsung Galaxy Fold Review: We Gotta Talk!"
          ],
          [
           "Huawei P30 Pro Review: Optical Excellence!"
          ],
          [
           "Retro Tech: Game Boy"
          ],
          [
           "The Broken Galaxy Folds: Explained!"
          ],
          [
           "Samsung Galaxy Fold Unboxing: Magnets!"
          ],
          [
           "Samsung Galaxy Fold Impressions!"
          ],
          [
           "The MKBHD Gear Tour 2019!"
          ],
          [
           "LG G8 Review: Master of None!"
          ],
          [
           "This is Google Pixel 4 Ultra!"
          ],
          [
           "The Death of AirPower: Explained!"
          ],
          [
           "AirPods 2: Literally Everything New!"
          ],
          [
           "Huawei P30 Pro Impressions: The Ultimate Camera?"
          ],
          [
           "Top 5 Android Q Features!"
          ],
          [
           "Tesla Model Y Impressions!"
          ],
          [
           "Samsung Galaxy S10e Review: Why Not?"
          ],
          [
           "Samsung Galaxy S10+ Review: The Bar is Set!"
          ],
          [
           "OnePlus 6T Revisited: Better than Pixel 3?"
          ],
          [
           "The Galaxy S10's Incredible Display!"
          ],
          [
           "LG G8 Impressions: Can't Touch This!"
          ],
          [
           "Samsung Galaxy S10 Impressions!"
          ],
          [
           "Samsung Galaxy S10E Impressions!"
          ],
          [
           "Apollo is Back - My Tesla Repair Process!"
          ],
          [
           "via Twitter for iPhone"
          ],
          [
           "Talking Tech & Saving the World with Bill Gates!"
          ],
          [
           "What's on my Tech: 2019!"
          ],
          [
           "The Samsung Galaxy S10 Model!"
          ],
          [
           "Sony WH1000XM3 Review: A New ANC King!"
          ],
          [
           "Foldable Phones Aren't Ready (Yet)"
          ],
          [
           "Behind the Scenes of the UnboxTherapy Studio!"
          ],
          [
           "First Look at the Hole-Punch Display!"
          ],
          [
           "Riding in a Driverless Taxi at CES 2019!"
          ],
          [
           "The Rollable OLED TV: The Potential is Real!"
          ],
          [
           "Starting a Podcast? 100% Roadster? Ask MKBHD V34!"
          ],
          [
           "Xiaomi Mi Mix 3: The Ultimate Slider?"
          ],
          [
           "2019 Tech I'm Ready For!"
          ],
          [
           "My YouTube REWIND 2018!"
          ],
          [
           "Google Pixel Slate: This Ain't It Chief!"
          ],
          [
           "Smartphone Awards 2018!"
          ],
          [
           "Huawei Mate 20 Pro Review: The People's Choice!"
          ],
          [
           "The Problem with YouTube Rewind!"
          ],
          [
           "Top 5 McLaren 720S Features! [Auto Focus Ep. 4]"
          ],
          [
           "The Blind Smartphone Camera Test 2018!"
          ],
          [
           "Let's Talk About Tesla \"Killers!\""
          ],
          [
           "2018 Macbook Air Review: No Risk!"
          ],
          [
           "My Favorite Wireless Headphones | 2018!"
          ],
          [
           "RIP Apollo (for now)"
          ],
          [
           "iPad Pro Review: The Best Ever... Still an iPad!"
          ],
          [
           "iPhone XR Review: No Need to Panic!"
          ],
          [
           "Let's Talk About the Foldable Smartphone!"
          ],
          [
           "RED Hydrogen One Review: I Wanted this to be Great!"
          ],
          [
           "2019 iPad Pro Impressions: Incredibly Thin!"
          ],
          [
           "OnePlus 6T Review: New Design, Same Price!"
          ],
          [
           "My Pixel 3 Display Problem? Ask MKBHD V33!"
          ],
          [
           "RED iPhone XR Unboxing & Giveaway!"
          ],
          [
           "Google Pixel 3 XL Review: The Shadow of the Notch!"
          ],
          [
           "Huawei Mate 20 Pro Impressions: Underrated?"
          ],
          [
           "Pixel 3 XL Second Impression: Notch City!"
          ],
          [
           "Razer Phone 2 Impressions!"
          ],
          [
           "Google Pixel 3 Impressions!"
          ],
          [
           "LG V40 Impressions: 5 Cameras on a Phone?!"
          ],
          [
           "iPhone \"Gates\" Explained!"
          ],
          [
           "iPhone Xr Specs Letdown? Ask MKBHD V32!"
          ],
          [
           "Apple Watch Series 4 Review: It's About Time!"
          ],
          [
           "Apple iPhone Xs Review: A (S)mall Step Up!"
          ],
          [
           "Gold iPhone Xs Max Unboxing!"
          ],
          [
           "iPhone XR Impressions: All of the Colors!"
          ],
          [
           "iPhone Xs and iPhone Xs Max Impressions!"
          ],
          [
           "The Truth About the Pocophone F1!"
          ],
          [
           "Living with a Supercar! [Auto Focus Ep 3]"
          ],
          [
           "RED Hydrogen One Unboxing! (Houdini Edition)"
          ],
          [
           "What's in my Tech Bag! [2018]"
          ],
          [
           "Is the Pocophone F1 Phone Legit? Matte Black AirPods? Ask MKBHD V31!"
          ],
          [
           "Samsung Galaxy Note 9 Review: The Total Package!"
          ],
          [
           "Tesla Factory Tour with Elon Musk!"
          ],
          [
           "Talking Tech with Elon Musk!"
          ],
          [
           "Samsung Galaxy Note 9 Impressions: Underrated!"
          ],
          [
           "The 2019 iPhone X Models!"
          ],
          [
           "Prime Picks! - The #1 Headphones on Amazon!"
          ],
          [
           "Why I Don't Use the Pixel!"
          ],
          [
           "Asus ROG Phone Impressions!"
          ],
          [
           "i9 Macbook Pro 2018: Hottest Laptop on the Planet!"
          ],
          [
           "Naming the new iPhone X? Ask MKBHD V30!"
          ],
          [
           "Prime Picks! - The #1 Unlocked Smartphone on Amazon!"
          ],
          [
           "The Truth About Colored Smartphones!"
          ],
          [
           "Dear YouTube!"
          ],
          [
           "$2400 Headphones? Sennheiser HD 820!"
          ],
          [
           "Hot Ones is The Real Deal! Ask MKBHD V29!"
          ],
          [
           "Oppo Find X: Motorized Madness!"
          ],
          [
           "On IGTV and YouTube Competition!"
          ],
          [
           "Let's Talk About Smartphone Chins!"
          ],
          [
           "Vivo NEX S Impressions: Truly Bezelless?"
          ],
          [
           "HTC U12+ Review: A Phone With No Buttons!"
          ],
          [
           "Top 5 iOS 12 Features!"
          ],
          [
           "Top 5 WWDC 2018 Announcements!"
          ],
          [
           "Driving Lamborghini Aventador S! [Auto Focus Ep. 2]"
          ],
          [
           "OnePlus 6 Review: Right On the Money!"
          ],
          [
           "Top 5 Smartphone Cameras: The Blind Test! [2018]"
          ],
          [
           "OnePlus 6 Impressions!"
          ],
          [
           "In-Glass Fingerprint Sensor: Testing the limits!"
          ],
          [
           "Google Pixel 2 Revisited: Android P Beta!"
          ],
          [
           "Let's Talk About Google Duplex!"
          ],
          [
           "The Dream Camera? Ask MKBHD V28 with Peter McKinnon!"
          ],
          [
           "LG G7 ThinQ Impressions!"
          ],
          [
           "iPhone X Revisited: Still Worth $1000?!"
          ],
          [
           "Huawei P20 Pro Review: The Triple Camera Smartphone!"
          ],
          [
           "$750 Mini Boosted Board Impressions!"
          ],
          [
           "Thank You!"
          ],
          [
           "Pixel 3 Rumors? Ask MKBHD V27!"
          ],
          [
           "Product RED iPhone 8 Unboxing!"
          ],
          [
           "Dope Tech: Camera Robots!"
          ],
          [
           "Bixby Speaker Impressions!"
          ],
          [
           "I've Made 1000 Videos?! Ask MKBHD V26!"
          ],
          [
           "Samsung Galaxy S9 Review: The Perfect... Samsung!"
          ],
          [
           "Top 5 Android Pie Features!"
          ],
          [
           "The State of Bezels! (2018)"
          ],
          [
           "Talking Tech with Neil deGrasse Tyson!"
          ],
          [
           "The 🍎 Ecosystem: Explained!"
          ],
          [
           "18-core iMac Pro Review: Not a Trap!"
          ],
          [
           "Samsung Galaxy S9 Camera: What's New!"
          ],
          [
           "Samsung Galaxy S9 Impressions!"
          ],
          [
           "Creator of the Decade? Tech Backpack? Ask MKBHD V25!"
          ],
          [
           "The In-Glass Fingerprint Reader: Explained!"
          ],
          [
           "Apple HomePod Review: The Dumbest Smart Speaker?"
          ],
          [
           "MKBHD Merch Review 2018!"
          ],
          [
           "Dear Snapchat!"
          ],
          [
           "What's On My Phone: 2018!"
          ],
          [
           "Huawei Mate 10 Pro: The Real Deal?"
          ],
          [
           "Driving a Tesla Model 3! [Auto Focus Ep. 1]"
          ],
          [
           "Free Tesla Roadster? Ask MKBHD V24!"
          ],
          [
           "AirPods for Android?!"
          ],
          [
           "Dope Tech of CES 2018! [Part 2]"
          ],
          [
           "Dope Tech of CES 2018! [Part 1]"
          ],
          [
           "iMac Pro Setup Tour 2018!"
          ],
          [
           "New Year New MKBHD!"
          ],
          [
           "Apple Admits Slowing Down Old iPhones? Ask MKBHD V23!"
          ],
          [
           "Smartphone Awards 2017!"
          ],
          [
           "Google Home Max Review: $400 Smart Speaker?"
          ],
          [
           "iMac Pro: 1 Week Impressions!"
          ],
          [
           "Portrait Mode: Explained!"
          ],
          [
           "5 New Phone Updates + Giveaway Update!"
          ],
          [
           "The $1000 Smartphone Giveaway!"
          ],
          [
           "Tesla Roadster Flaw? iPhone XI? Ask MKBHD V22!"
          ],
          [
           "Razer Phone Review: The Real Deal!"
          ],
          [
           "Let's Talk About Tesla Roadster 2020!"
          ],
          [
           "Top 5 OnePlus 5T Features!"
          ],
          [
           "Apple iPhone X Review: The Best Yet!"
          ],
          [
           "Google Pixelbook: $1000 of Weird!"
          ],
          [
           "iPhone X vs iPhone 8: Worth the Skip?"
          ],
          [
           "Space Gray Tesla Model S Wrap!"
          ],
          [
           "Razer Phone Impressions! 120Hz!"
          ],
          [
           "Apple iPhone X Unboxing!"
          ],
          [
           "Spooky LIVE Q&A"
          ],
          [
           "Google Pixel 2 Review: This Thing is Smart!"
          ],
          [
           "Demonetized Tech Videos? Ask MKBHD V21!"
          ],
          [
           "Google Pixel 2 Unboxing! (Best Android 8.0 Features)"
          ],
          [
           "DxOMark Smartphone Ratings: Explained!"
          ],
          [
           "Google Home Mini Review: Smart Home for $49?"
          ],
          [
           "Google Pixel 2 Impressions!"
          ],
          [
           "iPhone 8 Review: Skip this Great Phone!"
          ],
          [
           "iPhone X vs iPhone 8? Ask MKBHD V20!"
          ],
          [
           "LG 77\" Wallpaper TV Unboxing [LIVE]"
          ],
          [
           "iPhone 8 Unboxing: Silver vs Gold!"
          ],
          [
           "Samsung Galaxy Note 8 Review: A $1000 Android!"
          ],
          [
           "The Road to 5,000,000! [LIVE]"
          ],
          [
           "iPhone X: Top 5 Questions Answered!"
          ],
          [
           "iPhone X Impressions & Hands On!"
          ],
          [
           "Xiaomi Mi Mix 2: The Bezel-less Sequel!"
          ],
          [
           "LG V30: Top 5 Features!"
          ],
          [
           "The Essential Phone Review: Save Your Money!"
          ],
          [
           "2017 vs Smartphone Bezels!"
          ],
          [
           "Samsung Galaxy Note 8 Impressions!"
          ],
          [
           "Essential Phone Impressions!"
          ],
          [
           "USB-C All The Things! (Pt 2)"
          ],
          [
           "Snakes in the Studio? Ask MKBHD V19!"
          ],
          [
           "The iPhone 8 Model!"
          ],
          [
           "The Voice Assistant Battle! (2017)"
          ],
          [
           "RED Hydrogen Prototype Hands-On!"
          ],
          [
           "The RED Raven Camera Kit: It's Back!"
          ],
          [
           "Tesla Model 3 Impressions!"
          ],
          [
           "Siri vs the Ads: Does It Hold Up?"
          ],
          [
           "Galaxy Note... Fan Edition? Ask MKBHD V18!"
          ],
          [
           "Nest Cam IQ: Security Camera + 4k Sensor?"
          ],
          [
           "Google Pixel 2 Rumor Roundup!"
          ],
          [
           "RED Hydrogen One Smartphone: Explained!"
          ],
          [
           "iPhone 8 Rumor Roundup!"
          ],
          [
           "HTC U11: The Squeeze Phone?!"
          ],
          [
           "Dope Tech: \"Shot on Smartphones!\""
          ],
          [
           "Starting a Vlog? OnePlus Cheating? Ask MKBHD V17!"
          ],
          [
           "OnePlus 5 Review!"
          ],
          [
           "iPad Pro 2017 (10.5\") Review!"
          ],
          [
           "Adding 140 TERABYTES to the Studio with Linus!"
          ],
          [
           "Top 5 iOS 11 Features!"
          ],
          [
           "iMac Pro: Is It A Trap?"
          ],
          [
           "Top 5 WWDC 2017 Announcements!"
          ],
          [
           "Tesla Project Loveday Contest Entry!"
          ],
          [
           "Dear Twitter!"
          ],
          [
           "$500 Drone vs $3000 Drone - DJI Spark vs Inspire 1!"
          ],
          [
           "iPhone 8 With No Ports? Ask MKBHD V16!"
          ],
          [
           "Top 5 Google I/O 2017 Recap!"
          ],
          [
           "The Dell 8K Monitor: Gaming in 8K?"
          ],
          [
           "Blackberry KEYOne: 2017 Comeback?"
          ],
          [
           "Galaxy S8 vs LG G6: MrMobile vs MKBHD!"
          ],
          [
           "Dope Tech: The 4K OLED Wallpaper TV!"
          ],
          [
           "Top 5 Android O Features!"
          ],
          [
           "Top 5 Smartphone Cameras: The Blind Test!"
          ],
          [
           "Samsung Galaxy S8 Review: The Ultimate Smartphone?"
          ],
          [
           "Bluetooth 5.0: Explained!"
          ],
          [
           "iPhone 8 Wishlist? Ask MKBHD V15!"
          ],
          [
           "Moto G5 Plus: Budget Smartphone King?"
          ],
          [
           "Dear Samsung!"
          ],
          [
           "Nokia 3310 Review: The Perfect Smartphone?!"
          ],
          [
           "Samsung Galaxy S8 Impressions!"
          ],
          [
           "Casey Neistat Studio Tour!"
          ],
          [
           "The Matte Black OnePlus 3T!"
          ],
          [
           "New RED iPhone 7 Unboxing!"
          ],
          [
           "HTC U Ultra Rant: Skip this One!"
          ],
          [
           "Who are the Sponsors? Ask MKBHD V14!"
          ],
          [
           "Inside Lucid Air: The Future of Luxury?"
          ],
          [
           "The Colored AirPods Apple Should Have Made!"
          ],
          [
           "Dear Apple! (2017)"
          ],
          [
           "Top 5 LG G6 Features!"
          ],
          [
           "Beats X Review: Best Beats Ever?"
          ],
          [
           "The State of 4K: 2017! (in 8K)"
          ],
          [
           "Tesla P100D App v3.0 Review!"
          ],
          [
           "YouTuber of the Year?! Ask MKBHD V13!"
          ],
          [
           "LG UltraFine 5K Review: 15 Million Pixels!"
          ],
          [
           "Top 5 Future Smartphone Features!"
          ],
          [
           "iPhone 7 Review: 4 Months Later!"
          ],
          [
           "My First YouTube Camera!"
          ],
          [
           "What's on my Smartphone: 2017!"
          ],
          [
           "Dope Tech: The Best Drones!"
          ],
          [
           "Faraday Future FF91 Impressions!"
          ],
          [
           "Self Driving Mercedes: Behind the Wheel!"
          ],
          [
           "Hiring People? Biased Reviews? Ask MKBHD V12!"
          ],
          [
           "USB-C ALL the Things!"
          ],
          [
           "Smartphone Awards 2016!"
          ],
          [
           "Tesla Model S Problems: My Experience!"
          ],
          [
           "Dope Tech: Custom LED Clock!"
          ],
          [
           "Apple AirPods Review: Fully Wireless!"
          ],
          [
           "Macbook Pro with Touch Bar Review! Worth it?"
          ],
          [
           "100 OnePlus 3T Giveaway! 💯"
          ],
          [
           "Dope Tech: Self Lacing Nike HyperAdapt 1.0!"
          ],
          [
           "Google Home Review: Assistant in a Box!"
          ],
          [
           "2016 MKBHD Studio Tour in 360°!"
          ],
          [
           "LG Ultrafine 5K Display Unboxing + Setup!"
          ],
          [
           "Tesla Model S P100D: The App!"
          ],
          [
           "OnePlus 3T Review: T is the new S!"
          ],
          [
           "The Google Popup Store in NYC!"
          ],
          [
           "Google Pixel Review: Best Android Smartphone!"
          ],
          [
           "First Video and Pixels: Ask MKBHD V11!"
          ],
          [
           "Jaybird X3 Review: Best Bluetooth Earbuds 2016!"
          ],
          [
           "13\" MacBook Pro 2016 Unboxing! (What's New)"
          ],
          [
           "Macbook Pro chat with Apple's Craig Federighi!"
          ],
          [
           "The Bezel-less Smartphone: Xiaomi Mi Mix!"
          ],
          [
           "Google Assistant vs Siri! (2016)"
          ],
          [
           "Tesla Model S P100D: The Options!"
          ],
          [
           "Google Pixel Unboxing! (Best Android 7.1 Features)"
          ],
          [
           "Top 5 Galaxy Note 7 Replacements!"
          ],
          [
           "Dope Tech: 8K RED Epic-W Unboxing!"
          ],
          [
           "Dope Tech: Self-Lacing Nike Mag!"
          ],
          [
           "Google Pixel Impressions!"
          ],
          [
           "LG V20: Most Underrated Phone?!"
          ],
          [
           "Samsung Galaxy Note 7 Review!"
          ],
          [
           "Tesla Model S P100D Impressions!"
          ],
          [
           "iPhone 7 Headphone Roundup!"
          ],
          [
           "iPhone 7 Unboxing: Jet Black vs Matte Black!"
          ],
          [
           "iPhone 7 Impressions: 10 New Things!"
          ],
          [
           "Hasselblad True Zoom Camera Mod!"
          ],
          [
           "Dope Tech: Boosted Board 2!"
          ],
          [
           "Android 7.0 Nougat Update!"
          ],
          [
           "How to be a YouTuber? Ask MKBHD V10!"
          ],
          [
           "ZTE Axon 7: Top Budget Smartphone?"
          ],
          [
           "The iPhone 7 Plus Model!"
          ],
          [
           "2016 Nexus Hype!"
          ],
          [
           "Samsung Galaxy Note 7 Impressions!"
          ],
          [
           "Moto Z/Force Review!"
          ],
          [
           "The DROID DOES Throwback!"
          ],
          [
           "Moto Z Impressions!"
          ],
          [
           "Dope Tech: Lightning Headphones!"
          ],
          [
           "Daily Tech: Mid 2016!"
          ],
          [
           "Bose QC35: Best Noise Cancelling Headphones?"
          ],
          [
           "Batman Edition Galaxy S7 Edge!"
          ],
          [
           "OnePlus 3 Review!"
          ],
          [
           "Top 5 Apple WWDC 2016 Recap!"
          ],
          [
           "The Rugged Galaxy S7 Active!"
          ],
          [
           "Modular Smartphones: Explained!"
          ],
          [
           "Jaybird Freedom: Best Wireless Earbuds?"
          ],
          [
           "Top 5 Google I/O 2016 Recap!"
          ],
          [
           "Ask MKBHD V9: Building a Studio!"
          ],
          [
           "Dual Camera Smartphones: Explained!"
          ],
          [
           "HTC 10 Review!"
          ],
          [
           "2016 Macbook: Rose Gold Refresh!"
          ],
          [
           "NextDesk Review: Motorized Desk!"
          ],
          [
           "Google Live Cases: Super Custom!"
          ],
          [
           "HTC 10 Impressions!"
          ],
          [
           "MKBHD Update 13.0: The Studio!"
          ],
          [
           "iPhone SE Review!"
          ],
          [
           "Samsung Galaxy S7 Edge Review!"
          ],
          [
           "Ask MKBHD V8: Tesla Model 3?!"
          ],
          [
           "Samsung Galaxy S7 Review!"
          ],
          [
           "Top 5 Android N Features! (Dev Preview)"
          ],
          [
           "Samsung Galaxy S7 Edge: Biggest Flaws!"
          ],
          [
           "Top 5 Most Overpriced Tech! (Pt 2)"
          ],
          [
           "Nextbit Robin Review: Unlimited Storage?"
          ],
          [
           "Samsung Galaxy S7 & S7 Edge Impressions!"
          ],
          [
           "What's on my Smartphone 2016!"
          ],
          [
           "AKG K702 Review: Comfy Headphones!"
          ],
          [
           "Dope Tech: Crazy Speakers!"
          ],
          [
           "Top 5 Upcoming Tech: 2016!"
          ],
          [
           "Are Tablets Dead?"
          ],
          [
           "YouTube Gear #2 | Carbon Slider!"
          ],
          [
           "iPhone 7 with no Headphone Jack?!"
          ],
          [
           "The State of 4K: Early 2016!"
          ],
          [
           "RED Raven Impressions: 4.5K!"
          ],
          [
           "Dope Tech: CES 2016!"
          ],
          [
           "Ask MKBHD V7: CES 2016!"
          ],
          [
           "MKBHD Update 12.0: Moving Out!"
          ],
          [
           "Dope Tech: Best of 2015!"
          ],
          [
           "Pick Your Smartphone Giveaway!"
          ],
          [
           "Smartphone Awards: 2015!"
          ],
          [
           "Tech of the Year: Tablets!"
          ],
          [
           "Talking Tech with Kobe Bryant!"
          ],
          [
           "Grado SR80e: Dope Budget Headphones!"
          ],
          [
           "iPhone 6s Battery Case: Explained!"
          ],
          [
           "5 Facts about the LG V10!"
          ],
          [
           "OnePlus X Review!"
          ],
          [
           "YouTube Gear #1 | Blue Yeti!"
          ],
          [
           "Sony Xperia Z5 Premium: A 4K Smartphone!"
          ],
          [
           "Blackberry Priv Review!"
          ],
          [
           "iPad Pro Second Impressions! [Apple Pencil]"
          ],
          [
           "Smartphone Camera Quality: Explained!"
          ],
          [
           "Google Nexus 5X Review!"
          ],
          [
           "Dope Tech #2: Customs!"
          ],
          [
           "OnePlus X Impressions: Super Budget!"
          ],
          [
           "Nexus 6P Review!"
          ],
          [
           "Update 11.0: MKBHD.com!"
          ],
          [
           "Nexus 6P Unboxing & Setup!"
          ],
          [
           "iPhone 6s #Chipgate: Explained!"
          ],
          [
           "Moto 360 V2 Review!"
          ],
          [
           "Dope Tech #1: Weapon!"
          ],
          [
           "iPhone 6s Review!"
          ],
          [
           "Nexus 6P & 5X Impressions!"
          ],
          [
           "Moto X Pure (2015) Review!"
          ],
          [
           "iPhone 6s & 6s Plus Unboxing & First Look!"
          ],
          [
           "Samsung Galaxy Note 5 Review!"
          ],
          [
           "iPad Pro Impressions!"
          ],
          [
           "iPhone 6s Impressions!"
          ],
          [
           "Ask MKBHD V6! 4K on a Smartphone?!"
          ],
          [
           "Moto 360 2nd Gen Impressions!"
          ],
          [
           "OnePlus 2 Review!"
          ],
          [
           "On the \"Perfect Smartphone\""
          ],
          [
           "Jaybird X2 Review: Best Bluetooth Earbuds!"
          ],
          [
           "Samsung Galaxy Note 5 Impressions! (& GS6 Edge+)"
          ],
          [
           "OnePlus 2 Unboxing & Setup!"
          ],
          [
           "Moto G 2015 Review!"
          ],
          [
           "Sony RX100 IV Review: Pocket 4K!"
          ],
          [
           "Moto X Style Impressions!"
          ],
          [
           "Five OnePlus 2 Impressions!"
          ],
          [
           "GoPro Hero 4 Session Review!"
          ],
          [
           "iPod Touch 2015 Review!"
          ],
          [
           "OnePlus 2 Camera Review!"
          ],
          [
           "Ask MKBHD V5! #HYPE"
          ],
          [
           "Top 5 Upcoming Tech! (Mid 2015)"
          ],
          [
           "MAINGEAR Shift Supercomputer: Part 1!"
          ],
          [
           "Material Design for Samsung Galaxy S6!"
          ],
          [
           "Open Back Headphones: Explained!"
          ],
          [
           "Top 5 Smartphones Under $300! (2015)"
          ],
          [
           "2015 Macbook Review!"
          ],
          [
           "Iron Man Edition Samsung Galaxy S6 Edge!"
          ],
          [
           "HTC One M9+ (& S6 Plus!)"
          ],
          [
           "Top 5 Android Marshmallow Features!"
          ],
          [
           "10 Apple Watch Questions: Answered!"
          ],
          [
           "LG G4 Review!"
          ],
          [
           "YouTube Processing: Explained!"
          ],
          [
           "Apple Watch Review!"
          ],
          [
           "Five (More) Facts About Me! (Graduation!)"
          ],
          [
           "Samsung Galaxy S6 Edge Review!"
          ],
          [
           "LG G4 Impressions!"
          ],
          [
           "Chromebook Pixel 2 Review!"
          ],
          [
           "Samsung Galaxy S6 Review!"
          ],
          [
           "Ask MKBHD V4!"
          ],
          [
           "HTC One M9 Review!"
          ],
          [
           "Oxygen OS on the OnePlus One!"
          ],
          [
           "Logitech MX Master Review!"
          ],
          [
           "Virtual Reality: Explained!"
          ],
          [
           "Giveaway: Samsung Galaxy S6 or HTC One M9! [Closed]"
          ],
          [
           "USB Type-C: Explained!"
          ],
          [
           "The New Macbook Impressions!"
          ],
          [
           "Dot View 2 Case for HTC One M9!"
          ],
          [
           "HTC One M9 Impressions!"
          ],
          [
           "Samsung Galaxy S6 Impressions!"
          ],
          [
           "Samsung Galaxy S6 Edge Impressions!"
          ],
          [
           "OnePlus One & Cyanogenmod 12!"
          ],
          [
           "Audio Technica ATH-M70X Review!"
          ],
          [
           "Dell Venue 8 7000 Review!"
          ],
          [
           "Exploring Drones with Deadmau5!"
          ],
          [
           "Fun with the BMW i8!"
          ],
          [
           "The State of 4K: Early 2015!"
          ],
          [
           "HTC One M9: What to Expect!"
          ],
          [
           "What's on my Android! (Early 2015)"
          ],
          [
           "CES 2015 Highlights!"
          ],
          [
           "BMW Tech at CES 2015!"
          ],
          [
           "Quantum Dot TVs: Explained!"
          ],
          [
           "MKBHD Update 10.4: 2015!"
          ],
          [
           "Motorola Droid Turbo Review!"
          ],
          [
           "Best Tech under $50!"
          ],
          [
           "Top 5 Wearable Tech! (Late 2014)"
          ],
          [
           "Smartphone Awards: 2014!"
          ],
          [
           "Google Nexus 9 Review!"
          ],
          [
           "MKBHD Update 10.3!"
          ],
          [
           "Google Nexus 6 Review!"
          ],
          [
           "The Dream Smartphone! (2014)"
          ],
          [
           "Apple iPad Air 2 Review!"
          ],
          [
           "Google Nexus 9 Unboxing + Hands On!"
          ],
          [
           "Google Nexus 6 Unboxing + Hands On!"
          ],
          [
           "GoPro Hero 4: Being a Dog in 4K!"
          ],
          [
           "Android 5.0 Lollipop Feature Review!"
          ],
          [
           "Samsung Galaxy Note 4 Review!"
          ],
          [
           "Apple iPhone 6+ Review!"
          ],
          [
           "Sharp Aquos Crystal - Bezelless Smartphone!"
          ],
          [
           "Nexus 6 & Nexus 9 Impressions!"
          ],
          [
           "Apple iPhone 6 Review!"
          ],
          [
           "Nexus 6 (Shamu) Thoughts!"
          ],
          [
           "Samsung Galaxy Alpha Review!"
          ],
          [
           "MKBHD Update 10.2!"
          ],
          [
           "iPhone 6 Plus #BendGate: Explained!"
          ],
          [
           "iPhone 6 Impressions!"
          ],
          [
           "Moto X (2014) Review!"
          ],
          [
           "Moto 360 Review!"
          ],
          [
           "Apple Watch Impressions!"
          ],
          [
           "Samsung Galaxy Note Edge Impressions!"
          ],
          [
           "Samsung Galaxy Note 4 Impressions!"
          ],
          [
           "The Truth About Beats by Dre!"
          ],
          [
           "What's on my Tech: 2014! (Back to School)"
          ],
          [
           "NVIDIA Shield Tablet Review!"
          ],
          [
           "Sony RX100 MKIII Review!"
          ],
          [
           "Prime Phones: Explained!"
          ],
          [
           "Android Wear Review! (Smartwatches)"
          ],
          [
           "Nexus 6 & Nexus 9 Wishlist!"
          ],
          [
           "OnePlus One: Revisited!"
          ],
          [
           "Ask MKBHD V3!"
          ],
          [
           "iPhone 6 Sapphire: Explained!"
          ],
          [
           "iPhone 6 Sapphire Crystal Display!"
          ],
          [
           "MKBHD Edition Macbook Pro! (Colorware Custom)"
          ],
          [
           "LG G3 Mass Giveaway! [CLOSED]"
          ],
          [
           "Top 5 Best Android L Features!"
          ],
          [
           "Moto 360 Impressions!"
          ],
          [
           "LG G Watch Hands-on Impressions!"
          ],
          [
           "Amazon Fire Phone: Explained!"
          ],
          [
           "LG G3 Review!"
          ],
          [
           "Samsung Galaxy Note 4 Hype!"
          ],
          [
           "LG G3 QHD Display Review!"
          ],
          [
           "iOS 8 Features & Impressions!"
          ],
          [
           "The Problem with Phone Cases!"
          ],
          [
           "MKBHD Setup Tour 2014!"
          ],
          [
           "LG G3 Impressions!"
          ],
          [
           "The iPhone 6 Model!"
          ],
          [
           "Curved TVs: Explained!"
          ],
          [
           "OnePlus One Review!"
          ],
          [
           "Ask MKBHD V2!"
          ],
          [
           "Top 5 OnePlus One Features! (Cyanogenmod 11S)"
          ],
          [
           "Top 5 Tesla Model S Features!"
          ],
          [
           "Giveaway: MKBHD Edition Nexus 5! [CLOSED]"
          ],
          [
           "OnePlus One Impressions!"
          ],
          [
           "HTC One M8 Google Play Edition Review!"
          ],
          [
           "Oppo Find 7a Review!"
          ],
          [
           "Samsung Galaxy S5 Review!"
          ],
          [
           "HTC One M8 Review!"
          ],
          [
           "The Setup Tour Project 2014!"
          ],
          [
           "HTC One M8 Dot View Case!"
          ],
          [
           "HTC One M8 Impressions!"
          ],
          [
           "Android Wear: State of Wearable Tech!"
          ],
          [
           "Ask MKBHD V1!"
          ],
          [
           "Top 5 Upcoming Smartphones! (Early 2014)"
          ],
          [
           "The State of 4K: Early 2014!"
          ],
          [
           "Samsung Galaxy S5 Impressions!"
          ],
          [
           "MKBHD Update 10.1!"
          ],
          [
           "New Mac Pro Review!"
          ],
          [
           "Audio Technica ATH-M50X Review!"
          ],
          [
           "1,000,000!"
          ],
          [
           "HTC M8: What to Expect!"
          ],
          [
           "Samsung Galaxy S5: What to Expect!"
          ],
          [
           "Bright Red Google Nexus 5!"
          ],
          [
           "Google Sells Motorola: Explained!"
          ],
          [
           "Setup Tour Project 2014!"
          ],
          [
           "Top 5 Wearable Tech! (Early 2014)"
          ],
          [
           "New Mac Pro Performance Review!"
          ],
          [
           "Samsung Galaxy Note 3: Revisited!"
          ],
          [
           "New Mac Pro Unboxing & Impressions!"
          ],
          [
           "Best Cars of CES 2014!"
          ],
          [
           "Samsung Galaxy NotePro & TabPro at CES 2014!"
          ],
          [
           "Tesla Model S at CES 2014!"
          ],
          [
           "Sony Xperia Z1S & Z1 Compact at CES 2014!"
          ],
          [
           "4K Cameras at CES 2014!"
          ],
          [
           "CES 2014 Gear Bag Tour!"
          ],
          [
           "MKBHD Update 10.0! (CES 2014)"
          ],
          [
           "Top 5 Tablets (Early 2014) Collab!"
          ],
          [
           "Nexus 5: Revisited! (What's on my Phone)"
          ],
          [
           "Top 5 Smartphones of 2013!"
          ],
          [
           "Oppo Find 7 Rant!"
          ],
          [
           "Nokia Lumia 1520 Review!"
          ],
          [
           "Google Play Editions: Explained!"
          ],
          [
           "Motorola Moto G Review!"
          ],
          [
           "Oppo N1 Review! (Cyanogenmod Phone)"
          ],
          [
           "Google Nexus 5 vs Moto X! ($350)"
          ],
          [
           "Sony PS4 vs XBox One Impressions!"
          ],
          [
           "LG G Flex Self Healing Demo!"
          ],
          [
           "Samsung Galaxy Round Review!"
          ],
          [
           "Apple iPad Air Review!"
          ],
          [
           "Google Nexus 5 Review!"
          ],
          [
           "Google Nexus 5: Black vs White!"
          ],
          [
           "How Google Now is Taking Over!"
          ],
          [
           "Top 5 Android 4.4 Kitkat Features!"
          ],
          [
           "Motorola Ara Impressions!"
          ],
          [
           "Samsung Galaxy Gear Review!"
          ],
          [
           "Sony Xperia Z1 Review!"
          ],
          [
           "Curved Display Smartphones: Explained!"
          ],
          [
           "Top 5  Best Smartphone Cameras!"
          ],
          [
           "Apple iPhone 5s Review!"
          ],
          [
           "Google Nexus 5: What to Expect!"
          ],
          [
           "Samsung Galaxy Note 3 Review!"
          ],
          [
           "Samsung Galaxy Note 3 Sizeup!"
          ],
          [
           "LG G2 Review!"
          ],
          [
           "The New Cyanogenmod!"
          ],
          [
           "Phonebloks: Explained!"
          ],
          [
           "Samsung Galaxy Note 3 Impressions!"
          ],
          [
           "Sony RX100 M2 Review!"
          ],
          [
           "Google Glass Explorer Edition: Explained!"
          ],
          [
           "5 Moto X Tips & Tricks!"
          ],
          [
           "Nokia Lumia 1020 Review!"
          ],
          [
           "Top 5 Best Headphones Under $200!"
          ],
          [
           "The Perfect Smartphone! (2013)"
          ],
          [
           "Motorola Moto X Review!"
          ],
          [
           "Nexus 7 (2013) Review!"
          ],
          [
           "Moto X Features: Explained!"
          ],
          [
           "Top 5 Android 4.3 Features!"
          ],
          [
           "Google Chromecast Review!"
          ],
          [
           "Ubuntu Edge: Explained!"
          ],
          [
           "Samsung Galaxy Note 3 Hype!"
          ],
          [
           "Giveaway: Google Edition HTC One or Galaxy S4!"
          ],
          [
           "Google Edition HTC One Review!"
          ],
          [
           "Nokia Lumia 925 Review!"
          ],
          [
           "Top 5 Fastest Discontinued Tech Products!"
          ],
          [
           "MKBHD Update 9.0!"
          ],
          [
           "13\" Macbook Air 2013 Review!"
          ],
          [
           "Samsung Galaxy Mega Review!"
          ],
          [
           "5 True Facts about Google X!"
          ],
          [
           "Where iOS 7 Features Come From!"
          ],
          [
           "2013 Mac Pro: Explained!"
          ],
          [
           "How Google is Taking Back Android!"
          ],
          [
           "What's on my Android Phone 2013!"
          ],
          [
           "Top 5 Most Overhyped Tech!"
          ],
          [
           "LG Optimus G Pro Review!"
          ],
          [
           "Beats Audio: Explained!"
          ],
          [
           "Top 10 Google I/O 2013 Announcements!"
          ],
          [
           "Google Edition Galaxy S4: Explained!"
          ],
          [
           "Motorola X-Phone Rumor Rant!"
          ],
          [
           "Samsung Galaxy S4 vs HTC One!"
          ],
          [
           "HTC One Review!"
          ],
          [
           "Samsung Galaxy S4 Review!"
          ],
          [
           "Samsung Galaxy S4 Word Game Interview!"
          ],
          [
           "Google Babel: Explained!"
          ],
          [
           "Top 5 1080p Smartphones!"
          ],
          [
           "Oppo Find 5 Project Firefly!"
          ],
          [
           "Five Facts About Me!"
          ],
          [
           "5 True Facts about Android!"
          ],
          [
           "Beyerdynamic Custom One Pro Review!"
          ],
          [
           "Top 5 Internet April Fool's Day Hoaxers!"
          ],
          [
           "HTC One \"Ultrapixel\": Explained!"
          ],
          [
           "Google Nexus 10: Revisited!"
          ],
          [
           "AT&T Predicted the Future!"
          ],
          [
           "Samsung Galaxy S4 Features: Explained!"
          ],
          [
           "Sony Xperia Z Review!"
          ],
          [
           "Top 5 NFC Features: Explained!"
          ],
          [
           "Chromebook Pixel Review!"
          ],
          [
           "Top 5 Best Built Tech!"
          ],
          [
           "Chromebook Pixel Unboxing & First Impressions!"
          ],
          [
           "The Chromebook Pixel: Explained!"
          ],
          [
           "Top 5 Most Underpriced Tech!"
          ],
          [
           "Nexus 4 & Nexus 7 Giveaway! [CLOSED]"
          ],
          [
           "Top 5 Most Overpriced Tech!"
          ],
          [
           "Oppo Find 5 Review!"
          ],
          [
           "HTC Droid DNA: Revisited!"
          ],
          [
           "Hackintosh Pro Project! [Part 5: The Finale!]"
          ],
          [
           "Hackintosh Pro Project! [Part 4: The OSX Install]"
          ],
          [
           "Hackintosh Pro Project! [Part 3: The Build]"
          ],
          [
           "Hackintosh Pro Project! [Part 2: The Parts]"
          ],
          [
           "4K Video: Explained!"
          ],
          [
           "CES 2013 Highlights!"
          ],
          [
           "Top 5 Ubuntu Phone Features: Explained!"
          ],
          [
           "Sony Xperia Z at CES 2013!"
          ],
          [
           "Huawei Ascend Mate Size Comparison at CES 2013!"
          ],
          [
           "NVIDIA Project SHIELD at CES 2013!"
          ],
          [
           "Samsung Galaxy Note 2: Revisited!"
          ],
          [
           "Using Google Now: Explained!"
          ],
          [
           "Samsung Galaxy Camera Review!"
          ],
          [
           "What's on my Android Phone 2012!"
          ],
          [
           "Hackintosh Pro Project! [Part 1]"
          ],
          [
           "Best Tablets of 2012!"
          ],
          [
           "8 Holiday Gifts for a YouTuber!"
          ],
          [
           "$600 Gaming PC Giveaway!"
          ],
          [
           "Rooting & Jailbreaking: Explained!"
          ],
          [
           "Retina Displays vs Battery Life!"
          ],
          [
           "Google Nexus 10 Review!"
          ],
          [
           "Nexus 4 vs Galaxy S3 vs Galaxy Nexus!"
          ],
          [
           "Google Nexus 4 Review!"
          ],
          [
           "iPad Mini vs Nexus 7!"
          ],
          [
           "Nexus 4 Unboxing & First Impressions!"
          ],
          [
           "LG Optimus G Review! (Nexus 4 Comparison)"
          ],
          [
           "Nexus 10 Unboxing & First Impressions!"
          ],
          [
           "Top 5 Android 4.2 Jellybean Features!"
          ],
          [
           "The SuperNexus Project!"
          ],
          [
           "MKBHD Hurricane Sandy Update!"
          ],
          [
           "Nexus 4 and Nexus 10 First Look!"
          ],
          [
           "Samsung Galaxy Camera Hands-on!"
          ],
          [
           "On Apple's New 2012 Desktops!"
          ],
          [
           "A Google Nexus Program: Explained!"
          ],
          [
           "Samsung Galaxy Note 2 vs Galaxy S3!"
          ],
          [
           "GIVEAWAY: iPhone 5 OR Galaxy Note 2!"
          ],
          [
           "Samsung Galaxy Note 2 Review!"
          ],
          [
           "Top 3 YouTube App Missing Features!"
          ],
          [
           "LG Nexus Rumors!"
          ],
          [
           "Transformer Pad Infinity gets Jellybean!"
          ],
          [
           "Top 5 Reasons Google+ is Awesome!"
          ],
          [
           "New Myspace Design: Explained!"
          ],
          [
           "The Setup Tour 2012!"
          ],
          [
           "The Super-Retina Display Smartphone!"
          ],
          [
           "The Setup Tour Project 2012!"
          ],
          [
           "Asus Zenbook Prime Review!"
          ],
          [
           "GIVEAWAY: Fastest Mac Mini in the World! [Closed]"
          ],
          [
           "The Galaxy Nexus 2 Wishlist!"
          ],
          [
           "CyanogenMod 10 on the Samsung Galaxy S3!"
          ],
          [
           "Top 3 Gadgets of Summer 2012!"
          ],
          [
           "Blackberries: Explained!"
          ],
          [
           "MKBHD Update 8.0!"
          ],
          [
           "Google Fiber: Explained!"
          ],
          [
           "Google Nexus 7 Review!"
          ],
          [
           "Top 3 Battery Saving Tips!"
          ],
          [
           "Asus Transformer Pad Infinity Review!"
          ],
          [
           "Nexus 7 First Impressions!"
          ],
          [
           "Galaxy SIII vs One X vs Galaxy Nexus!"
          ],
          [
           "GIVEAWAY: Samsung Galaxy SIII! [CLOSED]"
          ],
          [
           "Siri vs Google Voice Search!"
          ],
          [
           "Top 5 Android 4.1 Jellybean Features!"
          ],
          [
           "Top 5 Google I/O Announcements!"
          ],
          [
           "Samsung Galaxy SIII Review!"
          ],
          [
           "Samsung Galaxy SIII Impressions!"
          ],
          [
           "Top 5 Tech Myths!"
          ],
          [
           "Google Innovation at WWDC 2012!"
          ],
          [
           "4G and LTE: Explained!"
          ],
          [
           "iKey Audio M-505V2 Studio Monitors!"
          ],
          [
           "Android 5.0 Feature Wishlist!"
          ],
          [
           "Sony NEX-VG20 Review!"
          ],
          [
           "Chrome OS: Explained!"
          ],
          [
           "HTC One X Review!"
          ],
          [
           "Samsung Galaxy S III Design: Explained!"
          ],
          [
           "Transformer Pad 300 vs Transformer Prime!"
          ],
          [
           "Google Drive vs Dropbox!"
          ],
          [
           "Dear Apple!"
          ],
          [
           "Samsung Galaxy Nexus Review!"
          ],
          [
           "Google+ Re-design and WhiteSpace Rant!"
          ],
          [
           "TokyoFlash Night Vision Watch!"
          ],
          [
           "Giveaway: Audio Technica ATH-M50 Limited Edition!!"
          ],
          [
           "Google Project Glass: Explained!"
          ],
          [
           "iOS vs Android: A Google user's POV!"
          ],
          [
           "Blue Spark Microphone Review!"
          ],
          [
           "iPad 3 vs Transformer Prime!"
          ],
          [
           "The New iPad 3! [Teaser]"
          ],
          [
           "Best Audio Quality Setup: Explained!"
          ],
          [
           "Ultrabooks: Explained!"
          ],
          [
           "Asus Zenbook UX31 Review!"
          ],
          [
           "Fastest Mac Mini in the World! [Part 4] FINALE!"
          ],
          [
           "YouTuber Tip #6: Ideas!"
          ],
          [
           "Pixel Density: Explained!"
          ],
          [
           "Best iPad 3 Features!"
          ],
          [
           "Fastest Mac Mini in the World! [Part 3]"
          ],
          [
           "Asus Transformer Prime Dock!"
          ],
          [
           "Beats Pro vs Audio Technica ATH-M50!"
          ],
          [
           "Fastest Mac Mini in the World! [Part 2]"
          ],
          [
           "Chrome Beta for Android!"
          ],
          [
           "Too many Android phones? RANT"
          ],
          [
           "Cyborg RAT 7 Review!"
          ],
          [
           "The OLED TV Rant!"
          ],
          [
           "Asus Transformer Prime Review!"
          ],
          [
           "Fastest Mac Mini in the World! [Part 1]"
          ],
          [
           "Grado SR80i Review!"
          ],
          [
           "Best Galaxy Nexus Accessories!"
          ],
          [
           "Bose Companion 2 Series II Speaker Review!"
          ],
          [
           "Transformer Prime Gets Android 4.0 ICS!"
          ],
          [
           "Tour of my Nexus"
          ],
          [
           "Asus Transformer Prime First Impressions!"
          ],
          [
           "Technology in 2012"
          ],
          [
           "InSync: Dropbox for Google Docs!"
          ],
          [
           "Top 3 Battery Myths!"
          ],
          [
           "Technology of 2011: A Year in Review"
          ],
          [
           "Galaxy Nexus Camera Review"
          ],
          [
           "All About the Galaxy Nexus Display"
          ],
          [
           "Verizon Galaxy Nexus First Impressions"
          ],
          [
           "Verizon Galaxy Nexus Unboxing & First Boot!"
          ],
          [
           "Getting Inspired"
          ],
          [
           "Tour of my Tablet"
          ],
          [
           "Tour of the New Twitter"
          ],
          [
           "Verizon Galaxy Nexus RANT"
          ],
          [
           "YouTube Tech Bundle GIVEAWAY!"
          ],
          [
           "MKBHD Update 7.0"
          ],
          [
           "What is a Fisheye Lens?"
          ],
          [
           "Cyber Monday GIVEAWAY: ATH-M50 Headphones! [Closed]"
          ],
          [
           "Canon 5D MKIII Preview"
          ],
          [
           "YouTuber Tip #5: Pancakes"
          ],
          [
           "iPhone vs Android Commercials"
          ],
          [
           "Twitter Activity Tab [Review]"
          ],
          [
           "Best Free Chrome Apps!"
          ],
          [
           "Google Does a Barrel Roll"
          ],
          [
           "Top 5 Features of Android 4.0 [Ice Cream Sandwich]"
          ],
          [
           "New Chrome Web Store Review"
          ],
          [
           "Canon 24mm f/1.4 L Review"
          ],
          [
           "The Blue Snowball [Review]"
          ],
          [
           "How To Tweet!"
          ],
          [
           "The Dream Phone"
          ],
          [
           "Nexus Prime Teaser"
          ],
          [
           "How to Give an Honest Video Review"
          ],
          [
           "The DROID [Retro Review]"
          ],
          [
           "Facebook Timeline 2011: Review / Tour"
          ],
          [
           "Battery Technology Rant"
          ],
          [
           "Chrome App Tabs [Review]"
          ],
          [
           "YouTube Video Editor 2011 [Review]"
          ],
          [
           "Audio Technica ATH-M50 [Review]"
          ],
          [
           "What Phone are You?"
          ],
          [
           "Top Reasons OLED Rocks!"
          ],
          [
           "Samsung Galaxy Note Reaction"
          ],
          [
           "Blue Yeti Pro [Review]"
          ],
          [
           "MKBHD YouTube Tips | #4"
          ],
          [
           "Top Reasons the Galaxy Nexus WINS"
          ],
          [
           "The Razer Blade - Preview"
          ],
          [
           "Fat Laptops - HP 8560W Review"
          ],
          [
           "Stop It!"
          ],
          [
           "Sigma 30mm f/1.4 Review + Footage"
          ],
          [
           "New Google Chrome 15 Features"
          ],
          [
           "Favorite Web Browser?"
          ],
          [
           "IndiSLIDER Mini Deluxe [Canon T2i]"
          ],
          [
           "Top Google+ Tips and Tricks"
          ],
          [
           "MKBHD Update 6.0"
          ],
          [
           "Find your Online Reputation!"
          ],
          [
           "MKBHD YouTube Tips | #3"
          ],
          [
           "How to make a YouTube Mobile Banner [2011]"
          ],
          [
           "Optimize your HD Videos!"
          ],
          [
           "Don't buy the Verizon iPhone 4 [Yet]"
          ],
          [
           "Apple Wireless Keyboard Review"
          ],
          [
           "Android 3.0 - Honeycomb!"
          ],
          [
           "Technology of 2010 - A Year in Review"
          ],
          [
           "DSLR Video - Tips & Tricks"
          ],
          [
           "Zune HD: Revisited"
          ],
          [
           "MKBHD YouTube Tips | #1"
          ],
          [
           "GoogleTV Video Contest Entry"
          ],
          [
           "Update | YouTube Video Tips"
          ],
          [
           "GIVEAWAY: Beats By Dre Studio [Closed]"
          ],
          [
           "Chromedeck Tips and Tricks!"
          ],
          [
           "GiftYouTube / PrizeYouTube SCAM"
          ],
          [
           "Editors Keys SL150 Microphone [HD]"
          ],
          [
           "Asus UL30A-X5 | Canon T2i Video Test"
          ],
          [
           "Canon EOS Rebel T2i Unboxing"
          ],
          [
           "Review: BitFenix Survivor"
          ],
          [
           "Review: AeroWeather [HD]"
          ],
          [
           "YouTube goes Social! [Video Sharing 2010]"
          ],
          [
           "NEW YouTube Comment Sharing [November 2010]"
          ],
          [
           "iKey Audio HDR7 Dual Microphone"
          ],
          [
           "Enable Google Instant in Chrome 9 Beta"
          ],
          [
           "Review: Monster Jamz High Performance Earphones"
          ],
          [
           "NEW YouTube Video Watch Page [November 2010]"
          ],
          [
           "Review: Wiki Golf"
          ],
          [
           "Review: Azza Hurrican 2000"
          ],
          [
           "Review: iClarity HD Precision Speaker"
          ],
          [
           "Review: Editors Keys Vocal Booth"
          ],
          [
           "Beats By Dre Studio Review"
          ],
          [
           "Google TV Tour"
          ],
          [
           "Blackberry Playbook Tablet - First Look"
          ],
          [
           "#NewTwitter Parody - MKBHD Style"
          ],
          [
           "Internet Explorer 9 Beta"
          ],
          [
           "Google Chrome 7 Beta"
          ],
          [
           "iKey Audio M808-V2 Studio Monitor Review"
          ],
          [
           "Review: Altec Lansing Octane 7"
          ],
          [
           "Solar Sound 2 Speaker System Review"
          ],
          [
           "Cyber Acoustics 5.1 High Performance Speakers Review"
          ],
          [
           "Cyborg R.A.T. 7 Unboxing [HD]"
          ],
          [
           "Dell Ultrasharp 2407WFPb Unboxing and Setup"
          ],
          [
           "Beats by Dre Solo HD Review"
          ],
          [
           "New MKBHD Intro"
          ],
          [
           "Motorola Droid X 720p HD Video"
          ],
          [
           "How to Play Snake on YouTube Videos"
          ],
          [
           "Droid X Unboxing [HD]"
          ],
          [
           "MKBHD Update 6.0"
          ],
          [
           "Safari 5 Extensions [HD]"
          ],
          [
           "HD Tutorial: DestroyTwitter 2.0.2"
          ],
          [
           "YouTube Video Editor Tutorial [HD]"
          ],
          [
           "Cyborg R.A.T. Mouse Review"
          ],
          [
           "HD Tutorial: Safari 5"
          ],
          [
           "Unboxed: BlueLounge CableBox [HD]"
          ],
          [
           "Google Moderator Module"
          ],
          [
           "Unboxed: Intel X25-V 40GB SSD"
          ],
          [
           "Unboxed: Motorola Droid Desktop Stand"
          ],
          [
           "HD Tutorial: YouTube Groups [Updated]"
          ],
          [
           "HTC Droid Incredible Unboxing [HD]"
          ],
          [
           "Samson MD5 Desktop Microphone Stand [HD]"
          ],
          [
           "Freeware EVERY Geek Should Use!"
          ],
          [
           "MKBHD Search Story"
          ],
          [
           "Ultimate Frisbee Promo [HD]"
          ],
          [
           "The New YouTube [Overview in 720p HD]"
          ],
          [
           "Tweetdeck Notifications!"
          ],
          [
           "Need for Speed Most Wanted Gameplay"
          ],
          [
           "Sound Check: Editors Keys SL150 Microphone [HD]"
          ],
          [
           "Unboxed: Cyber Acoustics 2.1 Speakers [HD]"
          ],
          [
           "Unboxed: Epson NX415 [HD]"
          ],
          [
           "DealExtreme Unboxing! [HD]"
          ],
          [
           "Reviewed: uStream Producer"
          ],
          [
           "The iPad Rant"
          ],
          [
           "Windows 7 Contest [Why I Love Windows 7]"
          ],
          [
           "Unboxed: 7-Port USB Hub [HD]"
          ],
          [
           "Gateway HX2000 Unboxing [HD]"
          ],
          [
           "HD Tutorial: Matrix Screensaver"
          ],
          [
           "2010!"
          ],
          [
           "iBellix Unboxing"
          ],
          [
           "Reviewed: Motorola DROID [HD]"
          ],
          [
           "MKBHD Update 5.0"
          ],
          [
           "Entry: Gearlive HP Envy 13 Giveaway"
          ],
          [
           "12 Giveaways of Christmas! *ENDED*"
          ],
          [
           "Zune HD Hardware Review"
          ],
          [
           "Sanyo Xacti CG10 HD Footage and Photos"
          ],
          [
           "Unboxed: Sanyo Xacti CG10"
          ],
          [
           "Unboxed: HP W1707 17\" Monitor [HD]"
          ],
          [
           "The NEW Google [How to Use It]"
          ],
          [
           "Wrapsol for the Zune HD"
          ],
          [
           "Lockergnome Demo Screencast"
          ],
          [
           "Unboxed: DS International Power Saver Strip [HD]"
          ],
          [
           "1080p HD Now on Youtube!!"
          ],
          [
           "Time Lapse Video Editing"
          ],
          [
           "Update Zune HD to New Firmware [4.3] For free 3D Games!"
          ],
          [
           "gScreen Spacebook: Dualscreen Laptop!"
          ],
          [
           "IE8 Replacement: SlimBrowser Se7en"
          ],
          [
           "Unboxed: Zune HD [Black 16GB]"
          ],
          [
           "Creating a Professional Email Address"
          ],
          [
           "HD Tutorial: Desktube"
          ],
          [
           "MacBook Pro vs Alienware M17x? [Pricing]"
          ],
          [
           "Adobe Flash CS4 Demo"
          ],
          [
           "MKBHD Update 4.0"
          ],
          [
           "HD Tutorial: Edit Youtube Groups [YT 2.0]"
          ],
          [
           "Unboxed: HP Pavilion dv6t [16\" Laptop]"
          ],
          [
           "HD Tutorial: Taskbar Shuffle"
          ],
          [
           "iSkin Surprise Unboxing"
          ],
          [
           "Youtube Mega-Widescreen: 1920x960 [2:1 Aspect Ratio]"
          ],
          [
           "HD Tutorial: iTunes 9 Account - NO CREDIT CARD"
          ],
          [
           "Guess Who's BACK"
          ],
          [
           "HD Tutorial: Stack Docklets 2.0 [Windows]"
          ],
          [
           "HD Tutorial: Youtube Tags"
          ],
          [
           "Tech Channel of the Week #12"
          ],
          [
           "Google Chrome 3.0 / 4.0 Themes [HD]"
          ],
          [
           "Reviewed: DS International Flexible Keyboard [HD]"
          ],
          [
           "Tour of Youtube Annotations [HD]"
          ],
          [
           "HD Tutorial: Custom Dock Icons"
          ],
          [
           "Blu - Twitter Client for Windows [HD Installation]"
          ],
          [
           "Tweet Your Youtube Videos [HD Tutorial]"
          ],
          [
           "SEXIEST Firefox Glass!"
          ],
          [
           "How To Change Youtube Group Picture"
          ],
          [
           "Unboxed: SMALLEST Speaker ... Ever?"
          ],
          [
           "HD Tutorial: Windows 7 Calculator"
          ],
          [
           "Unboxed: iSkin Cerulean F1 + TX [HD]"
          ],
          [
           "HD Tutorial: Thunderbird Themes"
          ],
          [
           "Wrapsol Protection System Review [HD]"
          ],
          [
           "YT Messaging Glitch FIX [HD]"
          ],
          [
           "mkbHD Outro Draft"
          ],
          [
           "mkbHD Update 3.1"
          ],
          [
           "Youtube Insight 2.0 [2009]"
          ],
          [
           "HD Tutorial: Youtube Groups"
          ],
          [
           "Tech Channel of the Week #11: iMaCarly"
          ],
          [
           "Reviewed: iFrogz Custom Fallouts [HD]"
          ],
          [
           "HD Tutorial: Audio Converter [Why YOU need one]"
          ],
          [
           "Tech Channel of the Week #10: BoykoBrand"
          ],
          [
           "Youtube CENSORS Comments"
          ],
          [
           "HD Tutorial: Fission"
          ],
          [
           "Tech Channel of the Week #9: JailbrokeTouch95"
          ],
          [
           "RichardSolo Unboxing [HD]"
          ],
          [
           "HD Tutorial: Apply for a Youtube Partnership"
          ],
          [
           "Unboxed: DS International Flexible Keyboard [HD]"
          ],
          [
           "Tech Channel of the Week #8: MacintoshTipz"
          ],
          [
           "Reviewed: Griffin Elevator [HD]"
          ],
          [
           "mkbHD Update 3.0"
          ],
          [
           "HD Tutorial: Fastest Youtube Uploader"
          ],
          [
           "HD Tutorial: Video to iPod / PSP Converter"
          ],
          [
           "Tech Channel of the Week #7: TechTonicc"
          ],
          [
           "Tour of mkbHD Youtube Insight [HD]"
          ],
          [
           "Reviewed: UniBrain Fire-i Webcam"
          ],
          [
           "Youtube Update: Download your Own .mp4 Videos"
          ],
          [
           "Unboxed: Audeo PFE Headphones [HD]"
          ],
          [
           "Tech Channel of the Week #6: ComputerGeek396"
          ],
          [
           "Unboxed: Sena UltraSlim Leather Pouch [HD]"
          ],
          [
           "17\" Laptop GelaSkin Installation and Review [HD]"
          ],
          [
           "Use that Search Box!"
          ],
          [
           "Unboxed: Wrapsol Shield for LG Voyager [HD]"
          ],
          [
           "Tech Channel of the Week #5: mtpflyers"
          ],
          [
           "HD Tutorial: Edit Web Pages with Javascript"
          ],
          [
           "Reviewed: DS International Wireless Keyboard [HD]"
          ],
          [
           "Unboxed: iFrogz Earpollution Custom Fallouts [HD]"
          ],
          [
           "HD Tutorial: Skype 4.1 Beta with Screen Sharing"
          ],
          [
           "Reviewed: Solo 17\" Laptop Messenger Bag [HD]"
          ],
          [
           "Tech Channel of the Week #4: TechTechMan"
          ],
          [
           "Unboxed: Griffin Elevator [HD]"
          ],
          [
           "HD Tutorial: Google Chrome 3.0"
          ],
          [
           "Reviewed: Matias USB 2.0 Keyboard [HD]"
          ],
          [
           "ThinkGeek Unboxing [HD]"
          ],
          [
           "Tech Channel of The Week #3: Gigafide"
          ],
          [
           "Unboxed: Fire-i Digital Camera by UniBrain [HD]"
          ],
          [
           "Reviewed: iFrogz Earpollution D33 Noise Isolating Earbuds [HD]"
          ],
          [
           "HD Tutorial: Shrink + Convert Large Files"
          ],
          [
           "mkbHD Update 2.3"
          ],
          [
           "HD Tutorial: Custom Desktop Icons (Request)"
          ],
          [
           "Unboxed: DS International Wireless PC Keyboard [HD]"
          ],
          [
           "Tech Channel of the Week #2 - TheCompuGeeks"
          ],
          [
           "Unboxed: Matias USB 2.0 Keyboard [HD]"
          ],
          [
           "Reviewed: Alto-Edge GN3 Desktop Microphone [HD]"
          ],
          [
           "HD Tutorial: Safari 3 Aero (Request)"
          ],
          [
           "Unboxed: Gelaskins 17\" Laptop Skin"
          ],
          [
           "Unboxed: Solo 17\" Laptop Messenger Bag [HD]"
          ],
          [
           "HD Tutorial: Tweak VI"
          ],
          [
           "HD Tutorial: Produce any Video in 16:9 HD"
          ],
          [
           "Unboxed: iFrogz Earpollution D33s [HD]"
          ],
          [
           "Reviewed: Adjustable Laptop Stand from HandStands"
          ],
          [
           "HD Tutorial: Create Your Own Cursor"
          ],
          [
           "HD Tutorial: TweetDeck"
          ],
          [
           "Unboxed: Adjustable Laptop Stand from HandStands"
          ],
          [
           "Reviewed: ExtremePDA Case for LG Voyager [HD]"
          ],
          [
           "Tech Channel of The Week #1 - TheIpodTouchMan2K9"
          ],
          [
           "HD Tutorial: iTunes Visualizer"
          ],
          [
           "Unboxed: Alto-Edge GN3 Desktop Microphone [HD]"
          ],
          [
           "HD Tutorial: Royalty Free Music"
          ],
          [
           "HD Tutorial: Google Chrome Addons"
          ],
          [
           "Unboxed: LG Voyager Hard Shell Case from ExtremePDA"
          ],
          [
           "Update 2.2"
          ],
          [
           "HD Tutorial: Customize Office Word '07"
          ],
          [
           "3800+ Spam Messages in 30 Days (Can you beat me?)"
          ],
          [
           "HD Tutorial: PIP Effect in Camtasia Studio 6"
          ],
          [
           "LG Voyager Hardware Overview [HD]"
          ],
          [
           "HD Tutorial: Get a Character Map"
          ],
          [
           "HD Tutorial: Remove Camtasia's Green Zoom Rectangle (Request)"
          ],
          [
           "Hd Look at Micro SD Adapter (Unedited)"
          ],
          [
           "HD Tutorial: Internet Explorer 8"
          ],
          [
           "Youtube Fail"
          ],
          [
           "HD Tutorial: Explore Mars in Google Earth 5.0"
          ],
          [
           "HD Tutorial: Remove Background Noise"
          ],
          [
           "April FOO!!!"
          ],
          [
           "Protect Your PC - Conficker Worm!"
          ],
          [
           "HD Tutorial: Google Translations and Conversions"
          ],
          [
           "HP Pavilion dv7t Media Center Remote Size Comparison"
          ],
          [
           "HD Tutorial: Create A Channel Icon Using Gimp"
          ],
          [
           "Animoto Widescreen/HQ Test"
          ],
          [
           "My New Official Intro (Tutorial Coming!)"
          ],
          [
           "Hd Tutorial: Fix Registry Issues Quickly"
          ],
          [
           "HD Tutorial: Youtube Playlists"
          ],
          [
           "Gaaah! NEW Youtube Layout!"
          ],
          [
           "HD Tutorial: Callouts in Camtasia Studio 6"
          ],
          [
           "Natural Audio Enhancement?"
          ],
          [
           "HD Tutorial: Quality Wallpapers (Request)"
          ],
          [
           "Update 2.1"
          ],
          [
           "Possible Intro Video?"
          ],
          [
           "HD Tutorial: Change Video Speed in Camtasia Studio"
          ],
          [
           "Media Center Remote Part 2"
          ],
          [
           "iPhone 3Gs Software Overview"
          ],
          [
           "HD Tutorial: Dual Docks (Request)"
          ],
          [
           "HD Tutorial: Change # Of Speed Dials in Opera (Request)"
          ],
          [
           "Digital Camera Direct Upload HD/HQ Test 2"
          ],
          [
           "HD Camera Fail (AVI Format)"
          ],
          [
           "Abbreviated iPhone 3.0 Wishlist"
          ],
          [
           "HD Tutorial: Dafont - Free Fonts Online"
          ],
          [
           "Are You A Geek?"
          ],
          [
           "2009 iPod Shuffle 3G"
          ],
          [
           "Welcome to My Youtube Channel! 720p Introduction"
          ],
          [
           "HD Tutorial: Audacity"
          ],
          [
           "Update 2.0 & Inbox v1"
          ],
          [
           "HD Tutorial: Enable Advanced Disk Performance"
          ],
          [
           "2009 Mac Desktop Refresh: iMac"
          ],
          [
           "HD Tutorial: Get Safari 3.2.2 Back (Request)"
          ],
          [
           "2009 Mac Desktop Refresh: Mac Mini"
          ],
          [
           "HD Tutorial: Diskeeper Pro Premier"
          ],
          [
           "iMac and Mac Mini Refresh!"
          ],
          [
           "HD Tutorial: Tilt In Camtasia Studio 6"
          ],
          [
           "Youtube Mega-Widescreen Camtasia Studio 6 Settings"
          ],
          [
           "HD Tutorial: Firefox 3.1 Beta 2"
          ],
          [
           "HD Tutorial: Visual ToolTip for XP"
          ],
          [
           "HD Tutorial: Safari 4.0"
          ],
          [
           "HD Tutorial: Install Windows Themes (Request)"
          ],
          [
           "Update 1.1"
          ],
          [
           "HD Tutorial: CrystalXP.net"
          ],
          [
           "HD Camtasia Studio 6 Tilt Test"
          ],
          [
           "HD Tutorial: Complete Rocketdock Walkthrough"
          ],
          [
           "HD Tutorial: Watch HQ Content By Default"
          ],
          [
           "HD Tutorial: Shiny Search (Request)"
          ],
          [
           "Camtwisting with Camtasia Studio 6 (Future Tutorial!)"
          ],
          [
           "HD Tutorial: Camstudio Lossless Codec v1.4"
          ],
          [
           "HD Tutorial: DivX Codec For Camstudio (Request)"
          ],
          [
           "HD Vista Lite?"
          ],
          [
           "HD Tutorial: Change Vista Start Menu Logo"
          ],
          [
           "What does Youtube Want?"
          ],
          [
           "My Official Youtube Outro!"
          ],
          [
           "HD Tutorial: Change or Create your Gmail Theme"
          ],
          [
           "HD Tutorial: Upgrade to Skype 4 Beta"
          ],
          [
           "HD Battery Saver #5 - Hibernate"
          ],
          [
           "HD Laptop Buying Guide"
          ],
          [
           "Update 1.0 = Video 100!"
          ],
          [
           "HD Tutorial: Encode any Video in HD for Youtube"
          ],
          [
           "HD Tutorial: Camstudio Audio and Video Synchronization"
          ],
          [
           "HD Skype Review (Request)"
          ],
          [
           "New Ideas"
          ],
          [
           "HD Battery Saver #4 - Power Options"
          ],
          [
           "HD Tutorial: iTunes 9 Visualizer (Request)"
          ],
          [
           "HD Tutorial: Upgrade Safari"
          ],
          [
           "HD Tutorial: Enable Autopan in Camstudio (Request)"
          ],
          [
           "HD Tutorial: Create A Youtube Intro Video (Request)"
          ],
          [
           "HD Tutorial: Eliminate Background Tasks (Request)"
          ],
          [
           "My new Official Intro Video"
          ],
          [
           "Could Windows 7 Be a $50 Upgrade?"
          ],
          [
           "HD Tutorial: Get Windows Media Player 11 in Windows XP"
          ],
          [
           "HD Tutorial: Customizing Autoplay"
          ],
          [
           "HD Battery Saver #3 - External Devices"
          ],
          [
           "HD Battery Saver #2 - Disable Visual Effects (Aero!)"
          ],
          [
           "HD Battery Saver #1 - Defragmenting"
          ],
          [
           "HD & Zoom/Pan Test - Camtasia Studio 6"
          ],
          [
           "HD Tutorial: Customize Autofill in Safari"
          ],
          [
           "HD Benchmarking: My Internet Speed"
          ],
          [
           "HD Tutorial: Google Earth 5.0"
          ],
          [
           "HD Tutorial: The Sage's English Dictionary and Thesaurus"
          ],
          [
           "HD Review: Camstudio"
          ],
          [
           "HD Tutorial: Upgrade to iTunes 8 Plus"
          ],
          [
           "HD Tutorial: Get Free Youtube Layouts"
          ],
          [
           "HD Tutorial: Take Screenshots in Windows Vista"
          ],
          [
           "HD Tutorial: Zoom in Camstudio"
          ],
          [
           "HD Tutorial: Tweak Safari for Speed"
          ],
          [
           "HD Tutorial: Revert to Classic Windows Start Menu"
          ],
          [
           "HD Tutorial: Compatibility Mode"
          ],
          [
           "HD Tutorial: Measure your Download and Upload Speeds"
          ],
          [
           "HD Tutorial: Get Aero Shake For Vista or XP"
          ],
          [
           "HD First Look: SRWare Iron"
          ],
          [
           "HD Tutorial: Get OS X Cursors in Windows (Request)"
          ],
          [
           "HD Tutorial: Customize Command Prompt"
          ],
          [
           "HD Tutorial: Get OS X Theme on Rocket Dock"
          ],
          [
           "HD Tutorial: Offline Gmail"
          ],
          [
           "HD Tutorial: Get Old Menus Back in Vista Explorer"
          ],
          [
           "HD Tutorial: Firefox \"Superbar\""
          ],
          [
           "HD Tutorial: Start Menu Customization"
          ],
          [
           "HD Tutorial: Installing Firefox Themes"
          ],
          [
           "HD Tutorial: Get OS X Cursors in Windows"
          ],
          [
           "HD Tutorial: Mozilla Tunderbird RSS"
          ],
          [
           "HD Tutorial: Camtasia Powerpoint Integration"
          ],
          [
           "HD Test 1: Camtasia Studio 6"
          ],
          [
           "HD Tutorial: Change Rocket Dock Icons"
          ],
          [
           "HD Tutorial: Camstudio Hotkeys"
          ],
          [
           "HD Benchmark: Safari Webkit"
          ],
          [
           "HD Tutorial: Volume App"
          ],
          [
           "HD Tutorial: Sidebar Gadgets"
          ],
          [
           "HD Tutorial: Safari and Webkit Addons"
          ],
          [
           "HD Tutorial: Disable User Account Control"
          ],
          [
           "HD Tutorial: Virtual Memory"
          ],
          [
           "HD Tutorial: Eliminate Menu Show Delay"
          ],
          [
           "HD Tutorial: Boot Your Computer Faster"
          ],
          [
           "HD Tutorial: Safari 4 Webkit"
          ],
          [
           "HD Tutorial: Vistart"
          ],
          [
           "HD Tutorial: Boost your built-in microphone"
          ],
          [
           "HD Tutorial: Start Menu Shutdown Button"
          ],
          [
           "HD Tutorial: Screencasting Zoom Function"
          ],
          [
           "HD Tutorial: Justhearit!"
          ],
          [
           "HD Tutorial: Get High-Resolution Wallpapers Quickly"
          ],
          [
           "HD Tutorial: Make Internet Explorer Faster"
          ],
          [
           "HD Tutorial: Make Firefox Faster"
          ],
          [
           "HD Tutorial: Non-Ultimate Dreamscene"
          ],
          [
           "HD Tutorial: Add the \"New Tab\" button to Firefox"
          ],
          [
           "HD Tutorial: Make your own Youtube Avatar"
          ],
          [
           "HD Tutorial: Change Your Login Screen"
          ],
          [
           "HD Review: Microsoft Wireless 6000 Mouse"
          ],
          [
           "HD Example: CPU Intensive"
          ],
          [
           "HD first look: Opera 10 Alpha"
          ],
          [
           "HD Tutorial: Extended Task Manager"
          ],
          [
           "HD Tutorial: Firefox Addons"
          ],
          [
           "HD Tutorial: Fraps"
          ],
          [
           "Tutorial: Firefox Addons"
          ],
          [
           "HD Tutorial: Thunderbird Addons"
          ],
          [
           "How to Upload HD Youtube Videos"
          ],
          [
           "HD Tutorial: Aerosnap for Vista"
          ],
          [
           "Unboxed: NZXT Cryo LX [HD]"
          ],
          [
           "HQ Tutorial: Firefox Preloader"
          ],
          [
           "HQ Tutorial: Download Skype"
          ],
          [
           "MY Internet Speed!"
          ],
          [
           "HQ Tutorial: Windows 7 Calculator"
          ],
          [
           "HQ Tutorial: Safari for Windows"
          ],
          [
           "Quick Note on Speedfan"
          ],
          [
           "HQ Tutorial: Rocket Dock Application"
          ],
          [
           "Camstudio Clarity"
          ],
          [
           "Tutorial: Camstudio HQ"
          ],
          [
           "HQ Tutorial: Ccleaner"
          ],
          [
           "15 Year old Golf Swing Analysis"
          ],
          [
           "Fraps HD Test in 1080p (18 WOS)"
          ],
          [
           "HP Pavilion dv7t Media Center Remote Overview"
          ],
          [
           "High fps LG Voyager footage"
          ],
          [
           "14 Year knock-down shot (11 Handicap)"
          ],
          [
           "13-Year-Old Golf Swing Analysis"
          ]
         ],
         "hovertemplate": "Date=%{x}<br>Comments=%{y}<br>Title=%{customdata[0]}<extra></extra>",
         "legendgroup": "",
         "line": {
          "color": "#636efa",
          "dash": "solid"
         },
         "marker": {
          "symbol": "circle"
         },
         "mode": "lines",
         "name": "",
         "showlegend": false,
         "type": "scattergl",
         "x": [
          "2022-04-01T00:00:00",
          "2022-03-30T00:00:00",
          "2022-03-25T00:00:00",
          "2022-03-22T00:00:00",
          "2022-03-18T00:00:00",
          "2022-03-16T00:00:00",
          "2022-03-14T00:00:00",
          "2022-03-08T00:00:00",
          "2022-03-02T00:00:00",
          "2022-02-25T00:00:00",
          "2022-02-22T00:00:00",
          "2022-02-18T00:00:00",
          "2022-02-16T00:00:00",
          "2022-02-09T00:00:00",
          "2022-02-09T00:00:00",
          "2022-02-01T00:00:00",
          "2022-01-27T00:00:00",
          "2022-01-24T00:00:00",
          "2022-01-13T00:00:00",
          "2022-01-07T00:00:00",
          "2022-01-05T00:00:00",
          "2022-01-03T00:00:00",
          "2021-12-29T00:00:00",
          "2021-12-26T00:00:00",
          "2021-12-22T00:00:00",
          "2021-12-20T00:00:00",
          "2021-12-17T00:00:00",
          "2021-12-15T00:00:00",
          "2021-12-08T00:00:00",
          "2021-12-06T00:00:00",
          "2021-12-01T00:00:00",
          "2021-11-23T00:00:00",
          "2021-11-17T00:00:00",
          "2021-11-11T00:00:00",
          "2021-11-09T00:00:00",
          "2021-11-04T00:00:00",
          "2021-11-02T00:00:00",
          "2021-10-27T00:00:00",
          "2021-10-22T00:00:00",
          "2021-10-21T00:00:00",
          "2021-10-19T00:00:00",
          "2021-10-18T00:00:00",
          "2021-10-13T00:00:00",
          "2021-10-11T00:00:00",
          "2021-10-05T00:00:00",
          "2021-10-01T00:00:00",
          "2021-09-29T00:00:00",
          "2021-09-27T00:00:00",
          "2021-09-22T00:00:00",
          "2021-09-21T00:00:00",
          "2021-09-17T00:00:00",
          "2021-09-14T00:00:00",
          "2021-09-13T00:00:00",
          "2021-09-09T00:00:00",
          "2021-08-26T00:00:00",
          "2021-08-23T00:00:00",
          "2021-08-20T00:00:00",
          "2021-08-17T00:00:00",
          "2021-08-11T00:00:00",
          "2021-08-11T00:00:00",
          "2021-08-02T00:00:00",
          "2021-07-30T00:00:00",
          "2021-07-29T00:00:00",
          "2021-07-26T00:00:00",
          "2021-07-22T00:00:00",
          "2021-07-16T00:00:00",
          "2021-07-07T00:00:00",
          "2021-07-02T00:00:00",
          "2021-07-01T00:00:00",
          "2021-06-30T00:00:00",
          "2021-06-24T00:00:00",
          "2021-06-17T00:00:00",
          "2021-06-13T00:00:00",
          "2021-06-08T00:00:00",
          "2021-06-02T00:00:00",
          "2021-05-27T00:00:00",
          "2021-05-21T00:00:00",
          "2021-05-19T00:00:00",
          "2021-05-18T00:00:00",
          "2021-05-07T00:00:00",
          "2021-04-29T00:00:00",
          "2021-04-26T00:00:00",
          "2021-04-23T00:00:00",
          "2021-04-22T00:00:00",
          "2021-04-20T00:00:00",
          "2021-04-17T00:00:00",
          "2021-04-16T00:00:00",
          "2021-04-15T00:00:00",
          "2021-04-14T00:00:00",
          "2021-04-13T00:00:00",
          "2021-04-12T00:00:00",
          "2021-04-11T00:00:00",
          "2021-04-08T00:00:00",
          "2021-04-06T00:00:00",
          "2021-04-01T00:00:00",
          "2021-03-24T00:00:00",
          "2021-03-23T00:00:00",
          "2021-03-18T00:00:00",
          "2021-03-16T00:00:00",
          "2021-03-12T00:00:00",
          "2021-03-10T00:00:00",
          "2021-03-05T00:00:00",
          "2021-02-26T00:00:00",
          "2021-02-15T00:00:00",
          "2021-02-12T00:00:00",
          "2021-02-05T00:00:00",
          "2021-02-02T00:00:00",
          "2021-01-28T00:00:00",
          "2021-01-27T00:00:00",
          "2021-01-25T00:00:00",
          "2021-01-21T00:00:00",
          "2021-01-19T00:00:00",
          "2021-01-17T00:00:00",
          "2021-01-14T00:00:00",
          "2021-01-14T00:00:00",
          "2021-01-12T00:00:00",
          "2020-12-31T00:00:00",
          "2020-12-28T00:00:00",
          "2020-12-25T00:00:00",
          "2020-12-23T00:00:00",
          "2020-12-16T00:00:00",
          "2020-12-15T00:00:00",
          "2020-12-14T00:00:00",
          "2020-12-11T00:00:00",
          "2020-12-10T00:00:00",
          "2020-12-07T00:00:00",
          "2020-12-04T00:00:00",
          "2020-12-02T00:00:00",
          "2020-11-30T00:00:00",
          "2020-11-27T00:00:00",
          "2020-11-24T00:00:00",
          "2020-11-17T00:00:00",
          "2020-11-14T00:00:00",
          "2020-11-12T00:00:00",
          "2020-11-10T00:00:00",
          "2020-11-09T00:00:00",
          "2020-11-09T00:00:00",
          "2020-10-31T00:00:00",
          "2020-10-29T00:00:00",
          "2020-10-27T00:00:00",
          "2020-10-25T00:00:00",
          "2020-10-23T00:00:00",
          "2020-10-22T00:00:00",
          "2020-10-21T00:00:00",
          "2020-10-20T00:00:00",
          "2020-10-16T00:00:00",
          "2020-10-15T00:00:00",
          "2020-10-14T00:00:00",
          "2020-10-14T00:00:00",
          "2020-10-13T00:00:00",
          "2020-10-05T00:00:00",
          "2020-10-02T00:00:00",
          "2020-09-28T00:00:00",
          "2020-09-24T00:00:00",
          "2020-09-22T00:00:00",
          "2020-09-21T00:00:00",
          "2020-09-18T00:00:00",
          "2020-09-17T00:00:00",
          "2020-09-16T00:00:00",
          "2020-09-12T00:00:00",
          "2020-09-10T00:00:00",
          "2020-09-09T00:00:00",
          "2020-09-02T00:00:00",
          "2020-08-26T00:00:00",
          "2020-08-25T00:00:00",
          "2020-08-21T00:00:00",
          "2020-08-18T00:00:00",
          "2020-08-17T00:00:00",
          "2020-08-13T00:00:00",
          "2020-08-10T00:00:00",
          "2020-08-06T00:00:00",
          "2020-08-05T00:00:00",
          "2020-08-03T00:00:00",
          "2020-07-27T00:00:00",
          "2020-07-24T00:00:00",
          "2020-07-22T00:00:00",
          "2020-07-21T00:00:00",
          "2020-07-18T00:00:00",
          "2020-07-14T00:00:00",
          "2020-07-09T00:00:00",
          "2020-07-06T00:00:00",
          "2020-07-01T00:00:00",
          "2020-06-26T00:00:00",
          "2020-06-23T00:00:00",
          "2020-06-22T00:00:00",
          "2020-06-19T00:00:00",
          "2020-06-17T00:00:00",
          "2020-06-16T00:00:00",
          "2020-06-15T00:00:00",
          "2020-06-11T00:00:00",
          "2020-06-09T00:00:00",
          "2020-06-04T00:00:00",
          "2020-05-29T00:00:00",
          "2020-05-26T00:00:00",
          "2020-05-22T00:00:00",
          "2020-05-19T00:00:00",
          "2020-05-15T00:00:00",
          "2020-05-13T00:00:00",
          "2020-05-09T00:00:00",
          "2020-05-07T00:00:00",
          "2020-05-05T00:00:00",
          "2020-05-02T00:00:00",
          "2020-04-30T00:00:00",
          "2020-04-27T00:00:00",
          "2020-04-22T00:00:00",
          "2020-04-20T00:00:00",
          "2020-04-17T00:00:00",
          "2020-04-16T00:00:00",
          "2020-04-14T00:00:00",
          "2020-04-06T00:00:00",
          "2020-03-28T00:00:00",
          "2020-03-26T00:00:00",
          "2020-03-24T00:00:00",
          "2020-03-20T00:00:00",
          "2020-03-16T00:00:00",
          "2020-03-14T00:00:00",
          "2020-03-10T00:00:00",
          "2020-03-06T00:00:00",
          "2020-03-02T00:00:00",
          "2020-02-28T00:00:00",
          "2020-02-25T00:00:00",
          "2020-02-23T00:00:00",
          "2020-02-21T00:00:00",
          "2020-02-19T00:00:00",
          "2020-02-14T00:00:00",
          "2020-02-11T00:00:00",
          "2020-02-11T00:00:00",
          "2020-02-11T00:00:00",
          "2020-02-10T00:00:00",
          "2020-01-31T00:00:00",
          "2020-01-25T00:00:00",
          "2020-01-15T00:00:00",
          "2020-01-13T00:00:00",
          "2020-01-09T00:00:00",
          "2020-01-07T00:00:00",
          "2020-01-05T00:00:00",
          "2020-01-02T00:00:00",
          "2019-12-30T00:00:00",
          "2019-12-26T00:00:00",
          "2019-12-23T00:00:00",
          "2019-12-23T00:00:00",
          "2019-12-21T00:00:00",
          "2019-12-18T00:00:00",
          "2019-12-16T00:00:00",
          "2019-12-16T00:00:00",
          "2019-12-12T00:00:00",
          "2019-12-10T00:00:00",
          "2019-12-09T00:00:00",
          "2019-12-05T00:00:00",
          "2019-12-03T00:00:00",
          "2019-12-02T00:00:00",
          "2019-12-02T00:00:00",
          "2019-11-27T00:00:00",
          "2019-11-25T00:00:00",
          "2019-11-23T00:00:00",
          "2019-11-22T00:00:00",
          "2019-11-19T00:00:00",
          "2019-11-14T00:00:00",
          "2019-11-13T00:00:00",
          "2019-11-07T00:00:00",
          "2019-11-04T00:00:00",
          "2019-11-01T00:00:00",
          "2019-10-31T00:00:00",
          "2019-10-29T00:00:00",
          "2019-10-21T00:00:00",
          "2019-10-17T00:00:00",
          "2019-10-15T00:00:00",
          "2019-10-11T00:00:00",
          "2019-10-09T00:00:00",
          "2019-10-07T00:00:00",
          "2019-10-03T00:00:00",
          "2019-10-02T00:00:00",
          "2019-10-02T00:00:00",
          "2019-09-30T00:00:00",
          "2019-09-26T00:00:00",
          "2019-09-19T00:00:00",
          "2019-09-17T00:00:00",
          "2019-09-15T00:00:00",
          "2019-09-13T00:00:00",
          "2019-09-11T00:00:00",
          "2019-09-10T00:00:00",
          "2019-09-06T00:00:00",
          "2019-09-04T00:00:00",
          "2019-08-26T00:00:00",
          "2019-08-22T00:00:00",
          "2019-08-19T00:00:00",
          "2019-08-13T00:00:00",
          "2019-08-09T00:00:00",
          "2019-08-07T00:00:00",
          "2019-07-26T00:00:00",
          "2019-07-20T00:00:00",
          "2019-07-16T00:00:00",
          "2019-07-15T00:00:00",
          "2019-07-11T00:00:00",
          "2019-07-02T00:00:00",
          "2019-06-28T00:00:00",
          "2019-06-26T00:00:00",
          "2019-06-21T00:00:00",
          "2019-06-17T00:00:00",
          "2019-06-11T00:00:00",
          "2019-06-07T00:00:00",
          "2019-06-05T00:00:00",
          "2019-06-03T00:00:00",
          "2019-05-31T00:00:00",
          "2019-05-29T00:00:00",
          "2019-05-24T00:00:00",
          "2019-05-21T00:00:00",
          "2019-05-20T00:00:00",
          "2019-05-16T00:00:00",
          "2019-05-14T00:00:00",
          "2019-05-08T00:00:00",
          "2019-04-30T00:00:00",
          "2019-04-26T00:00:00",
          "2019-04-24T00:00:00",
          "2019-04-19T00:00:00",
          "2019-04-18T00:00:00",
          "2019-04-16T00:00:00",
          "2019-04-15T00:00:00",
          "2019-04-12T00:00:00",
          "2019-04-09T00:00:00",
          "2019-04-01T00:00:00",
          "2019-03-29T00:00:00",
          "2019-03-26T00:00:00",
          "2019-03-26T00:00:00",
          "2019-03-18T00:00:00",
          "2019-03-15T00:00:00",
          "2019-03-12T00:00:00",
          "2019-03-06T00:00:00",
          "2019-03-01T00:00:00",
          "2019-02-26T00:00:00",
          "2019-02-24T00:00:00",
          "2019-02-20T00:00:00",
          "2019-02-20T00:00:00",
          "2019-02-15T00:00:00",
          "2019-02-13T00:00:00",
          "2019-02-12T00:00:00",
          "2019-02-07T00:00:00",
          "2019-02-04T00:00:00",
          "2019-02-01T00:00:00",
          "2019-01-28T00:00:00",
          "2019-01-26T00:00:00",
          "2019-01-15T00:00:00",
          "2019-01-11T00:00:00",
          "2019-01-09T00:00:00",
          "2019-01-07T00:00:00",
          "2019-01-03T00:00:00",
          "2019-01-01T00:00:00",
          "2018-12-23T00:00:00",
          "2018-12-21T00:00:00",
          "2018-12-18T00:00:00",
          "2018-12-15T00:00:00",
          "2018-12-12T00:00:00",
          "2018-12-11T00:00:00",
          "2018-12-03T00:00:00",
          "2018-11-30T00:00:00",
          "2018-11-28T00:00:00",
          "2018-11-21T00:00:00",
          "2018-11-19T00:00:00",
          "2018-11-14T00:00:00",
          "2018-11-12T00:00:00",
          "2018-11-08T00:00:00",
          "2018-11-02T00:00:00",
          "2018-10-30T00:00:00",
          "2018-10-29T00:00:00",
          "2018-10-24T00:00:00",
          "2018-10-23T00:00:00",
          "2018-10-19T00:00:00",
          "2018-10-16T00:00:00",
          "2018-10-11T00:00:00",
          "2018-10-10T00:00:00",
          "2018-10-09T00:00:00",
          "2018-10-03T00:00:00",
          "2018-10-01T00:00:00",
          "2018-09-26T00:00:00",
          "2018-09-20T00:00:00",
          "2018-09-18T00:00:00",
          "2018-09-18T00:00:00",
          "2018-09-13T00:00:00",
          "2018-09-12T00:00:00",
          "2018-09-10T00:00:00",
          "2018-09-05T00:00:00",
          "2018-08-31T00:00:00",
          "2018-08-27T00:00:00",
          "2018-08-24T00:00:00",
          "2018-08-22T00:00:00",
          "2018-08-20T00:00:00",
          "2018-08-17T00:00:00",
          "2018-08-09T00:00:00",
          "2018-08-07T00:00:00",
          "2018-08-03T00:00:00",
          "2018-08-01T00:00:00",
          "2018-07-25T00:00:00",
          "2018-07-20T00:00:00",
          "2018-07-16T00:00:00",
          "2018-07-13T00:00:00",
          "2018-07-05T00:00:00",
          "2018-06-29T00:00:00",
          "2018-06-27T00:00:00",
          "2018-06-25T00:00:00",
          "2018-06-22T00:00:00",
          "2018-06-20T00:00:00",
          "2018-06-19T00:00:00",
          "2018-06-15T00:00:00",
          "2018-06-12T00:00:00",
          "2018-06-07T00:00:00",
          "2018-06-05T00:00:00",
          "2018-06-01T00:00:00",
          "2018-05-25T00:00:00",
          "2018-05-21T00:00:00",
          "2018-05-16T00:00:00",
          "2018-05-14T00:00:00",
          "2018-05-11T00:00:00",
          "2018-05-09T00:00:00",
          "2018-05-07T00:00:00",
          "2018-05-02T00:00:00",
          "2018-04-27T00:00:00",
          "2018-04-23T00:00:00",
          "2018-04-17T00:00:00",
          "2018-04-16T00:00:00",
          "2018-04-13T00:00:00",
          "2018-04-10T00:00:00",
          "2018-04-03T00:00:00",
          "2018-04-01T00:00:00",
          "2018-03-29T00:00:00",
          "2018-03-19T00:00:00",
          "2018-03-16T00:00:00",
          "2018-03-13T00:00:00",
          "2018-03-09T00:00:00",
          "2018-03-07T00:00:00",
          "2018-03-02T00:00:00",
          "2018-02-28T00:00:00",
          "2018-02-25T00:00:00",
          "2018-02-22T00:00:00",
          "2018-02-20T00:00:00",
          "2018-02-16T00:00:00",
          "2018-02-13T00:00:00",
          "2018-02-08T00:00:00",
          "2018-02-05T00:00:00",
          "2018-02-03T00:00:00",
          "2018-01-30T00:00:00",
          "2018-01-23T00:00:00",
          "2018-01-18T00:00:00",
          "2018-01-13T00:00:00",
          "2018-01-10T00:00:00",
          "2018-01-04T00:00:00",
          "2018-01-02T00:00:00",
          "2017-12-23T00:00:00",
          "2017-12-19T00:00:00",
          "2017-12-14T00:00:00",
          "2017-12-12T00:00:00",
          "2017-12-06T00:00:00",
          "2017-11-29T00:00:00",
          "2017-11-27T00:00:00",
          "2017-11-23T00:00:00",
          "2017-11-21T00:00:00",
          "2017-11-17T00:00:00",
          "2017-11-16T00:00:00",
          "2017-11-14T00:00:00",
          "2017-11-09T00:00:00",
          "2017-11-04T00:00:00",
          "2017-11-02T00:00:00",
          "2017-11-01T00:00:00",
          "2017-10-31T00:00:00",
          "2017-10-26T00:00:00",
          "2017-10-23T00:00:00",
          "2017-10-18T00:00:00",
          "2017-10-17T00:00:00",
          "2017-10-12T00:00:00",
          "2017-10-09T00:00:00",
          "2017-10-04T00:00:00",
          "2017-09-29T00:00:00",
          "2017-09-26T00:00:00",
          "2017-09-25T00:00:00",
          "2017-09-21T00:00:00",
          "2017-09-20T00:00:00",
          "2017-09-15T00:00:00",
          "2017-09-14T00:00:00",
          "2017-09-12T00:00:00",
          "2017-09-11T00:00:00",
          "2017-09-01T00:00:00",
          "2017-08-30T00:00:00",
          "2017-08-28T00:00:00",
          "2017-08-23T00:00:00",
          "2017-08-22T00:00:00",
          "2017-08-16T00:00:00",
          "2017-08-10T00:00:00",
          "2017-08-07T00:00:00",
          "2017-08-04T00:00:00",
          "2017-08-02T00:00:00",
          "2017-08-01T00:00:00",
          "2017-07-31T00:00:00",
          "2017-07-24T00:00:00",
          "2017-07-18T00:00:00",
          "2017-07-15T00:00:00",
          "2017-07-13T00:00:00",
          "2017-07-10T00:00:00",
          "2017-07-03T00:00:00",
          "2017-06-30T00:00:00",
          "2017-06-28T00:00:00",
          "2017-06-23T00:00:00",
          "2017-06-20T00:00:00",
          "2017-06-15T00:00:00",
          "2017-06-13T00:00:00",
          "2017-06-09T00:00:00",
          "2017-06-08T00:00:00",
          "2017-06-06T00:00:00",
          "2017-06-02T00:00:00",
          "2017-05-26T00:00:00",
          "2017-05-24T00:00:00",
          "2017-05-22T00:00:00",
          "2017-05-18T00:00:00",
          "2017-05-15T00:00:00",
          "2017-05-10T00:00:00",
          "2017-05-05T00:00:00",
          "2017-05-01T00:00:00",
          "2017-04-27T00:00:00",
          "2017-04-25T00:00:00",
          "2017-04-18T00:00:00",
          "2017-04-18T00:00:00",
          "2017-04-13T00:00:00",
          "2017-04-10T00:00:00",
          "2017-04-05T00:00:00",
          "2017-04-01T00:00:00",
          "2017-03-29T00:00:00",
          "2017-03-24T00:00:00",
          "2017-03-22T00:00:00",
          "2017-03-21T00:00:00",
          "2017-03-16T00:00:00",
          "2017-03-13T00:00:00",
          "2017-03-09T00:00:00",
          "2017-03-03T00:00:00",
          "2017-03-01T00:00:00",
          "2017-02-27T00:00:00",
          "2017-02-22T00:00:00",
          "2017-02-16T00:00:00",
          "2017-02-11T00:00:00",
          "2017-02-10T00:00:00",
          "2017-02-06T00:00:00",
          "2017-02-01T00:00:00",
          "2017-01-28T00:00:00",
          "2017-01-25T00:00:00",
          "2017-01-20T00:00:00",
          "2017-01-18T00:00:00",
          "2017-01-06T00:00:00",
          "2017-01-04T00:00:00",
          "2017-01-03T00:00:00",
          "2016-12-30T00:00:00",
          "2016-12-22T00:00:00",
          "2016-12-19T00:00:00",
          "2016-12-17T00:00:00",
          "2016-12-15T00:00:00",
          "2016-12-13T00:00:00",
          "2016-12-05T00:00:00",
          "2016-12-01T00:00:00",
          "2016-11-29T00:00:00",
          "2016-11-25T00:00:00",
          "2016-11-23T00:00:00",
          "2016-11-22T00:00:00",
          "2016-11-21T00:00:00",
          "2016-11-17T00:00:00",
          "2016-11-13T00:00:00",
          "2016-11-04T00:00:00",
          "2016-11-02T00:00:00",
          "2016-10-28T00:00:00",
          "2016-10-27T00:00:00",
          "2016-10-25T00:00:00",
          "2016-10-21T00:00:00",
          "2016-10-19T00:00:00",
          "2016-10-18T00:00:00",
          "2016-10-12T00:00:00",
          "2016-10-11T00:00:00",
          "2016-10-07T00:00:00",
          "2016-10-04T00:00:00",
          "2016-10-02T00:00:00",
          "2016-09-26T00:00:00",
          "2016-09-23T00:00:00",
          "2016-09-18T00:00:00",
          "2016-09-14T00:00:00",
          "2016-09-07T00:00:00",
          "2016-09-05T00:00:00",
          "2016-08-30T00:00:00",
          "2016-08-23T00:00:00",
          "2016-08-22T00:00:00",
          "2016-08-16T00:00:00",
          "2016-08-12T00:00:00",
          "2016-08-10T00:00:00",
          "2016-08-02T00:00:00",
          "2016-07-29T00:00:00",
          "2016-07-19T00:00:00",
          "2016-07-15T00:00:00",
          "2016-07-13T00:00:00",
          "2016-07-11T00:00:00",
          "2016-06-29T00:00:00",
          "2016-06-24T00:00:00",
          "2016-06-14T00:00:00",
          "2016-06-13T00:00:00",
          "2016-06-06T00:00:00",
          "2016-06-03T00:00:00",
          "2016-05-30T00:00:00",
          "2016-05-19T00:00:00",
          "2016-05-13T00:00:00",
          "2016-05-03T00:00:00",
          "2016-04-29T00:00:00",
          "2016-04-21T00:00:00",
          "2016-04-20T00:00:00",
          "2016-04-14T00:00:00",
          "2016-04-12T00:00:00",
          "2016-04-07T00:00:00",
          "2016-04-04T00:00:00",
          "2016-03-28T00:00:00",
          "2016-03-19T00:00:00",
          "2016-03-17T00:00:00",
          "2016-03-10T00:00:00",
          "2016-03-09T00:00:00",
          "2016-03-02T00:00:00",
          "2016-02-26T00:00:00",
          "2016-02-22T00:00:00",
          "2016-02-20T00:00:00",
          "2016-02-16T00:00:00",
          "2016-02-11T00:00:00",
          "2016-02-07T00:00:00",
          "2016-02-03T00:00:00",
          "2016-01-28T00:00:00",
          "2016-01-23T00:00:00",
          "2016-01-20T00:00:00",
          "2016-01-09T00:00:00",
          "2016-01-08T00:00:00",
          "2016-01-04T00:00:00",
          "2016-01-01T00:00:00",
          "2015-12-29T00:00:00",
          "2015-12-20T00:00:00",
          "2015-12-18T00:00:00",
          "2015-12-16T00:00:00",
          "2015-12-14T00:00:00",
          "2015-12-11T00:00:00",
          "2015-12-08T00:00:00",
          "2015-12-06T00:00:00",
          "2015-12-01T00:00:00",
          "2015-11-26T00:00:00",
          "2015-11-23T00:00:00",
          "2015-11-19T00:00:00",
          "2015-11-14T00:00:00",
          "2015-11-12T00:00:00",
          "2015-11-06T00:00:00",
          "2015-11-02T00:00:00",
          "2015-10-29T00:00:00",
          "2015-10-26T00:00:00",
          "2015-10-21T00:00:00",
          "2015-10-19T00:00:00",
          "2015-10-15T00:00:00",
          "2015-10-12T00:00:00",
          "2015-10-08T00:00:00",
          "2015-10-02T00:00:00",
          "2015-09-29T00:00:00",
          "2015-09-25T00:00:00",
          "2015-09-22T00:00:00",
          "2015-09-17T00:00:00",
          "2015-09-09T00:00:00",
          "2015-09-09T00:00:00",
          "2015-09-07T00:00:00",
          "2015-09-02T00:00:00",
          "2015-08-28T00:00:00",
          "2015-08-23T00:00:00",
          "2015-08-18T00:00:00",
          "2015-08-13T00:00:00",
          "2015-08-11T00:00:00",
          "2015-08-07T00:00:00",
          "2015-08-05T00:00:00",
          "2015-07-28T00:00:00",
          "2015-07-27T00:00:00",
          "2015-07-24T00:00:00",
          "2015-07-17T00:00:00",
          "2015-07-14T00:00:00",
          "2015-07-09T00:00:00",
          "2015-07-03T00:00:00",
          "2015-06-30T00:00:00",
          "2015-06-25T00:00:00",
          "2015-06-24T00:00:00",
          "2015-06-16T00:00:00",
          "2015-06-11T00:00:00",
          "2015-06-05T00:00:00",
          "2015-06-03T00:00:00",
          "2015-05-29T00:00:00",
          "2015-05-27T00:00:00",
          "2015-05-23T00:00:00",
          "2015-05-18T00:00:00",
          "2015-05-14T00:00:00",
          "2015-05-11T00:00:00",
          "2015-05-03T00:00:00",
          "2015-04-28T00:00:00",
          "2015-04-24T00:00:00",
          "2015-04-21T00:00:00",
          "2015-04-15T00:00:00",
          "2015-04-08T00:00:00",
          "2015-04-04T00:00:00",
          "2015-03-31T00:00:00",
          "2015-03-27T00:00:00",
          "2015-03-23T00:00:00",
          "2015-03-12T00:00:00",
          "2015-03-09T00:00:00",
          "2015-03-06T00:00:00",
          "2015-03-02T00:00:00",
          "2015-03-01T00:00:00",
          "2015-03-01T00:00:00",
          "2015-02-24T00:00:00",
          "2015-02-17T00:00:00",
          "2015-02-13T00:00:00",
          "2015-02-10T00:00:00",
          "2015-02-01T00:00:00",
          "2015-01-26T00:00:00",
          "2015-01-24T00:00:00",
          "2015-01-19T00:00:00",
          "2015-01-14T00:00:00",
          "2015-01-11T00:00:00",
          "2015-01-08T00:00:00",
          "2015-01-01T00:00:00",
          "2014-12-23T00:00:00",
          "2014-12-17T00:00:00",
          "2014-12-14T00:00:00",
          "2014-12-07T00:00:00",
          "2014-12-01T00:00:00",
          "2014-11-20T00:00:00",
          "2014-11-15T00:00:00",
          "2014-11-12T00:00:00",
          "2014-11-11T00:00:00",
          "2014-11-05T00:00:00",
          "2014-11-04T00:00:00",
          "2014-11-01T00:00:00",
          "2014-10-27T00:00:00",
          "2014-10-24T00:00:00",
          "2014-10-20T00:00:00",
          "2014-10-17T00:00:00",
          "2014-10-15T00:00:00",
          "2014-10-09T00:00:00",
          "2014-10-05T00:00:00",
          "2014-10-01T00:00:00",
          "2014-09-26T00:00:00",
          "2014-09-24T00:00:00",
          "2014-09-19T00:00:00",
          "2014-09-18T00:00:00",
          "2014-09-15T00:00:00",
          "2014-09-10T00:00:00",
          "2014-09-03T00:00:00",
          "2014-09-03T00:00:00",
          "2014-08-30T00:00:00",
          "2014-08-23T00:00:00",
          "2014-08-21T00:00:00",
          "2014-08-16T00:00:00",
          "2014-08-08T00:00:00",
          "2014-08-04T00:00:00",
          "2014-08-03T00:00:00",
          "2014-07-26T00:00:00",
          "2014-07-24T00:00:00",
          "2014-07-18T00:00:00",
          "2014-07-07T00:00:00",
          "2014-07-04T00:00:00",
          "2014-07-02T00:00:00",
          "2014-06-28T00:00:00",
          "2014-06-26T00:00:00",
          "2014-06-25T00:00:00",
          "2014-06-19T00:00:00",
          "2014-06-18T00:00:00",
          "2014-06-10T00:00:00",
          "2014-06-06T00:00:00",
          "2014-06-04T00:00:00",
          "2014-06-01T00:00:00",
          "2014-05-31T00:00:00",
          "2014-05-27T00:00:00",
          "2014-05-25T00:00:00",
          "2014-05-23T00:00:00",
          "2014-05-19T00:00:00",
          "2014-05-14T00:00:00",
          "2014-05-06T00:00:00",
          "2014-05-02T00:00:00",
          "2014-04-28T00:00:00",
          "2014-04-24T00:00:00",
          "2014-04-20T00:00:00",
          "2014-04-19T00:00:00",
          "2014-04-16T00:00:00",
          "2014-04-09T00:00:00",
          "2014-04-06T00:00:00",
          "2014-03-26T00:00:00",
          "2014-03-25T00:00:00",
          "2014-03-19T00:00:00",
          "2014-03-16T00:00:00",
          "2014-03-03T00:00:00",
          "2014-02-28T00:00:00",
          "2014-02-24T00:00:00",
          "2014-02-23T00:00:00",
          "2014-02-20T00:00:00",
          "2014-02-15T00:00:00",
          "2014-02-12T00:00:00",
          "2014-02-08T00:00:00",
          "2014-02-08T00:00:00",
          "2014-02-06T00:00:00",
          "2014-01-31T00:00:00",
          "2014-01-29T00:00:00",
          "2014-01-25T00:00:00",
          "2014-01-21T00:00:00",
          "2014-01-18T00:00:00",
          "2014-01-13T00:00:00",
          "2014-01-11T00:00:00",
          "2014-01-10T00:00:00",
          "2014-01-09T00:00:00",
          "2014-01-09T00:00:00",
          "2014-01-08T00:00:00",
          "2014-01-07T00:00:00",
          "2014-01-04T00:00:00",
          "2014-01-03T00:00:00",
          "2013-12-24T00:00:00",
          "2013-12-21T00:00:00",
          "2013-12-19T00:00:00",
          "2013-12-17T00:00:00",
          "2013-12-12T00:00:00",
          "2013-12-08T00:00:00",
          "2013-12-05T00:00:00",
          "2013-11-27T00:00:00",
          "2013-11-25T00:00:00",
          "2013-11-18T00:00:00",
          "2013-11-16T00:00:00",
          "2013-11-13T00:00:00",
          "2013-11-08T00:00:00",
          "2013-11-04T00:00:00",
          "2013-11-02T00:00:00",
          "2013-10-31T00:00:00",
          "2013-10-29T00:00:00",
          "2013-10-24T00:00:00",
          "2013-10-21T00:00:00",
          "2013-10-19T00:00:00",
          "2013-10-15T00:00:00",
          "2013-10-11T00:00:00",
          "2013-10-07T00:00:00",
          "2013-10-02T00:00:00",
          "2013-09-25T00:00:00",
          "2013-09-23T00:00:00",
          "2013-09-18T00:00:00",
          "2013-09-13T00:00:00",
          "2013-09-09T00:00:00",
          "2013-09-06T00:00:00",
          "2013-08-30T00:00:00",
          "2013-08-23T00:00:00",
          "2013-08-20T00:00:00",
          "2013-08-16T00:00:00",
          "2013-08-13T00:00:00",
          "2013-08-09T00:00:00",
          "2013-08-06T00:00:00",
          "2013-08-02T00:00:00",
          "2013-07-31T00:00:00",
          "2013-07-29T00:00:00",
          "2013-07-26T00:00:00",
          "2013-07-22T00:00:00",
          "2013-07-18T00:00:00",
          "2013-07-14T00:00:00",
          "2013-07-10T00:00:00",
          "2013-07-04T00:00:00",
          "2013-07-01T00:00:00",
          "2013-06-25T00:00:00",
          "2013-06-22T00:00:00",
          "2013-06-18T00:00:00",
          "2013-06-13T00:00:00",
          "2013-06-11T00:00:00",
          "2013-06-07T00:00:00",
          "2013-06-04T00:00:00",
          "2013-05-30T00:00:00",
          "2013-05-27T00:00:00",
          "2013-05-22T00:00:00",
          "2013-05-17T00:00:00",
          "2013-05-16T00:00:00",
          "2013-05-11T00:00:00",
          "2013-05-08T00:00:00",
          "2013-05-03T00:00:00",
          "2013-04-30T00:00:00",
          "2013-04-26T00:00:00",
          "2013-04-23T00:00:00",
          "2013-04-18T00:00:00",
          "2013-04-16T00:00:00",
          "2013-04-12T00:00:00",
          "2013-04-07T00:00:00",
          "2013-04-04T00:00:00",
          "2013-03-31T00:00:00",
          "2013-03-29T00:00:00",
          "2013-03-26T00:00:00",
          "2013-03-22T00:00:00",
          "2013-03-17T00:00:00",
          "2013-03-12T00:00:00",
          "2013-03-08T00:00:00",
          "2013-03-05T00:00:00",
          "2013-02-28T00:00:00",
          "2013-02-25T00:00:00",
          "2013-02-21T00:00:00",
          "2013-02-19T00:00:00",
          "2013-02-16T00:00:00",
          "2013-02-12T00:00:00",
          "2013-02-09T00:00:00",
          "2013-02-06T00:00:00",
          "2013-02-02T00:00:00",
          "2013-01-27T00:00:00",
          "2013-01-23T00:00:00",
          "2013-01-20T00:00:00",
          "2013-01-18T00:00:00",
          "2013-01-15T00:00:00",
          "2013-01-12T00:00:00",
          "2013-01-10T00:00:00",
          "2013-01-09T00:00:00",
          "2013-01-07T00:00:00",
          "2013-01-03T00:00:00",
          "2012-12-30T00:00:00",
          "2012-12-28T00:00:00",
          "2012-12-24T00:00:00",
          "2012-12-21T00:00:00",
          "2012-12-17T00:00:00",
          "2012-12-15T00:00:00",
          "2012-12-13T00:00:00",
          "2012-12-08T00:00:00",
          "2012-12-05T00:00:00",
          "2012-12-02T00:00:00",
          "2012-11-28T00:00:00",
          "2012-11-26T00:00:00",
          "2012-11-22T00:00:00",
          "2012-11-20T00:00:00",
          "2012-11-19T00:00:00",
          "2012-11-16T00:00:00",
          "2012-11-14T00:00:00",
          "2012-11-12T00:00:00",
          "2012-11-08T00:00:00",
          "2012-10-29T00:00:00",
          "2012-10-25T00:00:00",
          "2012-10-23T00:00:00",
          "2012-10-22T00:00:00",
          "2012-10-18T00:00:00",
          "2012-10-16T00:00:00",
          "2012-10-11T00:00:00",
          "2012-10-08T00:00:00",
          "2012-10-05T00:00:00",
          "2012-10-01T00:00:00",
          "2012-09-28T00:00:00",
          "2012-09-25T00:00:00",
          "2012-09-20T00:00:00",
          "2012-09-15T00:00:00",
          "2012-09-13T00:00:00",
          "2012-09-07T00:00:00",
          "2012-09-03T00:00:00",
          "2012-08-31T00:00:00",
          "2012-08-29T00:00:00",
          "2012-08-24T00:00:00",
          "2012-08-19T00:00:00",
          "2012-08-09T00:00:00",
          "2012-08-06T00:00:00",
          "2012-07-30T00:00:00",
          "2012-07-25T00:00:00",
          "2012-07-23T00:00:00",
          "2012-07-17T00:00:00",
          "2012-07-13T00:00:00",
          "2012-07-10T00:00:00",
          "2012-06-30T00:00:00",
          "2012-06-28T00:00:00",
          "2012-06-27T00:00:00",
          "2012-06-25T00:00:00",
          "2012-06-19T00:00:00",
          "2012-06-15T00:00:00",
          "2012-06-11T00:00:00",
          "2012-06-04T00:00:00",
          "2012-05-29T00:00:00",
          "2012-05-26T00:00:00",
          "2012-05-24T00:00:00",
          "2012-05-17T00:00:00",
          "2012-05-13T00:00:00",
          "2012-05-04T00:00:00",
          "2012-04-30T00:00:00",
          "2012-04-25T00:00:00",
          "2012-04-20T00:00:00",
          "2012-04-16T00:00:00",
          "2012-04-11T00:00:00",
          "2012-04-11T00:00:00",
          "2012-04-08T00:00:00",
          "2012-04-05T00:00:00",
          "2012-03-30T00:00:00",
          "2012-03-27T00:00:00",
          "2012-03-21T00:00:00",
          "2012-03-19T00:00:00",
          "2012-03-17T00:00:00",
          "2012-03-09T00:00:00",
          "2012-03-05T00:00:00",
          "2012-03-01T00:00:00",
          "2012-02-29T00:00:00",
          "2012-02-26T00:00:00",
          "2012-02-23T00:00:00",
          "2012-02-20T00:00:00",
          "2012-02-18T00:00:00",
          "2012-02-14T00:00:00",
          "2012-02-10T00:00:00",
          "2012-02-07T00:00:00",
          "2012-02-04T00:00:00",
          "2012-01-31T00:00:00",
          "2012-01-27T00:00:00",
          "2012-01-22T00:00:00",
          "2012-01-19T00:00:00",
          "2012-01-16T00:00:00",
          "2012-01-14T00:00:00",
          "2012-01-12T00:00:00",
          "2012-01-09T00:00:00",
          "2012-01-08T00:00:00",
          "2012-01-06T00:00:00",
          "2012-01-04T00:00:00",
          "2012-01-01T00:00:00",
          "2011-12-28T00:00:00",
          "2011-12-23T00:00:00",
          "2011-12-18T00:00:00",
          "2011-12-17T00:00:00",
          "2011-12-15T00:00:00",
          "2011-12-15T00:00:00",
          "2011-12-14T00:00:00",
          "2011-12-11T00:00:00",
          "2011-12-08T00:00:00",
          "2011-12-06T00:00:00",
          "2011-12-04T00:00:00",
          "2011-12-03T00:00:00",
          "2011-11-30T00:00:00",
          "2011-11-28T00:00:00",
          "2011-11-22T00:00:00",
          "2011-11-20T00:00:00",
          "2011-11-15T00:00:00",
          "2011-11-09T00:00:00",
          "2011-11-05T00:00:00",
          "2011-11-03T00:00:00",
          "2011-10-30T00:00:00",
          "2011-10-26T00:00:00",
          "2011-10-21T00:00:00",
          "2011-10-17T00:00:00",
          "2011-10-13T00:00:00",
          "2011-10-09T00:00:00",
          "2011-10-05T00:00:00",
          "2011-09-30T00:00:00",
          "2011-09-27T00:00:00",
          "2011-09-22T00:00:00",
          "2011-09-22T00:00:00",
          "2011-09-19T00:00:00",
          "2011-09-15T00:00:00",
          "2011-09-12T00:00:00",
          "2011-09-09T00:00:00",
          "2011-09-07T00:00:00",
          "2011-09-04T00:00:00",
          "2011-09-02T00:00:00",
          "2011-08-30T00:00:00",
          "2011-08-29T00:00:00",
          "2011-08-27T00:00:00",
          "2011-08-24T00:00:00",
          "2011-08-20T00:00:00",
          "2011-08-18T00:00:00",
          "2011-08-16T00:00:00",
          "2011-08-12T00:00:00",
          "2011-08-11T00:00:00",
          "2011-08-08T00:00:00",
          "2011-08-06T00:00:00",
          "2011-01-23T00:00:00",
          "2011-01-20T00:00:00",
          "2011-01-18T00:00:00",
          "2011-01-15T00:00:00",
          "2011-01-11T00:00:00",
          "2011-01-08T00:00:00",
          "2011-01-05T00:00:00",
          "2010-12-30T00:00:00",
          "2010-12-28T00:00:00",
          "2010-12-27T00:00:00",
          "2010-12-24T00:00:00",
          "2010-12-21T00:00:00",
          "2010-12-19T00:00:00",
          "2010-12-13T00:00:00",
          "2010-12-12T00:00:00",
          "2010-12-07T00:00:00",
          "2010-12-05T00:00:00",
          "2010-11-28T00:00:00",
          "2010-11-25T00:00:00",
          "2010-11-22T00:00:00",
          "2010-11-21T00:00:00",
          "2010-11-18T00:00:00",
          "2010-11-17T00:00:00",
          "2010-11-17T00:00:00",
          "2010-11-12T00:00:00",
          "2010-11-08T00:00:00",
          "2010-11-03T00:00:00",
          "2010-10-31T00:00:00",
          "2010-10-27T00:00:00",
          "2010-10-23T00:00:00",
          "2010-10-18T00:00:00",
          "2010-10-13T00:00:00",
          "2010-10-08T00:00:00",
          "2010-09-28T00:00:00",
          "2010-09-26T00:00:00",
          "2010-09-24T00:00:00",
          "2010-09-21T00:00:00",
          "2010-09-17T00:00:00",
          "2010-09-10T00:00:00",
          "2010-09-07T00:00:00",
          "2010-09-03T00:00:00",
          "2010-08-26T00:00:00",
          "2010-08-16T00:00:00",
          "2010-08-11T00:00:00",
          "2010-08-09T00:00:00",
          "2010-07-28T00:00:00",
          "2010-07-26T00:00:00",
          "2010-07-20T00:00:00",
          "2010-07-17T00:00:00",
          "2010-06-27T00:00:00",
          "2010-06-21T00:00:00",
          "2010-06-16T00:00:00",
          "2010-06-11T00:00:00",
          "2010-06-07T00:00:00",
          "2010-06-03T00:00:00",
          "2010-05-25T00:00:00",
          "2010-05-18T00:00:00",
          "2010-05-11T00:00:00",
          "2010-05-06T00:00:00",
          "2010-04-30T00:00:00",
          "2010-04-28T00:00:00",
          "2010-04-24T00:00:00",
          "2010-04-13T00:00:00",
          "2010-04-04T00:00:00",
          "2010-03-28T00:00:00",
          "2010-03-21T00:00:00",
          "2010-03-11T00:00:00",
          "2010-02-28T00:00:00",
          "2010-02-23T00:00:00",
          "2010-02-16T00:00:00",
          "2010-02-10T00:00:00",
          "2010-02-03T00:00:00",
          "2010-01-27T00:00:00",
          "2010-01-23T00:00:00",
          "2010-01-18T00:00:00",
          "2010-01-11T00:00:00",
          "2010-01-06T00:00:00",
          "2009-12-31T00:00:00",
          "2009-12-27T00:00:00",
          "2009-12-22T00:00:00",
          "2009-12-18T00:00:00",
          "2009-12-14T00:00:00",
          "2009-12-11T00:00:00",
          "2009-12-06T00:00:00",
          "2009-12-03T00:00:00",
          "2009-12-02T00:00:00",
          "2009-11-28T00:00:00",
          "2009-11-25T00:00:00",
          "2009-11-23T00:00:00",
          "2009-11-17T00:00:00",
          "2009-11-15T00:00:00",
          "2009-11-12T00:00:00",
          "2009-11-09T00:00:00",
          "2009-11-07T00:00:00",
          "2009-11-06T00:00:00",
          "2009-10-28T00:00:00",
          "2009-10-25T00:00:00",
          "2009-10-23T00:00:00",
          "2009-10-22T00:00:00",
          "2009-10-19T00:00:00",
          "2009-10-16T00:00:00",
          "2009-10-15T00:00:00",
          "2009-10-12T00:00:00",
          "2009-10-11T00:00:00",
          "2009-10-09T00:00:00",
          "2009-10-07T00:00:00",
          "2009-10-05T00:00:00",
          "2009-10-04T00:00:00",
          "2009-10-02T00:00:00",
          "2009-09-13T00:00:00",
          "2009-09-12T00:00:00",
          "2009-09-06T00:00:00",
          "2009-09-03T00:00:00",
          "2009-08-31T00:00:00",
          "2009-08-29T00:00:00",
          "2009-08-26T00:00:00",
          "2009-08-24T00:00:00",
          "2009-08-22T00:00:00",
          "2009-08-20T00:00:00",
          "2009-08-18T00:00:00",
          "2009-08-16T00:00:00",
          "2009-08-14T00:00:00",
          "2009-08-12T00:00:00",
          "2009-08-09T00:00:00",
          "2009-08-04T00:00:00",
          "2009-08-02T00:00:00",
          "2009-07-28T00:00:00",
          "2009-07-26T00:00:00",
          "2009-07-23T00:00:00",
          "2009-07-22T00:00:00",
          "2009-07-20T00:00:00",
          "2009-07-18T00:00:00",
          "2009-07-15T00:00:00",
          "2009-07-12T00:00:00",
          "2009-07-08T00:00:00",
          "2009-07-08T00:00:00",
          "2009-07-06T00:00:00",
          "2009-07-04T00:00:00",
          "2009-07-02T00:00:00",
          "2009-06-30T00:00:00",
          "2009-06-28T00:00:00",
          "2009-06-26T00:00:00",
          "2009-06-24T00:00:00",
          "2009-06-23T00:00:00",
          "2009-06-22T00:00:00",
          "2009-06-20T00:00:00",
          "2009-06-19T00:00:00",
          "2009-06-18T00:00:00",
          "2009-06-17T00:00:00",
          "2009-06-16T00:00:00",
          "2009-06-15T00:00:00",
          "2009-06-14T00:00:00",
          "2009-06-12T00:00:00",
          "2009-06-11T00:00:00",
          "2009-06-09T00:00:00",
          "2009-06-08T00:00:00",
          "2009-06-05T00:00:00",
          "2009-06-04T00:00:00",
          "2009-06-03T00:00:00",
          "2009-06-02T00:00:00",
          "2009-06-01T00:00:00",
          "2009-05-31T00:00:00",
          "2009-05-30T00:00:00",
          "2009-05-29T00:00:00",
          "2009-05-27T00:00:00",
          "2009-05-25T00:00:00",
          "2009-05-23T00:00:00",
          "2009-05-21T00:00:00",
          "2009-05-19T00:00:00",
          "2009-05-18T00:00:00",
          "2009-05-14T00:00:00",
          "2009-05-13T00:00:00",
          "2009-05-12T00:00:00",
          "2009-05-10T00:00:00",
          "2009-05-09T00:00:00",
          "2009-05-07T00:00:00",
          "2009-05-05T00:00:00",
          "2009-05-04T00:00:00",
          "2009-05-03T00:00:00",
          "2009-05-02T00:00:00",
          "2009-05-01T00:00:00",
          "2009-04-29T00:00:00",
          "2009-04-28T00:00:00",
          "2009-04-26T00:00:00",
          "2009-04-26T00:00:00",
          "2009-04-24T00:00:00",
          "2009-04-23T00:00:00",
          "2009-04-22T00:00:00",
          "2009-04-21T00:00:00",
          "2009-04-20T00:00:00",
          "2009-04-19T00:00:00",
          "2009-04-18T00:00:00",
          "2009-04-17T00:00:00",
          "2009-04-16T00:00:00",
          "2009-04-12T00:00:00",
          "2009-04-12T00:00:00",
          "2009-04-11T00:00:00",
          "2009-04-10T00:00:00",
          "2009-04-08T00:00:00",
          "2009-04-07T00:00:00",
          "2009-04-06T00:00:00",
          "2009-04-04T00:00:00",
          "2009-04-03T00:00:00",
          "2009-04-03T00:00:00",
          "2009-04-02T00:00:00",
          "2009-04-01T00:00:00",
          "2009-03-31T00:00:00",
          "2009-03-30T00:00:00",
          "2009-03-30T00:00:00",
          "2009-03-29T00:00:00",
          "2009-03-29T00:00:00",
          "2009-03-29T00:00:00",
          "2009-03-28T00:00:00",
          "2009-03-27T00:00:00",
          "2009-03-25T00:00:00",
          "2009-03-25T00:00:00",
          "2009-03-24T00:00:00",
          "2009-03-23T00:00:00",
          "2009-03-20T00:00:00",
          "2009-03-20T00:00:00",
          "2009-03-19T00:00:00",
          "2009-03-18T00:00:00",
          "2009-03-18T00:00:00",
          "2009-03-17T00:00:00",
          "2009-03-14T00:00:00",
          "2009-03-14T00:00:00",
          "2009-03-14T00:00:00",
          "2009-03-14T00:00:00",
          "2009-03-13T00:00:00",
          "2009-03-12T00:00:00",
          "2009-03-11T00:00:00",
          "2009-03-10T00:00:00",
          "2009-03-10T00:00:00",
          "2009-03-07T00:00:00",
          "2009-03-07T00:00:00",
          "2009-03-05T00:00:00",
          "2009-03-04T00:00:00",
          "2009-03-04T00:00:00",
          "2009-03-03T00:00:00",
          "2009-03-03T00:00:00",
          "2009-03-02T00:00:00",
          "2009-02-27T00:00:00",
          "2009-02-26T00:00:00",
          "2009-02-25T00:00:00",
          "2009-02-24T00:00:00",
          "2009-02-23T00:00:00",
          "2009-02-23T00:00:00",
          "2009-02-23T00:00:00",
          "2009-02-23T00:00:00",
          "2009-02-22T00:00:00",
          "2009-02-22T00:00:00",
          "2009-02-22T00:00:00",
          "2009-02-22T00:00:00",
          "2009-02-21T00:00:00",
          "2009-02-21T00:00:00",
          "2009-02-21T00:00:00",
          "2009-02-20T00:00:00",
          "2009-02-20T00:00:00",
          "2009-02-19T00:00:00",
          "2009-02-19T00:00:00",
          "2009-02-19T00:00:00",
          "2009-02-19T00:00:00",
          "2009-02-18T00:00:00",
          "2009-02-18T00:00:00",
          "2009-02-18T00:00:00",
          "2009-02-17T00:00:00",
          "2009-02-17T00:00:00",
          "2009-02-16T00:00:00",
          "2009-02-16T00:00:00",
          "2009-02-16T00:00:00",
          "2009-02-16T00:00:00",
          "2009-02-15T00:00:00",
          "2009-02-15T00:00:00",
          "2009-02-14T00:00:00",
          "2009-02-13T00:00:00",
          "2009-02-13T00:00:00",
          "2009-02-13T00:00:00",
          "2009-02-12T00:00:00",
          "2009-02-12T00:00:00",
          "2009-02-12T00:00:00",
          "2009-02-12T00:00:00",
          "2009-02-12T00:00:00",
          "2009-02-12T00:00:00",
          "2009-02-11T00:00:00",
          "2009-02-11T00:00:00",
          "2009-02-11T00:00:00",
          "2009-02-10T00:00:00",
          "2009-02-10T00:00:00",
          "2009-02-10T00:00:00",
          "2009-02-10T00:00:00",
          "2009-02-09T00:00:00",
          "2009-02-09T00:00:00",
          "2009-02-09T00:00:00",
          "2009-02-09T00:00:00",
          "2009-02-09T00:00:00",
          "2009-02-08T00:00:00",
          "2009-02-08T00:00:00",
          "2009-02-08T00:00:00",
          "2009-02-08T00:00:00",
          "2009-02-08T00:00:00",
          "2009-02-08T00:00:00",
          "2009-02-08T00:00:00",
          "2009-02-08T00:00:00",
          "2009-02-07T00:00:00",
          "2009-02-07T00:00:00",
          "2009-02-07T00:00:00",
          "2009-02-07T00:00:00",
          "2009-02-07T00:00:00",
          "2009-02-07T00:00:00",
          "2009-02-06T00:00:00",
          "2009-02-06T00:00:00",
          "2009-02-04T00:00:00",
          "2009-02-04T00:00:00",
          "2009-02-04T00:00:00",
          "2009-02-04T00:00:00",
          "2009-02-04T00:00:00",
          "2009-02-04T00:00:00",
          "2009-02-03T00:00:00",
          "2009-02-03T00:00:00",
          "2009-02-03T00:00:00",
          "2009-02-03T00:00:00",
          "2009-02-02T00:00:00",
          "2009-02-02T00:00:00",
          "2009-02-02T00:00:00",
          "2009-02-02T00:00:00",
          "2009-02-02T00:00:00",
          "2009-02-02T00:00:00",
          "2009-02-02T00:00:00",
          "2009-02-02T00:00:00",
          "2009-02-01T00:00:00",
          "2009-02-01T00:00:00",
          "2009-02-01T00:00:00",
          "2009-02-01T00:00:00",
          "2009-02-01T00:00:00",
          "2009-01-31T00:00:00",
          "2009-01-31T00:00:00",
          "2009-01-31T00:00:00",
          "2009-01-31T00:00:00",
          "2009-01-31T00:00:00",
          "2009-01-31T00:00:00",
          "2009-01-31T00:00:00",
          "2009-01-31T00:00:00",
          "2009-01-31T00:00:00",
          "2009-01-30T00:00:00",
          "2009-01-30T00:00:00",
          "2009-01-29T00:00:00",
          "2009-01-29T00:00:00",
          "2009-01-29T00:00:00",
          "2009-01-29T00:00:00",
          "2009-01-29T00:00:00",
          "2009-01-29T00:00:00",
          "2009-01-29T00:00:00",
          "2009-01-29T00:00:00",
          "2009-01-29T00:00:00",
          "2009-01-01T00:00:00",
          "2009-01-01T00:00:00",
          "2008-09-15T00:00:00",
          "2008-05-30T00:00:00",
          "2008-03-28T00:00:00"
         ],
         "xaxis": "x",
         "y": [
          4919,
          7958,
          12325,
          11698,
          6390,
          6292,
          11937,
          9866,
          4763,
          7538,
          7169,
          14064,
          3213,
          7492,
          5168,
          5125,
          9874,
          20826,
          9380,
          6167,
          6180,
          6946,
          4476,
          4166,
          15722,
          6252,
          6233,
          6123,
          6348,
          7923,
          5688,
          7792,
          4289,
          38042,
          8093,
          15406,
          7157,
          18429,
          10689,
          10018,
          13431,
          15201,
          6752,
          20112,
          4419,
          12542,
          4185,
          10347,
          9050,
          18177,
          8856,
          18368,
          5046,
          12540,
          7801,
          25619,
          6817,
          5645,
          7733,
          7136,
          8838,
          7389,
          7133,
          10058,
          18997,
          6764,
          5388,
          9186,
          10890,
          4914,
          16062,
          8364,
          10773,
          12983,
          3633,
          30092,
          10060,
          13550,
          13028,
          14043,
          11790,
          8241,
          7921,
          22027,
          22960,
          2680,
          2121,
          1920,
          3036,
          5443,
          8556,
          15159,
          18775,
          14318,
          18687,
          5283,
          10917,
          7766,
          6432,
          7950,
          8544,
          23185,
          6559,
          17199,
          3718,
          4942,
          10051,
          13375,
          12406,
          10449,
          12286,
          10402,
          7475,
          17191,
          8520,
          15740,
          8581,
          18658,
          98975,
          19750,
          14416,
          22883,
          6432,
          8735,
          46641,
          44570,
          8645,
          11589,
          10486,
          10807,
          10200,
          17099,
          14550,
          7686,
          12145,
          12664,
          7160,
          10063,
          17210,
          40834,
          21464,
          8552,
          8160,
          11874,
          34317,
          13284,
          12733,
          8765,
          9789,
          26737,
          34837,
          6073,
          38704,
          13410,
          26754,
          14355,
          9475,
          8917,
          16526,
          8609,
          7994,
          5507,
          9080,
          9544,
          13694,
          5276,
          13509,
          13116,
          9873,
          15917,
          4247,
          16038,
          13332,
          9794,
          6511,
          9221,
          9546,
          5770,
          12859,
          18864,
          11784,
          35439,
          17676,
          25558,
          20989,
          7624,
          17693,
          12675,
          8388,
          8371,
          5429,
          50188,
          14858,
          8361,
          5648,
          4402,
          9630,
          7671,
          22560,
          7654,
          8808,
          8465,
          9570,
          8769,
          26852,
          10878,
          18017,
          7078,
          15242,
          6321,
          7833,
          7851,
          13241,
          6524,
          7818,
          7649,
          18255,
          5272,
          11494,
          23535,
          7990,
          5942,
          3974,
          5835,
          8466,
          10519,
          15018,
          10033,
          6140,
          7567,
          9119,
          11868,
          6998,
          3436,
          3452,
          4840,
          6770,
          5375,
          11447,
          23006,
          687,
          4180,
          20370,
          13213,
          1293,
          7972,
          15068,
          538,
          8350,
          5384,
          285,
          6357,
          5027,
          5209,
          26156,
          35488,
          6661,
          16306,
          5254,
          14815,
          8870,
          3924,
          5619,
          18926,
          11413,
          3914,
          15969,
          19644,
          5095,
          8122,
          5345,
          7166,
          4601,
          12887,
          6991,
          16438,
          14009,
          12481,
          13458,
          25516,
          14990,
          4123,
          9533,
          8099,
          11673,
          32542,
          2443,
          12666,
          20468,
          8579,
          9216,
          15562,
          5386,
          5622,
          4390,
          6572,
          5313,
          4085,
          10599,
          1909,
          8428,
          9983,
          15901,
          16349,
          5909,
          5839,
          36502,
          6119,
          6641,
          17545,
          7902,
          2386,
          8882,
          6109,
          14128,
          30847,
          11685,
          12205,
          5438,
          8450,
          19451,
          7989,
          10766,
          4907,
          9507,
          5977,
          12096,
          13817,
          6365,
          9800,
          9364,
          25033,
          8281,
          5402,
          12184,
          18496,
          5094,
          11318,
          6667,
          4990,
          9792,
          12298,
          10054,
          3661,
          2828,
          6443,
          9671,
          8746,
          10129,
          22946,
          7182,
          35309,
          4102,
          18049,
          10171,
          5732,
          7352,
          9448,
          10000,
          16195,
          9878,
          8061,
          12380,
          15882,
          5042,
          339547,
          13860,
          9245,
          6878,
          5015,
          18779,
          5414,
          10506,
          6426,
          7740,
          12899,
          7892,
          13065,
          9967,
          12366,
          5891,
          5330,
          4065,
          3249,
          12026,
          19384,
          27850,
          15705,
          7897,
          5445,
          15702,
          9762,
          7429,
          5581,
          9049,
          4152,
          4177,
          6663,
          3270,
          6922,
          4026,
          6257,
          6442,
          4281,
          4005,
          3857,
          4861,
          9493,
          24747,
          7009,
          4908,
          4195,
          13942,
          2344,
          6605,
          12883,
          6400,
          2283,
          5943,
          3123,
          4211,
          12312,
          13830,
          3430,
          14368,
          6947,
          6698,
          7415,
          21671,
          5557,
          3587,
          12875,
          2134,
          5582,
          7622,
          6562,
          8700,
          5597,
          6023,
          5311,
          2740,
          10381,
          2236,
          1949,
          3774,
          4275,
          7667,
          17958,
          4220,
          7490,
          6075,
          5638,
          40391,
          2521,
          5575,
          13980,
          6722,
          15714,
          6688,
          5975,
          4203,
          9992,
          23880,
          817,
          11418,
          2351,
          4849,
          5054,
          4902,
          10272,
          9046,
          2912,
          2818,
          4349,
          8275,
          3961,
          6284,
          18325,
          4679,
          7486,
          5945,
          2460,
          6879,
          4862,
          3015,
          2648,
          11881,
          19026,
          6787,
          1756,
          7466,
          5125,
          6540,
          1664,
          3644,
          3093,
          5935,
          4421,
          2896,
          3560,
          11500,
          5491,
          5810,
          6077,
          5468,
          4145,
          3265,
          2729,
          2079,
          2857,
          3736,
          5828,
          4220,
          6195,
          4422,
          6949,
          26363,
          12190,
          3882,
          3271,
          5394,
          14708,
          10781,
          13808,
          7292,
          2934,
          7084,
          9194,
          1760,
          7042,
          2571,
          8478,
          5246,
          2538,
          4233,
          1443,
          1582,
          2194,
          5080,
          6689,
          2145,
          3186,
          1837,
          4625,
          3043,
          3810,
          3524,
          13690,
          12360,
          -1,
          6002,
          6141,
          25954,
          105599,
          2365,
          4552,
          3081,
          2508,
          4855,
          1421,
          9315,
          3153,
          2458,
          5971,
          5967,
          16912,
          9778,
          4487,
          8490,
          6629,
          2997,
          6896,
          12516,
          5513,
          8885,
          8306,
          4638,
          10468,
          13583,
          1749,
          2646,
          4357,
          4125,
          4365,
          3454,
          4466,
          6493,
          3039,
          6534,
          4445,
          2742,
          2589,
          5306,
          3307,
          10512,
          2874,
          3892,
          3630,
          2318,
          3614,
          2399,
          2172,
          4911,
          2505,
          2055,
          3044,
          4519,
          3737,
          7769,
          4423,
          4123,
          9521,
          5365,
          6881,
          4087,
          2886,
          7833,
          3661,
          2056,
          2020,
          3283,
          6079,
          1803,
          19070,
          4457,
          1897,
          2445,
          1629,
          2309,
          2278,
          242703,
          8295,
          3210,
          12558,
          1879,
          3528,
          2617,
          4041,
          3975,
          4122,
          4145,
          4138,
          3214,
          3615,
          1961,
          3555,
          8668,
          66130,
          2249,
          4340,
          1407,
          2474,
          12082,
          4215,
          3482,
          3966,
          5640,
          5560,
          10178,
          3044,
          1994,
          5737,
          9161,
          2511,
          3928,
          2121,
          2439,
          1361,
          4581,
          3742,
          2236,
          68198,
          2184,
          1729,
          2333,
          4683,
          1514,
          2070,
          3873,
          4839,
          177679,
          1316,
          8027,
          1510,
          5290,
          2588,
          4147,
          6294,
          4546,
          3380,
          2493,
          8612,
          1713,
          3558,
          1605,
          2177,
          1819,
          -1,
          4905,
          7774,
          1317,
          2357,
          4343,
          2399,
          1588,
          2674,
          1372,
          1856,
          3415,
          3926,
          2866,
          2478,
          781,
          1210,
          1101,
          1789,
          2188,
          2436,
          1828,
          9177,
          2749,
          3873,
          5222,
          7316,
          3355,
          1739,
          5266,
          2461,
          5437,
          6142,
          4482,
          3543,
          3840,
          10030,
          2800,
          2622,
          6422,
          5123,
          5201,
          3057,
          3085,
          5805,
          6548,
          3338,
          23790,
          2252,
          2015,
          1868,
          1382,
          1641,
          2431,
          2858,
          3539,
          3690,
          7463,
          2803,
          -1,
          3970,
          1627,
          569,
          2578,
          5452,
          1806,
          1941,
          4140,
          9983,
          4421,
          2588,
          8248,
          3142,
          7499,
          1558,
          1998,
          4011,
          -1,
          2305,
          1589,
          1382,
          5275,
          5942,
          3628,
          2912,
          2783,
          1466,
          2180,
          3686,
          2644,
          4677,
          1163,
          3275,
          4570,
          5828,
          989,
          988,
          1491,
          1782,
          724,
          1409,
          1152,
          1443,
          3063,
          1580,
          613,
          682,
          320,
          720,
          1337,
          1160,
          2814,
          1507,
          4480,
          1734,
          2877,
          2603,
          3187,
          2446,
          1744,
          9315,
          5486,
          3652,
          3143,
          5302,
          1904,
          2358,
          4659,
          3019,
          3040,
          2388,
          2288,
          4948,
          20038,
          1728,
          9631,
          1329,
          3841,
          3691,
          2254,
          1290,
          1719,
          14854,
          1454,
          8478,
          7999,
          4612,
          4855,
          3181,
          3447,
          1571,
          2731,
          1609,
          4153,
          -1,
          1450,
          2007,
          5291,
          2034,
          2268,
          3571,
          1640,
          7087,
          2947,
          988,
          1705,
          3556,
          1309,
          3963,
          1102,
          1731,
          1174,
          4947,
          3927,
          3298,
          591,
          992,
          3433,
          960,
          5488,
          3536,
          1804,
          1111,
          1442,
          1252,
          1365,
          2409,
          -1,
          2751,
          1365,
          3301,
          2302,
          1464,
          4181,
          -1,
          10085,
          2321,
          1037,
          2243,
          953,
          1539,
          1762,
          2400,
          1664,
          2094,
          432,
          434,
          523,
          1658,
          1175,
          884,
          999,
          1898,
          1419,
          286,
          -1,
          1587,
          960,
          941,
          1262,
          2791,
          1028,
          925,
          395,
          1072,
          1647,
          2101,
          391,
          1872,
          490,
          461,
          1191,
          3260,
          -1,
          9383,
          682,
          446,
          392,
          921,
          499,
          1367,
          1465,
          240,
          571,
          -1,
          807,
          1345,
          554,
          1897,
          806,
          4426,
          1133,
          1950,
          385,
          710,
          889,
          -1,
          2235,
          1853,
          358,
          2439,
          354,
          3220,
          296,
          2040,
          414,
          481,
          551,
          1457,
          908,
          914,
          286,
          1289,
          3550,
          1460,
          148,
          344,
          -1,
          1199,
          1068,
          536,
          920,
          152,
          3020,
          412,
          420,
          1249,
          174,
          699,
          210,
          402,
          344,
          6845,
          457,
          173,
          1742,
          745,
          567,
          444,
          715,
          562,
          395,
          338,
          225,
          289,
          167,
          213,
          49,
          1292,
          146,
          215,
          219,
          223,
          257,
          155,
          157,
          30,
          126,
          -1,
          169,
          344,
          1199,
          117,
          208,
          1567,
          31,
          124,
          107,
          562,
          37,
          149,
          1762,
          96,
          1673,
          36,
          142,
          225,
          103,
          1109,
          48,
          71,
          3504,
          484,
          214,
          313,
          214,
          82,
          202,
          153,
          248,
          1186,
          86,
          72,
          358,
          63,
          110,
          592,
          123,
          191,
          60,
          102,
          273,
          342,
          74,
          223,
          78,
          637,
          161,
          78,
          267,
          -1,
          28,
          266,
          62,
          93,
          115,
          24,
          28,
          20,
          23,
          23,
          -1,
          34,
          30,
          18,
          66,
          22,
          35,
          990,
          40,
          49,
          36,
          74,
          85,
          106,
          229,
          25,
          115,
          91,
          109,
          1101,
          79,
          35,
          84,
          76,
          38,
          29,
          35,
          224,
          77,
          59,
          48,
          34,
          49,
          27,
          107,
          81,
          41,
          79,
          54,
          -1,
          79,
          59,
          224,
          49,
          64,
          46,
          88,
          -1,
          335,
          142,
          43,
          62,
          119,
          343,
          47,
          2385,
          29810,
          69,
          -1,
          65,
          100,
          156,
          81,
          73,
          38,
          19,
          34,
          92,
          41,
          38,
          32,
          27,
          206,
          53,
          32,
          156,
          28,
          137,
          27,
          61,
          19,
          26,
          111,
          81,
          90,
          35,
          83,
          62,
          32,
          32,
          19,
          19,
          41,
          13,
          44,
          60,
          92,
          48,
          32,
          28,
          58,
          26,
          31,
          154,
          48,
          207,
          33,
          42,
          24,
          20,
          759,
          37,
          17,
          45,
          234,
          27,
          19,
          38,
          301,
          264,
          41,
          21,
          21,
          21,
          52,
          20,
          24,
          23,
          20,
          21,
          25,
          24,
          37,
          24,
          28,
          30,
          20,
          25,
          27,
          26,
          19,
          26,
          27,
          10,
          35,
          81,
          99,
          29,
          20,
          29,
          22,
          32,
          15,
          15,
          19,
          13,
          15,
          29,
          29,
          35,
          13,
          16,
          24,
          57,
          35,
          19,
          23,
          28,
          32,
          34,
          9,
          10,
          36,
          120,
          15,
          19,
          27,
          37,
          43,
          67,
          23,
          56,
          31,
          27,
          54,
          66,
          28,
          54,
          11,
          22,
          73,
          20,
          30,
          27,
          50,
          89,
          44,
          38,
          103,
          24,
          14,
          43,
          34,
          83,
          43,
          21,
          79,
          27,
          27,
          58,
          19,
          23,
          10,
          18,
          20,
          25,
          18,
          53,
          12,
          12,
          138,
          21,
          75,
          16,
          6,
          17,
          10,
          13,
          6,
          24,
          41,
          18,
          12,
          67,
          39,
          6,
          6,
          15,
          119,
          13067,
          8,
          9,
          14,
          161,
          13,
          22,
          17,
          13,
          162,
          28,
          241,
          86,
          10,
          54,
          60,
          13,
          124,
          14,
          23,
          20,
          17,
          6,
          14,
          16,
          38,
          18,
          45,
          10,
          32,
          5,
          18,
          27,
          22,
          18,
          8,
          14,
          12,
          19,
          12,
          11,
          40,
          17,
          17,
          20,
          16,
          39,
          24,
          16,
          9,
          75,
          10,
          46,
          12,
          13,
          11,
          16,
          14,
          36,
          19,
          15,
          37,
          27,
          20,
          17,
          39,
          27,
          106,
          25,
          833,
          16,
          37,
          17,
          29,
          24,
          61,
          13,
          84,
          51,
          347,
          40,
          49,
          238,
          45,
          56,
          40,
          74,
          57,
          72,
          195,
          112,
          237,
          37125,
          724,
          358,
          3545
         ],
         "yaxis": "y"
        }
       ],
       "layout": {
        "legend": {
         "tracegroupgap": 0
        },
        "template": {
         "data": {
          "bar": [
           {
            "error_x": {
             "color": "#2a3f5f"
            },
            "error_y": {
             "color": "#2a3f5f"
            },
            "marker": {
             "line": {
              "color": "#E5ECF6",
              "width": 0.5
             },
             "pattern": {
              "fillmode": "overlay",
              "size": 10,
              "solidity": 0.2
             }
            },
            "type": "bar"
           }
          ],
          "barpolar": [
           {
            "marker": {
             "line": {
              "color": "#E5ECF6",
              "width": 0.5
             },
             "pattern": {
              "fillmode": "overlay",
              "size": 10,
              "solidity": 0.2
             }
            },
            "type": "barpolar"
           }
          ],
          "carpet": [
           {
            "aaxis": {
             "endlinecolor": "#2a3f5f",
             "gridcolor": "white",
             "linecolor": "white",
             "minorgridcolor": "white",
             "startlinecolor": "#2a3f5f"
            },
            "baxis": {
             "endlinecolor": "#2a3f5f",
             "gridcolor": "white",
             "linecolor": "white",
             "minorgridcolor": "white",
             "startlinecolor": "#2a3f5f"
            },
            "type": "carpet"
           }
          ],
          "choropleth": [
           {
            "colorbar": {
             "outlinewidth": 0,
             "ticks": ""
            },
            "type": "choropleth"
           }
          ],
          "contour": [
           {
            "colorbar": {
             "outlinewidth": 0,
             "ticks": ""
            },
            "colorscale": [
             [
              0,
              "#0d0887"
             ],
             [
              0.1111111111111111,
              "#46039f"
             ],
             [
              0.2222222222222222,
              "#7201a8"
             ],
             [
              0.3333333333333333,
              "#9c179e"
             ],
             [
              0.4444444444444444,
              "#bd3786"
             ],
             [
              0.5555555555555556,
              "#d8576b"
             ],
             [
              0.6666666666666666,
              "#ed7953"
             ],
             [
              0.7777777777777778,
              "#fb9f3a"
             ],
             [
              0.8888888888888888,
              "#fdca26"
             ],
             [
              1,
              "#f0f921"
             ]
            ],
            "type": "contour"
           }
          ],
          "contourcarpet": [
           {
            "colorbar": {
             "outlinewidth": 0,
             "ticks": ""
            },
            "type": "contourcarpet"
           }
          ],
          "heatmap": [
           {
            "colorbar": {
             "outlinewidth": 0,
             "ticks": ""
            },
            "colorscale": [
             [
              0,
              "#0d0887"
             ],
             [
              0.1111111111111111,
              "#46039f"
             ],
             [
              0.2222222222222222,
              "#7201a8"
             ],
             [
              0.3333333333333333,
              "#9c179e"
             ],
             [
              0.4444444444444444,
              "#bd3786"
             ],
             [
              0.5555555555555556,
              "#d8576b"
             ],
             [
              0.6666666666666666,
              "#ed7953"
             ],
             [
              0.7777777777777778,
              "#fb9f3a"
             ],
             [
              0.8888888888888888,
              "#fdca26"
             ],
             [
              1,
              "#f0f921"
             ]
            ],
            "type": "heatmap"
           }
          ],
          "heatmapgl": [
           {
            "colorbar": {
             "outlinewidth": 0,
             "ticks": ""
            },
            "colorscale": [
             [
              0,
              "#0d0887"
             ],
             [
              0.1111111111111111,
              "#46039f"
             ],
             [
              0.2222222222222222,
              "#7201a8"
             ],
             [
              0.3333333333333333,
              "#9c179e"
             ],
             [
              0.4444444444444444,
              "#bd3786"
             ],
             [
              0.5555555555555556,
              "#d8576b"
             ],
             [
              0.6666666666666666,
              "#ed7953"
             ],
             [
              0.7777777777777778,
              "#fb9f3a"
             ],
             [
              0.8888888888888888,
              "#fdca26"
             ],
             [
              1,
              "#f0f921"
             ]
            ],
            "type": "heatmapgl"
           }
          ],
          "histogram": [
           {
            "marker": {
             "pattern": {
              "fillmode": "overlay",
              "size": 10,
              "solidity": 0.2
             }
            },
            "type": "histogram"
           }
          ],
          "histogram2d": [
           {
            "colorbar": {
             "outlinewidth": 0,
             "ticks": ""
            },
            "colorscale": [
             [
              0,
              "#0d0887"
             ],
             [
              0.1111111111111111,
              "#46039f"
             ],
             [
              0.2222222222222222,
              "#7201a8"
             ],
             [
              0.3333333333333333,
              "#9c179e"
             ],
             [
              0.4444444444444444,
              "#bd3786"
             ],
             [
              0.5555555555555556,
              "#d8576b"
             ],
             [
              0.6666666666666666,
              "#ed7953"
             ],
             [
              0.7777777777777778,
              "#fb9f3a"
             ],
             [
              0.8888888888888888,
              "#fdca26"
             ],
             [
              1,
              "#f0f921"
             ]
            ],
            "type": "histogram2d"
           }
          ],
          "histogram2dcontour": [
           {
            "colorbar": {
             "outlinewidth": 0,
             "ticks": ""
            },
            "colorscale": [
             [
              0,
              "#0d0887"
             ],
             [
              0.1111111111111111,
              "#46039f"
             ],
             [
              0.2222222222222222,
              "#7201a8"
             ],
             [
              0.3333333333333333,
              "#9c179e"
             ],
             [
              0.4444444444444444,
              "#bd3786"
             ],
             [
              0.5555555555555556,
              "#d8576b"
             ],
             [
              0.6666666666666666,
              "#ed7953"
             ],
             [
              0.7777777777777778,
              "#fb9f3a"
             ],
             [
              0.8888888888888888,
              "#fdca26"
             ],
             [
              1,
              "#f0f921"
             ]
            ],
            "type": "histogram2dcontour"
           }
          ],
          "mesh3d": [
           {
            "colorbar": {
             "outlinewidth": 0,
             "ticks": ""
            },
            "type": "mesh3d"
           }
          ],
          "parcoords": [
           {
            "line": {
             "colorbar": {
              "outlinewidth": 0,
              "ticks": ""
             }
            },
            "type": "parcoords"
           }
          ],
          "pie": [
           {
            "automargin": true,
            "type": "pie"
           }
          ],
          "scatter": [
           {
            "marker": {
             "colorbar": {
              "outlinewidth": 0,
              "ticks": ""
             }
            },
            "type": "scatter"
           }
          ],
          "scatter3d": [
           {
            "line": {
             "colorbar": {
              "outlinewidth": 0,
              "ticks": ""
             }
            },
            "marker": {
             "colorbar": {
              "outlinewidth": 0,
              "ticks": ""
             }
            },
            "type": "scatter3d"
           }
          ],
          "scattercarpet": [
           {
            "marker": {
             "colorbar": {
              "outlinewidth": 0,
              "ticks": ""
             }
            },
            "type": "scattercarpet"
           }
          ],
          "scattergeo": [
           {
            "marker": {
             "colorbar": {
              "outlinewidth": 0,
              "ticks": ""
             }
            },
            "type": "scattergeo"
           }
          ],
          "scattergl": [
           {
            "marker": {
             "colorbar": {
              "outlinewidth": 0,
              "ticks": ""
             }
            },
            "type": "scattergl"
           }
          ],
          "scattermapbox": [
           {
            "marker": {
             "colorbar": {
              "outlinewidth": 0,
              "ticks": ""
             }
            },
            "type": "scattermapbox"
           }
          ],
          "scatterpolar": [
           {
            "marker": {
             "colorbar": {
              "outlinewidth": 0,
              "ticks": ""
             }
            },
            "type": "scatterpolar"
           }
          ],
          "scatterpolargl": [
           {
            "marker": {
             "colorbar": {
              "outlinewidth": 0,
              "ticks": ""
             }
            },
            "type": "scatterpolargl"
           }
          ],
          "scatterternary": [
           {
            "marker": {
             "colorbar": {
              "outlinewidth": 0,
              "ticks": ""
             }
            },
            "type": "scatterternary"
           }
          ],
          "surface": [
           {
            "colorbar": {
             "outlinewidth": 0,
             "ticks": ""
            },
            "colorscale": [
             [
              0,
              "#0d0887"
             ],
             [
              0.1111111111111111,
              "#46039f"
             ],
             [
              0.2222222222222222,
              "#7201a8"
             ],
             [
              0.3333333333333333,
              "#9c179e"
             ],
             [
              0.4444444444444444,
              "#bd3786"
             ],
             [
              0.5555555555555556,
              "#d8576b"
             ],
             [
              0.6666666666666666,
              "#ed7953"
             ],
             [
              0.7777777777777778,
              "#fb9f3a"
             ],
             [
              0.8888888888888888,
              "#fdca26"
             ],
             [
              1,
              "#f0f921"
             ]
            ],
            "type": "surface"
           }
          ],
          "table": [
           {
            "cells": {
             "fill": {
              "color": "#EBF0F8"
             },
             "line": {
              "color": "white"
             }
            },
            "header": {
             "fill": {
              "color": "#C8D4E3"
             },
             "line": {
              "color": "white"
             }
            },
            "type": "table"
           }
          ]
         },
         "layout": {
          "annotationdefaults": {
           "arrowcolor": "#2a3f5f",
           "arrowhead": 0,
           "arrowwidth": 1
          },
          "autotypenumbers": "strict",
          "coloraxis": {
           "colorbar": {
            "outlinewidth": 0,
            "ticks": ""
           }
          },
          "colorscale": {
           "diverging": [
            [
             0,
             "#8e0152"
            ],
            [
             0.1,
             "#c51b7d"
            ],
            [
             0.2,
             "#de77ae"
            ],
            [
             0.3,
             "#f1b6da"
            ],
            [
             0.4,
             "#fde0ef"
            ],
            [
             0.5,
             "#f7f7f7"
            ],
            [
             0.6,
             "#e6f5d0"
            ],
            [
             0.7,
             "#b8e186"
            ],
            [
             0.8,
             "#7fbc41"
            ],
            [
             0.9,
             "#4d9221"
            ],
            [
             1,
             "#276419"
            ]
           ],
           "sequential": [
            [
             0,
             "#0d0887"
            ],
            [
             0.1111111111111111,
             "#46039f"
            ],
            [
             0.2222222222222222,
             "#7201a8"
            ],
            [
             0.3333333333333333,
             "#9c179e"
            ],
            [
             0.4444444444444444,
             "#bd3786"
            ],
            [
             0.5555555555555556,
             "#d8576b"
            ],
            [
             0.6666666666666666,
             "#ed7953"
            ],
            [
             0.7777777777777778,
             "#fb9f3a"
            ],
            [
             0.8888888888888888,
             "#fdca26"
            ],
            [
             1,
             "#f0f921"
            ]
           ],
           "sequentialminus": [
            [
             0,
             "#0d0887"
            ],
            [
             0.1111111111111111,
             "#46039f"
            ],
            [
             0.2222222222222222,
             "#7201a8"
            ],
            [
             0.3333333333333333,
             "#9c179e"
            ],
            [
             0.4444444444444444,
             "#bd3786"
            ],
            [
             0.5555555555555556,
             "#d8576b"
            ],
            [
             0.6666666666666666,
             "#ed7953"
            ],
            [
             0.7777777777777778,
             "#fb9f3a"
            ],
            [
             0.8888888888888888,
             "#fdca26"
            ],
            [
             1,
             "#f0f921"
            ]
           ]
          },
          "colorway": [
           "#636efa",
           "#EF553B",
           "#00cc96",
           "#ab63fa",
           "#FFA15A",
           "#19d3f3",
           "#FF6692",
           "#B6E880",
           "#FF97FF",
           "#FECB52"
          ],
          "font": {
           "color": "#2a3f5f"
          },
          "geo": {
           "bgcolor": "white",
           "lakecolor": "white",
           "landcolor": "#E5ECF6",
           "showlakes": true,
           "showland": true,
           "subunitcolor": "white"
          },
          "hoverlabel": {
           "align": "left"
          },
          "hovermode": "closest",
          "mapbox": {
           "style": "light"
          },
          "paper_bgcolor": "white",
          "plot_bgcolor": "#E5ECF6",
          "polar": {
           "angularaxis": {
            "gridcolor": "white",
            "linecolor": "white",
            "ticks": ""
           },
           "bgcolor": "#E5ECF6",
           "radialaxis": {
            "gridcolor": "white",
            "linecolor": "white",
            "ticks": ""
           }
          },
          "scene": {
           "xaxis": {
            "backgroundcolor": "#E5ECF6",
            "gridcolor": "white",
            "gridwidth": 2,
            "linecolor": "white",
            "showbackground": true,
            "ticks": "",
            "zerolinecolor": "white"
           },
           "yaxis": {
            "backgroundcolor": "#E5ECF6",
            "gridcolor": "white",
            "gridwidth": 2,
            "linecolor": "white",
            "showbackground": true,
            "ticks": "",
            "zerolinecolor": "white"
           },
           "zaxis": {
            "backgroundcolor": "#E5ECF6",
            "gridcolor": "white",
            "gridwidth": 2,
            "linecolor": "white",
            "showbackground": true,
            "ticks": "",
            "zerolinecolor": "white"
           }
          },
          "shapedefaults": {
           "line": {
            "color": "#2a3f5f"
           }
          },
          "ternary": {
           "aaxis": {
            "gridcolor": "white",
            "linecolor": "white",
            "ticks": ""
           },
           "baxis": {
            "gridcolor": "white",
            "linecolor": "white",
            "ticks": ""
           },
           "bgcolor": "#E5ECF6",
           "caxis": {
            "gridcolor": "white",
            "linecolor": "white",
            "ticks": ""
           }
          },
          "title": {
           "x": 0.05
          },
          "xaxis": {
           "automargin": true,
           "gridcolor": "white",
           "linecolor": "white",
           "ticks": "",
           "title": {
            "standoff": 15
           },
           "zerolinecolor": "white",
           "zerolinewidth": 2
          },
          "yaxis": {
           "automargin": true,
           "gridcolor": "white",
           "linecolor": "white",
           "ticks": "",
           "title": {
            "standoff": 15
           },
           "zerolinecolor": "white",
           "zerolinewidth": 2
          }
         }
        },
        "title": {
         "text": "Number of comments per year"
        },
        "xaxis": {
         "anchor": "y",
         "domain": [
          0,
          1
         ],
         "title": {
          "text": "Date"
         }
        },
        "yaxis": {
         "anchor": "x",
         "domain": [
          0,
          1
         ],
         "title": {
          "text": "Comments"
         }
        }
       }
      }
     },
     "metadata": {},
     "output_type": "display_data"
    }
   ],
   "source": [
    "px.line(df,y='Comments',x='Date',title='Number of comments per year',hover_data=['Title'])"
   ]
  },
  {
   "cell_type": "code",
   "execution_count": 31,
   "metadata": {},
   "outputs": [
    {
     "data": {
      "text/html": [
       "<div>\n",
       "<style scoped>\n",
       "    .dataframe tbody tr th:only-of-type {\n",
       "        vertical-align: middle;\n",
       "    }\n",
       "\n",
       "    .dataframe tbody tr th {\n",
       "        vertical-align: top;\n",
       "    }\n",
       "\n",
       "    .dataframe thead th {\n",
       "        text-align: right;\n",
       "    }\n",
       "</style>\n",
       "<table border=\"1\" class=\"dataframe\">\n",
       "  <thead>\n",
       "    <tr style=\"text-align: right;\">\n",
       "      <th></th>\n",
       "      <th>Title</th>\n",
       "      <th>Views</th>\n",
       "      <th>Date</th>\n",
       "      <th>Likes</th>\n",
       "      <th>Comments</th>\n",
       "      <th>Link</th>\n",
       "    </tr>\n",
       "  </thead>\n",
       "  <tbody>\n",
       "    <tr>\n",
       "      <th>365</th>\n",
       "      <td>RED iPhone XR Unboxing &amp; Giveaway!</td>\n",
       "      <td>2415152</td>\n",
       "      <td>2018-10-23</td>\n",
       "      <td>137624</td>\n",
       "      <td>339547</td>\n",
       "      <td>youtube.com/watch?v=vc1NdYXlaxA</td>\n",
       "    </tr>\n",
       "    <tr>\n",
       "      <th>630</th>\n",
       "      <td>Pick Your Smartphone Giveaway!</td>\n",
       "      <td>719215</td>\n",
       "      <td>2015-12-20</td>\n",
       "      <td>98466</td>\n",
       "      <td>242703</td>\n",
       "      <td>youtube.com/watch?v=ShcnNkr_PEY</td>\n",
       "    </tr>\n",
       "    <tr>\n",
       "      <th>680</th>\n",
       "      <td>Iron Man Edition Samsung Galaxy S6 Edge!</td>\n",
       "      <td>2037763</td>\n",
       "      <td>2015-06-05</td>\n",
       "      <td>94709</td>\n",
       "      <td>177679</td>\n",
       "      <td>youtube.com/watch?v=VgmyVHYV1mE</td>\n",
       "    </tr>\n",
       "    <tr>\n",
       "      <th>553</th>\n",
       "      <td>Dope Tech: Self Lacing Nike HyperAdapt 1.0!</td>\n",
       "      <td>1608385</td>\n",
       "      <td>2016-12-01</td>\n",
       "      <td>87264</td>\n",
       "      <td>105599</td>\n",
       "      <td>youtube.com/watch?v=C9Plog9I1JY</td>\n",
       "    </tr>\n",
       "    <tr>\n",
       "      <th>118</th>\n",
       "      <td>Giving Away 24 PS5s and XBox Series X!</td>\n",
       "      <td>2197970</td>\n",
       "      <td>2020-12-25</td>\n",
       "      <td>203821</td>\n",
       "      <td>98975</td>\n",
       "      <td>youtube.com/watch?v=Lt-fah4spJY</td>\n",
       "    </tr>\n",
       "    <tr>\n",
       "      <th>671</th>\n",
       "      <td>iPod Touch 2015 Review!</td>\n",
       "      <td>2095810</td>\n",
       "      <td>2015-07-17</td>\n",
       "      <td>69410</td>\n",
       "      <td>68198</td>\n",
       "      <td>youtube.com/watch?v=orPHNS-0CZI</td>\n",
       "    </tr>\n",
       "    <tr>\n",
       "      <th>647</th>\n",
       "      <td>Update 11.0: MKBHD.com!</td>\n",
       "      <td>596689</td>\n",
       "      <td>2015-10-21</td>\n",
       "      <td>25840</td>\n",
       "      <td>66130</td>\n",
       "      <td>youtube.com/watch?v=qv-RVkpQTWs</td>\n",
       "    </tr>\n",
       "    <tr>\n",
       "      <th>191</th>\n",
       "      <td>Reflecting on the Color of My Skin</td>\n",
       "      <td>6648699</td>\n",
       "      <td>2020-06-04</td>\n",
       "      <td>657022</td>\n",
       "      <td>50188</td>\n",
       "      <td>youtube.com/watch?v=o-_WXXVye3Y</td>\n",
       "    </tr>\n",
       "    <tr>\n",
       "      <th>124</th>\n",
       "      <td>AirPods Max Unboxing &amp; Impressions: $550?!</td>\n",
       "      <td>11954658</td>\n",
       "      <td>2020-12-10</td>\n",
       "      <td>405425</td>\n",
       "      <td>46641</td>\n",
       "      <td>youtube.com/watch?v=UdfSrJvqY_E</td>\n",
       "    </tr>\n",
       "    <tr>\n",
       "      <th>125</th>\n",
       "      <td>The Portless iPhone 13: Let's Talk!</td>\n",
       "      <td>6369708</td>\n",
       "      <td>2020-12-07</td>\n",
       "      <td>230768</td>\n",
       "      <td>44570</td>\n",
       "      <td>youtube.com/watch?v=Qfmeb2e_kb4</td>\n",
       "    </tr>\n",
       "    <tr>\n",
       "      <th>139</th>\n",
       "      <td>PlayStation 5 Unboxing &amp; Accessories!</td>\n",
       "      <td>13652604</td>\n",
       "      <td>2020-10-27</td>\n",
       "      <td>580105</td>\n",
       "      <td>40834</td>\n",
       "      <td>youtube.com/watch?v=QtMzV73NAgk</td>\n",
       "    </tr>\n",
       "    <tr>\n",
       "      <th>452</th>\n",
       "      <td>The $1000 Smartphone Giveaway!</td>\n",
       "      <td>1641292</td>\n",
       "      <td>2017-11-27</td>\n",
       "      <td>152587</td>\n",
       "      <td>40391</td>\n",
       "      <td>youtube.com/watch?v=Wzvr_rtI82w</td>\n",
       "    </tr>\n",
       "    <tr>\n",
       "      <th>152</th>\n",
       "      <td>The Galaxy S20 Fan Edition: Hear Me Out!</td>\n",
       "      <td>4869727</td>\n",
       "      <td>2020-09-28</td>\n",
       "      <td>153485</td>\n",
       "      <td>38704</td>\n",
       "      <td>youtube.com/watch?v=azrdcp4yYas</td>\n",
       "    </tr>\n",
       "    <tr>\n",
       "      <th>33</th>\n",
       "      <td>Dear YouTube!</td>\n",
       "      <td>3682313</td>\n",
       "      <td>2021-11-11</td>\n",
       "      <td>510942</td>\n",
       "      <td>38042</td>\n",
       "      <td>youtube.com/watch?v=CaaJyRvvaq8</td>\n",
       "    </tr>\n",
       "    <tr>\n",
       "      <th>1409</th>\n",
       "      <td>HP Pavilion dv7t Media Center Remote Overview</td>\n",
       "      <td>4640300</td>\n",
       "      <td>2009-01-01</td>\n",
       "      <td>234631</td>\n",
       "      <td>37125</td>\n",
       "      <td>youtube.com/watch?v=9gk_rl3y_SU</td>\n",
       "    </tr>\n",
       "    <tr>\n",
       "      <th>306</th>\n",
       "      <td>The Huawei Ban: Explained!</td>\n",
       "      <td>7528004</td>\n",
       "      <td>2019-05-21</td>\n",
       "      <td>203392</td>\n",
       "      <td>36502</td>\n",
       "      <td>youtube.com/watch?v=qZGpmWrVSaU</td>\n",
       "    </tr>\n",
       "    <tr>\n",
       "      <th>255</th>\n",
       "      <td>Tesla CyberTruck Impressions &amp; First Drive!</td>\n",
       "      <td>10447383</td>\n",
       "      <td>2019-11-22</td>\n",
       "      <td>225399</td>\n",
       "      <td>35488</td>\n",
       "      <td>youtube.com/watch?v=oTZ84U-K_5k</td>\n",
       "    </tr>\n",
       "    <tr>\n",
       "      <th>181</th>\n",
       "      <td>On the iPhone 12 With No Charger...</td>\n",
       "      <td>4470358</td>\n",
       "      <td>2020-07-01</td>\n",
       "      <td>193678</td>\n",
       "      <td>35439</td>\n",
       "      <td>youtube.com/watch?v=8IB7JcKJEeI</td>\n",
       "    </tr>\n",
       "    <tr>\n",
       "      <th>351</th>\n",
       "      <td>The Problem with YouTube Rewind!</td>\n",
       "      <td>7712667</td>\n",
       "      <td>2018-12-12</td>\n",
       "      <td>373757</td>\n",
       "      <td>35309</td>\n",
       "      <td>youtube.com/watch?v=P5dxd-ocaE8</td>\n",
       "    </tr>\n",
       "    <tr>\n",
       "      <th>150</th>\n",
       "      <td>Why Don't People Buy Sony Smartphones?</td>\n",
       "      <td>6930487</td>\n",
       "      <td>2020-10-05</td>\n",
       "      <td>294507</td>\n",
       "      <td>34837</td>\n",
       "      <td>youtube.com/watch?v=j7QwJ-M_GAI</td>\n",
       "    </tr>\n",
       "  </tbody>\n",
       "</table>\n",
       "</div>"
      ],
      "text/plain": [
       "                                              Title     Views       Date  \\\n",
       "365              RED iPhone XR Unboxing & Giveaway!   2415152 2018-10-23   \n",
       "630                  Pick Your Smartphone Giveaway!    719215 2015-12-20   \n",
       "680        Iron Man Edition Samsung Galaxy S6 Edge!   2037763 2015-06-05   \n",
       "553     Dope Tech: Self Lacing Nike HyperAdapt 1.0!   1608385 2016-12-01   \n",
       "118          Giving Away 24 PS5s and XBox Series X!   2197970 2020-12-25   \n",
       "671                         iPod Touch 2015 Review!   2095810 2015-07-17   \n",
       "647                         Update 11.0: MKBHD.com!    596689 2015-10-21   \n",
       "191              Reflecting on the Color of My Skin   6648699 2020-06-04   \n",
       "124      AirPods Max Unboxing & Impressions: $550?!  11954658 2020-12-10   \n",
       "125             The Portless iPhone 13: Let's Talk!   6369708 2020-12-07   \n",
       "139           PlayStation 5 Unboxing & Accessories!  13652604 2020-10-27   \n",
       "452                  The $1000 Smartphone Giveaway!   1641292 2017-11-27   \n",
       "152        The Galaxy S20 Fan Edition: Hear Me Out!   4869727 2020-09-28   \n",
       "33                                    Dear YouTube!   3682313 2021-11-11   \n",
       "1409  HP Pavilion dv7t Media Center Remote Overview   4640300 2009-01-01   \n",
       "306                      The Huawei Ban: Explained!   7528004 2019-05-21   \n",
       "255     Tesla CyberTruck Impressions & First Drive!  10447383 2019-11-22   \n",
       "181             On the iPhone 12 With No Charger...   4470358 2020-07-01   \n",
       "351                The Problem with YouTube Rewind!   7712667 2018-12-12   \n",
       "150          Why Don't People Buy Sony Smartphones?   6930487 2020-10-05   \n",
       "\n",
       "       Likes  Comments                             Link  \n",
       "365   137624    339547  youtube.com/watch?v=vc1NdYXlaxA  \n",
       "630    98466    242703  youtube.com/watch?v=ShcnNkr_PEY  \n",
       "680    94709    177679  youtube.com/watch?v=VgmyVHYV1mE  \n",
       "553    87264    105599  youtube.com/watch?v=C9Plog9I1JY  \n",
       "118   203821     98975  youtube.com/watch?v=Lt-fah4spJY  \n",
       "671    69410     68198  youtube.com/watch?v=orPHNS-0CZI  \n",
       "647    25840     66130  youtube.com/watch?v=qv-RVkpQTWs  \n",
       "191   657022     50188  youtube.com/watch?v=o-_WXXVye3Y  \n",
       "124   405425     46641  youtube.com/watch?v=UdfSrJvqY_E  \n",
       "125   230768     44570  youtube.com/watch?v=Qfmeb2e_kb4  \n",
       "139   580105     40834  youtube.com/watch?v=QtMzV73NAgk  \n",
       "452   152587     40391  youtube.com/watch?v=Wzvr_rtI82w  \n",
       "152   153485     38704  youtube.com/watch?v=azrdcp4yYas  \n",
       "33    510942     38042  youtube.com/watch?v=CaaJyRvvaq8  \n",
       "1409  234631     37125  youtube.com/watch?v=9gk_rl3y_SU  \n",
       "306   203392     36502  youtube.com/watch?v=qZGpmWrVSaU  \n",
       "255   225399     35488  youtube.com/watch?v=oTZ84U-K_5k  \n",
       "181   193678     35439  youtube.com/watch?v=8IB7JcKJEeI  \n",
       "351   373757     35309  youtube.com/watch?v=P5dxd-ocaE8  \n",
       "150   294507     34837  youtube.com/watch?v=j7QwJ-M_GAI  "
      ]
     },
     "execution_count": 31,
     "metadata": {},
     "output_type": "execute_result"
    }
   ],
   "source": [
    "df.sort_values('Comments',ascending=False)[:20]"
   ]
  },
  {
   "cell_type": "markdown",
   "metadata": {},
   "source": [
    "The videos with more number of comments are giveaway videos mostly.\n",
    "And some other videos include discussion about some problems like 351.Youtube rewind, 150.Sony smartphones, 125.Portless iphone13, 33.Dear Youtube, 191.Reflecting on the color of my skin."
   ]
  },
  {
   "cell_type": "markdown",
   "metadata": {},
   "source": [
    "## Lets focus on Views column\n",
    "### Main aspect of youtube"
   ]
  },
  {
   "cell_type": "code",
   "execution_count": 32,
   "metadata": {},
   "outputs": [
    {
     "data": {
      "application/vnd.plotly.v1+json": {
       "config": {
        "plotlyServerURL": "https://plot.ly"
       },
       "data": [
        {
         "customdata": [
          [
           "YouTube Needs to Fix This"
          ],
          [
           "The Electric Car Pre-Order Problem"
          ],
          [
           "Does Fast Charging ACTUALLY Ruin Your Battery?"
          ],
          [
           "\"The Apple Studio Display is a Bad Deal\""
          ],
          [
           "Mac Studio Review: Double Trouble!"
          ],
          [
           "iPad Air M1 Review: Don't Choose Wrong!"
          ],
          [
           "iPhone SE (2022) Review: Old Dog. New Trick."
          ],
          [
           "NEW Mac Studio & Apple Event Reactions!"
          ],
          [
           "Dope Tech: Weirdest Earbuds I've Ever Tried!"
          ],
          [
           "Galaxy Tab S8 Ultra: A Monster Tablet!"
          ],
          [
           "Galaxy S22 Ultra Review: Separating from the Pack!"
          ],
          [
           "Galaxy S22 Review: The iPhone of Android!"
          ],
          [
           "On New Cybertruck Updates from Drone Footage..."
          ],
          [
           "Galaxy S22 Ultra Impressions: It's a Note!"
          ],
          [
           "Galaxy S22 Impressions: 1 Real Downgrade!"
          ],
          [
           "An Announcement!"
          ],
          [
           "OnePlus 10 Pro Impressions: What Happened?"
          ],
          [
           "Blue Bubbles vs Green Bubbles: Explained!"
          ],
          [
           "When Tech Companies Lie to Us..."
          ],
          [
           "My Everyday Tech: 2022!"
          ],
          [
           "2022 Tech I'm Ready For!"
          ],
          [
           "Galaxy S21 FE Impressions: Great Phone, Odd Price!"
          ],
          [
           "Rewind: Best Gadgets of 2021!"
          ],
          [
           "Tech Rewind 2021!"
          ],
          [
           "Smartphone Awards 2021!"
          ],
          [
           "20 Questions with MrBeast!"
          ],
          [
           "The Blind Smartphone Camera Test 2021!"
          ],
          [
           "Oppo Find N Impressions: The Best Folding Phone?!"
          ],
          [
           "Smartphone Cameras vs Reality!"
          ],
          [
           "This Smartphone is Built Different..."
          ],
          [
           "Why Does This $10,000 Gucci Xbox Exist?"
          ],
          [
           "What is a Google Phone?! Reviewing Every Pixel/Nexus Ever!"
          ],
          [
           "Apple vs Right to Repair: Part 2!"
          ],
          [
           "Dear YouTube!"
          ],
          [
           "The Best Camera in Any Phone... With a Catch!"
          ],
          [
           "M1 Max MacBook Pro Review: Truly Next Level!"
          ],
          [
           "AirPods 3 Review: Easy Mode!"
          ],
          [
           "Pixel 6/6 Pro Review: Almost Incredible!"
          ],
          [
           "The Rivian R1T is an Incredibly Fun Electric Pickup!"
          ],
          [
           "Surface Duo 2: Can This Be Saved?"
          ],
          [
           "Pixel 6/6 Pro Unboxing & First Look!"
          ],
          [
           "NEW M1 Max MacBook Pro Reaction: The Ports are Back!"
          ],
          [
           "Apple Watch Series 7 Review: Spot the Differences!"
          ],
          [
           "Reviewing EVERY iPhone Ever!"
          ],
          [
           "Surface Laptop Studio Impressions: Windows 11 With a Twist!"
          ],
          [
           "iPhone 13 Pro Review: Better Than You Think!"
          ],
          [
           "RED V-RAPTOR Impressions: 8K 120fps!"
          ],
          [
           "iPhone 13 Review: Lowkey Great!"
          ],
          [
           "iPad Mini 2021 Review: Pocketable Power!"
          ],
          [
           "iPhone 13 Unboxing & Impressions!"
          ],
          [
           "3 Features the iPhone 13 Didn't Add!"
          ],
          [
           "iPhone 13 Event Reaction: Everything New!"
          ],
          [
           "Real Thoughts on Tech Leaks!"
          ],
          [
           "Driving 1000 Miles in 3 Cars: Gas vs Electric!"
          ],
          [
           "Samsung Z Flip 3 Review: The First Big Step!"
          ],
          [
           "The Tesla Bot: Explained!"
          ],
          [
           "Samsung Z Fold 3 Review: Let's Talk Ambition!"
          ],
          [
           "Google Pixel 5A: Spot the Difference!"
          ],
          [
           "Samsung Galaxy Z Flip 3 Impressions: Design Refresh!"
          ],
          [
           "Samsung Galaxy Z Fold 3 Impressions: 3 New Features!"
          ],
          [
           "Pixel 6's Tensor Chip: Let's Talk!"
          ],
          [
           "The Electric Hummer: Hands-On & Impressions!"
          ],
          [
           "Nothing Ear(1) Review: See Through the Hype!"
          ],
          [
           "The iPhone 13 Models!"
          ],
          [
           "Tesla Model S PLAID Impressions: Re-Inventing the Wheel!"
          ],
          [
           "How Do YouTubers Make Money? (And Other Questions We Have to Answer)"
          ],
          [
           "iPadOS 15 Review: Dropped Expectations!"
          ],
          [
           "iOS 15 Hands-On: Top 5 New Features!"
          ],
          [
           "Sony Xperia 1 III: The Ultimate Enthusiast Phone!"
          ],
          [
           "Why Everything is an Ultrabook!"
          ],
          [
           "Windows 11 Reactions: It Runs Android Apps! (Kinda)"
          ],
          [
           "Forgot About Beats by Dre?"
          ],
          [
           "Top 5 Android 12 Features: Huge Redesign!"
          ],
          [
           "Why iPhone's Features are Always \"Late\""
          ],
          [
           "When Smartphones Copy Each Other!"
          ],
          [
           "Ford F150 Lightning Impressions: Better Than I Thought!"
          ],
          [
           "Talking Tech and AI with Google CEO Sundar Pichai!"
          ],
          [
           "iPad Pro M1 Review: The Ultimate Spec Bump!"
          ],
          [
           "M1 iMac Review: Ultra Thin Design Choice!"
          ],
          [
           "What Is Right To Repair?"
          ],
          [
           "Apple vs The Paradox of Choice!"
          ],
          [
           "OnePlus Watch Review: They Settled!"
          ],
          [
           "The New Purple iPhone 12!"
          ],
          [
           "Apple AirTags Unboxing & Demo!"
          ],
          [
           "Colored iMacs? Let's Talk About Apple's 4/20 Event!"
          ],
          [
           "Retro Tech: Smart Homes"
          ],
          [
           "Retro Tech: Hyperconnectivity"
          ],
          [
           "Retro Tech: Robots"
          ],
          [
           "Retro Tech: Teleportation"
          ],
          [
           "Retro Tech: Flying Cars"
          ],
          [
           "The World's Largest Smartphone Camera!"
          ],
          [
           "Top 5 Mercedes EQS Features: Electric Luxury!"
          ],
          [
           "The Ultimate Gaming Phone!"
          ],
          [
           "Why Did LG Phones Really Die?"
          ],
          [
           "The Best Mac I've Ever Reviewed!"
          ],
          [
           "OnePlus 9 Review: Sneaky Value!"
          ],
          [
           "OnePlus 9 Pro Review: A Huge Hasselblad Promise!"
          ],
          [
           "Huawei Mate X2 Impressions: I Was Right!"
          ],
          [
           "Dope Tech: The Fastest Drone AND Car Yet!"
          ],
          [
           "The Smartphone With a Microscope Camera?!"
          ],
          [
           "ROG Phone 5 Ultimate Review: The Most Ridiculous Custom!"
          ],
          [
           "What I REALLY Think of the iPhone!"
          ],
          [
           "iPhone 13 \"Confirmed\"?! NOPE"
          ],
          [
           "Dogecoin: Explained"
          ],
          [
           "How to Upgrade a PlayStation 5!"
          ],
          [
           "Huawei Mate Xs Impressions: The Hottest Foldable!"
          ],
          [
           "Galaxy S21 Review: Would You Notice?"
          ],
          [
           "2021 Tesla Model S Refresh Reaction!"
          ],
          [
           "The Only REAL \"Pro\" Smartphone?!"
          ],
          [
           "The Invisible Selfie Camera!"
          ],
          [
           "Samsung Galaxy S21 Ultra Review: Problems Solved!"
          ],
          [
           "Xiaomi Mi 11: The New Normal!"
          ],
          [
           "Huge Apple 2021 Rumor Reactions!"
          ],
          [
           "Samsung Galaxy S21 Ultra Impressions: Redemption Time!"
          ],
          [
           "Samsung Galaxy S21 Impressions: New Year, New Price!"
          ],
          [
           "What Happened to OnePlus?"
          ],
          [
           "2021 Tech I'm Ready For!"
          ],
          [
           "Dear Electric Cars!"
          ],
          [
           "Giving Away 24 PS5s and XBox Series X!"
          ],
          [
           "Smartphone Awards 2020!"
          ],
          [
           "Some Quick Advice from Barack Obama!"
          ],
          [
           "AirPods Max Review: Luxury Listening!"
          ],
          [
           "Outer Folding Phones: It's Time to Stop!"
          ],
          [
           "The iPhone with a Piece of the Moon? The Caviar Story"
          ],
          [
           "AirPods Max Unboxing & Impressions: $550?!"
          ],
          [
           "The Portless iPhone 13: Let's Talk!"
          ],
          [
           "The $129 Smartphone?!"
          ],
          [
           "The Blind Smartphone Camera Test 2020!"
          ],
          [
           "What's in my Tech Bag! [2020]"
          ],
          [
           "The FIRST MKBHD Product: ICONS!"
          ],
          [
           "The First Folding Screen Tablet!"
          ],
          [
           "Apple M1 Mac Review: Time to Recalibrate!"
          ],
          [
           "PlayStation 5 Review: Next Gen Gaming!"
          ],
          [
           "HomePod Mini Review: Big Sound, Tiny Box!"
          ],
          [
           "Apple M1 Chip: Let's Talk!"
          ],
          [
           "iPhone 12 Pro Max Review: The Biggest Ever!"
          ],
          [
           "iPhone 12 Mini Review: Tiny Tradeoffs!"
          ],
          [
           "PlayStation 5 Controller: Major Key!"
          ],
          [
           "iPhone 12 Pro Review: You Sure About That?"
          ],
          [
           "PlayStation 5 Unboxing & Accessories!"
          ],
          [
           "iPhone 12 Review: Just Got Real!"
          ],
          [
           "Google Pixel 5 Review: Software Special!"
          ],
          [
           "Huawei Mate 40 Pro Impressions: Technically Awesome!"
          ],
          [
           "iPad Air 2020: The Real iPad Pro Killer!"
          ],
          [
           "iPhone 12 Unboxing Experience + MagSafe Demo!"
          ],
          [
           "LG Wing: The Swiveling Smartphone!"
          ],
          [
           "The $200 Smartphone?!"
          ],
          [
           "Google Pixel 5 Impressions: A New Strategy?"
          ],
          [
           "OnePlus 8T Review: The Awkward Middle Child!"
          ],
          [
           "Apple iPhone 12 Lineup Reactions!"
          ],
          [
           "Why Don't People Buy Sony Smartphones?"
          ],
          [
           "Apple Watch Series 6 Review: It's Bait!"
          ],
          [
           "The Galaxy S20 Fan Edition: Hear Me Out!"
          ],
          [
           "The Ultimate iOS 14 Homescreen Setup Guide!"
          ],
          [
           "Can You Actually Game in 8K? (RTX 3090 Gameplay!)"
          ],
          [
           "Porsche Taycan Turbo: I Almost Switched!  [Auto Focus Ep 6]"
          ],
          [
           "Xbox Series X/S Design Impressions!"
          ],
          [
           "Apple Watch Series 6: Everything New! (Product RED)"
          ],
          [
           "Talking Tech and Holograms with Mark Zuckerberg!"
          ],
          [
           "Galaxy Z Fold 2 Review: Folding King... But For What?"
          ],
          [
           "Surface Duo Review: The Good, The Bad & The Ugly!"
          ],
          [
           "Moto RAZR 2 Impressions: Nostalgia Reloaded?"
          ],
          [
           "Samsung Galaxy Z Fold 2 Unboxing: 3 Major Upgrades!"
          ],
          [
           "Surface Duo Unboxing & Impressions: Hinge Goals!"
          ],
          [
           "Samsung Galaxy Nope 20!"
          ],
          [
           "6K RED Komodo Impressions: The Mini Cine Camera!"
          ],
          [
           "Galaxy Note 20 Ultra Review: It Better Be Good!"
          ],
          [
           "Dope Tech: The iPad Pro Killer?!"
          ],
          [
           "Sony WH-1000XM4 Review: The Final Form!"
          ],
          [
           "Dope Tech: Boston Dynamics Robot Dog!"
          ],
          [
           "The Last Intel Mac VS The Osborne Effect!"
          ],
          [
           "Samsung Galaxy Note 20 Ultra Impressions: Ultra Premium!"
          ],
          [
           "Google Pixel 4a Review: Simple and Clean!"
          ],
          [
           "The TRUTH About OnePlus Nord!"
          ],
          [
           "Why Tesla Model Y is Their Most Important Car! [Auto Focus Ep 5]"
          ],
          [
           "Asus ROG Phone 3 Review: The Spec King Returns!"
          ],
          [
           "OnePlus Nord Impressions: Back to Budget!"
          ],
          [
           "Dope Tech: The Biggest Ultrawide Monitor!"
          ],
          [
           "OnePlus Nord Reveal! How Much Do Smartphones Actually Cost?"
          ],
          [
           "Can You Trust MKBHD?"
          ],
          [
           "iPhone 12: What to Expect!"
          ],
          [
           "On the iPhone 12 With No Charger..."
          ],
          [
           "Apple Responds to Your Comments!"
          ],
          [
           "iOS 14 Hands-On: Everything New!"
          ],
          [
           "WWDC 2020 Impressions: Widgets and The Great Transition!"
          ],
          [
           "Samsung Galaxy Buds Plus: The Go-To!"
          ],
          [
           "PS5 Impressions: My Thoughts!"
          ],
          [
           "The Largest Daily Driver Unboxing!"
          ],
          [
           "Top 5 Android 11 Features: Big Tweaks!"
          ],
          [
           "CyberTruck Phone Impressions... Ridiculous"
          ],
          [
           "Dope Tech:  The $3500 Bluetooth Speaker!"
          ],
          [
           "Reflecting on the Color of My Skin"
          ],
          [
           "Escobar Responds! A PSA"
          ],
          [
           "Poco F2 Pro: The Full Screen Deal!"
          ],
          [
           "How Teslas Upgrade Over Time!"
          ],
          [
           "Surface Headphones 2: Matte Black Everything!"
          ],
          [
           "The Budget Phone Blueprint!"
          ],
          [
           "The Fastest Phone of 2020!"
          ],
          [
           "The $700 Mac Pro Wheels: Explained!"
          ],
          [
           "The 2020 13\" MacBook Pro Impressions: Wait a Minute!"
          ],
          [
           "Google Pixel Buds Review: WAY Better!"
          ],
          [
           "iPhone 11 Pro Review: 6 Months Later!"
          ],
          [
           "Moto Edge+ Review: We Need to Talk!"
          ],
          [
           "World's \"FASTEST\" Gaming PC!"
          ],
          [
           "iPhone SE (2020) Review: It All Adds Up!"
          ],
          [
           "Apple Magic Keyboard: Floating iPad Pro?"
          ],
          [
           "iPhone SE (2020) Honest Thoughts..."
          ],
          [
           "OnePlus 8 Review: Special No More!"
          ],
          [
           "OnePlus 8 Pro Review: Finally a Flagship!"
          ],
          [
           "Last Video in this Studio!"
          ],
          [
           "What's On My Phone: 2020!"
          ],
          [
           "Huawei P40 Pro Impressions: What We Should Copy!"
          ],
          [
           "2020 iPad Pro Review: It's... A Computer?!"
          ],
          [
           "2020 MacBook Air Impressions: A Clean Refresh!"
          ],
          [
           "The Rollable Smartphone?"
          ],
          [
           "Samsung Galaxy S20 Review: All the Right Moves!"
          ],
          [
           "The Truth About the Escobar Folding Phone!"
          ],
          [
           "Oppo Find X2 Pro: One-Upping the Champ?"
          ],
          [
           "Samsung Galaxy S20 Ultra Review: Attack of the Numbers!"
          ],
          [
           "Xiaomi Mi Mix Alpha Impressions: The Wraparound Display!"
          ],
          [
           "The 2020 Mac Pro: A Silent Killer!"
          ],
          [
           "MKBHD Studio 2020 Build: Part 1!"
          ],
          [
           "Galaxy Z Flip vs Moto RAZR 2020: 10 Differences!"
          ],
          [
           "Samsung Galaxy Z Flip Unboxing: It's Growing on Me!"
          ],
          [
           "Talking Tech and 2020 with Bill Gates!"
          ],
          [
           "Samsung Galaxy Z Flip Impressions: Mixed Feelings!"
          ],
          [
           "Samsung Galaxy S20 Ultra Impressions: 108 Megapixels!"
          ],
          [
           "Galaxy S20 Impressions: New Year, New Samsung!"
          ],
          [
           "Foldable Moto RAZR Unboxing & Second Thoughts!"
          ],
          [
           "Are we at Peak Smartphone?"
          ],
          [
           "YouTube Diamond Play Button Review!"
          ],
          [
           "Why Everyone is Copying AirPods: Explained!"
          ],
          [
           "The MKBHD Setup Tour 2020!"
          ],
          [
           "Dope Tech of CES 2020: Sony Made a Car?!"
          ],
          [
           "OnePlus Concept One Phone: Disappearing Cameras?"
          ],
          [
           "Most Overrated Tech? 8K Ask MKBHD 2020!"
          ],
          [
           "The Banned Huawei Mate 30 Pro: Best Phone You Shouldn't Buy!"
          ],
          [
           "2020 Tech I'm Ready For!"
          ],
          [
           "The Most Expensive iPhone in the World!"
          ],
          [
           "Smartphone Awards 2019!"
          ],
          [
           "Would a Walkman work in space?"
          ],
          [
           "Dope Tech: The World's Largest 8K OLED!"
          ],
          [
           "10,000,000!"
          ],
          [
           "The Blind Smartphone Camera Test 2019!"
          ],
          [
           "Console Wars!"
          ],
          [
           "Apple Pro Display XDR: A Grand Stand?!"
          ],
          [
           "Mac Pro Unboxing & Second Impressions: The Power is Back!"
          ],
          [
           "A look inside the original Macintosh"
          ],
          [
           "Testing Real 5G: Part 2!"
          ],
          [
           "Favorite Tech of the Year Rewind Collab!"
          ],
          [
           "Analog vs. Digital Cameras"
          ],
          [
           "RETRO TECH: CAMCORDER"
          ],
          [
           "16\" MacBook Pro Review: Now Do It Again!"
          ],
          [
           "RETRO TECH: OFFICIAL TRAILER"
          ],
          [
           "Why I Ordered a Tesla CyberTruck!"
          ],
          [
           "Tesla CyberTruck Impressions & First Drive!"
          ],
          [
           "The 108-Megapixel Smartphone Camera?!"
          ],
          [
           "2020 Moto RAZR Impressions! The Return of a Folding Icon!"
          ],
          [
           "16\" Macbook Pro First Impressions!"
          ],
          [
           "iPhone 11 Pro vs Original iPhone!"
          ],
          [
           "AirPods Pro Review: Imperfectly Perfect!"
          ],
          [
           "Beats Solo Pro: Return to Excellence!"
          ],
          [
           "LG G8X Proves Foldables are Coming!"
          ],
          [
           "AirPods Pro Unboxing & Impressions!"
          ],
          [
           "Google Pixel 4 Review: Inside the Hype Machine!"
          ],
          [
           "OnePlus 7T Pro: Tiny Tweaks to Excellence!"
          ],
          [
           "Pixel 4 Impressions: Google and Gaps!"
          ],
          [
           "This Is What Happens When You Re-Upload a YouTube Video 1000 Times!"
          ],
          [
           "Apple Watch Series 5 Review: One Big Tradeoff!"
          ],
          [
           "Talking Tech & Meme Review with Will Smith!"
          ],
          [
           "Talking Tech with Microsoft CEO Satya Nadella!"
          ],
          [
           "Hands-on with Microsoft's Future Foldables!"
          ],
          [
           "2019 Microsoft Surface Family Impressions!"
          ],
          [
           "iPhone 11 Review: Too Easy!"
          ],
          [
           "OnePlus 7T Review: High Refresh, Low Price!"
          ],
          [
           "iPhone 11 Pro Review: For the Love of Cameras!"
          ],
          [
           "Unboxing Every Green iPhone 11!"
          ],
          [
           "Samsung Galaxy Fold Re-do: Everything New!"
          ],
          [
           "Asus ROG Phone 2 Review: The Spec King!"
          ],
          [
           "iPhone 11 Pro Impressions: What a Name!"
          ],
          [
           "iPhone 11 Impressions: A Familiar Sequel!"
          ],
          [
           "Dope Tech #20: Dual Screen Tech!"
          ],
          [
           "Let's Talk About Porsche Taycan!"
          ],
          [
           "Samsung Galaxy Note 10: But Why Tho?"
          ],
          [
           "Samsung Galaxy Note 10+ Review: The Favorite Child!"
          ],
          [
           "5G: Explained!"
          ],
          [
           "Introducing Waveform: The MKBHD Podcast!"
          ],
          [
           "Apple Card Unboxing & Impressions!"
          ],
          [
           "Samsung Galaxy Note 10/10+ Impressions: A Great Duo!"
          ],
          [
           "Redmi K20 Pro Review: Incredible Value!"
          ],
          [
           "The Last (and First) Folding Phone!"
          ],
          [
           "The iPhone 11 Models!"
          ],
          [
           "What's in my Tech Bag! [2019]"
          ],
          [
           "Boosted Rev: The Tesla of Electric Scooters!"
          ],
          [
           "Bose Headphones 700: The King is Back!"
          ],
          [
           "The iPad Only Challenge!"
          ],
          [
           "PowerBeats Pro Review: Better than AirPods!"
          ],
          [
           "OnePlus 7: Way Under the Radar!"
          ],
          [
           "The Dream Smartphone! (2019)"
          ],
          [
           "The Closest Thing to AirPower!"
          ],
          [
           "iPad OS Impressions: They Listened!"
          ],
          [
           "Top 5 iOS 13 Features!"
          ],
          [
           "2019 Mac Pro Impressions: Cheese Grater is Back!"
          ],
          [
           "The 2019 iPod Touch: Why Does It Exist?"
          ],
          [
           "Asus ZenFone 6: Swivel Camera Magic!"
          ],
          [
           "Google Pixel 3a Review: A for Ace!"
          ],
          [
           "The Huawei Ban: Explained!"
          ],
          [
           "OnePlus 7 Pro: What You Didn't Know!"
          ],
          [
           "Dope Tech: The Probe Lens!"
          ],
          [
           "OnePlus 7 Pro Review: Silly Fast!"
          ],
          [
           "Google Pixel 3a Impressions: Flips the Script!"
          ],
          [
           "Galaxy Fold vs Huawei Mate X? Ask MKBHD V35!"
          ],
          [
           "Samsung Galaxy Fold Review: We Gotta Talk!"
          ],
          [
           "Huawei P30 Pro Review: Optical Excellence!"
          ],
          [
           "Retro Tech: Game Boy"
          ],
          [
           "The Broken Galaxy Folds: Explained!"
          ],
          [
           "Samsung Galaxy Fold Unboxing: Magnets!"
          ],
          [
           "Samsung Galaxy Fold Impressions!"
          ],
          [
           "The MKBHD Gear Tour 2019!"
          ],
          [
           "LG G8 Review: Master of None!"
          ],
          [
           "This is Google Pixel 4 Ultra!"
          ],
          [
           "The Death of AirPower: Explained!"
          ],
          [
           "AirPods 2: Literally Everything New!"
          ],
          [
           "Huawei P30 Pro Impressions: The Ultimate Camera?"
          ],
          [
           "Top 5 Android Q Features!"
          ],
          [
           "Tesla Model Y Impressions!"
          ],
          [
           "Samsung Galaxy S10e Review: Why Not?"
          ],
          [
           "Samsung Galaxy S10+ Review: The Bar is Set!"
          ],
          [
           "OnePlus 6T Revisited: Better than Pixel 3?"
          ],
          [
           "The Galaxy S10's Incredible Display!"
          ],
          [
           "LG G8 Impressions: Can't Touch This!"
          ],
          [
           "Samsung Galaxy S10 Impressions!"
          ],
          [
           "Samsung Galaxy S10E Impressions!"
          ],
          [
           "Apollo is Back - My Tesla Repair Process!"
          ],
          [
           "via Twitter for iPhone"
          ],
          [
           "Talking Tech & Saving the World with Bill Gates!"
          ],
          [
           "What's on my Tech: 2019!"
          ],
          [
           "The Samsung Galaxy S10 Model!"
          ],
          [
           "Sony WH1000XM3 Review: A New ANC King!"
          ],
          [
           "Foldable Phones Aren't Ready (Yet)"
          ],
          [
           "Behind the Scenes of the UnboxTherapy Studio!"
          ],
          [
           "First Look at the Hole-Punch Display!"
          ],
          [
           "Riding in a Driverless Taxi at CES 2019!"
          ],
          [
           "The Rollable OLED TV: The Potential is Real!"
          ],
          [
           "Starting a Podcast? 100% Roadster? Ask MKBHD V34!"
          ],
          [
           "Xiaomi Mi Mix 3: The Ultimate Slider?"
          ],
          [
           "2019 Tech I'm Ready For!"
          ],
          [
           "My YouTube REWIND 2018!"
          ],
          [
           "Google Pixel Slate: This Ain't It Chief!"
          ],
          [
           "Smartphone Awards 2018!"
          ],
          [
           "Huawei Mate 20 Pro Review: The People's Choice!"
          ],
          [
           "The Problem with YouTube Rewind!"
          ],
          [
           "Top 5 McLaren 720S Features! [Auto Focus Ep. 4]"
          ],
          [
           "The Blind Smartphone Camera Test 2018!"
          ],
          [
           "Let's Talk About Tesla \"Killers!\""
          ],
          [
           "2018 Macbook Air Review: No Risk!"
          ],
          [
           "My Favorite Wireless Headphones | 2018!"
          ],
          [
           "RIP Apollo (for now)"
          ],
          [
           "iPad Pro Review: The Best Ever... Still an iPad!"
          ],
          [
           "iPhone XR Review: No Need to Panic!"
          ],
          [
           "Let's Talk About the Foldable Smartphone!"
          ],
          [
           "RED Hydrogen One Review: I Wanted this to be Great!"
          ],
          [
           "2019 iPad Pro Impressions: Incredibly Thin!"
          ],
          [
           "OnePlus 6T Review: New Design, Same Price!"
          ],
          [
           "My Pixel 3 Display Problem? Ask MKBHD V33!"
          ],
          [
           "RED iPhone XR Unboxing & Giveaway!"
          ],
          [
           "Google Pixel 3 XL Review: The Shadow of the Notch!"
          ],
          [
           "Huawei Mate 20 Pro Impressions: Underrated?"
          ],
          [
           "Pixel 3 XL Second Impression: Notch City!"
          ],
          [
           "Razer Phone 2 Impressions!"
          ],
          [
           "Google Pixel 3 Impressions!"
          ],
          [
           "LG V40 Impressions: 5 Cameras on a Phone?!"
          ],
          [
           "iPhone \"Gates\" Explained!"
          ],
          [
           "iPhone Xr Specs Letdown? Ask MKBHD V32!"
          ],
          [
           "Apple Watch Series 4 Review: It's About Time!"
          ],
          [
           "Apple iPhone Xs Review: A (S)mall Step Up!"
          ],
          [
           "Gold iPhone Xs Max Unboxing!"
          ],
          [
           "iPhone XR Impressions: All of the Colors!"
          ],
          [
           "iPhone Xs and iPhone Xs Max Impressions!"
          ],
          [
           "The Truth About the Pocophone F1!"
          ],
          [
           "Living with a Supercar! [Auto Focus Ep 3]"
          ],
          [
           "RED Hydrogen One Unboxing! (Houdini Edition)"
          ],
          [
           "What's in my Tech Bag! [2018]"
          ],
          [
           "Is the Pocophone F1 Phone Legit? Matte Black AirPods? Ask MKBHD V31!"
          ],
          [
           "Samsung Galaxy Note 9 Review: The Total Package!"
          ],
          [
           "Tesla Factory Tour with Elon Musk!"
          ],
          [
           "Talking Tech with Elon Musk!"
          ],
          [
           "Samsung Galaxy Note 9 Impressions: Underrated!"
          ],
          [
           "The 2019 iPhone X Models!"
          ],
          [
           "Prime Picks! - The #1 Headphones on Amazon!"
          ],
          [
           "Why I Don't Use the Pixel!"
          ],
          [
           "Asus ROG Phone Impressions!"
          ],
          [
           "i9 Macbook Pro 2018: Hottest Laptop on the Planet!"
          ],
          [
           "Naming the new iPhone X? Ask MKBHD V30!"
          ],
          [
           "Prime Picks! - The #1 Unlocked Smartphone on Amazon!"
          ],
          [
           "The Truth About Colored Smartphones!"
          ],
          [
           "Dear YouTube!"
          ],
          [
           "$2400 Headphones? Sennheiser HD 820!"
          ],
          [
           "Hot Ones is The Real Deal! Ask MKBHD V29!"
          ],
          [
           "Oppo Find X: Motorized Madness!"
          ],
          [
           "On IGTV and YouTube Competition!"
          ],
          [
           "Let's Talk About Smartphone Chins!"
          ],
          [
           "Vivo NEX S Impressions: Truly Bezelless?"
          ],
          [
           "HTC U12+ Review: A Phone With No Buttons!"
          ],
          [
           "Top 5 iOS 12 Features!"
          ],
          [
           "Top 5 WWDC 2018 Announcements!"
          ],
          [
           "Driving Lamborghini Aventador S! [Auto Focus Ep. 2]"
          ],
          [
           "OnePlus 6 Review: Right On the Money!"
          ],
          [
           "Top 5 Smartphone Cameras: The Blind Test! [2018]"
          ],
          [
           "OnePlus 6 Impressions!"
          ],
          [
           "In-Glass Fingerprint Sensor: Testing the limits!"
          ],
          [
           "Google Pixel 2 Revisited: Android P Beta!"
          ],
          [
           "Let's Talk About Google Duplex!"
          ],
          [
           "The Dream Camera? Ask MKBHD V28 with Peter McKinnon!"
          ],
          [
           "LG G7 ThinQ Impressions!"
          ],
          [
           "iPhone X Revisited: Still Worth $1000?!"
          ],
          [
           "Huawei P20 Pro Review: The Triple Camera Smartphone!"
          ],
          [
           "$750 Mini Boosted Board Impressions!"
          ],
          [
           "Thank You!"
          ],
          [
           "Pixel 3 Rumors? Ask MKBHD V27!"
          ],
          [
           "Product RED iPhone 8 Unboxing!"
          ],
          [
           "Dope Tech: Camera Robots!"
          ],
          [
           "Bixby Speaker Impressions!"
          ],
          [
           "I've Made 1000 Videos?! Ask MKBHD V26!"
          ],
          [
           "Samsung Galaxy S9 Review: The Perfect... Samsung!"
          ],
          [
           "Top 5 Android Pie Features!"
          ],
          [
           "The State of Bezels! (2018)"
          ],
          [
           "Talking Tech with Neil deGrasse Tyson!"
          ],
          [
           "The 🍎 Ecosystem: Explained!"
          ],
          [
           "18-core iMac Pro Review: Not a Trap!"
          ],
          [
           "Samsung Galaxy S9 Camera: What's New!"
          ],
          [
           "Samsung Galaxy S9 Impressions!"
          ],
          [
           "Creator of the Decade? Tech Backpack? Ask MKBHD V25!"
          ],
          [
           "The In-Glass Fingerprint Reader: Explained!"
          ],
          [
           "Apple HomePod Review: The Dumbest Smart Speaker?"
          ],
          [
           "MKBHD Merch Review 2018!"
          ],
          [
           "Dear Snapchat!"
          ],
          [
           "What's On My Phone: 2018!"
          ],
          [
           "Huawei Mate 10 Pro: The Real Deal?"
          ],
          [
           "Driving a Tesla Model 3! [Auto Focus Ep. 1]"
          ],
          [
           "Free Tesla Roadster? Ask MKBHD V24!"
          ],
          [
           "AirPods for Android?!"
          ],
          [
           "Dope Tech of CES 2018! [Part 2]"
          ],
          [
           "Dope Tech of CES 2018! [Part 1]"
          ],
          [
           "iMac Pro Setup Tour 2018!"
          ],
          [
           "New Year New MKBHD!"
          ],
          [
           "Apple Admits Slowing Down Old iPhones? Ask MKBHD V23!"
          ],
          [
           "Smartphone Awards 2017!"
          ],
          [
           "Google Home Max Review: $400 Smart Speaker?"
          ],
          [
           "iMac Pro: 1 Week Impressions!"
          ],
          [
           "Portrait Mode: Explained!"
          ],
          [
           "5 New Phone Updates + Giveaway Update!"
          ],
          [
           "The $1000 Smartphone Giveaway!"
          ],
          [
           "Tesla Roadster Flaw? iPhone XI? Ask MKBHD V22!"
          ],
          [
           "Razer Phone Review: The Real Deal!"
          ],
          [
           "Let's Talk About Tesla Roadster 2020!"
          ],
          [
           "Top 5 OnePlus 5T Features!"
          ],
          [
           "Apple iPhone X Review: The Best Yet!"
          ],
          [
           "Google Pixelbook: $1000 of Weird!"
          ],
          [
           "iPhone X vs iPhone 8: Worth the Skip?"
          ],
          [
           "Space Gray Tesla Model S Wrap!"
          ],
          [
           "Razer Phone Impressions! 120Hz!"
          ],
          [
           "Apple iPhone X Unboxing!"
          ],
          [
           "Spooky LIVE Q&A"
          ],
          [
           "Google Pixel 2 Review: This Thing is Smart!"
          ],
          [
           "Demonetized Tech Videos? Ask MKBHD V21!"
          ],
          [
           "Google Pixel 2 Unboxing! (Best Android 8.0 Features)"
          ],
          [
           "DxOMark Smartphone Ratings: Explained!"
          ],
          [
           "Google Home Mini Review: Smart Home for $49?"
          ],
          [
           "Google Pixel 2 Impressions!"
          ],
          [
           "iPhone 8 Review: Skip this Great Phone!"
          ],
          [
           "iPhone X vs iPhone 8? Ask MKBHD V20!"
          ],
          [
           "LG 77\" Wallpaper TV Unboxing [LIVE]"
          ],
          [
           "iPhone 8 Unboxing: Silver vs Gold!"
          ],
          [
           "Samsung Galaxy Note 8 Review: A $1000 Android!"
          ],
          [
           "The Road to 5,000,000! [LIVE]"
          ],
          [
           "iPhone X: Top 5 Questions Answered!"
          ],
          [
           "iPhone X Impressions & Hands On!"
          ],
          [
           "Xiaomi Mi Mix 2: The Bezel-less Sequel!"
          ],
          [
           "LG V30: Top 5 Features!"
          ],
          [
           "The Essential Phone Review: Save Your Money!"
          ],
          [
           "2017 vs Smartphone Bezels!"
          ],
          [
           "Samsung Galaxy Note 8 Impressions!"
          ],
          [
           "Essential Phone Impressions!"
          ],
          [
           "USB-C All The Things! (Pt 2)"
          ],
          [
           "Snakes in the Studio? Ask MKBHD V19!"
          ],
          [
           "The iPhone 8 Model!"
          ],
          [
           "The Voice Assistant Battle! (2017)"
          ],
          [
           "RED Hydrogen Prototype Hands-On!"
          ],
          [
           "The RED Raven Camera Kit: It's Back!"
          ],
          [
           "Tesla Model 3 Impressions!"
          ],
          [
           "Siri vs the Ads: Does It Hold Up?"
          ],
          [
           "Galaxy Note... Fan Edition? Ask MKBHD V18!"
          ],
          [
           "Nest Cam IQ: Security Camera + 4k Sensor?"
          ],
          [
           "Google Pixel 2 Rumor Roundup!"
          ],
          [
           "RED Hydrogen One Smartphone: Explained!"
          ],
          [
           "iPhone 8 Rumor Roundup!"
          ],
          [
           "HTC U11: The Squeeze Phone?!"
          ],
          [
           "Dope Tech: \"Shot on Smartphones!\""
          ],
          [
           "Starting a Vlog? OnePlus Cheating? Ask MKBHD V17!"
          ],
          [
           "OnePlus 5 Review!"
          ],
          [
           "iPad Pro 2017 (10.5\") Review!"
          ],
          [
           "Adding 140 TERABYTES to the Studio with Linus!"
          ],
          [
           "Top 5 iOS 11 Features!"
          ],
          [
           "iMac Pro: Is It A Trap?"
          ],
          [
           "Top 5 WWDC 2017 Announcements!"
          ],
          [
           "Tesla Project Loveday Contest Entry!"
          ],
          [
           "Dear Twitter!"
          ],
          [
           "$500 Drone vs $3000 Drone - DJI Spark vs Inspire 1!"
          ],
          [
           "iPhone 8 With No Ports? Ask MKBHD V16!"
          ],
          [
           "Top 5 Google I/O 2017 Recap!"
          ],
          [
           "The Dell 8K Monitor: Gaming in 8K?"
          ],
          [
           "Blackberry KEYOne: 2017 Comeback?"
          ],
          [
           "Galaxy S8 vs LG G6: MrMobile vs MKBHD!"
          ],
          [
           "Dope Tech: The 4K OLED Wallpaper TV!"
          ],
          [
           "Top 5 Android O Features!"
          ],
          [
           "Top 5 Smartphone Cameras: The Blind Test!"
          ],
          [
           "Samsung Galaxy S8 Review: The Ultimate Smartphone?"
          ],
          [
           "Bluetooth 5.0: Explained!"
          ],
          [
           "iPhone 8 Wishlist? Ask MKBHD V15!"
          ],
          [
           "Moto G5 Plus: Budget Smartphone King?"
          ],
          [
           "Dear Samsung!"
          ],
          [
           "Nokia 3310 Review: The Perfect Smartphone?!"
          ],
          [
           "Samsung Galaxy S8 Impressions!"
          ],
          [
           "Casey Neistat Studio Tour!"
          ],
          [
           "The Matte Black OnePlus 3T!"
          ],
          [
           "New RED iPhone 7 Unboxing!"
          ],
          [
           "HTC U Ultra Rant: Skip this One!"
          ],
          [
           "Who are the Sponsors? Ask MKBHD V14!"
          ],
          [
           "Inside Lucid Air: The Future of Luxury?"
          ],
          [
           "The Colored AirPods Apple Should Have Made!"
          ],
          [
           "Dear Apple! (2017)"
          ],
          [
           "Top 5 LG G6 Features!"
          ],
          [
           "Beats X Review: Best Beats Ever?"
          ],
          [
           "The State of 4K: 2017! (in 8K)"
          ],
          [
           "Tesla P100D App v3.0 Review!"
          ],
          [
           "YouTuber of the Year?! Ask MKBHD V13!"
          ],
          [
           "LG UltraFine 5K Review: 15 Million Pixels!"
          ],
          [
           "Top 5 Future Smartphone Features!"
          ],
          [
           "iPhone 7 Review: 4 Months Later!"
          ],
          [
           "My First YouTube Camera!"
          ],
          [
           "What's on my Smartphone: 2017!"
          ],
          [
           "Dope Tech: The Best Drones!"
          ],
          [
           "Faraday Future FF91 Impressions!"
          ],
          [
           "Self Driving Mercedes: Behind the Wheel!"
          ],
          [
           "Hiring People? Biased Reviews? Ask MKBHD V12!"
          ],
          [
           "USB-C ALL the Things!"
          ],
          [
           "Smartphone Awards 2016!"
          ],
          [
           "Tesla Model S Problems: My Experience!"
          ],
          [
           "Dope Tech: Custom LED Clock!"
          ],
          [
           "Apple AirPods Review: Fully Wireless!"
          ],
          [
           "Macbook Pro with Touch Bar Review! Worth it?"
          ],
          [
           "100 OnePlus 3T Giveaway! 💯"
          ],
          [
           "Dope Tech: Self Lacing Nike HyperAdapt 1.0!"
          ],
          [
           "Google Home Review: Assistant in a Box!"
          ],
          [
           "2016 MKBHD Studio Tour in 360°!"
          ],
          [
           "LG Ultrafine 5K Display Unboxing + Setup!"
          ],
          [
           "Tesla Model S P100D: The App!"
          ],
          [
           "OnePlus 3T Review: T is the new S!"
          ],
          [
           "The Google Popup Store in NYC!"
          ],
          [
           "Google Pixel Review: Best Android Smartphone!"
          ],
          [
           "First Video and Pixels: Ask MKBHD V11!"
          ],
          [
           "Jaybird X3 Review: Best Bluetooth Earbuds 2016!"
          ],
          [
           "13\" MacBook Pro 2016 Unboxing! (What's New)"
          ],
          [
           "Macbook Pro chat with Apple's Craig Federighi!"
          ],
          [
           "The Bezel-less Smartphone: Xiaomi Mi Mix!"
          ],
          [
           "Google Assistant vs Siri! (2016)"
          ],
          [
           "Tesla Model S P100D: The Options!"
          ],
          [
           "Google Pixel Unboxing! (Best Android 7.1 Features)"
          ],
          [
           "Top 5 Galaxy Note 7 Replacements!"
          ],
          [
           "Dope Tech: 8K RED Epic-W Unboxing!"
          ],
          [
           "Dope Tech: Self-Lacing Nike Mag!"
          ],
          [
           "Google Pixel Impressions!"
          ],
          [
           "LG V20: Most Underrated Phone?!"
          ],
          [
           "Samsung Galaxy Note 7 Review!"
          ],
          [
           "Tesla Model S P100D Impressions!"
          ],
          [
           "iPhone 7 Headphone Roundup!"
          ],
          [
           "iPhone 7 Unboxing: Jet Black vs Matte Black!"
          ],
          [
           "iPhone 7 Impressions: 10 New Things!"
          ],
          [
           "Hasselblad True Zoom Camera Mod!"
          ],
          [
           "Dope Tech: Boosted Board 2!"
          ],
          [
           "Android 7.0 Nougat Update!"
          ],
          [
           "How to be a YouTuber? Ask MKBHD V10!"
          ],
          [
           "ZTE Axon 7: Top Budget Smartphone?"
          ],
          [
           "The iPhone 7 Plus Model!"
          ],
          [
           "2016 Nexus Hype!"
          ],
          [
           "Samsung Galaxy Note 7 Impressions!"
          ],
          [
           "Moto Z/Force Review!"
          ],
          [
           "The DROID DOES Throwback!"
          ],
          [
           "Moto Z Impressions!"
          ],
          [
           "Dope Tech: Lightning Headphones!"
          ],
          [
           "Daily Tech: Mid 2016!"
          ],
          [
           "Bose QC35: Best Noise Cancelling Headphones?"
          ],
          [
           "Batman Edition Galaxy S7 Edge!"
          ],
          [
           "OnePlus 3 Review!"
          ],
          [
           "Top 5 Apple WWDC 2016 Recap!"
          ],
          [
           "The Rugged Galaxy S7 Active!"
          ],
          [
           "Modular Smartphones: Explained!"
          ],
          [
           "Jaybird Freedom: Best Wireless Earbuds?"
          ],
          [
           "Top 5 Google I/O 2016 Recap!"
          ],
          [
           "Ask MKBHD V9: Building a Studio!"
          ],
          [
           "Dual Camera Smartphones: Explained!"
          ],
          [
           "HTC 10 Review!"
          ],
          [
           "2016 Macbook: Rose Gold Refresh!"
          ],
          [
           "NextDesk Review: Motorized Desk!"
          ],
          [
           "Google Live Cases: Super Custom!"
          ],
          [
           "HTC 10 Impressions!"
          ],
          [
           "MKBHD Update 13.0: The Studio!"
          ],
          [
           "iPhone SE Review!"
          ],
          [
           "Samsung Galaxy S7 Edge Review!"
          ],
          [
           "Ask MKBHD V8: Tesla Model 3?!"
          ],
          [
           "Samsung Galaxy S7 Review!"
          ],
          [
           "Top 5 Android N Features! (Dev Preview)"
          ],
          [
           "Samsung Galaxy S7 Edge: Biggest Flaws!"
          ],
          [
           "Top 5 Most Overpriced Tech! (Pt 2)"
          ],
          [
           "Nextbit Robin Review: Unlimited Storage?"
          ],
          [
           "Samsung Galaxy S7 & S7 Edge Impressions!"
          ],
          [
           "What's on my Smartphone 2016!"
          ],
          [
           "AKG K702 Review: Comfy Headphones!"
          ],
          [
           "Dope Tech: Crazy Speakers!"
          ],
          [
           "Top 5 Upcoming Tech: 2016!"
          ],
          [
           "Are Tablets Dead?"
          ],
          [
           "YouTube Gear #2 | Carbon Slider!"
          ],
          [
           "iPhone 7 with no Headphone Jack?!"
          ],
          [
           "The State of 4K: Early 2016!"
          ],
          [
           "RED Raven Impressions: 4.5K!"
          ],
          [
           "Dope Tech: CES 2016!"
          ],
          [
           "Ask MKBHD V7: CES 2016!"
          ],
          [
           "MKBHD Update 12.0: Moving Out!"
          ],
          [
           "Dope Tech: Best of 2015!"
          ],
          [
           "Pick Your Smartphone Giveaway!"
          ],
          [
           "Smartphone Awards: 2015!"
          ],
          [
           "Tech of the Year: Tablets!"
          ],
          [
           "Talking Tech with Kobe Bryant!"
          ],
          [
           "Grado SR80e: Dope Budget Headphones!"
          ],
          [
           "iPhone 6s Battery Case: Explained!"
          ],
          [
           "5 Facts about the LG V10!"
          ],
          [
           "OnePlus X Review!"
          ],
          [
           "YouTube Gear #1 | Blue Yeti!"
          ],
          [
           "Sony Xperia Z5 Premium: A 4K Smartphone!"
          ],
          [
           "Blackberry Priv Review!"
          ],
          [
           "iPad Pro Second Impressions! [Apple Pencil]"
          ],
          [
           "Smartphone Camera Quality: Explained!"
          ],
          [
           "Google Nexus 5X Review!"
          ],
          [
           "Dope Tech #2: Customs!"
          ],
          [
           "OnePlus X Impressions: Super Budget!"
          ],
          [
           "Nexus 6P Review!"
          ],
          [
           "Update 11.0: MKBHD.com!"
          ],
          [
           "Nexus 6P Unboxing & Setup!"
          ],
          [
           "iPhone 6s #Chipgate: Explained!"
          ],
          [
           "Moto 360 V2 Review!"
          ],
          [
           "Dope Tech #1: Weapon!"
          ],
          [
           "iPhone 6s Review!"
          ],
          [
           "Nexus 6P & 5X Impressions!"
          ],
          [
           "Moto X Pure (2015) Review!"
          ],
          [
           "iPhone 6s & 6s Plus Unboxing & First Look!"
          ],
          [
           "Samsung Galaxy Note 5 Review!"
          ],
          [
           "iPad Pro Impressions!"
          ],
          [
           "iPhone 6s Impressions!"
          ],
          [
           "Ask MKBHD V6! 4K on a Smartphone?!"
          ],
          [
           "Moto 360 2nd Gen Impressions!"
          ],
          [
           "OnePlus 2 Review!"
          ],
          [
           "On the \"Perfect Smartphone\""
          ],
          [
           "Jaybird X2 Review: Best Bluetooth Earbuds!"
          ],
          [
           "Samsung Galaxy Note 5 Impressions! (& GS6 Edge+)"
          ],
          [
           "OnePlus 2 Unboxing & Setup!"
          ],
          [
           "Moto G 2015 Review!"
          ],
          [
           "Sony RX100 IV Review: Pocket 4K!"
          ],
          [
           "Moto X Style Impressions!"
          ],
          [
           "Five OnePlus 2 Impressions!"
          ],
          [
           "GoPro Hero 4 Session Review!"
          ],
          [
           "iPod Touch 2015 Review!"
          ],
          [
           "OnePlus 2 Camera Review!"
          ],
          [
           "Ask MKBHD V5! #HYPE"
          ],
          [
           "Top 5 Upcoming Tech! (Mid 2015)"
          ],
          [
           "MAINGEAR Shift Supercomputer: Part 1!"
          ],
          [
           "Material Design for Samsung Galaxy S6!"
          ],
          [
           "Open Back Headphones: Explained!"
          ],
          [
           "Top 5 Smartphones Under $300! (2015)"
          ],
          [
           "2015 Macbook Review!"
          ],
          [
           "Iron Man Edition Samsung Galaxy S6 Edge!"
          ],
          [
           "HTC One M9+ (& S6 Plus!)"
          ],
          [
           "Top 5 Android Marshmallow Features!"
          ],
          [
           "10 Apple Watch Questions: Answered!"
          ],
          [
           "LG G4 Review!"
          ],
          [
           "YouTube Processing: Explained!"
          ],
          [
           "Apple Watch Review!"
          ],
          [
           "Five (More) Facts About Me! (Graduation!)"
          ],
          [
           "Samsung Galaxy S6 Edge Review!"
          ],
          [
           "LG G4 Impressions!"
          ],
          [
           "Chromebook Pixel 2 Review!"
          ],
          [
           "Samsung Galaxy S6 Review!"
          ],
          [
           "Ask MKBHD V4!"
          ],
          [
           "HTC One M9 Review!"
          ],
          [
           "Oxygen OS on the OnePlus One!"
          ],
          [
           "Logitech MX Master Review!"
          ],
          [
           "Virtual Reality: Explained!"
          ],
          [
           "Giveaway: Samsung Galaxy S6 or HTC One M9! [Closed]"
          ],
          [
           "USB Type-C: Explained!"
          ],
          [
           "The New Macbook Impressions!"
          ],
          [
           "Dot View 2 Case for HTC One M9!"
          ],
          [
           "HTC One M9 Impressions!"
          ],
          [
           "Samsung Galaxy S6 Impressions!"
          ],
          [
           "Samsung Galaxy S6 Edge Impressions!"
          ],
          [
           "OnePlus One & Cyanogenmod 12!"
          ],
          [
           "Audio Technica ATH-M70X Review!"
          ],
          [
           "Dell Venue 8 7000 Review!"
          ],
          [
           "Exploring Drones with Deadmau5!"
          ],
          [
           "Fun with the BMW i8!"
          ],
          [
           "The State of 4K: Early 2015!"
          ],
          [
           "HTC One M9: What to Expect!"
          ],
          [
           "What's on my Android! (Early 2015)"
          ],
          [
           "CES 2015 Highlights!"
          ],
          [
           "BMW Tech at CES 2015!"
          ],
          [
           "Quantum Dot TVs: Explained!"
          ],
          [
           "MKBHD Update 10.4: 2015!"
          ],
          [
           "Motorola Droid Turbo Review!"
          ],
          [
           "Best Tech under $50!"
          ],
          [
           "Top 5 Wearable Tech! (Late 2014)"
          ],
          [
           "Smartphone Awards: 2014!"
          ],
          [
           "Google Nexus 9 Review!"
          ],
          [
           "MKBHD Update 10.3!"
          ],
          [
           "Google Nexus 6 Review!"
          ],
          [
           "The Dream Smartphone! (2014)"
          ],
          [
           "Apple iPad Air 2 Review!"
          ],
          [
           "Google Nexus 9 Unboxing + Hands On!"
          ],
          [
           "Google Nexus 6 Unboxing + Hands On!"
          ],
          [
           "GoPro Hero 4: Being a Dog in 4K!"
          ],
          [
           "Android 5.0 Lollipop Feature Review!"
          ],
          [
           "Samsung Galaxy Note 4 Review!"
          ],
          [
           "Apple iPhone 6+ Review!"
          ],
          [
           "Sharp Aquos Crystal - Bezelless Smartphone!"
          ],
          [
           "Nexus 6 & Nexus 9 Impressions!"
          ],
          [
           "Apple iPhone 6 Review!"
          ],
          [
           "Nexus 6 (Shamu) Thoughts!"
          ],
          [
           "Samsung Galaxy Alpha Review!"
          ],
          [
           "MKBHD Update 10.2!"
          ],
          [
           "iPhone 6 Plus #BendGate: Explained!"
          ],
          [
           "iPhone 6 Impressions!"
          ],
          [
           "Moto X (2014) Review!"
          ],
          [
           "Moto 360 Review!"
          ],
          [
           "Apple Watch Impressions!"
          ],
          [
           "Samsung Galaxy Note Edge Impressions!"
          ],
          [
           "Samsung Galaxy Note 4 Impressions!"
          ],
          [
           "The Truth About Beats by Dre!"
          ],
          [
           "What's on my Tech: 2014! (Back to School)"
          ],
          [
           "NVIDIA Shield Tablet Review!"
          ],
          [
           "Sony RX100 MKIII Review!"
          ],
          [
           "Prime Phones: Explained!"
          ],
          [
           "Android Wear Review! (Smartwatches)"
          ],
          [
           "Nexus 6 & Nexus 9 Wishlist!"
          ],
          [
           "OnePlus One: Revisited!"
          ],
          [
           "Ask MKBHD V3!"
          ],
          [
           "iPhone 6 Sapphire: Explained!"
          ],
          [
           "iPhone 6 Sapphire Crystal Display!"
          ],
          [
           "MKBHD Edition Macbook Pro! (Colorware Custom)"
          ],
          [
           "LG G3 Mass Giveaway! [CLOSED]"
          ],
          [
           "Top 5 Best Android L Features!"
          ],
          [
           "Moto 360 Impressions!"
          ],
          [
           "LG G Watch Hands-on Impressions!"
          ],
          [
           "Amazon Fire Phone: Explained!"
          ],
          [
           "LG G3 Review!"
          ],
          [
           "Samsung Galaxy Note 4 Hype!"
          ],
          [
           "LG G3 QHD Display Review!"
          ],
          [
           "iOS 8 Features & Impressions!"
          ],
          [
           "The Problem with Phone Cases!"
          ],
          [
           "MKBHD Setup Tour 2014!"
          ],
          [
           "LG G3 Impressions!"
          ],
          [
           "The iPhone 6 Model!"
          ],
          [
           "Curved TVs: Explained!"
          ],
          [
           "OnePlus One Review!"
          ],
          [
           "Ask MKBHD V2!"
          ],
          [
           "Top 5 OnePlus One Features! (Cyanogenmod 11S)"
          ],
          [
           "Top 5 Tesla Model S Features!"
          ],
          [
           "Giveaway: MKBHD Edition Nexus 5! [CLOSED]"
          ],
          [
           "OnePlus One Impressions!"
          ],
          [
           "HTC One M8 Google Play Edition Review!"
          ],
          [
           "Oppo Find 7a Review!"
          ],
          [
           "Samsung Galaxy S5 Review!"
          ],
          [
           "HTC One M8 Review!"
          ],
          [
           "The Setup Tour Project 2014!"
          ],
          [
           "HTC One M8 Dot View Case!"
          ],
          [
           "HTC One M8 Impressions!"
          ],
          [
           "Android Wear: State of Wearable Tech!"
          ],
          [
           "Ask MKBHD V1!"
          ],
          [
           "Top 5 Upcoming Smartphones! (Early 2014)"
          ],
          [
           "The State of 4K: Early 2014!"
          ],
          [
           "Samsung Galaxy S5 Impressions!"
          ],
          [
           "MKBHD Update 10.1!"
          ],
          [
           "New Mac Pro Review!"
          ],
          [
           "Audio Technica ATH-M50X Review!"
          ],
          [
           "1,000,000!"
          ],
          [
           "HTC M8: What to Expect!"
          ],
          [
           "Samsung Galaxy S5: What to Expect!"
          ],
          [
           "Bright Red Google Nexus 5!"
          ],
          [
           "Google Sells Motorola: Explained!"
          ],
          [
           "Setup Tour Project 2014!"
          ],
          [
           "Top 5 Wearable Tech! (Early 2014)"
          ],
          [
           "New Mac Pro Performance Review!"
          ],
          [
           "Samsung Galaxy Note 3: Revisited!"
          ],
          [
           "New Mac Pro Unboxing & Impressions!"
          ],
          [
           "Best Cars of CES 2014!"
          ],
          [
           "Samsung Galaxy NotePro & TabPro at CES 2014!"
          ],
          [
           "Tesla Model S at CES 2014!"
          ],
          [
           "Sony Xperia Z1S & Z1 Compact at CES 2014!"
          ],
          [
           "4K Cameras at CES 2014!"
          ],
          [
           "CES 2014 Gear Bag Tour!"
          ],
          [
           "MKBHD Update 10.0! (CES 2014)"
          ],
          [
           "Top 5 Tablets (Early 2014) Collab!"
          ],
          [
           "Nexus 5: Revisited! (What's on my Phone)"
          ],
          [
           "Top 5 Smartphones of 2013!"
          ],
          [
           "Oppo Find 7 Rant!"
          ],
          [
           "Nokia Lumia 1520 Review!"
          ],
          [
           "Google Play Editions: Explained!"
          ],
          [
           "Motorola Moto G Review!"
          ],
          [
           "Oppo N1 Review! (Cyanogenmod Phone)"
          ],
          [
           "Google Nexus 5 vs Moto X! ($350)"
          ],
          [
           "Sony PS4 vs XBox One Impressions!"
          ],
          [
           "LG G Flex Self Healing Demo!"
          ],
          [
           "Samsung Galaxy Round Review!"
          ],
          [
           "Apple iPad Air Review!"
          ],
          [
           "Google Nexus 5 Review!"
          ],
          [
           "Google Nexus 5: Black vs White!"
          ],
          [
           "How Google Now is Taking Over!"
          ],
          [
           "Top 5 Android 4.4 Kitkat Features!"
          ],
          [
           "Motorola Ara Impressions!"
          ],
          [
           "Samsung Galaxy Gear Review!"
          ],
          [
           "Sony Xperia Z1 Review!"
          ],
          [
           "Curved Display Smartphones: Explained!"
          ],
          [
           "Top 5  Best Smartphone Cameras!"
          ],
          [
           "Apple iPhone 5s Review!"
          ],
          [
           "Google Nexus 5: What to Expect!"
          ],
          [
           "Samsung Galaxy Note 3 Review!"
          ],
          [
           "Samsung Galaxy Note 3 Sizeup!"
          ],
          [
           "LG G2 Review!"
          ],
          [
           "The New Cyanogenmod!"
          ],
          [
           "Phonebloks: Explained!"
          ],
          [
           "Samsung Galaxy Note 3 Impressions!"
          ],
          [
           "Sony RX100 M2 Review!"
          ],
          [
           "Google Glass Explorer Edition: Explained!"
          ],
          [
           "5 Moto X Tips & Tricks!"
          ],
          [
           "Nokia Lumia 1020 Review!"
          ],
          [
           "Top 5 Best Headphones Under $200!"
          ],
          [
           "The Perfect Smartphone! (2013)"
          ],
          [
           "Motorola Moto X Review!"
          ],
          [
           "Nexus 7 (2013) Review!"
          ],
          [
           "Moto X Features: Explained!"
          ],
          [
           "Top 5 Android 4.3 Features!"
          ],
          [
           "Google Chromecast Review!"
          ],
          [
           "Ubuntu Edge: Explained!"
          ],
          [
           "Samsung Galaxy Note 3 Hype!"
          ],
          [
           "Giveaway: Google Edition HTC One or Galaxy S4!"
          ],
          [
           "Google Edition HTC One Review!"
          ],
          [
           "Nokia Lumia 925 Review!"
          ],
          [
           "Top 5 Fastest Discontinued Tech Products!"
          ],
          [
           "MKBHD Update 9.0!"
          ],
          [
           "13\" Macbook Air 2013 Review!"
          ],
          [
           "Samsung Galaxy Mega Review!"
          ],
          [
           "5 True Facts about Google X!"
          ],
          [
           "Where iOS 7 Features Come From!"
          ],
          [
           "2013 Mac Pro: Explained!"
          ],
          [
           "How Google is Taking Back Android!"
          ],
          [
           "What's on my Android Phone 2013!"
          ],
          [
           "Top 5 Most Overhyped Tech!"
          ],
          [
           "LG Optimus G Pro Review!"
          ],
          [
           "Beats Audio: Explained!"
          ],
          [
           "Top 10 Google I/O 2013 Announcements!"
          ],
          [
           "Google Edition Galaxy S4: Explained!"
          ],
          [
           "Motorola X-Phone Rumor Rant!"
          ],
          [
           "Samsung Galaxy S4 vs HTC One!"
          ],
          [
           "HTC One Review!"
          ],
          [
           "Samsung Galaxy S4 Review!"
          ],
          [
           "Samsung Galaxy S4 Word Game Interview!"
          ],
          [
           "Google Babel: Explained!"
          ],
          [
           "Top 5 1080p Smartphones!"
          ],
          [
           "Oppo Find 5 Project Firefly!"
          ],
          [
           "Five Facts About Me!"
          ],
          [
           "5 True Facts about Android!"
          ],
          [
           "Beyerdynamic Custom One Pro Review!"
          ],
          [
           "Top 5 Internet April Fool's Day Hoaxers!"
          ],
          [
           "HTC One \"Ultrapixel\": Explained!"
          ],
          [
           "Google Nexus 10: Revisited!"
          ],
          [
           "AT&T Predicted the Future!"
          ],
          [
           "Samsung Galaxy S4 Features: Explained!"
          ],
          [
           "Sony Xperia Z Review!"
          ],
          [
           "Top 5 NFC Features: Explained!"
          ],
          [
           "Chromebook Pixel Review!"
          ],
          [
           "Top 5 Best Built Tech!"
          ],
          [
           "Chromebook Pixel Unboxing & First Impressions!"
          ],
          [
           "The Chromebook Pixel: Explained!"
          ],
          [
           "Top 5 Most Underpriced Tech!"
          ],
          [
           "Nexus 4 & Nexus 7 Giveaway! [CLOSED]"
          ],
          [
           "Top 5 Most Overpriced Tech!"
          ],
          [
           "Oppo Find 5 Review!"
          ],
          [
           "HTC Droid DNA: Revisited!"
          ],
          [
           "Hackintosh Pro Project! [Part 5: The Finale!]"
          ],
          [
           "Hackintosh Pro Project! [Part 4: The OSX Install]"
          ],
          [
           "Hackintosh Pro Project! [Part 3: The Build]"
          ],
          [
           "Hackintosh Pro Project! [Part 2: The Parts]"
          ],
          [
           "4K Video: Explained!"
          ],
          [
           "CES 2013 Highlights!"
          ],
          [
           "Top 5 Ubuntu Phone Features: Explained!"
          ],
          [
           "Sony Xperia Z at CES 2013!"
          ],
          [
           "Huawei Ascend Mate Size Comparison at CES 2013!"
          ],
          [
           "NVIDIA Project SHIELD at CES 2013!"
          ],
          [
           "Samsung Galaxy Note 2: Revisited!"
          ],
          [
           "Using Google Now: Explained!"
          ],
          [
           "Samsung Galaxy Camera Review!"
          ],
          [
           "What's on my Android Phone 2012!"
          ],
          [
           "Hackintosh Pro Project! [Part 1]"
          ],
          [
           "Best Tablets of 2012!"
          ],
          [
           "8 Holiday Gifts for a YouTuber!"
          ],
          [
           "$600 Gaming PC Giveaway!"
          ],
          [
           "Rooting & Jailbreaking: Explained!"
          ],
          [
           "Retina Displays vs Battery Life!"
          ],
          [
           "Google Nexus 10 Review!"
          ],
          [
           "Nexus 4 vs Galaxy S3 vs Galaxy Nexus!"
          ],
          [
           "Google Nexus 4 Review!"
          ],
          [
           "iPad Mini vs Nexus 7!"
          ],
          [
           "Nexus 4 Unboxing & First Impressions!"
          ],
          [
           "LG Optimus G Review! (Nexus 4 Comparison)"
          ],
          [
           "Nexus 10 Unboxing & First Impressions!"
          ],
          [
           "Top 5 Android 4.2 Jellybean Features!"
          ],
          [
           "The SuperNexus Project!"
          ],
          [
           "MKBHD Hurricane Sandy Update!"
          ],
          [
           "Nexus 4 and Nexus 10 First Look!"
          ],
          [
           "Samsung Galaxy Camera Hands-on!"
          ],
          [
           "On Apple's New 2012 Desktops!"
          ],
          [
           "A Google Nexus Program: Explained!"
          ],
          [
           "Samsung Galaxy Note 2 vs Galaxy S3!"
          ],
          [
           "GIVEAWAY: iPhone 5 OR Galaxy Note 2!"
          ],
          [
           "Samsung Galaxy Note 2 Review!"
          ],
          [
           "Top 3 YouTube App Missing Features!"
          ],
          [
           "LG Nexus Rumors!"
          ],
          [
           "Transformer Pad Infinity gets Jellybean!"
          ],
          [
           "Top 5 Reasons Google+ is Awesome!"
          ],
          [
           "New Myspace Design: Explained!"
          ],
          [
           "The Setup Tour 2012!"
          ],
          [
           "The Super-Retina Display Smartphone!"
          ],
          [
           "The Setup Tour Project 2012!"
          ],
          [
           "Asus Zenbook Prime Review!"
          ],
          [
           "GIVEAWAY: Fastest Mac Mini in the World! [Closed]"
          ],
          [
           "The Galaxy Nexus 2 Wishlist!"
          ],
          [
           "CyanogenMod 10 on the Samsung Galaxy S3!"
          ],
          [
           "Top 3 Gadgets of Summer 2012!"
          ],
          [
           "Blackberries: Explained!"
          ],
          [
           "MKBHD Update 8.0!"
          ],
          [
           "Google Fiber: Explained!"
          ],
          [
           "Google Nexus 7 Review!"
          ],
          [
           "Top 3 Battery Saving Tips!"
          ],
          [
           "Asus Transformer Pad Infinity Review!"
          ],
          [
           "Nexus 7 First Impressions!"
          ],
          [
           "Galaxy SIII vs One X vs Galaxy Nexus!"
          ],
          [
           "GIVEAWAY: Samsung Galaxy SIII! [CLOSED]"
          ],
          [
           "Siri vs Google Voice Search!"
          ],
          [
           "Top 5 Android 4.1 Jellybean Features!"
          ],
          [
           "Top 5 Google I/O Announcements!"
          ],
          [
           "Samsung Galaxy SIII Review!"
          ],
          [
           "Samsung Galaxy SIII Impressions!"
          ],
          [
           "Top 5 Tech Myths!"
          ],
          [
           "Google Innovation at WWDC 2012!"
          ],
          [
           "4G and LTE: Explained!"
          ],
          [
           "iKey Audio M-505V2 Studio Monitors!"
          ],
          [
           "Android 5.0 Feature Wishlist!"
          ],
          [
           "Sony NEX-VG20 Review!"
          ],
          [
           "Chrome OS: Explained!"
          ],
          [
           "HTC One X Review!"
          ],
          [
           "Samsung Galaxy S III Design: Explained!"
          ],
          [
           "Transformer Pad 300 vs Transformer Prime!"
          ],
          [
           "Google Drive vs Dropbox!"
          ],
          [
           "Dear Apple!"
          ],
          [
           "Samsung Galaxy Nexus Review!"
          ],
          [
           "Google+ Re-design and WhiteSpace Rant!"
          ],
          [
           "TokyoFlash Night Vision Watch!"
          ],
          [
           "Giveaway: Audio Technica ATH-M50 Limited Edition!!"
          ],
          [
           "Google Project Glass: Explained!"
          ],
          [
           "iOS vs Android: A Google user's POV!"
          ],
          [
           "Blue Spark Microphone Review!"
          ],
          [
           "iPad 3 vs Transformer Prime!"
          ],
          [
           "The New iPad 3! [Teaser]"
          ],
          [
           "Best Audio Quality Setup: Explained!"
          ],
          [
           "Ultrabooks: Explained!"
          ],
          [
           "Asus Zenbook UX31 Review!"
          ],
          [
           "Fastest Mac Mini in the World! [Part 4] FINALE!"
          ],
          [
           "YouTuber Tip #6: Ideas!"
          ],
          [
           "Pixel Density: Explained!"
          ],
          [
           "Best iPad 3 Features!"
          ],
          [
           "Fastest Mac Mini in the World! [Part 3]"
          ],
          [
           "Asus Transformer Prime Dock!"
          ],
          [
           "Beats Pro vs Audio Technica ATH-M50!"
          ],
          [
           "Fastest Mac Mini in the World! [Part 2]"
          ],
          [
           "Chrome Beta for Android!"
          ],
          [
           "Too many Android phones? RANT"
          ],
          [
           "Cyborg RAT 7 Review!"
          ],
          [
           "The OLED TV Rant!"
          ],
          [
           "Asus Transformer Prime Review!"
          ],
          [
           "Fastest Mac Mini in the World! [Part 1]"
          ],
          [
           "Grado SR80i Review!"
          ],
          [
           "Best Galaxy Nexus Accessories!"
          ],
          [
           "Bose Companion 2 Series II Speaker Review!"
          ],
          [
           "Transformer Prime Gets Android 4.0 ICS!"
          ],
          [
           "Tour of my Nexus"
          ],
          [
           "Asus Transformer Prime First Impressions!"
          ],
          [
           "Technology in 2012"
          ],
          [
           "InSync: Dropbox for Google Docs!"
          ],
          [
           "Top 3 Battery Myths!"
          ],
          [
           "Technology of 2011: A Year in Review"
          ],
          [
           "Galaxy Nexus Camera Review"
          ],
          [
           "All About the Galaxy Nexus Display"
          ],
          [
           "Verizon Galaxy Nexus First Impressions"
          ],
          [
           "Verizon Galaxy Nexus Unboxing & First Boot!"
          ],
          [
           "Getting Inspired"
          ],
          [
           "Tour of my Tablet"
          ],
          [
           "Tour of the New Twitter"
          ],
          [
           "Verizon Galaxy Nexus RANT"
          ],
          [
           "YouTube Tech Bundle GIVEAWAY!"
          ],
          [
           "MKBHD Update 7.0"
          ],
          [
           "What is a Fisheye Lens?"
          ],
          [
           "Cyber Monday GIVEAWAY: ATH-M50 Headphones! [Closed]"
          ],
          [
           "Canon 5D MKIII Preview"
          ],
          [
           "YouTuber Tip #5: Pancakes"
          ],
          [
           "iPhone vs Android Commercials"
          ],
          [
           "Twitter Activity Tab [Review]"
          ],
          [
           "Best Free Chrome Apps!"
          ],
          [
           "Google Does a Barrel Roll"
          ],
          [
           "Top 5 Features of Android 4.0 [Ice Cream Sandwich]"
          ],
          [
           "New Chrome Web Store Review"
          ],
          [
           "Canon 24mm f/1.4 L Review"
          ],
          [
           "The Blue Snowball [Review]"
          ],
          [
           "How To Tweet!"
          ],
          [
           "The Dream Phone"
          ],
          [
           "Nexus Prime Teaser"
          ],
          [
           "How to Give an Honest Video Review"
          ],
          [
           "The DROID [Retro Review]"
          ],
          [
           "Facebook Timeline 2011: Review / Tour"
          ],
          [
           "Battery Technology Rant"
          ],
          [
           "Chrome App Tabs [Review]"
          ],
          [
           "YouTube Video Editor 2011 [Review]"
          ],
          [
           "Audio Technica ATH-M50 [Review]"
          ],
          [
           "What Phone are You?"
          ],
          [
           "Top Reasons OLED Rocks!"
          ],
          [
           "Samsung Galaxy Note Reaction"
          ],
          [
           "Blue Yeti Pro [Review]"
          ],
          [
           "MKBHD YouTube Tips | #4"
          ],
          [
           "Top Reasons the Galaxy Nexus WINS"
          ],
          [
           "The Razer Blade - Preview"
          ],
          [
           "Fat Laptops - HP 8560W Review"
          ],
          [
           "Stop It!"
          ],
          [
           "Sigma 30mm f/1.4 Review + Footage"
          ],
          [
           "New Google Chrome 15 Features"
          ],
          [
           "Favorite Web Browser?"
          ],
          [
           "IndiSLIDER Mini Deluxe [Canon T2i]"
          ],
          [
           "Top Google+ Tips and Tricks"
          ],
          [
           "MKBHD Update 6.0"
          ],
          [
           "Find your Online Reputation!"
          ],
          [
           "MKBHD YouTube Tips | #3"
          ],
          [
           "How to make a YouTube Mobile Banner [2011]"
          ],
          [
           "Optimize your HD Videos!"
          ],
          [
           "Don't buy the Verizon iPhone 4 [Yet]"
          ],
          [
           "Apple Wireless Keyboard Review"
          ],
          [
           "Android 3.0 - Honeycomb!"
          ],
          [
           "Technology of 2010 - A Year in Review"
          ],
          [
           "DSLR Video - Tips & Tricks"
          ],
          [
           "Zune HD: Revisited"
          ],
          [
           "MKBHD YouTube Tips | #1"
          ],
          [
           "GoogleTV Video Contest Entry"
          ],
          [
           "Update | YouTube Video Tips"
          ],
          [
           "GIVEAWAY: Beats By Dre Studio [Closed]"
          ],
          [
           "Chromedeck Tips and Tricks!"
          ],
          [
           "GiftYouTube / PrizeYouTube SCAM"
          ],
          [
           "Editors Keys SL150 Microphone [HD]"
          ],
          [
           "Asus UL30A-X5 | Canon T2i Video Test"
          ],
          [
           "Canon EOS Rebel T2i Unboxing"
          ],
          [
           "Review: BitFenix Survivor"
          ],
          [
           "Review: AeroWeather [HD]"
          ],
          [
           "YouTube goes Social! [Video Sharing 2010]"
          ],
          [
           "NEW YouTube Comment Sharing [November 2010]"
          ],
          [
           "iKey Audio HDR7 Dual Microphone"
          ],
          [
           "Enable Google Instant in Chrome 9 Beta"
          ],
          [
           "Review: Monster Jamz High Performance Earphones"
          ],
          [
           "NEW YouTube Video Watch Page [November 2010]"
          ],
          [
           "Review: Wiki Golf"
          ],
          [
           "Review: Azza Hurrican 2000"
          ],
          [
           "Review: iClarity HD Precision Speaker"
          ],
          [
           "Review: Editors Keys Vocal Booth"
          ],
          [
           "Beats By Dre Studio Review"
          ],
          [
           "Google TV Tour"
          ],
          [
           "Blackberry Playbook Tablet - First Look"
          ],
          [
           "#NewTwitter Parody - MKBHD Style"
          ],
          [
           "Internet Explorer 9 Beta"
          ],
          [
           "Google Chrome 7 Beta"
          ],
          [
           "iKey Audio M808-V2 Studio Monitor Review"
          ],
          [
           "Review: Altec Lansing Octane 7"
          ],
          [
           "Solar Sound 2 Speaker System Review"
          ],
          [
           "Cyber Acoustics 5.1 High Performance Speakers Review"
          ],
          [
           "Cyborg R.A.T. 7 Unboxing [HD]"
          ],
          [
           "Dell Ultrasharp 2407WFPb Unboxing and Setup"
          ],
          [
           "Beats by Dre Solo HD Review"
          ],
          [
           "New MKBHD Intro"
          ],
          [
           "Motorola Droid X 720p HD Video"
          ],
          [
           "How to Play Snake on YouTube Videos"
          ],
          [
           "Droid X Unboxing [HD]"
          ],
          [
           "MKBHD Update 6.0"
          ],
          [
           "Safari 5 Extensions [HD]"
          ],
          [
           "HD Tutorial: DestroyTwitter 2.0.2"
          ],
          [
           "YouTube Video Editor Tutorial [HD]"
          ],
          [
           "Cyborg R.A.T. Mouse Review"
          ],
          [
           "HD Tutorial: Safari 5"
          ],
          [
           "Unboxed: BlueLounge CableBox [HD]"
          ],
          [
           "Google Moderator Module"
          ],
          [
           "Unboxed: Intel X25-V 40GB SSD"
          ],
          [
           "Unboxed: Motorola Droid Desktop Stand"
          ],
          [
           "HD Tutorial: YouTube Groups [Updated]"
          ],
          [
           "HTC Droid Incredible Unboxing [HD]"
          ],
          [
           "Samson MD5 Desktop Microphone Stand [HD]"
          ],
          [
           "Freeware EVERY Geek Should Use!"
          ],
          [
           "MKBHD Search Story"
          ],
          [
           "Ultimate Frisbee Promo [HD]"
          ],
          [
           "The New YouTube [Overview in 720p HD]"
          ],
          [
           "Tweetdeck Notifications!"
          ],
          [
           "Need for Speed Most Wanted Gameplay"
          ],
          [
           "Sound Check: Editors Keys SL150 Microphone [HD]"
          ],
          [
           "Unboxed: Cyber Acoustics 2.1 Speakers [HD]"
          ],
          [
           "Unboxed: Epson NX415 [HD]"
          ],
          [
           "DealExtreme Unboxing! [HD]"
          ],
          [
           "Reviewed: uStream Producer"
          ],
          [
           "The iPad Rant"
          ],
          [
           "Windows 7 Contest [Why I Love Windows 7]"
          ],
          [
           "Unboxed: 7-Port USB Hub [HD]"
          ],
          [
           "Gateway HX2000 Unboxing [HD]"
          ],
          [
           "HD Tutorial: Matrix Screensaver"
          ],
          [
           "2010!"
          ],
          [
           "iBellix Unboxing"
          ],
          [
           "Reviewed: Motorola DROID [HD]"
          ],
          [
           "MKBHD Update 5.0"
          ],
          [
           "Entry: Gearlive HP Envy 13 Giveaway"
          ],
          [
           "12 Giveaways of Christmas! *ENDED*"
          ],
          [
           "Zune HD Hardware Review"
          ],
          [
           "Sanyo Xacti CG10 HD Footage and Photos"
          ],
          [
           "Unboxed: Sanyo Xacti CG10"
          ],
          [
           "Unboxed: HP W1707 17\" Monitor [HD]"
          ],
          [
           "The NEW Google [How to Use It]"
          ],
          [
           "Wrapsol for the Zune HD"
          ],
          [
           "Lockergnome Demo Screencast"
          ],
          [
           "Unboxed: DS International Power Saver Strip [HD]"
          ],
          [
           "1080p HD Now on Youtube!!"
          ],
          [
           "Time Lapse Video Editing"
          ],
          [
           "Update Zune HD to New Firmware [4.3] For free 3D Games!"
          ],
          [
           "gScreen Spacebook: Dualscreen Laptop!"
          ],
          [
           "IE8 Replacement: SlimBrowser Se7en"
          ],
          [
           "Unboxed: Zune HD [Black 16GB]"
          ],
          [
           "Creating a Professional Email Address"
          ],
          [
           "HD Tutorial: Desktube"
          ],
          [
           "MacBook Pro vs Alienware M17x? [Pricing]"
          ],
          [
           "Adobe Flash CS4 Demo"
          ],
          [
           "MKBHD Update 4.0"
          ],
          [
           "HD Tutorial: Edit Youtube Groups [YT 2.0]"
          ],
          [
           "Unboxed: HP Pavilion dv6t [16\" Laptop]"
          ],
          [
           "HD Tutorial: Taskbar Shuffle"
          ],
          [
           "iSkin Surprise Unboxing"
          ],
          [
           "Youtube Mega-Widescreen: 1920x960 [2:1 Aspect Ratio]"
          ],
          [
           "HD Tutorial: iTunes 9 Account - NO CREDIT CARD"
          ],
          [
           "Guess Who's BACK"
          ],
          [
           "HD Tutorial: Stack Docklets 2.0 [Windows]"
          ],
          [
           "HD Tutorial: Youtube Tags"
          ],
          [
           "Tech Channel of the Week #12"
          ],
          [
           "Google Chrome 3.0 / 4.0 Themes [HD]"
          ],
          [
           "Reviewed: DS International Flexible Keyboard [HD]"
          ],
          [
           "Tour of Youtube Annotations [HD]"
          ],
          [
           "HD Tutorial: Custom Dock Icons"
          ],
          [
           "Blu - Twitter Client for Windows [HD Installation]"
          ],
          [
           "Tweet Your Youtube Videos [HD Tutorial]"
          ],
          [
           "SEXIEST Firefox Glass!"
          ],
          [
           "How To Change Youtube Group Picture"
          ],
          [
           "Unboxed: SMALLEST Speaker ... Ever?"
          ],
          [
           "HD Tutorial: Windows 7 Calculator"
          ],
          [
           "Unboxed: iSkin Cerulean F1 + TX [HD]"
          ],
          [
           "HD Tutorial: Thunderbird Themes"
          ],
          [
           "Wrapsol Protection System Review [HD]"
          ],
          [
           "YT Messaging Glitch FIX [HD]"
          ],
          [
           "mkbHD Outro Draft"
          ],
          [
           "mkbHD Update 3.1"
          ],
          [
           "Youtube Insight 2.0 [2009]"
          ],
          [
           "HD Tutorial: Youtube Groups"
          ],
          [
           "Tech Channel of the Week #11: iMaCarly"
          ],
          [
           "Reviewed: iFrogz Custom Fallouts [HD]"
          ],
          [
           "HD Tutorial: Audio Converter [Why YOU need one]"
          ],
          [
           "Tech Channel of the Week #10: BoykoBrand"
          ],
          [
           "Youtube CENSORS Comments"
          ],
          [
           "HD Tutorial: Fission"
          ],
          [
           "Tech Channel of the Week #9: JailbrokeTouch95"
          ],
          [
           "RichardSolo Unboxing [HD]"
          ],
          [
           "HD Tutorial: Apply for a Youtube Partnership"
          ],
          [
           "Unboxed: DS International Flexible Keyboard [HD]"
          ],
          [
           "Tech Channel of the Week #8: MacintoshTipz"
          ],
          [
           "Reviewed: Griffin Elevator [HD]"
          ],
          [
           "mkbHD Update 3.0"
          ],
          [
           "HD Tutorial: Fastest Youtube Uploader"
          ],
          [
           "HD Tutorial: Video to iPod / PSP Converter"
          ],
          [
           "Tech Channel of the Week #7: TechTonicc"
          ],
          [
           "Tour of mkbHD Youtube Insight [HD]"
          ],
          [
           "Reviewed: UniBrain Fire-i Webcam"
          ],
          [
           "Youtube Update: Download your Own .mp4 Videos"
          ],
          [
           "Unboxed: Audeo PFE Headphones [HD]"
          ],
          [
           "Tech Channel of the Week #6: ComputerGeek396"
          ],
          [
           "Unboxed: Sena UltraSlim Leather Pouch [HD]"
          ],
          [
           "17\" Laptop GelaSkin Installation and Review [HD]"
          ],
          [
           "Use that Search Box!"
          ],
          [
           "Unboxed: Wrapsol Shield for LG Voyager [HD]"
          ],
          [
           "Tech Channel of the Week #5: mtpflyers"
          ],
          [
           "HD Tutorial: Edit Web Pages with Javascript"
          ],
          [
           "Reviewed: DS International Wireless Keyboard [HD]"
          ],
          [
           "Unboxed: iFrogz Earpollution Custom Fallouts [HD]"
          ],
          [
           "HD Tutorial: Skype 4.1 Beta with Screen Sharing"
          ],
          [
           "Reviewed: Solo 17\" Laptop Messenger Bag [HD]"
          ],
          [
           "Tech Channel of the Week #4: TechTechMan"
          ],
          [
           "Unboxed: Griffin Elevator [HD]"
          ],
          [
           "HD Tutorial: Google Chrome 3.0"
          ],
          [
           "Reviewed: Matias USB 2.0 Keyboard [HD]"
          ],
          [
           "ThinkGeek Unboxing [HD]"
          ],
          [
           "Tech Channel of The Week #3: Gigafide"
          ],
          [
           "Unboxed: Fire-i Digital Camera by UniBrain [HD]"
          ],
          [
           "Reviewed: iFrogz Earpollution D33 Noise Isolating Earbuds [HD]"
          ],
          [
           "HD Tutorial: Shrink + Convert Large Files"
          ],
          [
           "mkbHD Update 2.3"
          ],
          [
           "HD Tutorial: Custom Desktop Icons (Request)"
          ],
          [
           "Unboxed: DS International Wireless PC Keyboard [HD]"
          ],
          [
           "Tech Channel of the Week #2 - TheCompuGeeks"
          ],
          [
           "Unboxed: Matias USB 2.0 Keyboard [HD]"
          ],
          [
           "Reviewed: Alto-Edge GN3 Desktop Microphone [HD]"
          ],
          [
           "HD Tutorial: Safari 3 Aero (Request)"
          ],
          [
           "Unboxed: Gelaskins 17\" Laptop Skin"
          ],
          [
           "Unboxed: Solo 17\" Laptop Messenger Bag [HD]"
          ],
          [
           "HD Tutorial: Tweak VI"
          ],
          [
           "HD Tutorial: Produce any Video in 16:9 HD"
          ],
          [
           "Unboxed: iFrogz Earpollution D33s [HD]"
          ],
          [
           "Reviewed: Adjustable Laptop Stand from HandStands"
          ],
          [
           "HD Tutorial: Create Your Own Cursor"
          ],
          [
           "HD Tutorial: TweetDeck"
          ],
          [
           "Unboxed: Adjustable Laptop Stand from HandStands"
          ],
          [
           "Reviewed: ExtremePDA Case for LG Voyager [HD]"
          ],
          [
           "Tech Channel of The Week #1 - TheIpodTouchMan2K9"
          ],
          [
           "HD Tutorial: iTunes Visualizer"
          ],
          [
           "Unboxed: Alto-Edge GN3 Desktop Microphone [HD]"
          ],
          [
           "HD Tutorial: Royalty Free Music"
          ],
          [
           "HD Tutorial: Google Chrome Addons"
          ],
          [
           "Unboxed: LG Voyager Hard Shell Case from ExtremePDA"
          ],
          [
           "Update 2.2"
          ],
          [
           "HD Tutorial: Customize Office Word '07"
          ],
          [
           "3800+ Spam Messages in 30 Days (Can you beat me?)"
          ],
          [
           "HD Tutorial: PIP Effect in Camtasia Studio 6"
          ],
          [
           "LG Voyager Hardware Overview [HD]"
          ],
          [
           "HD Tutorial: Get a Character Map"
          ],
          [
           "HD Tutorial: Remove Camtasia's Green Zoom Rectangle (Request)"
          ],
          [
           "Hd Look at Micro SD Adapter (Unedited)"
          ],
          [
           "HD Tutorial: Internet Explorer 8"
          ],
          [
           "Youtube Fail"
          ],
          [
           "HD Tutorial: Explore Mars in Google Earth 5.0"
          ],
          [
           "HD Tutorial: Remove Background Noise"
          ],
          [
           "April FOO!!!"
          ],
          [
           "Protect Your PC - Conficker Worm!"
          ],
          [
           "HD Tutorial: Google Translations and Conversions"
          ],
          [
           "HP Pavilion dv7t Media Center Remote Size Comparison"
          ],
          [
           "HD Tutorial: Create A Channel Icon Using Gimp"
          ],
          [
           "Animoto Widescreen/HQ Test"
          ],
          [
           "My New Official Intro (Tutorial Coming!)"
          ],
          [
           "Hd Tutorial: Fix Registry Issues Quickly"
          ],
          [
           "HD Tutorial: Youtube Playlists"
          ],
          [
           "Gaaah! NEW Youtube Layout!"
          ],
          [
           "HD Tutorial: Callouts in Camtasia Studio 6"
          ],
          [
           "Natural Audio Enhancement?"
          ],
          [
           "HD Tutorial: Quality Wallpapers (Request)"
          ],
          [
           "Update 2.1"
          ],
          [
           "Possible Intro Video?"
          ],
          [
           "HD Tutorial: Change Video Speed in Camtasia Studio"
          ],
          [
           "Media Center Remote Part 2"
          ],
          [
           "iPhone 3Gs Software Overview"
          ],
          [
           "HD Tutorial: Dual Docks (Request)"
          ],
          [
           "HD Tutorial: Change # Of Speed Dials in Opera (Request)"
          ],
          [
           "Digital Camera Direct Upload HD/HQ Test 2"
          ],
          [
           "HD Camera Fail (AVI Format)"
          ],
          [
           "Abbreviated iPhone 3.0 Wishlist"
          ],
          [
           "HD Tutorial: Dafont - Free Fonts Online"
          ],
          [
           "Are You A Geek?"
          ],
          [
           "2009 iPod Shuffle 3G"
          ],
          [
           "Welcome to My Youtube Channel! 720p Introduction"
          ],
          [
           "HD Tutorial: Audacity"
          ],
          [
           "Update 2.0 & Inbox v1"
          ],
          [
           "HD Tutorial: Enable Advanced Disk Performance"
          ],
          [
           "2009 Mac Desktop Refresh: iMac"
          ],
          [
           "HD Tutorial: Get Safari 3.2.2 Back (Request)"
          ],
          [
           "2009 Mac Desktop Refresh: Mac Mini"
          ],
          [
           "HD Tutorial: Diskeeper Pro Premier"
          ],
          [
           "iMac and Mac Mini Refresh!"
          ],
          [
           "HD Tutorial: Tilt In Camtasia Studio 6"
          ],
          [
           "Youtube Mega-Widescreen Camtasia Studio 6 Settings"
          ],
          [
           "HD Tutorial: Firefox 3.1 Beta 2"
          ],
          [
           "HD Tutorial: Visual ToolTip for XP"
          ],
          [
           "HD Tutorial: Safari 4.0"
          ],
          [
           "HD Tutorial: Install Windows Themes (Request)"
          ],
          [
           "Update 1.1"
          ],
          [
           "HD Tutorial: CrystalXP.net"
          ],
          [
           "HD Camtasia Studio 6 Tilt Test"
          ],
          [
           "HD Tutorial: Complete Rocketdock Walkthrough"
          ],
          [
           "HD Tutorial: Watch HQ Content By Default"
          ],
          [
           "HD Tutorial: Shiny Search (Request)"
          ],
          [
           "Camtwisting with Camtasia Studio 6 (Future Tutorial!)"
          ],
          [
           "HD Tutorial: Camstudio Lossless Codec v1.4"
          ],
          [
           "HD Tutorial: DivX Codec For Camstudio (Request)"
          ],
          [
           "HD Vista Lite?"
          ],
          [
           "HD Tutorial: Change Vista Start Menu Logo"
          ],
          [
           "What does Youtube Want?"
          ],
          [
           "My Official Youtube Outro!"
          ],
          [
           "HD Tutorial: Change or Create your Gmail Theme"
          ],
          [
           "HD Tutorial: Upgrade to Skype 4 Beta"
          ],
          [
           "HD Battery Saver #5 - Hibernate"
          ],
          [
           "HD Laptop Buying Guide"
          ],
          [
           "Update 1.0 = Video 100!"
          ],
          [
           "HD Tutorial: Encode any Video in HD for Youtube"
          ],
          [
           "HD Tutorial: Camstudio Audio and Video Synchronization"
          ],
          [
           "HD Skype Review (Request)"
          ],
          [
           "New Ideas"
          ],
          [
           "HD Battery Saver #4 - Power Options"
          ],
          [
           "HD Tutorial: iTunes 9 Visualizer (Request)"
          ],
          [
           "HD Tutorial: Upgrade Safari"
          ],
          [
           "HD Tutorial: Enable Autopan in Camstudio (Request)"
          ],
          [
           "HD Tutorial: Create A Youtube Intro Video (Request)"
          ],
          [
           "HD Tutorial: Eliminate Background Tasks (Request)"
          ],
          [
           "My new Official Intro Video"
          ],
          [
           "Could Windows 7 Be a $50 Upgrade?"
          ],
          [
           "HD Tutorial: Get Windows Media Player 11 in Windows XP"
          ],
          [
           "HD Tutorial: Customizing Autoplay"
          ],
          [
           "HD Battery Saver #3 - External Devices"
          ],
          [
           "HD Battery Saver #2 - Disable Visual Effects (Aero!)"
          ],
          [
           "HD Battery Saver #1 - Defragmenting"
          ],
          [
           "HD & Zoom/Pan Test - Camtasia Studio 6"
          ],
          [
           "HD Tutorial: Customize Autofill in Safari"
          ],
          [
           "HD Benchmarking: My Internet Speed"
          ],
          [
           "HD Tutorial: Google Earth 5.0"
          ],
          [
           "HD Tutorial: The Sage's English Dictionary and Thesaurus"
          ],
          [
           "HD Review: Camstudio"
          ],
          [
           "HD Tutorial: Upgrade to iTunes 8 Plus"
          ],
          [
           "HD Tutorial: Get Free Youtube Layouts"
          ],
          [
           "HD Tutorial: Take Screenshots in Windows Vista"
          ],
          [
           "HD Tutorial: Zoom in Camstudio"
          ],
          [
           "HD Tutorial: Tweak Safari for Speed"
          ],
          [
           "HD Tutorial: Revert to Classic Windows Start Menu"
          ],
          [
           "HD Tutorial: Compatibility Mode"
          ],
          [
           "HD Tutorial: Measure your Download and Upload Speeds"
          ],
          [
           "HD Tutorial: Get Aero Shake For Vista or XP"
          ],
          [
           "HD First Look: SRWare Iron"
          ],
          [
           "HD Tutorial: Get OS X Cursors in Windows (Request)"
          ],
          [
           "HD Tutorial: Customize Command Prompt"
          ],
          [
           "HD Tutorial: Get OS X Theme on Rocket Dock"
          ],
          [
           "HD Tutorial: Offline Gmail"
          ],
          [
           "HD Tutorial: Get Old Menus Back in Vista Explorer"
          ],
          [
           "HD Tutorial: Firefox \"Superbar\""
          ],
          [
           "HD Tutorial: Start Menu Customization"
          ],
          [
           "HD Tutorial: Installing Firefox Themes"
          ],
          [
           "HD Tutorial: Get OS X Cursors in Windows"
          ],
          [
           "HD Tutorial: Mozilla Tunderbird RSS"
          ],
          [
           "HD Tutorial: Camtasia Powerpoint Integration"
          ],
          [
           "HD Test 1: Camtasia Studio 6"
          ],
          [
           "HD Tutorial: Change Rocket Dock Icons"
          ],
          [
           "HD Tutorial: Camstudio Hotkeys"
          ],
          [
           "HD Benchmark: Safari Webkit"
          ],
          [
           "HD Tutorial: Volume App"
          ],
          [
           "HD Tutorial: Sidebar Gadgets"
          ],
          [
           "HD Tutorial: Safari and Webkit Addons"
          ],
          [
           "HD Tutorial: Disable User Account Control"
          ],
          [
           "HD Tutorial: Virtual Memory"
          ],
          [
           "HD Tutorial: Eliminate Menu Show Delay"
          ],
          [
           "HD Tutorial: Boot Your Computer Faster"
          ],
          [
           "HD Tutorial: Safari 4 Webkit"
          ],
          [
           "HD Tutorial: Vistart"
          ],
          [
           "HD Tutorial: Boost your built-in microphone"
          ],
          [
           "HD Tutorial: Start Menu Shutdown Button"
          ],
          [
           "HD Tutorial: Screencasting Zoom Function"
          ],
          [
           "HD Tutorial: Justhearit!"
          ],
          [
           "HD Tutorial: Get High-Resolution Wallpapers Quickly"
          ],
          [
           "HD Tutorial: Make Internet Explorer Faster"
          ],
          [
           "HD Tutorial: Make Firefox Faster"
          ],
          [
           "HD Tutorial: Non-Ultimate Dreamscene"
          ],
          [
           "HD Tutorial: Add the \"New Tab\" button to Firefox"
          ],
          [
           "HD Tutorial: Make your own Youtube Avatar"
          ],
          [
           "HD Tutorial: Change Your Login Screen"
          ],
          [
           "HD Review: Microsoft Wireless 6000 Mouse"
          ],
          [
           "HD Example: CPU Intensive"
          ],
          [
           "HD first look: Opera 10 Alpha"
          ],
          [
           "HD Tutorial: Extended Task Manager"
          ],
          [
           "HD Tutorial: Firefox Addons"
          ],
          [
           "HD Tutorial: Fraps"
          ],
          [
           "Tutorial: Firefox Addons"
          ],
          [
           "HD Tutorial: Thunderbird Addons"
          ],
          [
           "How to Upload HD Youtube Videos"
          ],
          [
           "HD Tutorial: Aerosnap for Vista"
          ],
          [
           "Unboxed: NZXT Cryo LX [HD]"
          ],
          [
           "HQ Tutorial: Firefox Preloader"
          ],
          [
           "HQ Tutorial: Download Skype"
          ],
          [
           "MY Internet Speed!"
          ],
          [
           "HQ Tutorial: Windows 7 Calculator"
          ],
          [
           "HQ Tutorial: Safari for Windows"
          ],
          [
           "Quick Note on Speedfan"
          ],
          [
           "HQ Tutorial: Rocket Dock Application"
          ],
          [
           "Camstudio Clarity"
          ],
          [
           "Tutorial: Camstudio HQ"
          ],
          [
           "HQ Tutorial: Ccleaner"
          ],
          [
           "15 Year old Golf Swing Analysis"
          ],
          [
           "Fraps HD Test in 1080p (18 WOS)"
          ],
          [
           "HP Pavilion dv7t Media Center Remote Overview"
          ],
          [
           "High fps LG Voyager footage"
          ],
          [
           "14 Year knock-down shot (11 Handicap)"
          ],
          [
           "13-Year-Old Golf Swing Analysis"
          ]
         ],
         "hovertemplate": "Date=%{x}<br>Views=%{y}<br>Title=%{customdata[0]}<extra></extra>",
         "legendgroup": "",
         "line": {
          "color": "#636efa",
          "dash": "solid"
         },
         "marker": {
          "symbol": "circle"
         },
         "mode": "lines",
         "name": "",
         "showlegend": false,
         "type": "scattergl",
         "x": [
          "2022-04-01T00:00:00",
          "2022-03-30T00:00:00",
          "2022-03-25T00:00:00",
          "2022-03-22T00:00:00",
          "2022-03-18T00:00:00",
          "2022-03-16T00:00:00",
          "2022-03-14T00:00:00",
          "2022-03-08T00:00:00",
          "2022-03-02T00:00:00",
          "2022-02-25T00:00:00",
          "2022-02-22T00:00:00",
          "2022-02-18T00:00:00",
          "2022-02-16T00:00:00",
          "2022-02-09T00:00:00",
          "2022-02-09T00:00:00",
          "2022-02-01T00:00:00",
          "2022-01-27T00:00:00",
          "2022-01-24T00:00:00",
          "2022-01-13T00:00:00",
          "2022-01-07T00:00:00",
          "2022-01-05T00:00:00",
          "2022-01-03T00:00:00",
          "2021-12-29T00:00:00",
          "2021-12-26T00:00:00",
          "2021-12-22T00:00:00",
          "2021-12-20T00:00:00",
          "2021-12-17T00:00:00",
          "2021-12-15T00:00:00",
          "2021-12-08T00:00:00",
          "2021-12-06T00:00:00",
          "2021-12-01T00:00:00",
          "2021-11-23T00:00:00",
          "2021-11-17T00:00:00",
          "2021-11-11T00:00:00",
          "2021-11-09T00:00:00",
          "2021-11-04T00:00:00",
          "2021-11-02T00:00:00",
          "2021-10-27T00:00:00",
          "2021-10-22T00:00:00",
          "2021-10-21T00:00:00",
          "2021-10-19T00:00:00",
          "2021-10-18T00:00:00",
          "2021-10-13T00:00:00",
          "2021-10-11T00:00:00",
          "2021-10-05T00:00:00",
          "2021-10-01T00:00:00",
          "2021-09-29T00:00:00",
          "2021-09-27T00:00:00",
          "2021-09-22T00:00:00",
          "2021-09-21T00:00:00",
          "2021-09-17T00:00:00",
          "2021-09-14T00:00:00",
          "2021-09-13T00:00:00",
          "2021-09-09T00:00:00",
          "2021-08-26T00:00:00",
          "2021-08-23T00:00:00",
          "2021-08-20T00:00:00",
          "2021-08-17T00:00:00",
          "2021-08-11T00:00:00",
          "2021-08-11T00:00:00",
          "2021-08-02T00:00:00",
          "2021-07-30T00:00:00",
          "2021-07-29T00:00:00",
          "2021-07-26T00:00:00",
          "2021-07-22T00:00:00",
          "2021-07-16T00:00:00",
          "2021-07-07T00:00:00",
          "2021-07-02T00:00:00",
          "2021-07-01T00:00:00",
          "2021-06-30T00:00:00",
          "2021-06-24T00:00:00",
          "2021-06-17T00:00:00",
          "2021-06-13T00:00:00",
          "2021-06-08T00:00:00",
          "2021-06-02T00:00:00",
          "2021-05-27T00:00:00",
          "2021-05-21T00:00:00",
          "2021-05-19T00:00:00",
          "2021-05-18T00:00:00",
          "2021-05-07T00:00:00",
          "2021-04-29T00:00:00",
          "2021-04-26T00:00:00",
          "2021-04-23T00:00:00",
          "2021-04-22T00:00:00",
          "2021-04-20T00:00:00",
          "2021-04-17T00:00:00",
          "2021-04-16T00:00:00",
          "2021-04-15T00:00:00",
          "2021-04-14T00:00:00",
          "2021-04-13T00:00:00",
          "2021-04-12T00:00:00",
          "2021-04-11T00:00:00",
          "2021-04-08T00:00:00",
          "2021-04-06T00:00:00",
          "2021-04-01T00:00:00",
          "2021-03-24T00:00:00",
          "2021-03-23T00:00:00",
          "2021-03-18T00:00:00",
          "2021-03-16T00:00:00",
          "2021-03-12T00:00:00",
          "2021-03-10T00:00:00",
          "2021-03-05T00:00:00",
          "2021-02-26T00:00:00",
          "2021-02-15T00:00:00",
          "2021-02-12T00:00:00",
          "2021-02-05T00:00:00",
          "2021-02-02T00:00:00",
          "2021-01-28T00:00:00",
          "2021-01-27T00:00:00",
          "2021-01-25T00:00:00",
          "2021-01-21T00:00:00",
          "2021-01-19T00:00:00",
          "2021-01-17T00:00:00",
          "2021-01-14T00:00:00",
          "2021-01-14T00:00:00",
          "2021-01-12T00:00:00",
          "2020-12-31T00:00:00",
          "2020-12-28T00:00:00",
          "2020-12-25T00:00:00",
          "2020-12-23T00:00:00",
          "2020-12-16T00:00:00",
          "2020-12-15T00:00:00",
          "2020-12-14T00:00:00",
          "2020-12-11T00:00:00",
          "2020-12-10T00:00:00",
          "2020-12-07T00:00:00",
          "2020-12-04T00:00:00",
          "2020-12-02T00:00:00",
          "2020-11-30T00:00:00",
          "2020-11-27T00:00:00",
          "2020-11-24T00:00:00",
          "2020-11-17T00:00:00",
          "2020-11-14T00:00:00",
          "2020-11-12T00:00:00",
          "2020-11-10T00:00:00",
          "2020-11-09T00:00:00",
          "2020-11-09T00:00:00",
          "2020-10-31T00:00:00",
          "2020-10-29T00:00:00",
          "2020-10-27T00:00:00",
          "2020-10-25T00:00:00",
          "2020-10-23T00:00:00",
          "2020-10-22T00:00:00",
          "2020-10-21T00:00:00",
          "2020-10-20T00:00:00",
          "2020-10-16T00:00:00",
          "2020-10-15T00:00:00",
          "2020-10-14T00:00:00",
          "2020-10-14T00:00:00",
          "2020-10-13T00:00:00",
          "2020-10-05T00:00:00",
          "2020-10-02T00:00:00",
          "2020-09-28T00:00:00",
          "2020-09-24T00:00:00",
          "2020-09-22T00:00:00",
          "2020-09-21T00:00:00",
          "2020-09-18T00:00:00",
          "2020-09-17T00:00:00",
          "2020-09-16T00:00:00",
          "2020-09-12T00:00:00",
          "2020-09-10T00:00:00",
          "2020-09-09T00:00:00",
          "2020-09-02T00:00:00",
          "2020-08-26T00:00:00",
          "2020-08-25T00:00:00",
          "2020-08-21T00:00:00",
          "2020-08-18T00:00:00",
          "2020-08-17T00:00:00",
          "2020-08-13T00:00:00",
          "2020-08-10T00:00:00",
          "2020-08-06T00:00:00",
          "2020-08-05T00:00:00",
          "2020-08-03T00:00:00",
          "2020-07-27T00:00:00",
          "2020-07-24T00:00:00",
          "2020-07-22T00:00:00",
          "2020-07-21T00:00:00",
          "2020-07-18T00:00:00",
          "2020-07-14T00:00:00",
          "2020-07-09T00:00:00",
          "2020-07-06T00:00:00",
          "2020-07-01T00:00:00",
          "2020-06-26T00:00:00",
          "2020-06-23T00:00:00",
          "2020-06-22T00:00:00",
          "2020-06-19T00:00:00",
          "2020-06-17T00:00:00",
          "2020-06-16T00:00:00",
          "2020-06-15T00:00:00",
          "2020-06-11T00:00:00",
          "2020-06-09T00:00:00",
          "2020-06-04T00:00:00",
          "2020-05-29T00:00:00",
          "2020-05-26T00:00:00",
          "2020-05-22T00:00:00",
          "2020-05-19T00:00:00",
          "2020-05-15T00:00:00",
          "2020-05-13T00:00:00",
          "2020-05-09T00:00:00",
          "2020-05-07T00:00:00",
          "2020-05-05T00:00:00",
          "2020-05-02T00:00:00",
          "2020-04-30T00:00:00",
          "2020-04-27T00:00:00",
          "2020-04-22T00:00:00",
          "2020-04-20T00:00:00",
          "2020-04-17T00:00:00",
          "2020-04-16T00:00:00",
          "2020-04-14T00:00:00",
          "2020-04-06T00:00:00",
          "2020-03-28T00:00:00",
          "2020-03-26T00:00:00",
          "2020-03-24T00:00:00",
          "2020-03-20T00:00:00",
          "2020-03-16T00:00:00",
          "2020-03-14T00:00:00",
          "2020-03-10T00:00:00",
          "2020-03-06T00:00:00",
          "2020-03-02T00:00:00",
          "2020-02-28T00:00:00",
          "2020-02-25T00:00:00",
          "2020-02-23T00:00:00",
          "2020-02-21T00:00:00",
          "2020-02-19T00:00:00",
          "2020-02-14T00:00:00",
          "2020-02-11T00:00:00",
          "2020-02-11T00:00:00",
          "2020-02-11T00:00:00",
          "2020-02-10T00:00:00",
          "2020-01-31T00:00:00",
          "2020-01-25T00:00:00",
          "2020-01-15T00:00:00",
          "2020-01-13T00:00:00",
          "2020-01-09T00:00:00",
          "2020-01-07T00:00:00",
          "2020-01-05T00:00:00",
          "2020-01-02T00:00:00",
          "2019-12-30T00:00:00",
          "2019-12-26T00:00:00",
          "2019-12-23T00:00:00",
          "2019-12-23T00:00:00",
          "2019-12-21T00:00:00",
          "2019-12-18T00:00:00",
          "2019-12-16T00:00:00",
          "2019-12-16T00:00:00",
          "2019-12-12T00:00:00",
          "2019-12-10T00:00:00",
          "2019-12-09T00:00:00",
          "2019-12-05T00:00:00",
          "2019-12-03T00:00:00",
          "2019-12-02T00:00:00",
          "2019-12-02T00:00:00",
          "2019-11-27T00:00:00",
          "2019-11-25T00:00:00",
          "2019-11-23T00:00:00",
          "2019-11-22T00:00:00",
          "2019-11-19T00:00:00",
          "2019-11-14T00:00:00",
          "2019-11-13T00:00:00",
          "2019-11-07T00:00:00",
          "2019-11-04T00:00:00",
          "2019-11-01T00:00:00",
          "2019-10-31T00:00:00",
          "2019-10-29T00:00:00",
          "2019-10-21T00:00:00",
          "2019-10-17T00:00:00",
          "2019-10-15T00:00:00",
          "2019-10-11T00:00:00",
          "2019-10-09T00:00:00",
          "2019-10-07T00:00:00",
          "2019-10-03T00:00:00",
          "2019-10-02T00:00:00",
          "2019-10-02T00:00:00",
          "2019-09-30T00:00:00",
          "2019-09-26T00:00:00",
          "2019-09-19T00:00:00",
          "2019-09-17T00:00:00",
          "2019-09-15T00:00:00",
          "2019-09-13T00:00:00",
          "2019-09-11T00:00:00",
          "2019-09-10T00:00:00",
          "2019-09-06T00:00:00",
          "2019-09-04T00:00:00",
          "2019-08-26T00:00:00",
          "2019-08-22T00:00:00",
          "2019-08-19T00:00:00",
          "2019-08-13T00:00:00",
          "2019-08-09T00:00:00",
          "2019-08-07T00:00:00",
          "2019-07-26T00:00:00",
          "2019-07-20T00:00:00",
          "2019-07-16T00:00:00",
          "2019-07-15T00:00:00",
          "2019-07-11T00:00:00",
          "2019-07-02T00:00:00",
          "2019-06-28T00:00:00",
          "2019-06-26T00:00:00",
          "2019-06-21T00:00:00",
          "2019-06-17T00:00:00",
          "2019-06-11T00:00:00",
          "2019-06-07T00:00:00",
          "2019-06-05T00:00:00",
          "2019-06-03T00:00:00",
          "2019-05-31T00:00:00",
          "2019-05-29T00:00:00",
          "2019-05-24T00:00:00",
          "2019-05-21T00:00:00",
          "2019-05-20T00:00:00",
          "2019-05-16T00:00:00",
          "2019-05-14T00:00:00",
          "2019-05-08T00:00:00",
          "2019-04-30T00:00:00",
          "2019-04-26T00:00:00",
          "2019-04-24T00:00:00",
          "2019-04-19T00:00:00",
          "2019-04-18T00:00:00",
          "2019-04-16T00:00:00",
          "2019-04-15T00:00:00",
          "2019-04-12T00:00:00",
          "2019-04-09T00:00:00",
          "2019-04-01T00:00:00",
          "2019-03-29T00:00:00",
          "2019-03-26T00:00:00",
          "2019-03-26T00:00:00",
          "2019-03-18T00:00:00",
          "2019-03-15T00:00:00",
          "2019-03-12T00:00:00",
          "2019-03-06T00:00:00",
          "2019-03-01T00:00:00",
          "2019-02-26T00:00:00",
          "2019-02-24T00:00:00",
          "2019-02-20T00:00:00",
          "2019-02-20T00:00:00",
          "2019-02-15T00:00:00",
          "2019-02-13T00:00:00",
          "2019-02-12T00:00:00",
          "2019-02-07T00:00:00",
          "2019-02-04T00:00:00",
          "2019-02-01T00:00:00",
          "2019-01-28T00:00:00",
          "2019-01-26T00:00:00",
          "2019-01-15T00:00:00",
          "2019-01-11T00:00:00",
          "2019-01-09T00:00:00",
          "2019-01-07T00:00:00",
          "2019-01-03T00:00:00",
          "2019-01-01T00:00:00",
          "2018-12-23T00:00:00",
          "2018-12-21T00:00:00",
          "2018-12-18T00:00:00",
          "2018-12-15T00:00:00",
          "2018-12-12T00:00:00",
          "2018-12-11T00:00:00",
          "2018-12-03T00:00:00",
          "2018-11-30T00:00:00",
          "2018-11-28T00:00:00",
          "2018-11-21T00:00:00",
          "2018-11-19T00:00:00",
          "2018-11-14T00:00:00",
          "2018-11-12T00:00:00",
          "2018-11-08T00:00:00",
          "2018-11-02T00:00:00",
          "2018-10-30T00:00:00",
          "2018-10-29T00:00:00",
          "2018-10-24T00:00:00",
          "2018-10-23T00:00:00",
          "2018-10-19T00:00:00",
          "2018-10-16T00:00:00",
          "2018-10-11T00:00:00",
          "2018-10-10T00:00:00",
          "2018-10-09T00:00:00",
          "2018-10-03T00:00:00",
          "2018-10-01T00:00:00",
          "2018-09-26T00:00:00",
          "2018-09-20T00:00:00",
          "2018-09-18T00:00:00",
          "2018-09-18T00:00:00",
          "2018-09-13T00:00:00",
          "2018-09-12T00:00:00",
          "2018-09-10T00:00:00",
          "2018-09-05T00:00:00",
          "2018-08-31T00:00:00",
          "2018-08-27T00:00:00",
          "2018-08-24T00:00:00",
          "2018-08-22T00:00:00",
          "2018-08-20T00:00:00",
          "2018-08-17T00:00:00",
          "2018-08-09T00:00:00",
          "2018-08-07T00:00:00",
          "2018-08-03T00:00:00",
          "2018-08-01T00:00:00",
          "2018-07-25T00:00:00",
          "2018-07-20T00:00:00",
          "2018-07-16T00:00:00",
          "2018-07-13T00:00:00",
          "2018-07-05T00:00:00",
          "2018-06-29T00:00:00",
          "2018-06-27T00:00:00",
          "2018-06-25T00:00:00",
          "2018-06-22T00:00:00",
          "2018-06-20T00:00:00",
          "2018-06-19T00:00:00",
          "2018-06-15T00:00:00",
          "2018-06-12T00:00:00",
          "2018-06-07T00:00:00",
          "2018-06-05T00:00:00",
          "2018-06-01T00:00:00",
          "2018-05-25T00:00:00",
          "2018-05-21T00:00:00",
          "2018-05-16T00:00:00",
          "2018-05-14T00:00:00",
          "2018-05-11T00:00:00",
          "2018-05-09T00:00:00",
          "2018-05-07T00:00:00",
          "2018-05-02T00:00:00",
          "2018-04-27T00:00:00",
          "2018-04-23T00:00:00",
          "2018-04-17T00:00:00",
          "2018-04-16T00:00:00",
          "2018-04-13T00:00:00",
          "2018-04-10T00:00:00",
          "2018-04-03T00:00:00",
          "2018-04-01T00:00:00",
          "2018-03-29T00:00:00",
          "2018-03-19T00:00:00",
          "2018-03-16T00:00:00",
          "2018-03-13T00:00:00",
          "2018-03-09T00:00:00",
          "2018-03-07T00:00:00",
          "2018-03-02T00:00:00",
          "2018-02-28T00:00:00",
          "2018-02-25T00:00:00",
          "2018-02-22T00:00:00",
          "2018-02-20T00:00:00",
          "2018-02-16T00:00:00",
          "2018-02-13T00:00:00",
          "2018-02-08T00:00:00",
          "2018-02-05T00:00:00",
          "2018-02-03T00:00:00",
          "2018-01-30T00:00:00",
          "2018-01-23T00:00:00",
          "2018-01-18T00:00:00",
          "2018-01-13T00:00:00",
          "2018-01-10T00:00:00",
          "2018-01-04T00:00:00",
          "2018-01-02T00:00:00",
          "2017-12-23T00:00:00",
          "2017-12-19T00:00:00",
          "2017-12-14T00:00:00",
          "2017-12-12T00:00:00",
          "2017-12-06T00:00:00",
          "2017-11-29T00:00:00",
          "2017-11-27T00:00:00",
          "2017-11-23T00:00:00",
          "2017-11-21T00:00:00",
          "2017-11-17T00:00:00",
          "2017-11-16T00:00:00",
          "2017-11-14T00:00:00",
          "2017-11-09T00:00:00",
          "2017-11-04T00:00:00",
          "2017-11-02T00:00:00",
          "2017-11-01T00:00:00",
          "2017-10-31T00:00:00",
          "2017-10-26T00:00:00",
          "2017-10-23T00:00:00",
          "2017-10-18T00:00:00",
          "2017-10-17T00:00:00",
          "2017-10-12T00:00:00",
          "2017-10-09T00:00:00",
          "2017-10-04T00:00:00",
          "2017-09-29T00:00:00",
          "2017-09-26T00:00:00",
          "2017-09-25T00:00:00",
          "2017-09-21T00:00:00",
          "2017-09-20T00:00:00",
          "2017-09-15T00:00:00",
          "2017-09-14T00:00:00",
          "2017-09-12T00:00:00",
          "2017-09-11T00:00:00",
          "2017-09-01T00:00:00",
          "2017-08-30T00:00:00",
          "2017-08-28T00:00:00",
          "2017-08-23T00:00:00",
          "2017-08-22T00:00:00",
          "2017-08-16T00:00:00",
          "2017-08-10T00:00:00",
          "2017-08-07T00:00:00",
          "2017-08-04T00:00:00",
          "2017-08-02T00:00:00",
          "2017-08-01T00:00:00",
          "2017-07-31T00:00:00",
          "2017-07-24T00:00:00",
          "2017-07-18T00:00:00",
          "2017-07-15T00:00:00",
          "2017-07-13T00:00:00",
          "2017-07-10T00:00:00",
          "2017-07-03T00:00:00",
          "2017-06-30T00:00:00",
          "2017-06-28T00:00:00",
          "2017-06-23T00:00:00",
          "2017-06-20T00:00:00",
          "2017-06-15T00:00:00",
          "2017-06-13T00:00:00",
          "2017-06-09T00:00:00",
          "2017-06-08T00:00:00",
          "2017-06-06T00:00:00",
          "2017-06-02T00:00:00",
          "2017-05-26T00:00:00",
          "2017-05-24T00:00:00",
          "2017-05-22T00:00:00",
          "2017-05-18T00:00:00",
          "2017-05-15T00:00:00",
          "2017-05-10T00:00:00",
          "2017-05-05T00:00:00",
          "2017-05-01T00:00:00",
          "2017-04-27T00:00:00",
          "2017-04-25T00:00:00",
          "2017-04-18T00:00:00",
          "2017-04-18T00:00:00",
          "2017-04-13T00:00:00",
          "2017-04-10T00:00:00",
          "2017-04-05T00:00:00",
          "2017-04-01T00:00:00",
          "2017-03-29T00:00:00",
          "2017-03-24T00:00:00",
          "2017-03-22T00:00:00",
          "2017-03-21T00:00:00",
          "2017-03-16T00:00:00",
          "2017-03-13T00:00:00",
          "2017-03-09T00:00:00",
          "2017-03-03T00:00:00",
          "2017-03-01T00:00:00",
          "2017-02-27T00:00:00",
          "2017-02-22T00:00:00",
          "2017-02-16T00:00:00",
          "2017-02-11T00:00:00",
          "2017-02-10T00:00:00",
          "2017-02-06T00:00:00",
          "2017-02-01T00:00:00",
          "2017-01-28T00:00:00",
          "2017-01-25T00:00:00",
          "2017-01-20T00:00:00",
          "2017-01-18T00:00:00",
          "2017-01-06T00:00:00",
          "2017-01-04T00:00:00",
          "2017-01-03T00:00:00",
          "2016-12-30T00:00:00",
          "2016-12-22T00:00:00",
          "2016-12-19T00:00:00",
          "2016-12-17T00:00:00",
          "2016-12-15T00:00:00",
          "2016-12-13T00:00:00",
          "2016-12-05T00:00:00",
          "2016-12-01T00:00:00",
          "2016-11-29T00:00:00",
          "2016-11-25T00:00:00",
          "2016-11-23T00:00:00",
          "2016-11-22T00:00:00",
          "2016-11-21T00:00:00",
          "2016-11-17T00:00:00",
          "2016-11-13T00:00:00",
          "2016-11-04T00:00:00",
          "2016-11-02T00:00:00",
          "2016-10-28T00:00:00",
          "2016-10-27T00:00:00",
          "2016-10-25T00:00:00",
          "2016-10-21T00:00:00",
          "2016-10-19T00:00:00",
          "2016-10-18T00:00:00",
          "2016-10-12T00:00:00",
          "2016-10-11T00:00:00",
          "2016-10-07T00:00:00",
          "2016-10-04T00:00:00",
          "2016-10-02T00:00:00",
          "2016-09-26T00:00:00",
          "2016-09-23T00:00:00",
          "2016-09-18T00:00:00",
          "2016-09-14T00:00:00",
          "2016-09-07T00:00:00",
          "2016-09-05T00:00:00",
          "2016-08-30T00:00:00",
          "2016-08-23T00:00:00",
          "2016-08-22T00:00:00",
          "2016-08-16T00:00:00",
          "2016-08-12T00:00:00",
          "2016-08-10T00:00:00",
          "2016-08-02T00:00:00",
          "2016-07-29T00:00:00",
          "2016-07-19T00:00:00",
          "2016-07-15T00:00:00",
          "2016-07-13T00:00:00",
          "2016-07-11T00:00:00",
          "2016-06-29T00:00:00",
          "2016-06-24T00:00:00",
          "2016-06-14T00:00:00",
          "2016-06-13T00:00:00",
          "2016-06-06T00:00:00",
          "2016-06-03T00:00:00",
          "2016-05-30T00:00:00",
          "2016-05-19T00:00:00",
          "2016-05-13T00:00:00",
          "2016-05-03T00:00:00",
          "2016-04-29T00:00:00",
          "2016-04-21T00:00:00",
          "2016-04-20T00:00:00",
          "2016-04-14T00:00:00",
          "2016-04-12T00:00:00",
          "2016-04-07T00:00:00",
          "2016-04-04T00:00:00",
          "2016-03-28T00:00:00",
          "2016-03-19T00:00:00",
          "2016-03-17T00:00:00",
          "2016-03-10T00:00:00",
          "2016-03-09T00:00:00",
          "2016-03-02T00:00:00",
          "2016-02-26T00:00:00",
          "2016-02-22T00:00:00",
          "2016-02-20T00:00:00",
          "2016-02-16T00:00:00",
          "2016-02-11T00:00:00",
          "2016-02-07T00:00:00",
          "2016-02-03T00:00:00",
          "2016-01-28T00:00:00",
          "2016-01-23T00:00:00",
          "2016-01-20T00:00:00",
          "2016-01-09T00:00:00",
          "2016-01-08T00:00:00",
          "2016-01-04T00:00:00",
          "2016-01-01T00:00:00",
          "2015-12-29T00:00:00",
          "2015-12-20T00:00:00",
          "2015-12-18T00:00:00",
          "2015-12-16T00:00:00",
          "2015-12-14T00:00:00",
          "2015-12-11T00:00:00",
          "2015-12-08T00:00:00",
          "2015-12-06T00:00:00",
          "2015-12-01T00:00:00",
          "2015-11-26T00:00:00",
          "2015-11-23T00:00:00",
          "2015-11-19T00:00:00",
          "2015-11-14T00:00:00",
          "2015-11-12T00:00:00",
          "2015-11-06T00:00:00",
          "2015-11-02T00:00:00",
          "2015-10-29T00:00:00",
          "2015-10-26T00:00:00",
          "2015-10-21T00:00:00",
          "2015-10-19T00:00:00",
          "2015-10-15T00:00:00",
          "2015-10-12T00:00:00",
          "2015-10-08T00:00:00",
          "2015-10-02T00:00:00",
          "2015-09-29T00:00:00",
          "2015-09-25T00:00:00",
          "2015-09-22T00:00:00",
          "2015-09-17T00:00:00",
          "2015-09-09T00:00:00",
          "2015-09-09T00:00:00",
          "2015-09-07T00:00:00",
          "2015-09-02T00:00:00",
          "2015-08-28T00:00:00",
          "2015-08-23T00:00:00",
          "2015-08-18T00:00:00",
          "2015-08-13T00:00:00",
          "2015-08-11T00:00:00",
          "2015-08-07T00:00:00",
          "2015-08-05T00:00:00",
          "2015-07-28T00:00:00",
          "2015-07-27T00:00:00",
          "2015-07-24T00:00:00",
          "2015-07-17T00:00:00",
          "2015-07-14T00:00:00",
          "2015-07-09T00:00:00",
          "2015-07-03T00:00:00",
          "2015-06-30T00:00:00",
          "2015-06-25T00:00:00",
          "2015-06-24T00:00:00",
          "2015-06-16T00:00:00",
          "2015-06-11T00:00:00",
          "2015-06-05T00:00:00",
          "2015-06-03T00:00:00",
          "2015-05-29T00:00:00",
          "2015-05-27T00:00:00",
          "2015-05-23T00:00:00",
          "2015-05-18T00:00:00",
          "2015-05-14T00:00:00",
          "2015-05-11T00:00:00",
          "2015-05-03T00:00:00",
          "2015-04-28T00:00:00",
          "2015-04-24T00:00:00",
          "2015-04-21T00:00:00",
          "2015-04-15T00:00:00",
          "2015-04-08T00:00:00",
          "2015-04-04T00:00:00",
          "2015-03-31T00:00:00",
          "2015-03-27T00:00:00",
          "2015-03-23T00:00:00",
          "2015-03-12T00:00:00",
          "2015-03-09T00:00:00",
          "2015-03-06T00:00:00",
          "2015-03-02T00:00:00",
          "2015-03-01T00:00:00",
          "2015-03-01T00:00:00",
          "2015-02-24T00:00:00",
          "2015-02-17T00:00:00",
          "2015-02-13T00:00:00",
          "2015-02-10T00:00:00",
          "2015-02-01T00:00:00",
          "2015-01-26T00:00:00",
          "2015-01-24T00:00:00",
          "2015-01-19T00:00:00",
          "2015-01-14T00:00:00",
          "2015-01-11T00:00:00",
          "2015-01-08T00:00:00",
          "2015-01-01T00:00:00",
          "2014-12-23T00:00:00",
          "2014-12-17T00:00:00",
          "2014-12-14T00:00:00",
          "2014-12-07T00:00:00",
          "2014-12-01T00:00:00",
          "2014-11-20T00:00:00",
          "2014-11-15T00:00:00",
          "2014-11-12T00:00:00",
          "2014-11-11T00:00:00",
          "2014-11-05T00:00:00",
          "2014-11-04T00:00:00",
          "2014-11-01T00:00:00",
          "2014-10-27T00:00:00",
          "2014-10-24T00:00:00",
          "2014-10-20T00:00:00",
          "2014-10-17T00:00:00",
          "2014-10-15T00:00:00",
          "2014-10-09T00:00:00",
          "2014-10-05T00:00:00",
          "2014-10-01T00:00:00",
          "2014-09-26T00:00:00",
          "2014-09-24T00:00:00",
          "2014-09-19T00:00:00",
          "2014-09-18T00:00:00",
          "2014-09-15T00:00:00",
          "2014-09-10T00:00:00",
          "2014-09-03T00:00:00",
          "2014-09-03T00:00:00",
          "2014-08-30T00:00:00",
          "2014-08-23T00:00:00",
          "2014-08-21T00:00:00",
          "2014-08-16T00:00:00",
          "2014-08-08T00:00:00",
          "2014-08-04T00:00:00",
          "2014-08-03T00:00:00",
          "2014-07-26T00:00:00",
          "2014-07-24T00:00:00",
          "2014-07-18T00:00:00",
          "2014-07-07T00:00:00",
          "2014-07-04T00:00:00",
          "2014-07-02T00:00:00",
          "2014-06-28T00:00:00",
          "2014-06-26T00:00:00",
          "2014-06-25T00:00:00",
          "2014-06-19T00:00:00",
          "2014-06-18T00:00:00",
          "2014-06-10T00:00:00",
          "2014-06-06T00:00:00",
          "2014-06-04T00:00:00",
          "2014-06-01T00:00:00",
          "2014-05-31T00:00:00",
          "2014-05-27T00:00:00",
          "2014-05-25T00:00:00",
          "2014-05-23T00:00:00",
          "2014-05-19T00:00:00",
          "2014-05-14T00:00:00",
          "2014-05-06T00:00:00",
          "2014-05-02T00:00:00",
          "2014-04-28T00:00:00",
          "2014-04-24T00:00:00",
          "2014-04-20T00:00:00",
          "2014-04-19T00:00:00",
          "2014-04-16T00:00:00",
          "2014-04-09T00:00:00",
          "2014-04-06T00:00:00",
          "2014-03-26T00:00:00",
          "2014-03-25T00:00:00",
          "2014-03-19T00:00:00",
          "2014-03-16T00:00:00",
          "2014-03-03T00:00:00",
          "2014-02-28T00:00:00",
          "2014-02-24T00:00:00",
          "2014-02-23T00:00:00",
          "2014-02-20T00:00:00",
          "2014-02-15T00:00:00",
          "2014-02-12T00:00:00",
          "2014-02-08T00:00:00",
          "2014-02-08T00:00:00",
          "2014-02-06T00:00:00",
          "2014-01-31T00:00:00",
          "2014-01-29T00:00:00",
          "2014-01-25T00:00:00",
          "2014-01-21T00:00:00",
          "2014-01-18T00:00:00",
          "2014-01-13T00:00:00",
          "2014-01-11T00:00:00",
          "2014-01-10T00:00:00",
          "2014-01-09T00:00:00",
          "2014-01-09T00:00:00",
          "2014-01-08T00:00:00",
          "2014-01-07T00:00:00",
          "2014-01-04T00:00:00",
          "2014-01-03T00:00:00",
          "2013-12-24T00:00:00",
          "2013-12-21T00:00:00",
          "2013-12-19T00:00:00",
          "2013-12-17T00:00:00",
          "2013-12-12T00:00:00",
          "2013-12-08T00:00:00",
          "2013-12-05T00:00:00",
          "2013-11-27T00:00:00",
          "2013-11-25T00:00:00",
          "2013-11-18T00:00:00",
          "2013-11-16T00:00:00",
          "2013-11-13T00:00:00",
          "2013-11-08T00:00:00",
          "2013-11-04T00:00:00",
          "2013-11-02T00:00:00",
          "2013-10-31T00:00:00",
          "2013-10-29T00:00:00",
          "2013-10-24T00:00:00",
          "2013-10-21T00:00:00",
          "2013-10-19T00:00:00",
          "2013-10-15T00:00:00",
          "2013-10-11T00:00:00",
          "2013-10-07T00:00:00",
          "2013-10-02T00:00:00",
          "2013-09-25T00:00:00",
          "2013-09-23T00:00:00",
          "2013-09-18T00:00:00",
          "2013-09-13T00:00:00",
          "2013-09-09T00:00:00",
          "2013-09-06T00:00:00",
          "2013-08-30T00:00:00",
          "2013-08-23T00:00:00",
          "2013-08-20T00:00:00",
          "2013-08-16T00:00:00",
          "2013-08-13T00:00:00",
          "2013-08-09T00:00:00",
          "2013-08-06T00:00:00",
          "2013-08-02T00:00:00",
          "2013-07-31T00:00:00",
          "2013-07-29T00:00:00",
          "2013-07-26T00:00:00",
          "2013-07-22T00:00:00",
          "2013-07-18T00:00:00",
          "2013-07-14T00:00:00",
          "2013-07-10T00:00:00",
          "2013-07-04T00:00:00",
          "2013-07-01T00:00:00",
          "2013-06-25T00:00:00",
          "2013-06-22T00:00:00",
          "2013-06-18T00:00:00",
          "2013-06-13T00:00:00",
          "2013-06-11T00:00:00",
          "2013-06-07T00:00:00",
          "2013-06-04T00:00:00",
          "2013-05-30T00:00:00",
          "2013-05-27T00:00:00",
          "2013-05-22T00:00:00",
          "2013-05-17T00:00:00",
          "2013-05-16T00:00:00",
          "2013-05-11T00:00:00",
          "2013-05-08T00:00:00",
          "2013-05-03T00:00:00",
          "2013-04-30T00:00:00",
          "2013-04-26T00:00:00",
          "2013-04-23T00:00:00",
          "2013-04-18T00:00:00",
          "2013-04-16T00:00:00",
          "2013-04-12T00:00:00",
          "2013-04-07T00:00:00",
          "2013-04-04T00:00:00",
          "2013-03-31T00:00:00",
          "2013-03-29T00:00:00",
          "2013-03-26T00:00:00",
          "2013-03-22T00:00:00",
          "2013-03-17T00:00:00",
          "2013-03-12T00:00:00",
          "2013-03-08T00:00:00",
          "2013-03-05T00:00:00",
          "2013-02-28T00:00:00",
          "2013-02-25T00:00:00",
          "2013-02-21T00:00:00",
          "2013-02-19T00:00:00",
          "2013-02-16T00:00:00",
          "2013-02-12T00:00:00",
          "2013-02-09T00:00:00",
          "2013-02-06T00:00:00",
          "2013-02-02T00:00:00",
          "2013-01-27T00:00:00",
          "2013-01-23T00:00:00",
          "2013-01-20T00:00:00",
          "2013-01-18T00:00:00",
          "2013-01-15T00:00:00",
          "2013-01-12T00:00:00",
          "2013-01-10T00:00:00",
          "2013-01-09T00:00:00",
          "2013-01-07T00:00:00",
          "2013-01-03T00:00:00",
          "2012-12-30T00:00:00",
          "2012-12-28T00:00:00",
          "2012-12-24T00:00:00",
          "2012-12-21T00:00:00",
          "2012-12-17T00:00:00",
          "2012-12-15T00:00:00",
          "2012-12-13T00:00:00",
          "2012-12-08T00:00:00",
          "2012-12-05T00:00:00",
          "2012-12-02T00:00:00",
          "2012-11-28T00:00:00",
          "2012-11-26T00:00:00",
          "2012-11-22T00:00:00",
          "2012-11-20T00:00:00",
          "2012-11-19T00:00:00",
          "2012-11-16T00:00:00",
          "2012-11-14T00:00:00",
          "2012-11-12T00:00:00",
          "2012-11-08T00:00:00",
          "2012-10-29T00:00:00",
          "2012-10-25T00:00:00",
          "2012-10-23T00:00:00",
          "2012-10-22T00:00:00",
          "2012-10-18T00:00:00",
          "2012-10-16T00:00:00",
          "2012-10-11T00:00:00",
          "2012-10-08T00:00:00",
          "2012-10-05T00:00:00",
          "2012-10-01T00:00:00",
          "2012-09-28T00:00:00",
          "2012-09-25T00:00:00",
          "2012-09-20T00:00:00",
          "2012-09-15T00:00:00",
          "2012-09-13T00:00:00",
          "2012-09-07T00:00:00",
          "2012-09-03T00:00:00",
          "2012-08-31T00:00:00",
          "2012-08-29T00:00:00",
          "2012-08-24T00:00:00",
          "2012-08-19T00:00:00",
          "2012-08-09T00:00:00",
          "2012-08-06T00:00:00",
          "2012-07-30T00:00:00",
          "2012-07-25T00:00:00",
          "2012-07-23T00:00:00",
          "2012-07-17T00:00:00",
          "2012-07-13T00:00:00",
          "2012-07-10T00:00:00",
          "2012-06-30T00:00:00",
          "2012-06-28T00:00:00",
          "2012-06-27T00:00:00",
          "2012-06-25T00:00:00",
          "2012-06-19T00:00:00",
          "2012-06-15T00:00:00",
          "2012-06-11T00:00:00",
          "2012-06-04T00:00:00",
          "2012-05-29T00:00:00",
          "2012-05-26T00:00:00",
          "2012-05-24T00:00:00",
          "2012-05-17T00:00:00",
          "2012-05-13T00:00:00",
          "2012-05-04T00:00:00",
          "2012-04-30T00:00:00",
          "2012-04-25T00:00:00",
          "2012-04-20T00:00:00",
          "2012-04-16T00:00:00",
          "2012-04-11T00:00:00",
          "2012-04-11T00:00:00",
          "2012-04-08T00:00:00",
          "2012-04-05T00:00:00",
          "2012-03-30T00:00:00",
          "2012-03-27T00:00:00",
          "2012-03-21T00:00:00",
          "2012-03-19T00:00:00",
          "2012-03-17T00:00:00",
          "2012-03-09T00:00:00",
          "2012-03-05T00:00:00",
          "2012-03-01T00:00:00",
          "2012-02-29T00:00:00",
          "2012-02-26T00:00:00",
          "2012-02-23T00:00:00",
          "2012-02-20T00:00:00",
          "2012-02-18T00:00:00",
          "2012-02-14T00:00:00",
          "2012-02-10T00:00:00",
          "2012-02-07T00:00:00",
          "2012-02-04T00:00:00",
          "2012-01-31T00:00:00",
          "2012-01-27T00:00:00",
          "2012-01-22T00:00:00",
          "2012-01-19T00:00:00",
          "2012-01-16T00:00:00",
          "2012-01-14T00:00:00",
          "2012-01-12T00:00:00",
          "2012-01-09T00:00:00",
          "2012-01-08T00:00:00",
          "2012-01-06T00:00:00",
          "2012-01-04T00:00:00",
          "2012-01-01T00:00:00",
          "2011-12-28T00:00:00",
          "2011-12-23T00:00:00",
          "2011-12-18T00:00:00",
          "2011-12-17T00:00:00",
          "2011-12-15T00:00:00",
          "2011-12-15T00:00:00",
          "2011-12-14T00:00:00",
          "2011-12-11T00:00:00",
          "2011-12-08T00:00:00",
          "2011-12-06T00:00:00",
          "2011-12-04T00:00:00",
          "2011-12-03T00:00:00",
          "2011-11-30T00:00:00",
          "2011-11-28T00:00:00",
          "2011-11-22T00:00:00",
          "2011-11-20T00:00:00",
          "2011-11-15T00:00:00",
          "2011-11-09T00:00:00",
          "2011-11-05T00:00:00",
          "2011-11-03T00:00:00",
          "2011-10-30T00:00:00",
          "2011-10-26T00:00:00",
          "2011-10-21T00:00:00",
          "2011-10-17T00:00:00",
          "2011-10-13T00:00:00",
          "2011-10-09T00:00:00",
          "2011-10-05T00:00:00",
          "2011-09-30T00:00:00",
          "2011-09-27T00:00:00",
          "2011-09-22T00:00:00",
          "2011-09-22T00:00:00",
          "2011-09-19T00:00:00",
          "2011-09-15T00:00:00",
          "2011-09-12T00:00:00",
          "2011-09-09T00:00:00",
          "2011-09-07T00:00:00",
          "2011-09-04T00:00:00",
          "2011-09-02T00:00:00",
          "2011-08-30T00:00:00",
          "2011-08-29T00:00:00",
          "2011-08-27T00:00:00",
          "2011-08-24T00:00:00",
          "2011-08-20T00:00:00",
          "2011-08-18T00:00:00",
          "2011-08-16T00:00:00",
          "2011-08-12T00:00:00",
          "2011-08-11T00:00:00",
          "2011-08-08T00:00:00",
          "2011-08-06T00:00:00",
          "2011-01-23T00:00:00",
          "2011-01-20T00:00:00",
          "2011-01-18T00:00:00",
          "2011-01-15T00:00:00",
          "2011-01-11T00:00:00",
          "2011-01-08T00:00:00",
          "2011-01-05T00:00:00",
          "2010-12-30T00:00:00",
          "2010-12-28T00:00:00",
          "2010-12-27T00:00:00",
          "2010-12-24T00:00:00",
          "2010-12-21T00:00:00",
          "2010-12-19T00:00:00",
          "2010-12-13T00:00:00",
          "2010-12-12T00:00:00",
          "2010-12-07T00:00:00",
          "2010-12-05T00:00:00",
          "2010-11-28T00:00:00",
          "2010-11-25T00:00:00",
          "2010-11-22T00:00:00",
          "2010-11-21T00:00:00",
          "2010-11-18T00:00:00",
          "2010-11-17T00:00:00",
          "2010-11-17T00:00:00",
          "2010-11-12T00:00:00",
          "2010-11-08T00:00:00",
          "2010-11-03T00:00:00",
          "2010-10-31T00:00:00",
          "2010-10-27T00:00:00",
          "2010-10-23T00:00:00",
          "2010-10-18T00:00:00",
          "2010-10-13T00:00:00",
          "2010-10-08T00:00:00",
          "2010-09-28T00:00:00",
          "2010-09-26T00:00:00",
          "2010-09-24T00:00:00",
          "2010-09-21T00:00:00",
          "2010-09-17T00:00:00",
          "2010-09-10T00:00:00",
          "2010-09-07T00:00:00",
          "2010-09-03T00:00:00",
          "2010-08-26T00:00:00",
          "2010-08-16T00:00:00",
          "2010-08-11T00:00:00",
          "2010-08-09T00:00:00",
          "2010-07-28T00:00:00",
          "2010-07-26T00:00:00",
          "2010-07-20T00:00:00",
          "2010-07-17T00:00:00",
          "2010-06-27T00:00:00",
          "2010-06-21T00:00:00",
          "2010-06-16T00:00:00",
          "2010-06-11T00:00:00",
          "2010-06-07T00:00:00",
          "2010-06-03T00:00:00",
          "2010-05-25T00:00:00",
          "2010-05-18T00:00:00",
          "2010-05-11T00:00:00",
          "2010-05-06T00:00:00",
          "2010-04-30T00:00:00",
          "2010-04-28T00:00:00",
          "2010-04-24T00:00:00",
          "2010-04-13T00:00:00",
          "2010-04-04T00:00:00",
          "2010-03-28T00:00:00",
          "2010-03-21T00:00:00",
          "2010-03-11T00:00:00",
          "2010-02-28T00:00:00",
          "2010-02-23T00:00:00",
          "2010-02-16T00:00:00",
          "2010-02-10T00:00:00",
          "2010-02-03T00:00:00",
          "2010-01-27T00:00:00",
          "2010-01-23T00:00:00",
          "2010-01-18T00:00:00",
          "2010-01-11T00:00:00",
          "2010-01-06T00:00:00",
          "2009-12-31T00:00:00",
          "2009-12-27T00:00:00",
          "2009-12-22T00:00:00",
          "2009-12-18T00:00:00",
          "2009-12-14T00:00:00",
          "2009-12-11T00:00:00",
          "2009-12-06T00:00:00",
          "2009-12-03T00:00:00",
          "2009-12-02T00:00:00",
          "2009-11-28T00:00:00",
          "2009-11-25T00:00:00",
          "2009-11-23T00:00:00",
          "2009-11-17T00:00:00",
          "2009-11-15T00:00:00",
          "2009-11-12T00:00:00",
          "2009-11-09T00:00:00",
          "2009-11-07T00:00:00",
          "2009-11-06T00:00:00",
          "2009-10-28T00:00:00",
          "2009-10-25T00:00:00",
          "2009-10-23T00:00:00",
          "2009-10-22T00:00:00",
          "2009-10-19T00:00:00",
          "2009-10-16T00:00:00",
          "2009-10-15T00:00:00",
          "2009-10-12T00:00:00",
          "2009-10-11T00:00:00",
          "2009-10-09T00:00:00",
          "2009-10-07T00:00:00",
          "2009-10-05T00:00:00",
          "2009-10-04T00:00:00",
          "2009-10-02T00:00:00",
          "2009-09-13T00:00:00",
          "2009-09-12T00:00:00",
          "2009-09-06T00:00:00",
          "2009-09-03T00:00:00",
          "2009-08-31T00:00:00",
          "2009-08-29T00:00:00",
          "2009-08-26T00:00:00",
          "2009-08-24T00:00:00",
          "2009-08-22T00:00:00",
          "2009-08-20T00:00:00",
          "2009-08-18T00:00:00",
          "2009-08-16T00:00:00",
          "2009-08-14T00:00:00",
          "2009-08-12T00:00:00",
          "2009-08-09T00:00:00",
          "2009-08-04T00:00:00",
          "2009-08-02T00:00:00",
          "2009-07-28T00:00:00",
          "2009-07-26T00:00:00",
          "2009-07-23T00:00:00",
          "2009-07-22T00:00:00",
          "2009-07-20T00:00:00",
          "2009-07-18T00:00:00",
          "2009-07-15T00:00:00",
          "2009-07-12T00:00:00",
          "2009-07-08T00:00:00",
          "2009-07-08T00:00:00",
          "2009-07-06T00:00:00",
          "2009-07-04T00:00:00",
          "2009-07-02T00:00:00",
          "2009-06-30T00:00:00",
          "2009-06-28T00:00:00",
          "2009-06-26T00:00:00",
          "2009-06-24T00:00:00",
          "2009-06-23T00:00:00",
          "2009-06-22T00:00:00",
          "2009-06-20T00:00:00",
          "2009-06-19T00:00:00",
          "2009-06-18T00:00:00",
          "2009-06-17T00:00:00",
          "2009-06-16T00:00:00",
          "2009-06-15T00:00:00",
          "2009-06-14T00:00:00",
          "2009-06-12T00:00:00",
          "2009-06-11T00:00:00",
          "2009-06-09T00:00:00",
          "2009-06-08T00:00:00",
          "2009-06-05T00:00:00",
          "2009-06-04T00:00:00",
          "2009-06-03T00:00:00",
          "2009-06-02T00:00:00",
          "2009-06-01T00:00:00",
          "2009-05-31T00:00:00",
          "2009-05-30T00:00:00",
          "2009-05-29T00:00:00",
          "2009-05-27T00:00:00",
          "2009-05-25T00:00:00",
          "2009-05-23T00:00:00",
          "2009-05-21T00:00:00",
          "2009-05-19T00:00:00",
          "2009-05-18T00:00:00",
          "2009-05-14T00:00:00",
          "2009-05-13T00:00:00",
          "2009-05-12T00:00:00",
          "2009-05-10T00:00:00",
          "2009-05-09T00:00:00",
          "2009-05-07T00:00:00",
          "2009-05-05T00:00:00",
          "2009-05-04T00:00:00",
          "2009-05-03T00:00:00",
          "2009-05-02T00:00:00",
          "2009-05-01T00:00:00",
          "2009-04-29T00:00:00",
          "2009-04-28T00:00:00",
          "2009-04-26T00:00:00",
          "2009-04-26T00:00:00",
          "2009-04-24T00:00:00",
          "2009-04-23T00:00:00",
          "2009-04-22T00:00:00",
          "2009-04-21T00:00:00",
          "2009-04-20T00:00:00",
          "2009-04-19T00:00:00",
          "2009-04-18T00:00:00",
          "2009-04-17T00:00:00",
          "2009-04-16T00:00:00",
          "2009-04-12T00:00:00",
          "2009-04-12T00:00:00",
          "2009-04-11T00:00:00",
          "2009-04-10T00:00:00",
          "2009-04-08T00:00:00",
          "2009-04-07T00:00:00",
          "2009-04-06T00:00:00",
          "2009-04-04T00:00:00",
          "2009-04-03T00:00:00",
          "2009-04-03T00:00:00",
          "2009-04-02T00:00:00",
          "2009-04-01T00:00:00",
          "2009-03-31T00:00:00",
          "2009-03-30T00:00:00",
          "2009-03-30T00:00:00",
          "2009-03-29T00:00:00",
          "2009-03-29T00:00:00",
          "2009-03-29T00:00:00",
          "2009-03-28T00:00:00",
          "2009-03-27T00:00:00",
          "2009-03-25T00:00:00",
          "2009-03-25T00:00:00",
          "2009-03-24T00:00:00",
          "2009-03-23T00:00:00",
          "2009-03-20T00:00:00",
          "2009-03-20T00:00:00",
          "2009-03-19T00:00:00",
          "2009-03-18T00:00:00",
          "2009-03-18T00:00:00",
          "2009-03-17T00:00:00",
          "2009-03-14T00:00:00",
          "2009-03-14T00:00:00",
          "2009-03-14T00:00:00",
          "2009-03-14T00:00:00",
          "2009-03-13T00:00:00",
          "2009-03-12T00:00:00",
          "2009-03-11T00:00:00",
          "2009-03-10T00:00:00",
          "2009-03-10T00:00:00",
          "2009-03-07T00:00:00",
          "2009-03-07T00:00:00",
          "2009-03-05T00:00:00",
          "2009-03-04T00:00:00",
          "2009-03-04T00:00:00",
          "2009-03-03T00:00:00",
          "2009-03-03T00:00:00",
          "2009-03-02T00:00:00",
          "2009-02-27T00:00:00",
          "2009-02-26T00:00:00",
          "2009-02-25T00:00:00",
          "2009-02-24T00:00:00",
          "2009-02-23T00:00:00",
          "2009-02-23T00:00:00",
          "2009-02-23T00:00:00",
          "2009-02-23T00:00:00",
          "2009-02-22T00:00:00",
          "2009-02-22T00:00:00",
          "2009-02-22T00:00:00",
          "2009-02-22T00:00:00",
          "2009-02-21T00:00:00",
          "2009-02-21T00:00:00",
          "2009-02-21T00:00:00",
          "2009-02-20T00:00:00",
          "2009-02-20T00:00:00",
          "2009-02-19T00:00:00",
          "2009-02-19T00:00:00",
          "2009-02-19T00:00:00",
          "2009-02-19T00:00:00",
          "2009-02-18T00:00:00",
          "2009-02-18T00:00:00",
          "2009-02-18T00:00:00",
          "2009-02-17T00:00:00",
          "2009-02-17T00:00:00",
          "2009-02-16T00:00:00",
          "2009-02-16T00:00:00",
          "2009-02-16T00:00:00",
          "2009-02-16T00:00:00",
          "2009-02-15T00:00:00",
          "2009-02-15T00:00:00",
          "2009-02-14T00:00:00",
          "2009-02-13T00:00:00",
          "2009-02-13T00:00:00",
          "2009-02-13T00:00:00",
          "2009-02-12T00:00:00",
          "2009-02-12T00:00:00",
          "2009-02-12T00:00:00",
          "2009-02-12T00:00:00",
          "2009-02-12T00:00:00",
          "2009-02-12T00:00:00",
          "2009-02-11T00:00:00",
          "2009-02-11T00:00:00",
          "2009-02-11T00:00:00",
          "2009-02-10T00:00:00",
          "2009-02-10T00:00:00",
          "2009-02-10T00:00:00",
          "2009-02-10T00:00:00",
          "2009-02-09T00:00:00",
          "2009-02-09T00:00:00",
          "2009-02-09T00:00:00",
          "2009-02-09T00:00:00",
          "2009-02-09T00:00:00",
          "2009-02-08T00:00:00",
          "2009-02-08T00:00:00",
          "2009-02-08T00:00:00",
          "2009-02-08T00:00:00",
          "2009-02-08T00:00:00",
          "2009-02-08T00:00:00",
          "2009-02-08T00:00:00",
          "2009-02-08T00:00:00",
          "2009-02-07T00:00:00",
          "2009-02-07T00:00:00",
          "2009-02-07T00:00:00",
          "2009-02-07T00:00:00",
          "2009-02-07T00:00:00",
          "2009-02-07T00:00:00",
          "2009-02-06T00:00:00",
          "2009-02-06T00:00:00",
          "2009-02-04T00:00:00",
          "2009-02-04T00:00:00",
          "2009-02-04T00:00:00",
          "2009-02-04T00:00:00",
          "2009-02-04T00:00:00",
          "2009-02-04T00:00:00",
          "2009-02-03T00:00:00",
          "2009-02-03T00:00:00",
          "2009-02-03T00:00:00",
          "2009-02-03T00:00:00",
          "2009-02-02T00:00:00",
          "2009-02-02T00:00:00",
          "2009-02-02T00:00:00",
          "2009-02-02T00:00:00",
          "2009-02-02T00:00:00",
          "2009-02-02T00:00:00",
          "2009-02-02T00:00:00",
          "2009-02-02T00:00:00",
          "2009-02-01T00:00:00",
          "2009-02-01T00:00:00",
          "2009-02-01T00:00:00",
          "2009-02-01T00:00:00",
          "2009-02-01T00:00:00",
          "2009-01-31T00:00:00",
          "2009-01-31T00:00:00",
          "2009-01-31T00:00:00",
          "2009-01-31T00:00:00",
          "2009-01-31T00:00:00",
          "2009-01-31T00:00:00",
          "2009-01-31T00:00:00",
          "2009-01-31T00:00:00",
          "2009-01-31T00:00:00",
          "2009-01-30T00:00:00",
          "2009-01-30T00:00:00",
          "2009-01-29T00:00:00",
          "2009-01-29T00:00:00",
          "2009-01-29T00:00:00",
          "2009-01-29T00:00:00",
          "2009-01-29T00:00:00",
          "2009-01-29T00:00:00",
          "2009-01-29T00:00:00",
          "2009-01-29T00:00:00",
          "2009-01-29T00:00:00",
          "2009-01-01T00:00:00",
          "2009-01-01T00:00:00",
          "2008-09-15T00:00:00",
          "2008-05-30T00:00:00",
          "2008-03-28T00:00:00"
         ],
         "xaxis": "x",
         "y": [
          435998,
          1492800,
          2923457,
          3228172,
          3022613,
          3199349,
          2500390,
          3057691,
          2294404,
          3608324,
          3099938,
          4101287,
          1933244,
          3197786,
          2307433,
          2694689,
          3205466,
          3687206,
          3471660,
          3266971,
          2853720,
          2619893,
          2812667,
          1880548,
          4589653,
          3106023,
          2134952,
          2994909,
          2491474,
          2753356,
          2091924,
          2420237,
          1720883,
          3682313,
          2498633,
          6203905,
          3392483,
          6421016,
          4198766,
          2243542,
          4439220,
          5364899,
          3867932,
          8502428,
          2936460,
          7298419,
          1793433,
          5777814,
          4636066,
          8218958,
          3196061,
          8045995,
          2219654,
          3026165,
          4381853,
          4615295,
          4025976,
          3018718,
          6047900,
          3148059,
          3857245,
          2550491,
          3355495,
          4304699,
          10898289,
          2664107,
          2845002,
          8175102,
          2990964,
          1946224,
          5175136,
          4924965,
          3532871,
          3998045,
          1552685,
          7550870,
          3716645,
          6113002,
          5167570,
          3798499,
          3536026,
          2964005,
          3210339,
          8440312,
          4874367,
          1109072,
          718533,
          781734,
          1527047,
          2369391,
          3315009,
          4300710,
          5581072,
          2614687,
          2185013,
          2232335,
          4354529,
          2925406,
          2880902,
          3521257,
          2725059,
          8850904,
          2574081,
          3556935,
          1635474,
          2343377,
          4347871,
          6223544,
          7462676,
          3384239,
          5983138,
          3569929,
          2917546,
          6088627,
          2322225,
          4549658,
          3695679,
          3138372,
          2197970,
          6740057,
          3434575,
          7274236,
          1830581,
          2927398,
          11954658,
          6369708,
          2574068,
          2961708,
          3610051,
          1688877,
          2774211,
          8338978,
          6825106,
          4778147,
          4150716,
          5658373,
          4952668,
          3517246,
          7848930,
          13652604,
          12172825,
          4370016,
          2745574,
          6852056,
          12546306,
          4815001,
          2210864,
          3796235,
          3207226,
          6742082,
          6930487,
          4377713,
          4869727,
          11013258,
          9787930,
          3989657,
          2361759,
          5294333,
          3549480,
          2761625,
          2811333,
          2556199,
          3468824,
          3034100,
          3472178,
          1847262,
          4628463,
          7634504,
          4760486,
          6081318,
          1706072,
          3587675,
          5704605,
          4314083,
          3597031,
          3509592,
          2768844,
          4147927,
          3892536,
          4181423,
          5043600,
          4470358,
          6080708,
          10411900,
          4767448,
          3109512,
          5690825,
          2591801,
          3834152,
          3717023,
          5629127,
          6648699,
          7103225,
          4162052,
          3658600,
          1988799,
          2384436,
          4246348,
          6847876,
          4464503,
          4162801,
          4048322,
          3967687,
          3383396,
          9563276,
          6666256,
          4281930,
          3403668,
          6446979,
          1584827,
          3881746,
          3713408,
          10170910,
          5563093,
          2807223,
          4162873,
          8698647,
          3056573,
          6935620,
          15600590,
          4106348,
          2245469,
          3059337,
          4437999,
          3622269,
          5912750,
          7405281,
          6175237,
          2443295,
          2541135,
          5489091,
          6777975,
          4259602,
          2168666,
          2560362,
          2163756,
          3953890,
          2827581,
          3836342,
          7009686,
          263303,
          3652406,
          2944284,
          2557526,
          471176,
          4509062,
          4936076,
          440408,
          2947794,
          1728297,
          367381,
          8756300,
          3268774,
          2582063,
          8596451,
          10447383,
          3277586,
          7654562,
          3234573,
          4421967,
          7011681,
          2469955,
          2689055,
          10520236,
          5517250,
          2581590,
          4326208,
          8158388,
          4256371,
          2918396,
          2475383,
          3250327,
          3595817,
          8434888,
          3588490,
          8663321,
          4586858,
          7858248,
          4229426,
          7733012,
          4783446,
          3320070,
          2804186,
          4718671,
          4939488,
          9349926,
          709569,
          7903810,
          7664390,
          4007768,
          9318634,
          3726137,
          4229946,
          3666713,
          3288573,
          5181698,
          3944490,
          2427188,
          2711961,
          2007076,
          5274511,
          5339488,
          4251247,
          7951787,
          2829937,
          3565704,
          7528004,
          4634959,
          6051985,
          8672339,
          2322074,
          1545906,
          3788446,
          3743795,
          34282288,
          16611058,
          23009027,
          5221381,
          2859940,
          2017708,
          3970521,
          3414568,
          6587178,
          2058279,
          2726470,
          4456639,
          6054715,
          5992561,
          2185529,
          4562383,
          3414537,
          10745547,
          3414566,
          2502580,
          3890626,
          5805260,
          3580953,
          5558671,
          3466007,
          1537547,
          5475737,
          3675386,
          4560693,
          2545285,
          931257,
          2315451,
          3559350,
          1469735,
          4068535,
          6119393,
          2556719,
          7712667,
          1839663,
          3028017,
          3290886,
          2805228,
          3886173,
          2721174,
          5398095,
          7637154,
          3015692,
          3761810,
          4888141,
          7361857,
          1565614,
          2415152,
          3892786,
          2660182,
          2016108,
          2372659,
          5170046,
          1860930,
          2735874,
          1647857,
          5284287,
          7062023,
          4976914,
          4431020,
          3155139,
          5581065,
          2693577,
          2684761,
          3852189,
          2017279,
          5229035,
          13401942,
          14229066,
          3556468,
          3850518,
          2398749,
          4471490,
          3797298,
          3066341,
          1303176,
          1978057,
          2100588,
          1415816,
          2984714,
          839495,
          6177272,
          1154176,
          1941783,
          2677922,
          1712488,
          3775350,
          1256516,
          2475814,
          21826363,
          2162952,
          3163108,
          2022676,
          1972325,
          2756692,
          1503115,
          2683540,
          5502540,
          4544584,
          1513380,
          954086,
          1357447,
          2652477,
          5790645,
          1785001,
          843894,
          8928129,
          2048891,
          1928861,
          2085482,
          6958727,
          2329519,
          1614717,
          4131212,
          882251,
          2314330,
          4409392,
          745123,
          2629880,
          2708124,
          2270176,
          3083189,
          1043399,
          4030610,
          1649954,
          1652847,
          1628080,
          1173718,
          1933138,
          4179350,
          3436091,
          2368544,
          3144472,
          911041,
          1641292,
          1073727,
          2250435,
          7353007,
          4085716,
          7511824,
          3478802,
          3570941,
          1596707,
          3545681,
          17324220,
          401442,
          6986153,
          1172371,
          2599986,
          1557989,
          3909360,
          3800915,
          5087825,
          1812168,
          3569435,
          2760180,
          3414701,
          996426,
          2222333,
          7432451,
          2602055,
          3092316,
          3402001,
          1174336,
          2441813,
          1725513,
          1505298,
          1001145,
          5998244,
          6290429,
          5227714,
          867265,
          4131788,
          4237887,
          1702420,
          811294,
          1248406,
          2097854,
          1692213,
          2039145,
          4894214,
          994580,
          6327361,
          3887711,
          4409269,
          3562771,
          1799339,
          1121101,
          1291761,
          873077,
          1656011,
          1215332,
          1260782,
          2700755,
          1411005,
          2029379,
          3535766,
          1728546,
          1999741,
          5327226,
          2728199,
          1074829,
          2115427,
          3636464,
          2938605,
          6690328,
          6264533,
          1225710,
          4123172,
          2341015,
          983106,
          4422136,
          1148496,
          2301415,
          2287168,
          1725133,
          1172064,
          899831,
          730131,
          1052015,
          1930614,
          4160480,
          972205,
          2146913,
          1013890,
          2108256,
          1250222,
          1061338,
          2322416,
          3091223,
          2370408,
          1054173,
          3431161,
          3556763,
          1716434,
          1608385,
          1771056,
          1251126,
          1465064,
          1839168,
          2434821,
          842760,
          3733523,
          1333871,
          1954238,
          2518470,
          2481152,
          6841439,
          4304054,
          1807540,
          2964069,
          1589902,
          2276122,
          9982172,
          5471919,
          3243360,
          2465618,
          2070146,
          1906727,
          10869598,
          6762034,
          1061888,
          1731873,
          2079400,
          845962,
          1297085,
          1413842,
          1345052,
          2224342,
          1531432,
          742925,
          1712233,
          873303,
          1026388,
          3172050,
          1245245,
          4532832,
          1013894,
          1558981,
          2061507,
          1304532,
          1217845,
          831786,
          1167539,
          2159830,
          1137921,
          992174,
          1807089,
          1443705,
          918357,
          5577882,
          2346911,
          950682,
          5451873,
          1742441,
          2979669,
          1925487,
          1449034,
          5690027,
          1558345,
          754402,
          1456877,
          1187725,
          1673629,
          640716,
          5768574,
          776836,
          1077917,
          1412681,
          694469,
          843101,
          927992,
          719215,
          2102409,
          1971961,
          2958816,
          823598,
          1822440,
          1240366,
          1894201,
          1686030,
          1858117,
          2512438,
          1827179,
          1719085,
          2198985,
          1079598,
          1332545,
          3993262,
          596689,
          1385718,
          1158557,
          1185676,
          1062986,
          7586472,
          2089079,
          1620366,
          2643965,
          4258524,
          2103090,
          7021807,
          945627,
          1327442,
          3346385,
          1587534,
          1543142,
          1457079,
          1144394,
          1294221,
          1237369,
          1667079,
          2159362,
          2112983,
          2095810,
          1199590,
          705135,
          1024465,
          1068686,
          820912,
          1337938,
          2818384,
          2341695,
          2037763,
          1109388,
          2227577,
          1637163,
          3035483,
          1073680,
          2456834,
          1299449,
          5638557,
          1228290,
          1324990,
          5677471,
          637688,
          1990460,
          1183337,
          1872011,
          1561448,
          772962,
          4741640,
          2766886,
          1051535,
          1136744,
          1570384,
          1697946,
          1090717,
          2002265,
          832302,
          854882,
          2846366,
          755250,
          854280,
          1056249,
          493014,
          1181423,
          1036999,
          705429,
          1163744,
          2825813,
          938632,
          2824929,
          1278879,
          663805,
          2827853,
          1644715,
          2482626,
          587506,
          1010613,
          803233,
          3000491,
          3298733,
          2410439,
          2149036,
          1159758,
          7465056,
          737748,
          1708484,
          840538,
          2419465,
          3447034,
          1802684,
          2282929,
          3019212,
          5598716,
          2263897,
          9692005,
          949621,
          1204631,
          1066778,
          671880,
          1009087,
          606240,
          1129279,
          397633,
          3197289,
          9208526,
          1250225,
          505282,
          1464554,
          1011723,
          394284,
          1328075,
          2813513,
          725930,
          869132,
          1220100,
          2057311,
          1526173,
          1314909,
          7618956,
          3674138,
          3274177,
          318857,
          926568,
          1497006,
          482597,
          579489,
          787211,
          703783,
          2008862,
          3629427,
          1207190,
          2149547,
          1148916,
          418776,
          458015,
          847835,
          683666,
          3573262,
          336416,
          1849226,
          2335199,
          498213,
          443219,
          352988,
          342035,
          745519,
          339547,
          749395,
          607235,
          662268,
          695875,
          544164,
          291879,
          202247,
          233312,
          349937,
          384870,
          267829,
          765041,
          852002,
          739086,
          358916,
          1926802,
          498268,
          2614088,
          2619604,
          661351,
          2162204,
          8099373,
          1311121,
          1971511,
          2641271,
          541552,
          562225,
          1925861,
          1095587,
          1208374,
          1104579,
          620722,
          2076509,
          9971750,
          318357,
          3994490,
          258575,
          2628893,
          1001172,
          1247251,
          361528,
          426328,
          6175857,
          473771,
          3067537,
          4693725,
          857218,
          2005029,
          1070997,
          699271,
          540111,
          3872799,
          371529,
          707257,
          143643,
          312143,
          733630,
          2621071,
          206388,
          972280,
          1169570,
          498657,
          1204721,
          617047,
          208292,
          624287,
          1434290,
          583156,
          1868410,
          183249,
          261012,
          115254,
          953239,
          2268169,
          1771731,
          87537,
          219189,
          649123,
          159452,
          1238010,
          1270128,
          311593,
          443088,
          437743,
          463072,
          153877,
          601941,
          677843,
          1927974,
          522785,
          949647,
          187957,
          368605,
          3110324,
          71598,
          3783375,
          670324,
          250673,
          719150,
          579625,
          523531,
          618030,
          1038652,
          76407,
          1276726,
          71208,
          85341,
          100717,
          379229,
          553139,
          270251,
          274893,
          664750,
          129680,
          39021,
          103940,
          900262,
          79677,
          284970,
          411598,
          877030,
          212850,
          150208,
          151916,
          176930,
          563233,
          503001,
          66623,
          144000,
          170284,
          89133,
          100756,
          1159379,
          202561,
          4687291,
          82450,
          52993,
          59510,
          161788,
          101581,
          397310,
          168345,
          77957,
          155314,
          154199,
          66996,
          519191,
          85752,
          357703,
          78689,
          927495,
          190056,
          1450695,
          69624,
          77946,
          97080,
          38658,
          575728,
          1054631,
          42426,
          540158,
          75048,
          1084816,
          24928,
          916155,
          142047,
          90146,
          238415,
          601234,
          359378,
          175020,
          60549,
          343643,
          756750,
          470296,
          27295,
          68453,
          70938,
          397496,
          133938,
          288339,
          249014,
          21045,
          1656811,
          119089,
          137207,
          652761,
          41962,
          223533,
          84004,
          363725,
          66986,
          2307802,
          491245,
          55002,
          389568,
          392383,
          194490,
          118194,
          639429,
          128634,
          194622,
          278240,
          62801,
          70546,
          41166,
          39066,
          53946,
          682562,
          26499,
          65222,
          60530,
          40557,
          43025,
          29963,
          23812,
          6862,
          42775,
          10599,
          46359,
          176107,
          9853,
          65566,
          49499,
          570302,
          8736,
          33130,
          96280,
          205220,
          15092,
          66945,
          295072,
          19414,
          203801,
          28237,
          64916,
          58311,
          39890,
          123605,
          8765,
          24508,
          917307,
          41090,
          73504,
          53430,
          114692,
          56930,
          86940,
          44103,
          78121,
          304464,
          60232,
          33442,
          35369,
          22578,
          43844,
          161075,
          30519,
          97898,
          16956,
          16871,
          76248,
          265408,
          52379,
          37806,
          41010,
          218406,
          69220,
          33757,
          140687,
          14820,
          5553,
          76322,
          18728,
          24257,
          45771,
          12865,
          4861,
          6422,
          4620,
          8393,
          13777,
          17926,
          6131,
          7078,
          19299,
          8245,
          11332,
          356421,
          47662,
          32110,
          4979,
          19935,
          21522,
          72967,
          218011,
          9456,
          70316,
          37229,
          43359,
          544094,
          21459,
          12782,
          34093,
          24055,
          13072,
          10999,
          6823,
          154188,
          90588,
          49897,
          28770,
          8179,
          12467,
          12040,
          13423,
          25564,
          15016,
          11127,
          22628,
          92703,
          10963,
          19373,
          87078,
          14825,
          16146,
          12842,
          22844,
          14805,
          65084,
          14695,
          9097,
          14779,
          70188,
          59995,
          7291,
          290036,
          6186689,
          27702,
          4350,
          15756,
          40668,
          34117,
          16533,
          10855,
          7919,
          4206,
          7403,
          16786,
          14066,
          18658,
          34713,
          7025,
          44273,
          46781,
          6254,
          23946,
          6975,
          54526,
          5526,
          19097,
          8790,
          5649,
          27495,
          16264,
          41224,
          19900,
          44756,
          11322,
          6693,
          10105,
          3482,
          6493,
          12816,
          5688,
          10694,
          8720,
          27137,
          38358,
          9485,
          21064,
          20902,
          3136,
          8002,
          45664,
          8443,
          40351,
          6880,
          10002,
          27684,
          3688,
          19526,
          4792,
          3871,
          5349,
          28375,
          12901,
          3226,
          13020,
          62525,
          127939,
          16110,
          3292,
          4181,
          6455,
          70444,
          8479,
          3748,
          6219,
          6296,
          4514,
          3143,
          3819,
          6136,
          8964,
          6853,
          9297,
          2774,
          4408,
          10643,
          20815,
          8046,
          17580,
          6457,
          4894,
          11882,
          22791,
          40700,
          12874,
          5829,
          10626,
          6030,
          11748,
          5530,
          4284,
          11088,
          5661,
          5770,
          8290,
          14715,
          11143,
          5505,
          2287,
          9413,
          27353,
          14669,
          7346,
          3326,
          14199,
          12137,
          19936,
          2492,
          2570,
          11950,
          17320,
          4758,
          2576,
          14097,
          22829,
          7618,
          27194,
          18594,
          8263,
          6156,
          2032,
          41284,
          22626,
          3780,
          27407,
          4292,
          2484,
          8524,
          5517,
          25996,
          4450,
          20028,
          23083,
          11076,
          25154,
          24760,
          9143,
          2701,
          9977,
          14537,
          17348,
          25781,
          4175,
          22168,
          10269,
          3460,
          15200,
          4866,
          9138,
          2228,
          8739,
          9395,
          6506,
          5462,
          9068,
          3078,
          4576,
          61976,
          31746,
          35430,
          5943,
          2731,
          8330,
          3301,
          6261,
          3043,
          16021,
          16763,
          2617,
          3501,
          14152,
          14243,
          8471,
          6331,
          2080,
          27225,
          1491244,
          2044,
          2777,
          3571,
          56335,
          1951,
          4189,
          3221,
          3100,
          70993,
          6436,
          80198,
          35447,
          9359,
          1926,
          24638,
          2727,
          53693,
          2548,
          5097,
          3260,
          6921,
          5314,
          2277,
          8787,
          24900,
          3932,
          13140,
          7517,
          2338,
          2955,
          4974,
          2014,
          16393,
          6868,
          2630,
          7741,
          3920,
          2788,
          4869,
          3478,
          2198,
          3034,
          2237,
          10906,
          2685,
          39972,
          8671,
          3252,
          3061,
          14041,
          7156,
          2269,
          4276,
          4858,
          4139,
          6411,
          4331,
          21345,
          4283,
          4478,
          2554,
          5564,
          4235,
          5137,
          3544,
          5424,
          24247,
          5531,
          234839,
          4520,
          4178,
          4673,
          4757,
          10583,
          24294,
          7520,
          22040,
          5515,
          79587,
          7731,
          11015,
          53088,
          16112,
          16029,
          10194,
          20194,
          9556,
          21451,
          90813,
          69439,
          130044,
          4640300,
          179533,
          175876,
          781563
         ],
         "yaxis": "y"
        }
       ],
       "layout": {
        "legend": {
         "tracegroupgap": 0
        },
        "template": {
         "data": {
          "bar": [
           {
            "error_x": {
             "color": "#2a3f5f"
            },
            "error_y": {
             "color": "#2a3f5f"
            },
            "marker": {
             "line": {
              "color": "#E5ECF6",
              "width": 0.5
             },
             "pattern": {
              "fillmode": "overlay",
              "size": 10,
              "solidity": 0.2
             }
            },
            "type": "bar"
           }
          ],
          "barpolar": [
           {
            "marker": {
             "line": {
              "color": "#E5ECF6",
              "width": 0.5
             },
             "pattern": {
              "fillmode": "overlay",
              "size": 10,
              "solidity": 0.2
             }
            },
            "type": "barpolar"
           }
          ],
          "carpet": [
           {
            "aaxis": {
             "endlinecolor": "#2a3f5f",
             "gridcolor": "white",
             "linecolor": "white",
             "minorgridcolor": "white",
             "startlinecolor": "#2a3f5f"
            },
            "baxis": {
             "endlinecolor": "#2a3f5f",
             "gridcolor": "white",
             "linecolor": "white",
             "minorgridcolor": "white",
             "startlinecolor": "#2a3f5f"
            },
            "type": "carpet"
           }
          ],
          "choropleth": [
           {
            "colorbar": {
             "outlinewidth": 0,
             "ticks": ""
            },
            "type": "choropleth"
           }
          ],
          "contour": [
           {
            "colorbar": {
             "outlinewidth": 0,
             "ticks": ""
            },
            "colorscale": [
             [
              0,
              "#0d0887"
             ],
             [
              0.1111111111111111,
              "#46039f"
             ],
             [
              0.2222222222222222,
              "#7201a8"
             ],
             [
              0.3333333333333333,
              "#9c179e"
             ],
             [
              0.4444444444444444,
              "#bd3786"
             ],
             [
              0.5555555555555556,
              "#d8576b"
             ],
             [
              0.6666666666666666,
              "#ed7953"
             ],
             [
              0.7777777777777778,
              "#fb9f3a"
             ],
             [
              0.8888888888888888,
              "#fdca26"
             ],
             [
              1,
              "#f0f921"
             ]
            ],
            "type": "contour"
           }
          ],
          "contourcarpet": [
           {
            "colorbar": {
             "outlinewidth": 0,
             "ticks": ""
            },
            "type": "contourcarpet"
           }
          ],
          "heatmap": [
           {
            "colorbar": {
             "outlinewidth": 0,
             "ticks": ""
            },
            "colorscale": [
             [
              0,
              "#0d0887"
             ],
             [
              0.1111111111111111,
              "#46039f"
             ],
             [
              0.2222222222222222,
              "#7201a8"
             ],
             [
              0.3333333333333333,
              "#9c179e"
             ],
             [
              0.4444444444444444,
              "#bd3786"
             ],
             [
              0.5555555555555556,
              "#d8576b"
             ],
             [
              0.6666666666666666,
              "#ed7953"
             ],
             [
              0.7777777777777778,
              "#fb9f3a"
             ],
             [
              0.8888888888888888,
              "#fdca26"
             ],
             [
              1,
              "#f0f921"
             ]
            ],
            "type": "heatmap"
           }
          ],
          "heatmapgl": [
           {
            "colorbar": {
             "outlinewidth": 0,
             "ticks": ""
            },
            "colorscale": [
             [
              0,
              "#0d0887"
             ],
             [
              0.1111111111111111,
              "#46039f"
             ],
             [
              0.2222222222222222,
              "#7201a8"
             ],
             [
              0.3333333333333333,
              "#9c179e"
             ],
             [
              0.4444444444444444,
              "#bd3786"
             ],
             [
              0.5555555555555556,
              "#d8576b"
             ],
             [
              0.6666666666666666,
              "#ed7953"
             ],
             [
              0.7777777777777778,
              "#fb9f3a"
             ],
             [
              0.8888888888888888,
              "#fdca26"
             ],
             [
              1,
              "#f0f921"
             ]
            ],
            "type": "heatmapgl"
           }
          ],
          "histogram": [
           {
            "marker": {
             "pattern": {
              "fillmode": "overlay",
              "size": 10,
              "solidity": 0.2
             }
            },
            "type": "histogram"
           }
          ],
          "histogram2d": [
           {
            "colorbar": {
             "outlinewidth": 0,
             "ticks": ""
            },
            "colorscale": [
             [
              0,
              "#0d0887"
             ],
             [
              0.1111111111111111,
              "#46039f"
             ],
             [
              0.2222222222222222,
              "#7201a8"
             ],
             [
              0.3333333333333333,
              "#9c179e"
             ],
             [
              0.4444444444444444,
              "#bd3786"
             ],
             [
              0.5555555555555556,
              "#d8576b"
             ],
             [
              0.6666666666666666,
              "#ed7953"
             ],
             [
              0.7777777777777778,
              "#fb9f3a"
             ],
             [
              0.8888888888888888,
              "#fdca26"
             ],
             [
              1,
              "#f0f921"
             ]
            ],
            "type": "histogram2d"
           }
          ],
          "histogram2dcontour": [
           {
            "colorbar": {
             "outlinewidth": 0,
             "ticks": ""
            },
            "colorscale": [
             [
              0,
              "#0d0887"
             ],
             [
              0.1111111111111111,
              "#46039f"
             ],
             [
              0.2222222222222222,
              "#7201a8"
             ],
             [
              0.3333333333333333,
              "#9c179e"
             ],
             [
              0.4444444444444444,
              "#bd3786"
             ],
             [
              0.5555555555555556,
              "#d8576b"
             ],
             [
              0.6666666666666666,
              "#ed7953"
             ],
             [
              0.7777777777777778,
              "#fb9f3a"
             ],
             [
              0.8888888888888888,
              "#fdca26"
             ],
             [
              1,
              "#f0f921"
             ]
            ],
            "type": "histogram2dcontour"
           }
          ],
          "mesh3d": [
           {
            "colorbar": {
             "outlinewidth": 0,
             "ticks": ""
            },
            "type": "mesh3d"
           }
          ],
          "parcoords": [
           {
            "line": {
             "colorbar": {
              "outlinewidth": 0,
              "ticks": ""
             }
            },
            "type": "parcoords"
           }
          ],
          "pie": [
           {
            "automargin": true,
            "type": "pie"
           }
          ],
          "scatter": [
           {
            "marker": {
             "colorbar": {
              "outlinewidth": 0,
              "ticks": ""
             }
            },
            "type": "scatter"
           }
          ],
          "scatter3d": [
           {
            "line": {
             "colorbar": {
              "outlinewidth": 0,
              "ticks": ""
             }
            },
            "marker": {
             "colorbar": {
              "outlinewidth": 0,
              "ticks": ""
             }
            },
            "type": "scatter3d"
           }
          ],
          "scattercarpet": [
           {
            "marker": {
             "colorbar": {
              "outlinewidth": 0,
              "ticks": ""
             }
            },
            "type": "scattercarpet"
           }
          ],
          "scattergeo": [
           {
            "marker": {
             "colorbar": {
              "outlinewidth": 0,
              "ticks": ""
             }
            },
            "type": "scattergeo"
           }
          ],
          "scattergl": [
           {
            "marker": {
             "colorbar": {
              "outlinewidth": 0,
              "ticks": ""
             }
            },
            "type": "scattergl"
           }
          ],
          "scattermapbox": [
           {
            "marker": {
             "colorbar": {
              "outlinewidth": 0,
              "ticks": ""
             }
            },
            "type": "scattermapbox"
           }
          ],
          "scatterpolar": [
           {
            "marker": {
             "colorbar": {
              "outlinewidth": 0,
              "ticks": ""
             }
            },
            "type": "scatterpolar"
           }
          ],
          "scatterpolargl": [
           {
            "marker": {
             "colorbar": {
              "outlinewidth": 0,
              "ticks": ""
             }
            },
            "type": "scatterpolargl"
           }
          ],
          "scatterternary": [
           {
            "marker": {
             "colorbar": {
              "outlinewidth": 0,
              "ticks": ""
             }
            },
            "type": "scatterternary"
           }
          ],
          "surface": [
           {
            "colorbar": {
             "outlinewidth": 0,
             "ticks": ""
            },
            "colorscale": [
             [
              0,
              "#0d0887"
             ],
             [
              0.1111111111111111,
              "#46039f"
             ],
             [
              0.2222222222222222,
              "#7201a8"
             ],
             [
              0.3333333333333333,
              "#9c179e"
             ],
             [
              0.4444444444444444,
              "#bd3786"
             ],
             [
              0.5555555555555556,
              "#d8576b"
             ],
             [
              0.6666666666666666,
              "#ed7953"
             ],
             [
              0.7777777777777778,
              "#fb9f3a"
             ],
             [
              0.8888888888888888,
              "#fdca26"
             ],
             [
              1,
              "#f0f921"
             ]
            ],
            "type": "surface"
           }
          ],
          "table": [
           {
            "cells": {
             "fill": {
              "color": "#EBF0F8"
             },
             "line": {
              "color": "white"
             }
            },
            "header": {
             "fill": {
              "color": "#C8D4E3"
             },
             "line": {
              "color": "white"
             }
            },
            "type": "table"
           }
          ]
         },
         "layout": {
          "annotationdefaults": {
           "arrowcolor": "#2a3f5f",
           "arrowhead": 0,
           "arrowwidth": 1
          },
          "autotypenumbers": "strict",
          "coloraxis": {
           "colorbar": {
            "outlinewidth": 0,
            "ticks": ""
           }
          },
          "colorscale": {
           "diverging": [
            [
             0,
             "#8e0152"
            ],
            [
             0.1,
             "#c51b7d"
            ],
            [
             0.2,
             "#de77ae"
            ],
            [
             0.3,
             "#f1b6da"
            ],
            [
             0.4,
             "#fde0ef"
            ],
            [
             0.5,
             "#f7f7f7"
            ],
            [
             0.6,
             "#e6f5d0"
            ],
            [
             0.7,
             "#b8e186"
            ],
            [
             0.8,
             "#7fbc41"
            ],
            [
             0.9,
             "#4d9221"
            ],
            [
             1,
             "#276419"
            ]
           ],
           "sequential": [
            [
             0,
             "#0d0887"
            ],
            [
             0.1111111111111111,
             "#46039f"
            ],
            [
             0.2222222222222222,
             "#7201a8"
            ],
            [
             0.3333333333333333,
             "#9c179e"
            ],
            [
             0.4444444444444444,
             "#bd3786"
            ],
            [
             0.5555555555555556,
             "#d8576b"
            ],
            [
             0.6666666666666666,
             "#ed7953"
            ],
            [
             0.7777777777777778,
             "#fb9f3a"
            ],
            [
             0.8888888888888888,
             "#fdca26"
            ],
            [
             1,
             "#f0f921"
            ]
           ],
           "sequentialminus": [
            [
             0,
             "#0d0887"
            ],
            [
             0.1111111111111111,
             "#46039f"
            ],
            [
             0.2222222222222222,
             "#7201a8"
            ],
            [
             0.3333333333333333,
             "#9c179e"
            ],
            [
             0.4444444444444444,
             "#bd3786"
            ],
            [
             0.5555555555555556,
             "#d8576b"
            ],
            [
             0.6666666666666666,
             "#ed7953"
            ],
            [
             0.7777777777777778,
             "#fb9f3a"
            ],
            [
             0.8888888888888888,
             "#fdca26"
            ],
            [
             1,
             "#f0f921"
            ]
           ]
          },
          "colorway": [
           "#636efa",
           "#EF553B",
           "#00cc96",
           "#ab63fa",
           "#FFA15A",
           "#19d3f3",
           "#FF6692",
           "#B6E880",
           "#FF97FF",
           "#FECB52"
          ],
          "font": {
           "color": "#2a3f5f"
          },
          "geo": {
           "bgcolor": "white",
           "lakecolor": "white",
           "landcolor": "#E5ECF6",
           "showlakes": true,
           "showland": true,
           "subunitcolor": "white"
          },
          "hoverlabel": {
           "align": "left"
          },
          "hovermode": "closest",
          "mapbox": {
           "style": "light"
          },
          "paper_bgcolor": "white",
          "plot_bgcolor": "#E5ECF6",
          "polar": {
           "angularaxis": {
            "gridcolor": "white",
            "linecolor": "white",
            "ticks": ""
           },
           "bgcolor": "#E5ECF6",
           "radialaxis": {
            "gridcolor": "white",
            "linecolor": "white",
            "ticks": ""
           }
          },
          "scene": {
           "xaxis": {
            "backgroundcolor": "#E5ECF6",
            "gridcolor": "white",
            "gridwidth": 2,
            "linecolor": "white",
            "showbackground": true,
            "ticks": "",
            "zerolinecolor": "white"
           },
           "yaxis": {
            "backgroundcolor": "#E5ECF6",
            "gridcolor": "white",
            "gridwidth": 2,
            "linecolor": "white",
            "showbackground": true,
            "ticks": "",
            "zerolinecolor": "white"
           },
           "zaxis": {
            "backgroundcolor": "#E5ECF6",
            "gridcolor": "white",
            "gridwidth": 2,
            "linecolor": "white",
            "showbackground": true,
            "ticks": "",
            "zerolinecolor": "white"
           }
          },
          "shapedefaults": {
           "line": {
            "color": "#2a3f5f"
           }
          },
          "ternary": {
           "aaxis": {
            "gridcolor": "white",
            "linecolor": "white",
            "ticks": ""
           },
           "baxis": {
            "gridcolor": "white",
            "linecolor": "white",
            "ticks": ""
           },
           "bgcolor": "#E5ECF6",
           "caxis": {
            "gridcolor": "white",
            "linecolor": "white",
            "ticks": ""
           }
          },
          "title": {
           "x": 0.05
          },
          "xaxis": {
           "automargin": true,
           "gridcolor": "white",
           "linecolor": "white",
           "ticks": "",
           "title": {
            "standoff": 15
           },
           "zerolinecolor": "white",
           "zerolinewidth": 2
          },
          "yaxis": {
           "automargin": true,
           "gridcolor": "white",
           "linecolor": "white",
           "ticks": "",
           "title": {
            "standoff": 15
           },
           "zerolinecolor": "white",
           "zerolinewidth": 2
          }
         }
        },
        "title": {
         "text": "Number of views per year"
        },
        "xaxis": {
         "anchor": "y",
         "domain": [
          0,
          1
         ],
         "title": {
          "text": "Date"
         }
        },
        "yaxis": {
         "anchor": "x",
         "domain": [
          0,
          1
         ],
         "title": {
          "text": "Views"
         }
        }
       }
      }
     },
     "metadata": {},
     "output_type": "display_data"
    }
   ],
   "source": [
    "px.line(df,y='Views',x='Date',title='Number of views per year',hover_data=['Title'])"
   ]
  },
  {
   "cell_type": "markdown",
   "metadata": {},
   "source": [
    "We can see the same pattern as for the likes"
   ]
  },
  {
   "cell_type": "code",
   "execution_count": 33,
   "metadata": {},
   "outputs": [
    {
     "data": {
      "text/html": [
       "<div>\n",
       "<style scoped>\n",
       "    .dataframe tbody tr th:only-of-type {\n",
       "        vertical-align: middle;\n",
       "    }\n",
       "\n",
       "    .dataframe tbody tr th {\n",
       "        vertical-align: top;\n",
       "    }\n",
       "\n",
       "    .dataframe thead th {\n",
       "        text-align: right;\n",
       "    }\n",
       "</style>\n",
       "<table border=\"1\" class=\"dataframe\">\n",
       "  <thead>\n",
       "    <tr style=\"text-align: right;\">\n",
       "      <th></th>\n",
       "      <th>Title</th>\n",
       "      <th>Views</th>\n",
       "      <th>Date</th>\n",
       "      <th>Likes</th>\n",
       "      <th>Comments</th>\n",
       "      <th>Link</th>\n",
       "    </tr>\n",
       "  </thead>\n",
       "  <tbody>\n",
       "    <tr>\n",
       "      <th>314</th>\n",
       "      <td>Retro Tech: Game Boy</td>\n",
       "      <td>34282288</td>\n",
       "      <td>2019-04-19</td>\n",
       "      <td>202456</td>\n",
       "      <td>14128</td>\n",
       "      <td>youtube.com/watch?v=Oy8zSYKkczI</td>\n",
       "    </tr>\n",
       "    <tr>\n",
       "      <th>316</th>\n",
       "      <td>Samsung Galaxy Fold Unboxing: Magnets!</td>\n",
       "      <td>23009027</td>\n",
       "      <td>2019-04-16</td>\n",
       "      <td>351793</td>\n",
       "      <td>11685</td>\n",
       "      <td>youtube.com/watch?v=x4yF3a3Zn4Y</td>\n",
       "    </tr>\n",
       "    <tr>\n",
       "      <th>407</th>\n",
       "      <td>OnePlus 6 Review: Right On the Money!</td>\n",
       "      <td>21826363</td>\n",
       "      <td>2018-05-25</td>\n",
       "      <td>111404</td>\n",
       "      <td>9493</td>\n",
       "      <td>youtube.com/watch?v=0PrUr3bQdwM</td>\n",
       "    </tr>\n",
       "    <tr>\n",
       "      <th>462</th>\n",
       "      <td>Apple iPhone X Unboxing!</td>\n",
       "      <td>17324220</td>\n",
       "      <td>2017-10-31</td>\n",
       "      <td>295967</td>\n",
       "      <td>23880</td>\n",
       "      <td>youtube.com/watch?v=l0DoQYGZt8M</td>\n",
       "    </tr>\n",
       "    <tr>\n",
       "      <th>315</th>\n",
       "      <td>The Broken Galaxy Folds: Explained!</td>\n",
       "      <td>16611058</td>\n",
       "      <td>2019-04-18</td>\n",
       "      <td>336113</td>\n",
       "      <td>30847</td>\n",
       "      <td>youtube.com/watch?v=vtqtyyGZvXM</td>\n",
       "    </tr>\n",
       "    <tr>\n",
       "      <th>219</th>\n",
       "      <td>Xiaomi Mi Mix Alpha Impressions: The Wraparoun...</td>\n",
       "      <td>15600590</td>\n",
       "      <td>2020-02-28</td>\n",
       "      <td>390327</td>\n",
       "      <td>23535</td>\n",
       "      <td>youtube.com/watch?v=PTpoj4f25dk</td>\n",
       "    </tr>\n",
       "    <tr>\n",
       "      <th>386</th>\n",
       "      <td>Talking Tech with Elon Musk!</td>\n",
       "      <td>14229066</td>\n",
       "      <td>2018-08-17</td>\n",
       "      <td>531345</td>\n",
       "      <td>27850</td>\n",
       "      <td>youtube.com/watch?v=MevKTPN4ozw</td>\n",
       "    </tr>\n",
       "    <tr>\n",
       "      <th>139</th>\n",
       "      <td>PlayStation 5 Unboxing &amp; Accessories!</td>\n",
       "      <td>13652604</td>\n",
       "      <td>2020-10-27</td>\n",
       "      <td>580105</td>\n",
       "      <td>40834</td>\n",
       "      <td>youtube.com/watch?v=QtMzV73NAgk</td>\n",
       "    </tr>\n",
       "    <tr>\n",
       "      <th>385</th>\n",
       "      <td>Tesla Factory Tour with Elon Musk!</td>\n",
       "      <td>13401942</td>\n",
       "      <td>2018-08-20</td>\n",
       "      <td>391474</td>\n",
       "      <td>19384</td>\n",
       "      <td>youtube.com/watch?v=mr9kK0_7x08</td>\n",
       "    </tr>\n",
       "    <tr>\n",
       "      <th>144</th>\n",
       "      <td>iPhone 12 Unboxing Experience + MagSafe Demo!</td>\n",
       "      <td>12546306</td>\n",
       "      <td>2020-10-20</td>\n",
       "      <td>431428</td>\n",
       "      <td>34317</td>\n",
       "      <td>youtube.com/watch?v=Sx6dAx7dnXg</td>\n",
       "    </tr>\n",
       "    <tr>\n",
       "      <th>140</th>\n",
       "      <td>iPhone 12 Review: Just Got Real!</td>\n",
       "      <td>12172825</td>\n",
       "      <td>2020-10-25</td>\n",
       "      <td>309617</td>\n",
       "      <td>21464</td>\n",
       "      <td>youtube.com/watch?v=X1b3C2081-Q</td>\n",
       "    </tr>\n",
       "    <tr>\n",
       "      <th>124</th>\n",
       "      <td>AirPods Max Unboxing &amp; Impressions: $550?!</td>\n",
       "      <td>11954658</td>\n",
       "      <td>2020-12-10</td>\n",
       "      <td>405425</td>\n",
       "      <td>46641</td>\n",
       "      <td>youtube.com/watch?v=UdfSrJvqY_E</td>\n",
       "    </tr>\n",
       "    <tr>\n",
       "      <th>153</th>\n",
       "      <td>The Ultimate iOS 14 Homescreen Setup Guide!</td>\n",
       "      <td>11013258</td>\n",
       "      <td>2020-09-24</td>\n",
       "      <td>297461</td>\n",
       "      <td>13410</td>\n",
       "      <td>youtube.com/watch?v=cH66LWWluVE</td>\n",
       "    </tr>\n",
       "    <tr>\n",
       "      <th>64</th>\n",
       "      <td>Tesla Model S PLAID Impressions: Re-Inventing ...</td>\n",
       "      <td>10898289</td>\n",
       "      <td>2021-07-22</td>\n",
       "      <td>279913</td>\n",
       "      <td>18997</td>\n",
       "      <td>youtube.com/watch?v=DyKQ7qtTJag</td>\n",
       "    </tr>\n",
       "    <tr>\n",
       "      <th>577</th>\n",
       "      <td>iPhone 7 Unboxing: Jet Black vs Matte Black!</td>\n",
       "      <td>10869598</td>\n",
       "      <td>2016-09-14</td>\n",
       "      <td>121065</td>\n",
       "      <td>10468</td>\n",
       "      <td>youtube.com/watch?v=J5HtSy5bATk</td>\n",
       "    </tr>\n",
       "    <tr>\n",
       "      <th>331</th>\n",
       "      <td>Samsung Galaxy S10 Impressions!</td>\n",
       "      <td>10745547</td>\n",
       "      <td>2019-02-20</td>\n",
       "      <td>231592</td>\n",
       "      <td>25033</td>\n",
       "      <td>youtube.com/watch?v=t9R7xx0joOU</td>\n",
       "    </tr>\n",
       "    <tr>\n",
       "      <th>263</th>\n",
       "      <td>AirPods Pro Unboxing &amp; Impressions!</td>\n",
       "      <td>10520236</td>\n",
       "      <td>2019-10-29</td>\n",
       "      <td>268137</td>\n",
       "      <td>18926</td>\n",
       "      <td>youtube.com/watch?v=MrUhzYdcX6w</td>\n",
       "    </tr>\n",
       "    <tr>\n",
       "      <th>255</th>\n",
       "      <td>Tesla CyberTruck Impressions &amp; First Drive!</td>\n",
       "      <td>10447383</td>\n",
       "      <td>2019-11-22</td>\n",
       "      <td>225399</td>\n",
       "      <td>35488</td>\n",
       "      <td>youtube.com/watch?v=oTZ84U-K_5k</td>\n",
       "    </tr>\n",
       "    <tr>\n",
       "      <th>183</th>\n",
       "      <td>iOS 14 Hands-On: Everything New!</td>\n",
       "      <td>10411900</td>\n",
       "      <td>2020-06-23</td>\n",
       "      <td>320297</td>\n",
       "      <td>25558</td>\n",
       "      <td>youtube.com/watch?v=ZLyDvABxGF0</td>\n",
       "    </tr>\n",
       "    <tr>\n",
       "      <th>212</th>\n",
       "      <td>2020 iPad Pro Review: It's... A Computer?!</td>\n",
       "      <td>10170910</td>\n",
       "      <td>2020-03-24</td>\n",
       "      <td>243682</td>\n",
       "      <td>13241</td>\n",
       "      <td>youtube.com/watch?v=x_R-qzjZrKQ</td>\n",
       "    </tr>\n",
       "  </tbody>\n",
       "</table>\n",
       "</div>"
      ],
      "text/plain": [
       "                                                 Title     Views       Date  \\\n",
       "314                               Retro Tech: Game Boy  34282288 2019-04-19   \n",
       "316             Samsung Galaxy Fold Unboxing: Magnets!  23009027 2019-04-16   \n",
       "407              OnePlus 6 Review: Right On the Money!  21826363 2018-05-25   \n",
       "462                           Apple iPhone X Unboxing!  17324220 2017-10-31   \n",
       "315                The Broken Galaxy Folds: Explained!  16611058 2019-04-18   \n",
       "219  Xiaomi Mi Mix Alpha Impressions: The Wraparoun...  15600590 2020-02-28   \n",
       "386                       Talking Tech with Elon Musk!  14229066 2018-08-17   \n",
       "139              PlayStation 5 Unboxing & Accessories!  13652604 2020-10-27   \n",
       "385                 Tesla Factory Tour with Elon Musk!  13401942 2018-08-20   \n",
       "144      iPhone 12 Unboxing Experience + MagSafe Demo!  12546306 2020-10-20   \n",
       "140                   iPhone 12 Review: Just Got Real!  12172825 2020-10-25   \n",
       "124         AirPods Max Unboxing & Impressions: $550?!  11954658 2020-12-10   \n",
       "153        The Ultimate iOS 14 Homescreen Setup Guide!  11013258 2020-09-24   \n",
       "64   Tesla Model S PLAID Impressions: Re-Inventing ...  10898289 2021-07-22   \n",
       "577       iPhone 7 Unboxing: Jet Black vs Matte Black!  10869598 2016-09-14   \n",
       "331                    Samsung Galaxy S10 Impressions!  10745547 2019-02-20   \n",
       "263                AirPods Pro Unboxing & Impressions!  10520236 2019-10-29   \n",
       "255        Tesla CyberTruck Impressions & First Drive!  10447383 2019-11-22   \n",
       "183                   iOS 14 Hands-On: Everything New!  10411900 2020-06-23   \n",
       "212         2020 iPad Pro Review: It's... A Computer?!  10170910 2020-03-24   \n",
       "\n",
       "      Likes  Comments                             Link  \n",
       "314  202456     14128  youtube.com/watch?v=Oy8zSYKkczI  \n",
       "316  351793     11685  youtube.com/watch?v=x4yF3a3Zn4Y  \n",
       "407  111404      9493  youtube.com/watch?v=0PrUr3bQdwM  \n",
       "462  295967     23880  youtube.com/watch?v=l0DoQYGZt8M  \n",
       "315  336113     30847  youtube.com/watch?v=vtqtyyGZvXM  \n",
       "219  390327     23535  youtube.com/watch?v=PTpoj4f25dk  \n",
       "386  531345     27850  youtube.com/watch?v=MevKTPN4ozw  \n",
       "139  580105     40834  youtube.com/watch?v=QtMzV73NAgk  \n",
       "385  391474     19384  youtube.com/watch?v=mr9kK0_7x08  \n",
       "144  431428     34317  youtube.com/watch?v=Sx6dAx7dnXg  \n",
       "140  309617     21464  youtube.com/watch?v=X1b3C2081-Q  \n",
       "124  405425     46641  youtube.com/watch?v=UdfSrJvqY_E  \n",
       "153  297461     13410  youtube.com/watch?v=cH66LWWluVE  \n",
       "64   279913     18997  youtube.com/watch?v=DyKQ7qtTJag  \n",
       "577  121065     10468  youtube.com/watch?v=J5HtSy5bATk  \n",
       "331  231592     25033  youtube.com/watch?v=t9R7xx0joOU  \n",
       "263  268137     18926  youtube.com/watch?v=MrUhzYdcX6w  \n",
       "255  225399     35488  youtube.com/watch?v=oTZ84U-K_5k  \n",
       "183  320297     25558  youtube.com/watch?v=ZLyDvABxGF0  \n",
       "212  243682     13241  youtube.com/watch?v=x_R-qzjZrKQ  "
      ]
     },
     "execution_count": 33,
     "metadata": {},
     "output_type": "execute_result"
    }
   ],
   "source": [
    "df.sort_values('Views',ascending=False)[:20]"
   ]
  },
  {
   "cell_type": "markdown",
   "metadata": {},
   "source": [
    "## Lets focus on Title column"
   ]
  },
  {
   "cell_type": "code",
   "execution_count": 34,
   "metadata": {},
   "outputs": [
    {
     "data": {
      "text/plain": [
       "0                            YouTube Needs to Fix This\n",
       "1                   The Electric Car Pre-Order Problem\n",
       "2       Does Fast Charging ACTUALLY Ruin Your Battery?\n",
       "3             \"The Apple Studio Display is a Bad Deal\"\n",
       "4                   Mac Studio Review: Double Trouble!\n",
       "                             ...                      \n",
       "1408                   Fraps HD Test in 1080p (18 WOS)\n",
       "1409     HP Pavilion dv7t Media Center Remote Overview\n",
       "1410                       High fps LG Voyager footage\n",
       "1411             14 Year knock-down shot (11 Handicap)\n",
       "1412                   13-Year-Old Golf Swing Analysis\n",
       "Name: Title, Length: 1413, dtype: object"
      ]
     },
     "execution_count": 34,
     "metadata": {},
     "output_type": "execute_result"
    }
   ],
   "source": [
    "df['Title']"
   ]
  },
  {
   "cell_type": "code",
   "execution_count": 35,
   "metadata": {},
   "outputs": [],
   "source": [
    "keywords=[]\n",
    "for title in df['Title']:\n",
    "    for word in title.split():\n",
    "        keywords.append(word.lower())\n",
    "d=Counter(keywords)\n",
    "df_keys=pd.DataFrame({'Keys':d.keys(),'Count':d.values()})"
   ]
  },
  {
   "cell_type": "code",
   "execution_count": 36,
   "metadata": {},
   "outputs": [
    {
     "data": {
      "text/html": [
       "<div>\n",
       "<style scoped>\n",
       "    .dataframe tbody tr th:only-of-type {\n",
       "        vertical-align: middle;\n",
       "    }\n",
       "\n",
       "    .dataframe tbody tr th {\n",
       "        vertical-align: top;\n",
       "    }\n",
       "\n",
       "    .dataframe thead th {\n",
       "        text-align: right;\n",
       "    }\n",
       "</style>\n",
       "<table border=\"1\" class=\"dataframe\">\n",
       "  <thead>\n",
       "    <tr style=\"text-align: right;\">\n",
       "      <th></th>\n",
       "      <th>Keys</th>\n",
       "      <th>Count</th>\n",
       "    </tr>\n",
       "  </thead>\n",
       "  <tbody>\n",
       "    <tr>\n",
       "      <th>5</th>\n",
       "      <td>the</td>\n",
       "      <td>250</td>\n",
       "    </tr>\n",
       "    <tr>\n",
       "      <th>972</th>\n",
       "      <td>hd</td>\n",
       "      <td>161</td>\n",
       "    </tr>\n",
       "    <tr>\n",
       "      <th>1858</th>\n",
       "      <td>tutorial:</td>\n",
       "      <td>134</td>\n",
       "    </tr>\n",
       "    <tr>\n",
       "      <th>52</th>\n",
       "      <td>galaxy</td>\n",
       "      <td>119</td>\n",
       "    </tr>\n",
       "    <tr>\n",
       "      <th>26</th>\n",
       "      <td>review:</td>\n",
       "      <td>118</td>\n",
       "    </tr>\n",
       "    <tr>\n",
       "      <th>673</th>\n",
       "      <td>review!</td>\n",
       "      <td>104</td>\n",
       "    </tr>\n",
       "    <tr>\n",
       "      <th>35</th>\n",
       "      <td>iphone</td>\n",
       "      <td>87</td>\n",
       "    </tr>\n",
       "    <tr>\n",
       "      <th>219</th>\n",
       "      <td>samsung</td>\n",
       "      <td>85</td>\n",
       "    </tr>\n",
       "    <tr>\n",
       "      <th>135</th>\n",
       "      <td>google</td>\n",
       "      <td>83</td>\n",
       "    </tr>\n",
       "    <tr>\n",
       "      <th>269</th>\n",
       "      <td>5</td>\n",
       "      <td>80</td>\n",
       "    </tr>\n",
       "    <tr>\n",
       "      <th>430</th>\n",
       "      <td>mkbhd</td>\n",
       "      <td>72</td>\n",
       "    </tr>\n",
       "    <tr>\n",
       "      <th>205</th>\n",
       "      <td>impressions!</td>\n",
       "      <td>70</td>\n",
       "    </tr>\n",
       "    <tr>\n",
       "      <th>268</th>\n",
       "      <td>top</td>\n",
       "      <td>66</td>\n",
       "    </tr>\n",
       "    <tr>\n",
       "      <th>80</th>\n",
       "      <td>pro</td>\n",
       "      <td>62</td>\n",
       "    </tr>\n",
       "    <tr>\n",
       "      <th>22</th>\n",
       "      <td>a</td>\n",
       "      <td>61</td>\n",
       "    </tr>\n",
       "    <tr>\n",
       "      <th>88</th>\n",
       "      <td>explained!</td>\n",
       "      <td>60</td>\n",
       "    </tr>\n",
       "    <tr>\n",
       "      <th>63</th>\n",
       "      <td>of</td>\n",
       "      <td>58</td>\n",
       "    </tr>\n",
       "    <tr>\n",
       "      <th>70</th>\n",
       "      <td>impressions:</td>\n",
       "      <td>51</td>\n",
       "    </tr>\n",
       "    <tr>\n",
       "      <th>1805</th>\n",
       "      <td>[hd]</td>\n",
       "      <td>51</td>\n",
       "    </tr>\n",
       "    <tr>\n",
       "      <th>0</th>\n",
       "      <td>youtube</td>\n",
       "      <td>50</td>\n",
       "    </tr>\n",
       "    <tr>\n",
       "      <th>1288</th>\n",
       "      <td>nexus</td>\n",
       "      <td>48</td>\n",
       "    </tr>\n",
       "    <tr>\n",
       "      <th>90</th>\n",
       "      <td>tech</td>\n",
       "      <td>46</td>\n",
       "    </tr>\n",
       "    <tr>\n",
       "      <th>146</th>\n",
       "      <td>in</td>\n",
       "      <td>44</td>\n",
       "    </tr>\n",
       "    <tr>\n",
       "      <th>40</th>\n",
       "      <td>new</td>\n",
       "      <td>43</td>\n",
       "    </tr>\n",
       "    <tr>\n",
       "      <th>42</th>\n",
       "      <td>&amp;</td>\n",
       "      <td>41</td>\n",
       "    </tr>\n",
       "    <tr>\n",
       "      <th>2</th>\n",
       "      <td>to</td>\n",
       "      <td>40</td>\n",
       "    </tr>\n",
       "    <tr>\n",
       "      <th>85</th>\n",
       "      <td>vs</td>\n",
       "      <td>39</td>\n",
       "    </tr>\n",
       "    <tr>\n",
       "      <th>78</th>\n",
       "      <td>oneplus</td>\n",
       "      <td>39</td>\n",
       "    </tr>\n",
       "    <tr>\n",
       "      <th>687</th>\n",
       "      <td>ask</td>\n",
       "      <td>36</td>\n",
       "    </tr>\n",
       "    <tr>\n",
       "      <th>18</th>\n",
       "      <td>apple</td>\n",
       "      <td>35</td>\n",
       "    </tr>\n",
       "  </tbody>\n",
       "</table>\n",
       "</div>"
      ],
      "text/plain": [
       "              Keys  Count\n",
       "5              the    250\n",
       "972             hd    161\n",
       "1858     tutorial:    134\n",
       "52          galaxy    119\n",
       "26         review:    118\n",
       "673        review!    104\n",
       "35          iphone     87\n",
       "219        samsung     85\n",
       "135         google     83\n",
       "269              5     80\n",
       "430          mkbhd     72\n",
       "205   impressions!     70\n",
       "268            top     66\n",
       "80             pro     62\n",
       "22               a     61\n",
       "88      explained!     60\n",
       "63              of     58\n",
       "70    impressions:     51\n",
       "1805          [hd]     51\n",
       "0          youtube     50\n",
       "1288         nexus     48\n",
       "90            tech     46\n",
       "146             in     44\n",
       "40             new     43\n",
       "42               &     41\n",
       "2               to     40\n",
       "85              vs     39\n",
       "78         oneplus     39\n",
       "687            ask     36\n",
       "18           apple     35"
      ]
     },
     "execution_count": 36,
     "metadata": {},
     "output_type": "execute_result"
    }
   ],
   "source": [
    "df_keys.sort_values('Count',ascending=False)[:30]"
   ]
  },
  {
   "cell_type": "markdown",
   "metadata": {},
   "source": [
    "In the start, he used phrase 'hd tutorial', so it is in top in frequent number of words"
   ]
  },
  {
   "cell_type": "markdown",
   "metadata": {},
   "source": [
    "Some of the other most used keywords are galaxy, review, iphone, samsung, google, mkbhd, impressions, youtube"
   ]
  },
  {
   "cell_type": "markdown",
   "metadata": {},
   "source": [
    "### Lets find the videos with apple, iphone, samsung, galaxy"
   ]
  },
  {
   "cell_type": "code",
   "execution_count": 37,
   "metadata": {},
   "outputs": [
    {
     "data": {
      "text/html": [
       "<div>\n",
       "<style scoped>\n",
       "    .dataframe tbody tr th:only-of-type {\n",
       "        vertical-align: middle;\n",
       "    }\n",
       "\n",
       "    .dataframe tbody tr th {\n",
       "        vertical-align: top;\n",
       "    }\n",
       "\n",
       "    .dataframe thead th {\n",
       "        text-align: right;\n",
       "    }\n",
       "</style>\n",
       "<table border=\"1\" class=\"dataframe\">\n",
       "  <thead>\n",
       "    <tr style=\"text-align: right;\">\n",
       "      <th></th>\n",
       "      <th>Keys</th>\n",
       "      <th>Count</th>\n",
       "    </tr>\n",
       "  </thead>\n",
       "  <tbody>\n",
       "    <tr>\n",
       "      <th>18</th>\n",
       "      <td>apple</td>\n",
       "      <td>35</td>\n",
       "    </tr>\n",
       "    <tr>\n",
       "      <th>35</th>\n",
       "      <td>iphone</td>\n",
       "      <td>87</td>\n",
       "    </tr>\n",
       "    <tr>\n",
       "      <th>52</th>\n",
       "      <td>galaxy</td>\n",
       "      <td>119</td>\n",
       "    </tr>\n",
       "    <tr>\n",
       "      <th>219</th>\n",
       "      <td>samsung</td>\n",
       "      <td>85</td>\n",
       "    </tr>\n",
       "  </tbody>\n",
       "</table>\n",
       "</div>"
      ],
      "text/plain": [
       "        Keys  Count\n",
       "18     apple     35\n",
       "35    iphone     87\n",
       "52    galaxy    119\n",
       "219  samsung     85"
      ]
     },
     "execution_count": 37,
     "metadata": {},
     "output_type": "execute_result"
    }
   ],
   "source": [
    "df_keys[(df_keys['Keys']=='apple')|(df_keys['Keys']=='iphone')|(df_keys['Keys']=='samsung')|(df_keys['Keys']=='galaxy')]"
   ]
  },
  {
   "cell_type": "code",
   "execution_count": 38,
   "metadata": {},
   "outputs": [
    {
     "data": {
      "application/vnd.plotly.v1+json": {
       "config": {
        "plotlyServerURL": "https://plot.ly"
       },
       "data": [
        {
         "alignmentgroup": "True",
         "hovertemplate": "Keys=%{x}<br>Count=%{y}<extra></extra>",
         "legendgroup": "",
         "marker": {
          "color": "#636efa",
          "pattern": {
           "shape": ""
          }
         },
         "name": "",
         "offsetgroup": "",
         "orientation": "v",
         "showlegend": false,
         "textposition": "auto",
         "type": "bar",
         "x": [
          "apple",
          "iphone",
          "galaxy",
          "samsung"
         ],
         "xaxis": "x",
         "y": [
          35,
          87,
          119,
          85
         ],
         "yaxis": "y"
        }
       ],
       "layout": {
        "barmode": "relative",
        "legend": {
         "tracegroupgap": 0
        },
        "margin": {
         "t": 60
        },
        "template": {
         "data": {
          "bar": [
           {
            "error_x": {
             "color": "#2a3f5f"
            },
            "error_y": {
             "color": "#2a3f5f"
            },
            "marker": {
             "line": {
              "color": "#E5ECF6",
              "width": 0.5
             },
             "pattern": {
              "fillmode": "overlay",
              "size": 10,
              "solidity": 0.2
             }
            },
            "type": "bar"
           }
          ],
          "barpolar": [
           {
            "marker": {
             "line": {
              "color": "#E5ECF6",
              "width": 0.5
             },
             "pattern": {
              "fillmode": "overlay",
              "size": 10,
              "solidity": 0.2
             }
            },
            "type": "barpolar"
           }
          ],
          "carpet": [
           {
            "aaxis": {
             "endlinecolor": "#2a3f5f",
             "gridcolor": "white",
             "linecolor": "white",
             "minorgridcolor": "white",
             "startlinecolor": "#2a3f5f"
            },
            "baxis": {
             "endlinecolor": "#2a3f5f",
             "gridcolor": "white",
             "linecolor": "white",
             "minorgridcolor": "white",
             "startlinecolor": "#2a3f5f"
            },
            "type": "carpet"
           }
          ],
          "choropleth": [
           {
            "colorbar": {
             "outlinewidth": 0,
             "ticks": ""
            },
            "type": "choropleth"
           }
          ],
          "contour": [
           {
            "colorbar": {
             "outlinewidth": 0,
             "ticks": ""
            },
            "colorscale": [
             [
              0,
              "#0d0887"
             ],
             [
              0.1111111111111111,
              "#46039f"
             ],
             [
              0.2222222222222222,
              "#7201a8"
             ],
             [
              0.3333333333333333,
              "#9c179e"
             ],
             [
              0.4444444444444444,
              "#bd3786"
             ],
             [
              0.5555555555555556,
              "#d8576b"
             ],
             [
              0.6666666666666666,
              "#ed7953"
             ],
             [
              0.7777777777777778,
              "#fb9f3a"
             ],
             [
              0.8888888888888888,
              "#fdca26"
             ],
             [
              1,
              "#f0f921"
             ]
            ],
            "type": "contour"
           }
          ],
          "contourcarpet": [
           {
            "colorbar": {
             "outlinewidth": 0,
             "ticks": ""
            },
            "type": "contourcarpet"
           }
          ],
          "heatmap": [
           {
            "colorbar": {
             "outlinewidth": 0,
             "ticks": ""
            },
            "colorscale": [
             [
              0,
              "#0d0887"
             ],
             [
              0.1111111111111111,
              "#46039f"
             ],
             [
              0.2222222222222222,
              "#7201a8"
             ],
             [
              0.3333333333333333,
              "#9c179e"
             ],
             [
              0.4444444444444444,
              "#bd3786"
             ],
             [
              0.5555555555555556,
              "#d8576b"
             ],
             [
              0.6666666666666666,
              "#ed7953"
             ],
             [
              0.7777777777777778,
              "#fb9f3a"
             ],
             [
              0.8888888888888888,
              "#fdca26"
             ],
             [
              1,
              "#f0f921"
             ]
            ],
            "type": "heatmap"
           }
          ],
          "heatmapgl": [
           {
            "colorbar": {
             "outlinewidth": 0,
             "ticks": ""
            },
            "colorscale": [
             [
              0,
              "#0d0887"
             ],
             [
              0.1111111111111111,
              "#46039f"
             ],
             [
              0.2222222222222222,
              "#7201a8"
             ],
             [
              0.3333333333333333,
              "#9c179e"
             ],
             [
              0.4444444444444444,
              "#bd3786"
             ],
             [
              0.5555555555555556,
              "#d8576b"
             ],
             [
              0.6666666666666666,
              "#ed7953"
             ],
             [
              0.7777777777777778,
              "#fb9f3a"
             ],
             [
              0.8888888888888888,
              "#fdca26"
             ],
             [
              1,
              "#f0f921"
             ]
            ],
            "type": "heatmapgl"
           }
          ],
          "histogram": [
           {
            "marker": {
             "pattern": {
              "fillmode": "overlay",
              "size": 10,
              "solidity": 0.2
             }
            },
            "type": "histogram"
           }
          ],
          "histogram2d": [
           {
            "colorbar": {
             "outlinewidth": 0,
             "ticks": ""
            },
            "colorscale": [
             [
              0,
              "#0d0887"
             ],
             [
              0.1111111111111111,
              "#46039f"
             ],
             [
              0.2222222222222222,
              "#7201a8"
             ],
             [
              0.3333333333333333,
              "#9c179e"
             ],
             [
              0.4444444444444444,
              "#bd3786"
             ],
             [
              0.5555555555555556,
              "#d8576b"
             ],
             [
              0.6666666666666666,
              "#ed7953"
             ],
             [
              0.7777777777777778,
              "#fb9f3a"
             ],
             [
              0.8888888888888888,
              "#fdca26"
             ],
             [
              1,
              "#f0f921"
             ]
            ],
            "type": "histogram2d"
           }
          ],
          "histogram2dcontour": [
           {
            "colorbar": {
             "outlinewidth": 0,
             "ticks": ""
            },
            "colorscale": [
             [
              0,
              "#0d0887"
             ],
             [
              0.1111111111111111,
              "#46039f"
             ],
             [
              0.2222222222222222,
              "#7201a8"
             ],
             [
              0.3333333333333333,
              "#9c179e"
             ],
             [
              0.4444444444444444,
              "#bd3786"
             ],
             [
              0.5555555555555556,
              "#d8576b"
             ],
             [
              0.6666666666666666,
              "#ed7953"
             ],
             [
              0.7777777777777778,
              "#fb9f3a"
             ],
             [
              0.8888888888888888,
              "#fdca26"
             ],
             [
              1,
              "#f0f921"
             ]
            ],
            "type": "histogram2dcontour"
           }
          ],
          "mesh3d": [
           {
            "colorbar": {
             "outlinewidth": 0,
             "ticks": ""
            },
            "type": "mesh3d"
           }
          ],
          "parcoords": [
           {
            "line": {
             "colorbar": {
              "outlinewidth": 0,
              "ticks": ""
             }
            },
            "type": "parcoords"
           }
          ],
          "pie": [
           {
            "automargin": true,
            "type": "pie"
           }
          ],
          "scatter": [
           {
            "marker": {
             "colorbar": {
              "outlinewidth": 0,
              "ticks": ""
             }
            },
            "type": "scatter"
           }
          ],
          "scatter3d": [
           {
            "line": {
             "colorbar": {
              "outlinewidth": 0,
              "ticks": ""
             }
            },
            "marker": {
             "colorbar": {
              "outlinewidth": 0,
              "ticks": ""
             }
            },
            "type": "scatter3d"
           }
          ],
          "scattercarpet": [
           {
            "marker": {
             "colorbar": {
              "outlinewidth": 0,
              "ticks": ""
             }
            },
            "type": "scattercarpet"
           }
          ],
          "scattergeo": [
           {
            "marker": {
             "colorbar": {
              "outlinewidth": 0,
              "ticks": ""
             }
            },
            "type": "scattergeo"
           }
          ],
          "scattergl": [
           {
            "marker": {
             "colorbar": {
              "outlinewidth": 0,
              "ticks": ""
             }
            },
            "type": "scattergl"
           }
          ],
          "scattermapbox": [
           {
            "marker": {
             "colorbar": {
              "outlinewidth": 0,
              "ticks": ""
             }
            },
            "type": "scattermapbox"
           }
          ],
          "scatterpolar": [
           {
            "marker": {
             "colorbar": {
              "outlinewidth": 0,
              "ticks": ""
             }
            },
            "type": "scatterpolar"
           }
          ],
          "scatterpolargl": [
           {
            "marker": {
             "colorbar": {
              "outlinewidth": 0,
              "ticks": ""
             }
            },
            "type": "scatterpolargl"
           }
          ],
          "scatterternary": [
           {
            "marker": {
             "colorbar": {
              "outlinewidth": 0,
              "ticks": ""
             }
            },
            "type": "scatterternary"
           }
          ],
          "surface": [
           {
            "colorbar": {
             "outlinewidth": 0,
             "ticks": ""
            },
            "colorscale": [
             [
              0,
              "#0d0887"
             ],
             [
              0.1111111111111111,
              "#46039f"
             ],
             [
              0.2222222222222222,
              "#7201a8"
             ],
             [
              0.3333333333333333,
              "#9c179e"
             ],
             [
              0.4444444444444444,
              "#bd3786"
             ],
             [
              0.5555555555555556,
              "#d8576b"
             ],
             [
              0.6666666666666666,
              "#ed7953"
             ],
             [
              0.7777777777777778,
              "#fb9f3a"
             ],
             [
              0.8888888888888888,
              "#fdca26"
             ],
             [
              1,
              "#f0f921"
             ]
            ],
            "type": "surface"
           }
          ],
          "table": [
           {
            "cells": {
             "fill": {
              "color": "#EBF0F8"
             },
             "line": {
              "color": "white"
             }
            },
            "header": {
             "fill": {
              "color": "#C8D4E3"
             },
             "line": {
              "color": "white"
             }
            },
            "type": "table"
           }
          ]
         },
         "layout": {
          "annotationdefaults": {
           "arrowcolor": "#2a3f5f",
           "arrowhead": 0,
           "arrowwidth": 1
          },
          "autotypenumbers": "strict",
          "coloraxis": {
           "colorbar": {
            "outlinewidth": 0,
            "ticks": ""
           }
          },
          "colorscale": {
           "diverging": [
            [
             0,
             "#8e0152"
            ],
            [
             0.1,
             "#c51b7d"
            ],
            [
             0.2,
             "#de77ae"
            ],
            [
             0.3,
             "#f1b6da"
            ],
            [
             0.4,
             "#fde0ef"
            ],
            [
             0.5,
             "#f7f7f7"
            ],
            [
             0.6,
             "#e6f5d0"
            ],
            [
             0.7,
             "#b8e186"
            ],
            [
             0.8,
             "#7fbc41"
            ],
            [
             0.9,
             "#4d9221"
            ],
            [
             1,
             "#276419"
            ]
           ],
           "sequential": [
            [
             0,
             "#0d0887"
            ],
            [
             0.1111111111111111,
             "#46039f"
            ],
            [
             0.2222222222222222,
             "#7201a8"
            ],
            [
             0.3333333333333333,
             "#9c179e"
            ],
            [
             0.4444444444444444,
             "#bd3786"
            ],
            [
             0.5555555555555556,
             "#d8576b"
            ],
            [
             0.6666666666666666,
             "#ed7953"
            ],
            [
             0.7777777777777778,
             "#fb9f3a"
            ],
            [
             0.8888888888888888,
             "#fdca26"
            ],
            [
             1,
             "#f0f921"
            ]
           ],
           "sequentialminus": [
            [
             0,
             "#0d0887"
            ],
            [
             0.1111111111111111,
             "#46039f"
            ],
            [
             0.2222222222222222,
             "#7201a8"
            ],
            [
             0.3333333333333333,
             "#9c179e"
            ],
            [
             0.4444444444444444,
             "#bd3786"
            ],
            [
             0.5555555555555556,
             "#d8576b"
            ],
            [
             0.6666666666666666,
             "#ed7953"
            ],
            [
             0.7777777777777778,
             "#fb9f3a"
            ],
            [
             0.8888888888888888,
             "#fdca26"
            ],
            [
             1,
             "#f0f921"
            ]
           ]
          },
          "colorway": [
           "#636efa",
           "#EF553B",
           "#00cc96",
           "#ab63fa",
           "#FFA15A",
           "#19d3f3",
           "#FF6692",
           "#B6E880",
           "#FF97FF",
           "#FECB52"
          ],
          "font": {
           "color": "#2a3f5f"
          },
          "geo": {
           "bgcolor": "white",
           "lakecolor": "white",
           "landcolor": "#E5ECF6",
           "showlakes": true,
           "showland": true,
           "subunitcolor": "white"
          },
          "hoverlabel": {
           "align": "left"
          },
          "hovermode": "closest",
          "mapbox": {
           "style": "light"
          },
          "paper_bgcolor": "white",
          "plot_bgcolor": "#E5ECF6",
          "polar": {
           "angularaxis": {
            "gridcolor": "white",
            "linecolor": "white",
            "ticks": ""
           },
           "bgcolor": "#E5ECF6",
           "radialaxis": {
            "gridcolor": "white",
            "linecolor": "white",
            "ticks": ""
           }
          },
          "scene": {
           "xaxis": {
            "backgroundcolor": "#E5ECF6",
            "gridcolor": "white",
            "gridwidth": 2,
            "linecolor": "white",
            "showbackground": true,
            "ticks": "",
            "zerolinecolor": "white"
           },
           "yaxis": {
            "backgroundcolor": "#E5ECF6",
            "gridcolor": "white",
            "gridwidth": 2,
            "linecolor": "white",
            "showbackground": true,
            "ticks": "",
            "zerolinecolor": "white"
           },
           "zaxis": {
            "backgroundcolor": "#E5ECF6",
            "gridcolor": "white",
            "gridwidth": 2,
            "linecolor": "white",
            "showbackground": true,
            "ticks": "",
            "zerolinecolor": "white"
           }
          },
          "shapedefaults": {
           "line": {
            "color": "#2a3f5f"
           }
          },
          "ternary": {
           "aaxis": {
            "gridcolor": "white",
            "linecolor": "white",
            "ticks": ""
           },
           "baxis": {
            "gridcolor": "white",
            "linecolor": "white",
            "ticks": ""
           },
           "bgcolor": "#E5ECF6",
           "caxis": {
            "gridcolor": "white",
            "linecolor": "white",
            "ticks": ""
           }
          },
          "title": {
           "x": 0.05
          },
          "xaxis": {
           "automargin": true,
           "gridcolor": "white",
           "linecolor": "white",
           "ticks": "",
           "title": {
            "standoff": 15
           },
           "zerolinecolor": "white",
           "zerolinewidth": 2
          },
          "yaxis": {
           "automargin": true,
           "gridcolor": "white",
           "linecolor": "white",
           "ticks": "",
           "title": {
            "standoff": 15
           },
           "zerolinecolor": "white",
           "zerolinewidth": 2
          }
         }
        },
        "xaxis": {
         "anchor": "y",
         "domain": [
          0,
          1
         ],
         "title": {
          "text": "Keys"
         }
        },
        "yaxis": {
         "anchor": "x",
         "domain": [
          0,
          1
         ],
         "title": {
          "text": "Count"
         }
        }
       }
      }
     },
     "metadata": {},
     "output_type": "display_data"
    }
   ],
   "source": [
    "t=df_keys[(df_keys['Keys']=='apple')|(df_keys['Keys']=='iphone')|(df_keys['Keys']=='samsung')|(df_keys['Keys']=='galaxy')]\n",
    "px.bar(x='Keys',y='Count',data_frame=t)"
   ]
  },
  {
   "cell_type": "markdown",
   "metadata": {},
   "source": [
    "There are more number of videos of samsung when compared to apple, as samsung releases more mobiles than apple"
   ]
  },
  {
   "cell_type": "markdown",
   "metadata": {},
   "source": [
    "Lets count number of unboxing videos"
   ]
  },
  {
   "cell_type": "code",
   "execution_count": 39,
   "metadata": {},
   "outputs": [
    {
     "data": {
      "text/html": [
       "<div>\n",
       "<style scoped>\n",
       "    .dataframe tbody tr th:only-of-type {\n",
       "        vertical-align: middle;\n",
       "    }\n",
       "\n",
       "    .dataframe tbody tr th {\n",
       "        vertical-align: top;\n",
       "    }\n",
       "\n",
       "    .dataframe thead th {\n",
       "        text-align: right;\n",
       "    }\n",
       "</style>\n",
       "<table border=\"1\" class=\"dataframe\">\n",
       "  <thead>\n",
       "    <tr style=\"text-align: right;\">\n",
       "      <th></th>\n",
       "      <th>Title</th>\n",
       "      <th>Views</th>\n",
       "      <th>Date</th>\n",
       "      <th>Likes</th>\n",
       "      <th>Comments</th>\n",
       "      <th>Link</th>\n",
       "    </tr>\n",
       "  </thead>\n",
       "  <tbody>\n",
       "    <tr>\n",
       "      <th>316</th>\n",
       "      <td>Samsung Galaxy Fold Unboxing: Magnets!</td>\n",
       "      <td>23009027</td>\n",
       "      <td>2019-04-16</td>\n",
       "      <td>351793</td>\n",
       "      <td>11685</td>\n",
       "      <td>youtube.com/watch?v=x4yF3a3Zn4Y</td>\n",
       "    </tr>\n",
       "    <tr>\n",
       "      <th>462</th>\n",
       "      <td>Apple iPhone X Unboxing!</td>\n",
       "      <td>17324220</td>\n",
       "      <td>2017-10-31</td>\n",
       "      <td>295967</td>\n",
       "      <td>23880</td>\n",
       "      <td>youtube.com/watch?v=l0DoQYGZt8M</td>\n",
       "    </tr>\n",
       "    <tr>\n",
       "      <th>139</th>\n",
       "      <td>PlayStation 5 Unboxing &amp; Accessories!</td>\n",
       "      <td>13652604</td>\n",
       "      <td>2020-10-27</td>\n",
       "      <td>580105</td>\n",
       "      <td>40834</td>\n",
       "      <td>youtube.com/watch?v=QtMzV73NAgk</td>\n",
       "    </tr>\n",
       "    <tr>\n",
       "      <th>144</th>\n",
       "      <td>iPhone 12 Unboxing Experience + MagSafe Demo!</td>\n",
       "      <td>12546306</td>\n",
       "      <td>2020-10-20</td>\n",
       "      <td>431428</td>\n",
       "      <td>34317</td>\n",
       "      <td>youtube.com/watch?v=Sx6dAx7dnXg</td>\n",
       "    </tr>\n",
       "    <tr>\n",
       "      <th>124</th>\n",
       "      <td>AirPods Max Unboxing &amp; Impressions: $550?!</td>\n",
       "      <td>11954658</td>\n",
       "      <td>2020-12-10</td>\n",
       "      <td>405425</td>\n",
       "      <td>46641</td>\n",
       "      <td>youtube.com/watch?v=UdfSrJvqY_E</td>\n",
       "    </tr>\n",
       "    <tr>\n",
       "      <th>577</th>\n",
       "      <td>iPhone 7 Unboxing: Jet Black vs Matte Black!</td>\n",
       "      <td>10869598</td>\n",
       "      <td>2016-09-14</td>\n",
       "      <td>121065</td>\n",
       "      <td>10468</td>\n",
       "      <td>youtube.com/watch?v=J5HtSy5bATk</td>\n",
       "    </tr>\n",
       "    <tr>\n",
       "      <th>263</th>\n",
       "      <td>AirPods Pro Unboxing &amp; Impressions!</td>\n",
       "      <td>10520236</td>\n",
       "      <td>2019-10-29</td>\n",
       "      <td>268137</td>\n",
       "      <td>18926</td>\n",
       "      <td>youtube.com/watch?v=MrUhzYdcX6w</td>\n",
       "    </tr>\n",
       "    <tr>\n",
       "      <th>83</th>\n",
       "      <td>Apple AirTags Unboxing &amp; Demo!</td>\n",
       "      <td>8440312</td>\n",
       "      <td>2021-04-22</td>\n",
       "      <td>270102</td>\n",
       "      <td>22027</td>\n",
       "      <td>youtube.com/watch?v=ehv3zQAa9zM</td>\n",
       "    </tr>\n",
       "    <tr>\n",
       "      <th>49</th>\n",
       "      <td>iPhone 13 Unboxing &amp; Impressions!</td>\n",
       "      <td>8218958</td>\n",
       "      <td>2021-09-21</td>\n",
       "      <td>266936</td>\n",
       "      <td>18177</td>\n",
       "      <td>youtube.com/watch?v=Fop2oskTug8</td>\n",
       "    </tr>\n",
       "    <tr>\n",
       "      <th>287</th>\n",
       "      <td>Apple Card Unboxing &amp; Impressions!</td>\n",
       "      <td>7903810</td>\n",
       "      <td>2019-08-09</td>\n",
       "      <td>219240</td>\n",
       "      <td>12666</td>\n",
       "      <td>youtube.com/watch?v=lj7kFBz-jw4</td>\n",
       "    </tr>\n",
       "    <tr>\n",
       "      <th>376</th>\n",
       "      <td>Gold iPhone Xs Max Unboxing!</td>\n",
       "      <td>4976914</td>\n",
       "      <td>2018-09-18</td>\n",
       "      <td>98439</td>\n",
       "      <td>7892</td>\n",
       "      <td>youtube.com/watch?v=zHOr6Ej_jd4</td>\n",
       "    </tr>\n",
       "    <tr>\n",
       "      <th>246</th>\n",
       "      <td>Mac Pro Unboxing &amp; Second Impressions: The Pow...</td>\n",
       "      <td>4936076</td>\n",
       "      <td>2019-12-10</td>\n",
       "      <td>166464</td>\n",
       "      <td>15068</td>\n",
       "      <td>youtube.com/watch?v=DOPswcaSsu8</td>\n",
       "    </tr>\n",
       "    <tr>\n",
       "      <th>276</th>\n",
       "      <td>Unboxing Every Green iPhone 11!</td>\n",
       "      <td>4586858</td>\n",
       "      <td>2019-09-17</td>\n",
       "      <td>125303</td>\n",
       "      <td>14009</td>\n",
       "      <td>youtube.com/watch?v=QK8Se8CvyHc</td>\n",
       "    </tr>\n",
       "    <tr>\n",
       "      <th>40</th>\n",
       "      <td>Pixel 6/6 Pro Unboxing &amp; First Look!</td>\n",
       "      <td>4439220</td>\n",
       "      <td>2021-10-19</td>\n",
       "      <td>186570</td>\n",
       "      <td>13431</td>\n",
       "      <td>youtube.com/watch?v=roWxo6jWoYw</td>\n",
       "    </tr>\n",
       "    <tr>\n",
       "      <th>223</th>\n",
       "      <td>Samsung Galaxy Z Flip Unboxing: It's Growing o...</td>\n",
       "      <td>4437999</td>\n",
       "      <td>2020-02-19</td>\n",
       "      <td>107207</td>\n",
       "      <td>5835</td>\n",
       "      <td>youtube.com/watch?v=dPaHNTnN0eE</td>\n",
       "    </tr>\n",
       "    <tr>\n",
       "      <th>526</th>\n",
       "      <td>New RED iPhone 7 Unboxing!</td>\n",
       "      <td>4123172</td>\n",
       "      <td>2017-03-21</td>\n",
       "      <td>79185</td>\n",
       "      <td>7084</td>\n",
       "      <td>youtube.com/watch?v=VDsjYTMyh94</td>\n",
       "    </tr>\n",
       "    <tr>\n",
       "      <th>472</th>\n",
       "      <td>LG 77\" Wallpaper TV Unboxing [LIVE]</td>\n",
       "      <td>3569435</td>\n",
       "      <td>2017-09-25</td>\n",
       "      <td>35819</td>\n",
       "      <td>2818</td>\n",
       "      <td>youtube.com/watch?v=TxNSSlk__x4</td>\n",
       "    </tr>\n",
       "    <tr>\n",
       "      <th>162</th>\n",
       "      <td>Samsung Galaxy Z Fold 2 Unboxing: 3 Major Upgr...</td>\n",
       "      <td>3468824</td>\n",
       "      <td>2020-09-02</td>\n",
       "      <td>137770</td>\n",
       "      <td>9080</td>\n",
       "      <td>youtube.com/watch?v=sy8K2VmWkDo</td>\n",
       "    </tr>\n",
       "    <tr>\n",
       "      <th>163</th>\n",
       "      <td>Surface Duo Unboxing &amp; Impressions: Hinge Goals!</td>\n",
       "      <td>3034100</td>\n",
       "      <td>2020-08-26</td>\n",
       "      <td>120941</td>\n",
       "      <td>9544</td>\n",
       "      <td>youtube.com/watch?v=DJyxwIGdl8Y</td>\n",
       "    </tr>\n",
       "    <tr>\n",
       "      <th>568</th>\n",
       "      <td>Google Pixel Unboxing! (Best Android 7.1 Featu...</td>\n",
       "      <td>2964069</td>\n",
       "      <td>2016-10-18</td>\n",
       "      <td>77015</td>\n",
       "      <td>8490</td>\n",
       "      <td>youtube.com/watch?v=mOwYlhUbsko</td>\n",
       "    </tr>\n",
       "    <tr>\n",
       "      <th>473</th>\n",
       "      <td>iPhone 8 Unboxing: Silver vs Gold!</td>\n",
       "      <td>2760180</td>\n",
       "      <td>2017-09-21</td>\n",
       "      <td>53440</td>\n",
       "      <td>4349</td>\n",
       "      <td>youtube.com/watch?v=H1KRDYZIOaw</td>\n",
       "    </tr>\n",
       "    <tr>\n",
       "      <th>381</th>\n",
       "      <td>RED Hydrogen One Unboxing! (Houdini Edition)</td>\n",
       "      <td>2684761</td>\n",
       "      <td>2018-08-31</td>\n",
       "      <td>64774</td>\n",
       "      <td>5330</td>\n",
       "      <td>youtube.com/watch?v=QPcagFrOnLE</td>\n",
       "    </tr>\n",
       "    <tr>\n",
       "      <th>420</th>\n",
       "      <td>Product RED iPhone 8 Unboxing!</td>\n",
       "      <td>2652477</td>\n",
       "      <td>2018-04-10</td>\n",
       "      <td>63269</td>\n",
       "      <td>4211</td>\n",
       "      <td>youtube.com/watch?v=4O9dNuiOWDg</td>\n",
       "    </tr>\n",
       "    <tr>\n",
       "      <th>655</th>\n",
       "      <td>iPhone 6s &amp; 6s Plus Unboxing &amp; First Look!</td>\n",
       "      <td>2643965</td>\n",
       "      <td>2015-09-22</td>\n",
       "      <td>51034</td>\n",
       "      <td>3966</td>\n",
       "      <td>youtube.com/watch?v=7jrmnPFlqG0</td>\n",
       "    </tr>\n",
       "    <tr>\n",
       "      <th>466</th>\n",
       "      <td>Google Pixel 2 Unboxing! (Best Android 8.0 Fea...</td>\n",
       "      <td>2599986</td>\n",
       "      <td>2017-10-17</td>\n",
       "      <td>74534</td>\n",
       "      <td>4849</td>\n",
       "      <td>youtube.com/watch?v=a-9IZz8Ry5I</td>\n",
       "    </tr>\n",
       "    <tr>\n",
       "      <th>187</th>\n",
       "      <td>The Largest Daily Driver Unboxing!</td>\n",
       "      <td>2591801</td>\n",
       "      <td>2020-06-16</td>\n",
       "      <td>115640</td>\n",
       "      <td>12675</td>\n",
       "      <td>youtube.com/watch?v=gfC8Y66tR6o</td>\n",
       "    </tr>\n",
       "    <tr>\n",
       "      <th>563</th>\n",
       "      <td>13\" MacBook Pro 2016 Unboxing! (What's New)</td>\n",
       "      <td>2518470</td>\n",
       "      <td>2016-10-28</td>\n",
       "      <td>47785</td>\n",
       "      <td>5971</td>\n",
       "      <td>youtube.com/watch?v=WmHtebBGzjg</td>\n",
       "    </tr>\n",
       "    <tr>\n",
       "      <th>228</th>\n",
       "      <td>Foldable Moto RAZR Unboxing &amp; Second Thoughts!</td>\n",
       "      <td>2443295</td>\n",
       "      <td>2020-02-10</td>\n",
       "      <td>76314</td>\n",
       "      <td>6140</td>\n",
       "      <td>youtube.com/watch?v=lCKcFFDgtNk</td>\n",
       "    </tr>\n",
       "    <tr>\n",
       "      <th>365</th>\n",
       "      <td>RED iPhone XR Unboxing &amp; Giveaway!</td>\n",
       "      <td>2415152</td>\n",
       "      <td>2018-10-23</td>\n",
       "      <td>137624</td>\n",
       "      <td>339547</td>\n",
       "      <td>youtube.com/watch?v=vc1NdYXlaxA</td>\n",
       "    </tr>\n",
       "    <tr>\n",
       "      <th>570</th>\n",
       "      <td>Dope Tech: 8K RED Epic-W Unboxing!</td>\n",
       "      <td>2276122</td>\n",
       "      <td>2016-10-11</td>\n",
       "      <td>49426</td>\n",
       "      <td>2997</td>\n",
       "      <td>youtube.com/watch?v=J8esUVOF-G4</td>\n",
       "    </tr>\n",
       "    <tr>\n",
       "      <th>556</th>\n",
       "      <td>LG Ultrafine 5K Display Unboxing + Setup!</td>\n",
       "      <td>1465064</td>\n",
       "      <td>2016-11-23</td>\n",
       "      <td>36971</td>\n",
       "      <td>3081</td>\n",
       "      <td>youtube.com/watch?v=Snzshdl3hHI</td>\n",
       "    </tr>\n",
       "    <tr>\n",
       "      <th>648</th>\n",
       "      <td>Nexus 6P Unboxing &amp; Setup!</td>\n",
       "      <td>1385718</td>\n",
       "      <td>2015-10-19</td>\n",
       "      <td>35807</td>\n",
       "      <td>2249</td>\n",
       "      <td>youtube.com/watch?v=1K3iMWgAQzI</td>\n",
       "    </tr>\n",
       "    <tr>\n",
       "      <th>665</th>\n",
       "      <td>OnePlus 2 Unboxing &amp; Setup!</td>\n",
       "      <td>1144394</td>\n",
       "      <td>2015-08-11</td>\n",
       "      <td>31515</td>\n",
       "      <td>2121</td>\n",
       "      <td>youtube.com/watch?v=Aq6RRmDExeI</td>\n",
       "    </tr>\n",
       "    <tr>\n",
       "      <th>726</th>\n",
       "      <td>Google Nexus 6 Unboxing + Hands On!</td>\n",
       "      <td>1010613</td>\n",
       "      <td>2014-11-04</td>\n",
       "      <td>48399</td>\n",
       "      <td>5266</td>\n",
       "      <td>youtube.com/watch?v=7h-R73VTXXQ</td>\n",
       "    </tr>\n",
       "    <tr>\n",
       "      <th>800</th>\n",
       "      <td>New Mac Pro Unboxing &amp; Impressions!</td>\n",
       "      <td>695875</td>\n",
       "      <td>2014-01-13</td>\n",
       "      <td>18563</td>\n",
       "      <td>3063</td>\n",
       "      <td>youtube.com/watch?v=szd7M-Qi1MI</td>\n",
       "    </tr>\n",
       "    <tr>\n",
       "      <th>725</th>\n",
       "      <td>Google Nexus 9 Unboxing + Hands On!</td>\n",
       "      <td>587506</td>\n",
       "      <td>2014-11-05</td>\n",
       "      <td>22323</td>\n",
       "      <td>1739</td>\n",
       "      <td>youtube.com/watch?v=W-QoakKxTjg</td>\n",
       "    </tr>\n",
       "    <tr>\n",
       "      <th>888</th>\n",
       "      <td>Chromebook Pixel Unboxing &amp; First Impressions!</td>\n",
       "      <td>187957</td>\n",
       "      <td>2013-02-25</td>\n",
       "      <td>6013</td>\n",
       "      <td>2302</td>\n",
       "      <td>youtube.com/watch?v=CP5LB1eQff0</td>\n",
       "    </tr>\n",
       "    <tr>\n",
       "      <th>921</th>\n",
       "      <td>Nexus 10 Unboxing &amp; First Impressions!</td>\n",
       "      <td>176930</td>\n",
       "      <td>2012-11-16</td>\n",
       "      <td>4674</td>\n",
       "      <td>1072</td>\n",
       "      <td>youtube.com/watch?v=nCVygTgQKUs</td>\n",
       "    </tr>\n",
       "    <tr>\n",
       "      <th>919</th>\n",
       "      <td>Nexus 4 Unboxing &amp; First Impressions!</td>\n",
       "      <td>150208</td>\n",
       "      <td>2012-11-20</td>\n",
       "      <td>5912</td>\n",
       "      <td>925</td>\n",
       "      <td>youtube.com/watch?v=RvfjuYUe6-w</td>\n",
       "    </tr>\n",
       "    <tr>\n",
       "      <th>1072</th>\n",
       "      <td>Canon EOS Rebel T2i Unboxing</td>\n",
       "      <td>45771</td>\n",
       "      <td>2010-11-25</td>\n",
       "      <td>658</td>\n",
       "      <td>115</td>\n",
       "      <td>youtube.com/watch?v=5Ww9OLkJOEM</td>\n",
       "    </tr>\n",
       "    <tr>\n",
       "      <th>1096</th>\n",
       "      <td>Dell Ultrasharp 2407WFPb Unboxing and Setup</td>\n",
       "      <td>43359</td>\n",
       "      <td>2010-08-16</td>\n",
       "      <td>303</td>\n",
       "      <td>109</td>\n",
       "      <td>youtube.com/watch?v=7XdczEd26dU</td>\n",
       "    </tr>\n",
       "    <tr>\n",
       "      <th>1010</th>\n",
       "      <td>Verizon Galaxy Nexus Unboxing &amp; First Boot!</td>\n",
       "      <td>43025</td>\n",
       "      <td>2011-12-15</td>\n",
       "      <td>1052</td>\n",
       "      <td>257</td>\n",
       "      <td>youtube.com/watch?v=9ZZQrm07s4A</td>\n",
       "    </tr>\n",
       "    <tr>\n",
       "      <th>1095</th>\n",
       "      <td>Cyborg R.A.T. 7 Unboxing [HD]</td>\n",
       "      <td>37229</td>\n",
       "      <td>2010-08-26</td>\n",
       "      <td>240</td>\n",
       "      <td>91</td>\n",
       "      <td>youtube.com/watch?v=0H-wgsF6nFc</td>\n",
       "    </tr>\n",
       "    <tr>\n",
       "      <th>1113</th>\n",
       "      <td>HTC Droid Incredible Unboxing [HD]</td>\n",
       "      <td>25564</td>\n",
       "      <td>2010-04-30</td>\n",
       "      <td>288</td>\n",
       "      <td>81</td>\n",
       "      <td>youtube.com/watch?v=D2aFMc8W1qQ</td>\n",
       "    </tr>\n",
       "    <tr>\n",
       "      <th>1101</th>\n",
       "      <td>Droid X Unboxing [HD]</td>\n",
       "      <td>24055</td>\n",
       "      <td>2010-07-20</td>\n",
       "      <td>342</td>\n",
       "      <td>76</td>\n",
       "      <td>youtube.com/watch?v=KrW44HcRYfo</td>\n",
       "    </tr>\n",
       "    <tr>\n",
       "      <th>1124</th>\n",
       "      <td>DealExtreme Unboxing! [HD]</td>\n",
       "      <td>22844</td>\n",
       "      <td>2010-02-10</td>\n",
       "      <td>134</td>\n",
       "      <td>88</td>\n",
       "      <td>youtube.com/watch?v=vnKjUfSBH1o</td>\n",
       "    </tr>\n",
       "    <tr>\n",
       "      <th>1219</th>\n",
       "      <td>ThinkGeek Unboxing [HD]</td>\n",
       "      <td>17580</td>\n",
       "      <td>2009-05-25</td>\n",
       "      <td>125</td>\n",
       "      <td>26</td>\n",
       "      <td>youtube.com/watch?v=lfHNGn9dDJg</td>\n",
       "    </tr>\n",
       "    <tr>\n",
       "      <th>1129</th>\n",
       "      <td>Gateway HX2000 Unboxing [HD]</td>\n",
       "      <td>14779</td>\n",
       "      <td>2010-01-11</td>\n",
       "      <td>173</td>\n",
       "      <td>62</td>\n",
       "      <td>youtube.com/watch?v=3BYisTr1rk0</td>\n",
       "    </tr>\n",
       "    <tr>\n",
       "      <th>1132</th>\n",
       "      <td>iBellix Unboxing</td>\n",
       "      <td>7291</td>\n",
       "      <td>2009-12-27</td>\n",
       "      <td>87</td>\n",
       "      <td>47</td>\n",
       "      <td>youtube.com/watch?v=phYuTPibRX0</td>\n",
       "    </tr>\n",
       "    <tr>\n",
       "      <th>1159</th>\n",
       "      <td>iSkin Surprise Unboxing</td>\n",
       "      <td>5649</td>\n",
       "      <td>2009-10-07</td>\n",
       "      <td>103</td>\n",
       "      <td>26</td>\n",
       "      <td>youtube.com/watch?v=I_AxSjqWsLY</td>\n",
       "    </tr>\n",
       "    <tr>\n",
       "      <th>1191</th>\n",
       "      <td>RichardSolo Unboxing [HD]</td>\n",
       "      <td>5349</td>\n",
       "      <td>2009-07-04</td>\n",
       "      <td>135</td>\n",
       "      <td>45</td>\n",
       "      <td>youtube.com/watch?v=ACNf0yl6p28</td>\n",
       "    </tr>\n",
       "  </tbody>\n",
       "</table>\n",
       "</div>"
      ],
      "text/plain": [
       "                                                  Title     Views       Date  \\\n",
       "316              Samsung Galaxy Fold Unboxing: Magnets!  23009027 2019-04-16   \n",
       "462                            Apple iPhone X Unboxing!  17324220 2017-10-31   \n",
       "139               PlayStation 5 Unboxing & Accessories!  13652604 2020-10-27   \n",
       "144       iPhone 12 Unboxing Experience + MagSafe Demo!  12546306 2020-10-20   \n",
       "124          AirPods Max Unboxing & Impressions: $550?!  11954658 2020-12-10   \n",
       "577        iPhone 7 Unboxing: Jet Black vs Matte Black!  10869598 2016-09-14   \n",
       "263                 AirPods Pro Unboxing & Impressions!  10520236 2019-10-29   \n",
       "83                       Apple AirTags Unboxing & Demo!   8440312 2021-04-22   \n",
       "49                    iPhone 13 Unboxing & Impressions!   8218958 2021-09-21   \n",
       "287                  Apple Card Unboxing & Impressions!   7903810 2019-08-09   \n",
       "376                        Gold iPhone Xs Max Unboxing!   4976914 2018-09-18   \n",
       "246   Mac Pro Unboxing & Second Impressions: The Pow...   4936076 2019-12-10   \n",
       "276                     Unboxing Every Green iPhone 11!   4586858 2019-09-17   \n",
       "40                 Pixel 6/6 Pro Unboxing & First Look!   4439220 2021-10-19   \n",
       "223   Samsung Galaxy Z Flip Unboxing: It's Growing o...   4437999 2020-02-19   \n",
       "526                          New RED iPhone 7 Unboxing!   4123172 2017-03-21   \n",
       "472                 LG 77\" Wallpaper TV Unboxing [LIVE]   3569435 2017-09-25   \n",
       "162   Samsung Galaxy Z Fold 2 Unboxing: 3 Major Upgr...   3468824 2020-09-02   \n",
       "163    Surface Duo Unboxing & Impressions: Hinge Goals!   3034100 2020-08-26   \n",
       "568   Google Pixel Unboxing! (Best Android 7.1 Featu...   2964069 2016-10-18   \n",
       "473                  iPhone 8 Unboxing: Silver vs Gold!   2760180 2017-09-21   \n",
       "381        RED Hydrogen One Unboxing! (Houdini Edition)   2684761 2018-08-31   \n",
       "420                      Product RED iPhone 8 Unboxing!   2652477 2018-04-10   \n",
       "655          iPhone 6s & 6s Plus Unboxing & First Look!   2643965 2015-09-22   \n",
       "466   Google Pixel 2 Unboxing! (Best Android 8.0 Fea...   2599986 2017-10-17   \n",
       "187                  The Largest Daily Driver Unboxing!   2591801 2020-06-16   \n",
       "563         13\" MacBook Pro 2016 Unboxing! (What's New)   2518470 2016-10-28   \n",
       "228      Foldable Moto RAZR Unboxing & Second Thoughts!   2443295 2020-02-10   \n",
       "365                  RED iPhone XR Unboxing & Giveaway!   2415152 2018-10-23   \n",
       "570                  Dope Tech: 8K RED Epic-W Unboxing!   2276122 2016-10-11   \n",
       "556           LG Ultrafine 5K Display Unboxing + Setup!   1465064 2016-11-23   \n",
       "648                          Nexus 6P Unboxing & Setup!   1385718 2015-10-19   \n",
       "665                         OnePlus 2 Unboxing & Setup!   1144394 2015-08-11   \n",
       "726                 Google Nexus 6 Unboxing + Hands On!   1010613 2014-11-04   \n",
       "800                 New Mac Pro Unboxing & Impressions!    695875 2014-01-13   \n",
       "725                 Google Nexus 9 Unboxing + Hands On!    587506 2014-11-05   \n",
       "888      Chromebook Pixel Unboxing & First Impressions!    187957 2013-02-25   \n",
       "921              Nexus 10 Unboxing & First Impressions!    176930 2012-11-16   \n",
       "919               Nexus 4 Unboxing & First Impressions!    150208 2012-11-20   \n",
       "1072                       Canon EOS Rebel T2i Unboxing     45771 2010-11-25   \n",
       "1096        Dell Ultrasharp 2407WFPb Unboxing and Setup     43359 2010-08-16   \n",
       "1010        Verizon Galaxy Nexus Unboxing & First Boot!     43025 2011-12-15   \n",
       "1095                      Cyborg R.A.T. 7 Unboxing [HD]     37229 2010-08-26   \n",
       "1113                 HTC Droid Incredible Unboxing [HD]     25564 2010-04-30   \n",
       "1101                              Droid X Unboxing [HD]     24055 2010-07-20   \n",
       "1124                         DealExtreme Unboxing! [HD]     22844 2010-02-10   \n",
       "1219                            ThinkGeek Unboxing [HD]     17580 2009-05-25   \n",
       "1129                       Gateway HX2000 Unboxing [HD]     14779 2010-01-11   \n",
       "1132                                   iBellix Unboxing      7291 2009-12-27   \n",
       "1159                            iSkin Surprise Unboxing      5649 2009-10-07   \n",
       "1191                          RichardSolo Unboxing [HD]      5349 2009-07-04   \n",
       "\n",
       "       Likes  Comments                             Link  \n",
       "316   351793     11685  youtube.com/watch?v=x4yF3a3Zn4Y  \n",
       "462   295967     23880  youtube.com/watch?v=l0DoQYGZt8M  \n",
       "139   580105     40834  youtube.com/watch?v=QtMzV73NAgk  \n",
       "144   431428     34317  youtube.com/watch?v=Sx6dAx7dnXg  \n",
       "124   405425     46641  youtube.com/watch?v=UdfSrJvqY_E  \n",
       "577   121065     10468  youtube.com/watch?v=J5HtSy5bATk  \n",
       "263   268137     18926  youtube.com/watch?v=MrUhzYdcX6w  \n",
       "83    270102     22027  youtube.com/watch?v=ehv3zQAa9zM  \n",
       "49    266936     18177  youtube.com/watch?v=Fop2oskTug8  \n",
       "287   219240     12666  youtube.com/watch?v=lj7kFBz-jw4  \n",
       "376    98439      7892  youtube.com/watch?v=zHOr6Ej_jd4  \n",
       "246   166464     15068  youtube.com/watch?v=DOPswcaSsu8  \n",
       "276   125303     14009  youtube.com/watch?v=QK8Se8CvyHc  \n",
       "40    186570     13431  youtube.com/watch?v=roWxo6jWoYw  \n",
       "223   107207      5835  youtube.com/watch?v=dPaHNTnN0eE  \n",
       "526    79185      7084  youtube.com/watch?v=VDsjYTMyh94  \n",
       "472    35819      2818  youtube.com/watch?v=TxNSSlk__x4  \n",
       "162   137770      9080  youtube.com/watch?v=sy8K2VmWkDo  \n",
       "163   120941      9544  youtube.com/watch?v=DJyxwIGdl8Y  \n",
       "568    77015      8490  youtube.com/watch?v=mOwYlhUbsko  \n",
       "473    53440      4349  youtube.com/watch?v=H1KRDYZIOaw  \n",
       "381    64774      5330  youtube.com/watch?v=QPcagFrOnLE  \n",
       "420    63269      4211  youtube.com/watch?v=4O9dNuiOWDg  \n",
       "655    51034      3966  youtube.com/watch?v=7jrmnPFlqG0  \n",
       "466    74534      4849  youtube.com/watch?v=a-9IZz8Ry5I  \n",
       "187   115640     12675  youtube.com/watch?v=gfC8Y66tR6o  \n",
       "563    47785      5971  youtube.com/watch?v=WmHtebBGzjg  \n",
       "228    76314      6140  youtube.com/watch?v=lCKcFFDgtNk  \n",
       "365   137624    339547  youtube.com/watch?v=vc1NdYXlaxA  \n",
       "570    49426      2997  youtube.com/watch?v=J8esUVOF-G4  \n",
       "556    36971      3081  youtube.com/watch?v=Snzshdl3hHI  \n",
       "648    35807      2249  youtube.com/watch?v=1K3iMWgAQzI  \n",
       "665    31515      2121  youtube.com/watch?v=Aq6RRmDExeI  \n",
       "726    48399      5266  youtube.com/watch?v=7h-R73VTXXQ  \n",
       "800    18563      3063  youtube.com/watch?v=szd7M-Qi1MI  \n",
       "725    22323      1739  youtube.com/watch?v=W-QoakKxTjg  \n",
       "888     6013      2302  youtube.com/watch?v=CP5LB1eQff0  \n",
       "921     4674      1072  youtube.com/watch?v=nCVygTgQKUs  \n",
       "919     5912       925  youtube.com/watch?v=RvfjuYUe6-w  \n",
       "1072     658       115  youtube.com/watch?v=5Ww9OLkJOEM  \n",
       "1096     303       109  youtube.com/watch?v=7XdczEd26dU  \n",
       "1010    1052       257  youtube.com/watch?v=9ZZQrm07s4A  \n",
       "1095     240        91  youtube.com/watch?v=0H-wgsF6nFc  \n",
       "1113     288        81  youtube.com/watch?v=D2aFMc8W1qQ  \n",
       "1101     342        76  youtube.com/watch?v=KrW44HcRYfo  \n",
       "1124     134        88  youtube.com/watch?v=vnKjUfSBH1o  \n",
       "1219     125        26  youtube.com/watch?v=lfHNGn9dDJg  \n",
       "1129     173        62  youtube.com/watch?v=3BYisTr1rk0  \n",
       "1132      87        47  youtube.com/watch?v=phYuTPibRX0  \n",
       "1159     103        26  youtube.com/watch?v=I_AxSjqWsLY  \n",
       "1191     135        45  youtube.com/watch?v=ACNf0yl6p28  "
      ]
     },
     "execution_count": 39,
     "metadata": {},
     "output_type": "execute_result"
    }
   ],
   "source": [
    "df[df['Title'].str.lower().str.contains('unboxing')].sort_values('Views',ascending=False)"
   ]
  },
  {
   "cell_type": "markdown",
   "metadata": {},
   "source": [
    "Above are 51 unboxing videos in the channel sorted according to popularity(Views)"
   ]
  },
  {
   "cell_type": "markdown",
   "metadata": {},
   "source": [
    "Most viewed unboxings are\n",
    "1. Samsung galaxy fold\n",
    "2. iphone x\n",
    "3. Playstation 5\n",
    "4. iphone 12\n",
    "5. Airpods max\n",
    "6. Iphone 7\n",
    "\n",
    "There are 3 iphones in top 6"
   ]
  },
  {
   "cell_type": "markdown",
   "metadata": {},
   "source": [
    "Lets perform the same for review videos"
   ]
  },
  {
   "cell_type": "code",
   "execution_count": 40,
   "metadata": {},
   "outputs": [
    {
     "data": {
      "text/html": [
       "<div>\n",
       "<style scoped>\n",
       "    .dataframe tbody tr th:only-of-type {\n",
       "        vertical-align: middle;\n",
       "    }\n",
       "\n",
       "    .dataframe tbody tr th {\n",
       "        vertical-align: top;\n",
       "    }\n",
       "\n",
       "    .dataframe thead th {\n",
       "        text-align: right;\n",
       "    }\n",
       "</style>\n",
       "<table border=\"1\" class=\"dataframe\">\n",
       "  <thead>\n",
       "    <tr style=\"text-align: right;\">\n",
       "      <th></th>\n",
       "      <th>Title</th>\n",
       "      <th>Views</th>\n",
       "      <th>Date</th>\n",
       "      <th>Likes</th>\n",
       "      <th>Comments</th>\n",
       "      <th>Link</th>\n",
       "    </tr>\n",
       "  </thead>\n",
       "  <tbody>\n",
       "    <tr>\n",
       "      <th>407</th>\n",
       "      <td>OnePlus 6 Review: Right On the Money!</td>\n",
       "      <td>21826363</td>\n",
       "      <td>2018-05-25</td>\n",
       "      <td>111404</td>\n",
       "      <td>9493</td>\n",
       "      <td>youtube.com/watch?v=0PrUr3bQdwM</td>\n",
       "    </tr>\n",
       "    <tr>\n",
       "      <th>140</th>\n",
       "      <td>iPhone 12 Review: Just Got Real!</td>\n",
       "      <td>12172825</td>\n",
       "      <td>2020-10-25</td>\n",
       "      <td>309617</td>\n",
       "      <td>21464</td>\n",
       "      <td>youtube.com/watch?v=X1b3C2081-Q</td>\n",
       "    </tr>\n",
       "    <tr>\n",
       "      <th>212</th>\n",
       "      <td>2020 iPad Pro Review: It's... A Computer?!</td>\n",
       "      <td>10170910</td>\n",
       "      <td>2020-03-24</td>\n",
       "      <td>243682</td>\n",
       "      <td>13241</td>\n",
       "      <td>youtube.com/watch?v=x_R-qzjZrKQ</td>\n",
       "    </tr>\n",
       "    <tr>\n",
       "      <th>830</th>\n",
       "      <td>Apple iPhone 5s Review!</td>\n",
       "      <td>9971750</td>\n",
       "      <td>2013-10-11</td>\n",
       "      <td>138077</td>\n",
       "      <td>20038</td>\n",
       "      <td>youtube.com/watch?v=uBEaG6n0XDs</td>\n",
       "    </tr>\n",
       "    <tr>\n",
       "      <th>204</th>\n",
       "      <td>iPhone SE (2020) Review: It All Adds Up!</td>\n",
       "      <td>9563276</td>\n",
       "      <td>2020-04-22</td>\n",
       "      <td>296734</td>\n",
       "      <td>26852</td>\n",
       "      <td>youtube.com/watch?v=aXfiyuUziY0</td>\n",
       "    </tr>\n",
       "    <tr>\n",
       "      <th>...</th>\n",
       "      <td>...</td>\n",
       "      <td>...</td>\n",
       "      <td>...</td>\n",
       "      <td>...</td>\n",
       "      <td>...</td>\n",
       "      <td>...</td>\n",
       "    </tr>\n",
       "    <tr>\n",
       "      <th>1206</th>\n",
       "      <td>17\" Laptop GelaSkin Installation and Review [HD]</td>\n",
       "      <td>6296</td>\n",
       "      <td>2009-06-12</td>\n",
       "      <td>76</td>\n",
       "      <td>20</td>\n",
       "      <td>youtube.com/watch?v=ClRH1aQuP_Q</td>\n",
       "    </tr>\n",
       "    <tr>\n",
       "      <th>1074</th>\n",
       "      <td>Review: AeroWeather [HD]</td>\n",
       "      <td>4861</td>\n",
       "      <td>2010-11-21</td>\n",
       "      <td>69</td>\n",
       "      <td>28</td>\n",
       "      <td>youtube.com/watch?v=a0qY7W-9nbE</td>\n",
       "    </tr>\n",
       "    <tr>\n",
       "      <th>1320</th>\n",
       "      <td>HD Skype Review (Request)</td>\n",
       "      <td>3571</td>\n",
       "      <td>2009-02-17</td>\n",
       "      <td>68</td>\n",
       "      <td>14</td>\n",
       "      <td>youtube.com/watch?v=mhhgh84ZDmE</td>\n",
       "    </tr>\n",
       "    <tr>\n",
       "      <th>1214</th>\n",
       "      <td>Reviewed: Solo 17\" Laptop Messenger Bag [HD]</td>\n",
       "      <td>2774</td>\n",
       "      <td>2009-06-01</td>\n",
       "      <td>44</td>\n",
       "      <td>20</td>\n",
       "      <td>youtube.com/watch?v=XV_WP85r4MY</td>\n",
       "    </tr>\n",
       "    <tr>\n",
       "      <th>1340</th>\n",
       "      <td>HD Review: Camstudio</td>\n",
       "      <td>2277</td>\n",
       "      <td>2009-02-10</td>\n",
       "      <td>38</td>\n",
       "      <td>14</td>\n",
       "      <td>youtube.com/watch?v=PkRXVGJ0ods</td>\n",
       "    </tr>\n",
       "  </tbody>\n",
       "</table>\n",
       "<p>271 rows × 6 columns</p>\n",
       "</div>"
      ],
      "text/plain": [
       "                                                 Title     Views       Date  \\\n",
       "407              OnePlus 6 Review: Right On the Money!  21826363 2018-05-25   \n",
       "140                   iPhone 12 Review: Just Got Real!  12172825 2020-10-25   \n",
       "212         2020 iPad Pro Review: It's... A Computer?!  10170910 2020-03-24   \n",
       "830                            Apple iPhone 5s Review!   9971750 2013-10-11   \n",
       "204           iPhone SE (2020) Review: It All Adds Up!   9563276 2020-04-22   \n",
       "...                                                ...       ...        ...   \n",
       "1206  17\" Laptop GelaSkin Installation and Review [HD]      6296 2009-06-12   \n",
       "1074                          Review: AeroWeather [HD]      4861 2010-11-21   \n",
       "1320                         HD Skype Review (Request)      3571 2009-02-17   \n",
       "1214      Reviewed: Solo 17\" Laptop Messenger Bag [HD]      2774 2009-06-01   \n",
       "1340                              HD Review: Camstudio      2277 2009-02-10   \n",
       "\n",
       "       Likes  Comments                             Link  \n",
       "407   111404      9493  youtube.com/watch?v=0PrUr3bQdwM  \n",
       "140   309617     21464  youtube.com/watch?v=X1b3C2081-Q  \n",
       "212   243682     13241  youtube.com/watch?v=x_R-qzjZrKQ  \n",
       "830   138077     20038  youtube.com/watch?v=uBEaG6n0XDs  \n",
       "204   296734     26852  youtube.com/watch?v=aXfiyuUziY0  \n",
       "...      ...       ...                              ...  \n",
       "1206      76        20  youtube.com/watch?v=ClRH1aQuP_Q  \n",
       "1074      69        28  youtube.com/watch?v=a0qY7W-9nbE  \n",
       "1320      68        14  youtube.com/watch?v=mhhgh84ZDmE  \n",
       "1214      44        20  youtube.com/watch?v=XV_WP85r4MY  \n",
       "1340      38        14  youtube.com/watch?v=PkRXVGJ0ods  \n",
       "\n",
       "[271 rows x 6 columns]"
      ]
     },
     "execution_count": 40,
     "metadata": {},
     "output_type": "execute_result"
    }
   ],
   "source": [
    "df[df['Title'].str.lower().str.contains('review')].sort_values('Views',ascending=False)"
   ]
  },
  {
   "cell_type": "markdown",
   "metadata": {},
   "source": [
    "Most viewed reviews are\n",
    "\n",
    "1. Oneplus 6\n",
    "2. Iphone 12\n",
    "3. 2020 ipad pro\n",
    "4. iphone 5s\n",
    "5. iphone se 2020\n",
    "\n",
    "There are 4 apple devices in top 4"
   ]
  },
  {
   "cell_type": "markdown",
   "metadata": {},
   "source": [
    "There are 271 review videos. "
   ]
  },
  {
   "cell_type": "markdown",
   "metadata": {},
   "source": [
    "# Insights\n",
    "\n",
    "1. He released a lot of videos in 2009\n",
    "2. He released only 3 videos in 2008 which were 3,5,9 months of the year. Each video in each month.\n",
    "3. In 2009 feb alone, he relesed 93 videos. That's a lot when compared to other months in that year.\n",
    "4. Not much insights gained from likes, comments, views column. Just found videos with highest in each category. The things I observed is they are not consistent, some videos here and there had lot of likes, views. Of course it happens as not every video will not get hit.\n",
    "5. Most viewed unboxings are\n",
    "    1. Samsung galaxy fold\n",
    "    2. iphone x\n",
    "    3. Playstation 5\n",
    "    4. iphone 12\n",
    "    5. Airpods max\n",
    "    6. Iphone 7\n",
    "\n",
    "    There are 3 iphones in top 6.\n",
    "6. Most viewed reviews are\n",
    "\n",
    "    1. Oneplus 6\n",
    "    2. Iphone 12\n",
    "    3. 2020 ipad pro\n",
    "    4. iphone 5s\n",
    "    5. iphone se 2020\n",
    "\n",
    "    There are 4 apple devices in top 5.\n",
    "    Oneplus 6 in the top😍. I miss that old oneplus😔."
   ]
  }
 ],
 "metadata": {
  "interpreter": {
   "hash": "9103f7e424b8601a16a9c94d04eee5dcc8fef70b0fe6d343e823725ce72d03d9"
  },
  "kernelspec": {
   "display_name": "Python 3.7.11",
   "language": "python",
   "name": "python3"
  },
  "language_info": {
   "codemirror_mode": {
    "name": "ipython",
    "version": 3
   },
   "file_extension": ".py",
   "mimetype": "text/x-python",
   "name": "python",
   "nbconvert_exporter": "python",
   "pygments_lexer": "ipython3",
   "version": "3.7.11"
  },
  "orig_nbformat": 4
 },
 "nbformat": 4,
 "nbformat_minor": 2
}
